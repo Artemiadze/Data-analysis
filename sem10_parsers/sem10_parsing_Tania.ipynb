{
 "cells": [
  {
   "cell_type": "markdown",
   "metadata": {
    "id": "VTHrZ-n3xHC2"
   },
   "source": [
    "<img src=\"https://raw.githubusercontent.com/hse-econ-data-science/eds_spring_2020/master/sem05_parsing/image/take_all.png\" height=\"400\">\n",
    "\n",
    "# <center> Андан на экономе <br>  <br> Семинар 10: собираем данные в python </center>\n"
   ]
  },
  {
   "cell_type": "markdown",
   "metadata": {
    "id": "xv5fsT6GxHC8"
   },
   "source": [
    "## Agenda\n",
    "\n",
    "* Азы всех азов\n",
    "* Что делать, если сервер разозлился\n",
    "* Что такое API\n",
    "* Что такое Selenium\n",
    "* Хитрости"
   ]
  },
  {
   "cell_type": "markdown",
   "metadata": {
    "id": "s98SzFyjxHC9"
   },
   "source": [
    "# 1. Азы всех азов\n",
    "\n",
    "Чтобы усвоить азы всех азов, прочитайте [статейку с хабра.](https://habr.com/ru/company/ods/blog/346632/) Там в соавторах один из семинаристов, что как бы намекает на то, что контент годный."
   ]
  },
  {
   "cell_type": "markdown",
   "metadata": {
    "id": "9MnN95JXxHC-"
   },
   "source": [
    "## Зачем собирать данные автоматически?\n",
    "\n",
    "<br>\n",
    "\n",
    "<br>\n",
    "\n",
    "<center>\n",
    "<img src=\"https://raw.githubusercontent.com/hse-econ-data-science/eds_spring_2020/master/sem05_parsing/image/aaaaaa.png\" width=\"500\">"
   ]
  },
  {
   "cell_type": "markdown",
   "metadata": {
    "id": "vxzheVv0xHC-"
   },
   "source": [
    "## Что такое HTML?\n",
    "\n",
    "**HTML (HyperText Markup Language)**  — это такой же язык разметки как Markdown или LaTeX. Он является стандартным для написания различных сайтов. Команды в таком языке называются **тегами**. Если открыть абсолютно любой сайт, нажать на правую кнопку мышки, а после нажать `View page source`, то перед вами предстанет HTML скелет этого сайта.\n",
    "\n",
    "HTML-страница это ни что иное, как набор вложенных тегов. Можно заметить, например, следующие теги:\n",
    "\n",
    "- `<title>` – заголовок страницы\n",
    "- `<h1>…<h6>` – заголовки разных уровней\n",
    "- `<p>` – абзац (paragraph)\n",
    "- `<div>` – выделения фрагмента документа с целью изменения вида содержимого\n",
    "- `<table>` – прорисовка таблицы\n",
    "- `<tr>` – разделитель для строк в таблице\n",
    "- `<td>` – разделитель для столбцов в таблице\n",
    "- `<b>` – устанавливает жирное начертание шрифта\n",
    "\n",
    "Обычно команда `<...>` открывает тег, а  `</...>` закрывает его. Все, что находится между этими двумя командами, подчиняется правилу, которое диктует тег. Например, все, что находится между `<p>` и  `</p>` — это отдельный абзац.   \n",
    "\n",
    "Теги образуют своеобразное дерево с корнем в теге `<html>` и разбивают страницу на разные логические кусочки. У каждого тега есть свои потомки (дети) — те теги, которые вложены в него и свои родители.\n",
    "\n",
    "Например, HTML-древо страницы может выглядеть вот так:\n",
    "\n",
    "\n",
    "````\n",
    "<html>\n",
    "<head> Заголовок </head>\n",
    "<body>\n",
    "    <div>\n",
    "        Первый кусок текста со своими свойствами\n",
    "    </div>\n",
    "    <div>\n",
    "        Второй кусок текста\n",
    "            <b>\n",
    "                Третий, жирный кусок\n",
    "            </b>\n",
    "    </div>\n",
    "    Четвёртый кусок текста\n",
    "</body>\n",
    "</html>\n",
    "````\n",
    "\n",
    "Можно работать с этим html как с текстом, а можно как с деревом. Обход этого дерева и есть парсинг веб-страницы. Мы всего лишь будем находить нужные нам узлы среди всего этого разнообразия и забирать из них информацию!\n",
    "\n",
    "<center>\n",
    "<img src=\"https://raw.githubusercontent.com/hse-econ-data-science/eds_spring_2020/master/sem05_parsing/image/tree.png\" width=\"450\">"
   ]
  },
  {
   "cell_type": "markdown",
   "metadata": {
    "id": "vkwMjM1QxHC_"
   },
   "source": [
    "## Качаем цены на книги\n",
    "\n",
    "* Хотим собрать [цены на книги](http://books.toscrape.com)\n",
    "* Руками долго, напишем код на петухоне\n",
    "\n",
    "Доступ к веб-станицам позволяет получать модуль requests. Подгрузим его. Если у вас не установлен этот модуль, то придётся напрячься и установить:  `pip install requests`."
   ]
  },
  {
   "cell_type": "code",
   "execution_count": 1,
   "metadata": {
    "colab": {
     "base_uri": "https://localhost:8080/"
    },
    "id": "Kg-XKEO1xHC_",
    "outputId": "5d390f99-0cc5-4157-dc68-b2d94835bda8"
   },
   "outputs": [
    {
     "name": "stdout",
     "output_type": "stream",
     "text": [
      "Requirement already satisfied: requests in c:\\users\\alex\\anaconda3\\lib\\site-packages (2.31.0)\n",
      "Requirement already satisfied: charset-normalizer<4,>=2 in c:\\users\\alex\\anaconda3\\lib\\site-packages (from requests) (2.0.4)\n",
      "Requirement already satisfied: idna<4,>=2.5 in c:\\users\\alex\\anaconda3\\lib\\site-packages (from requests) (3.4)\n",
      "Requirement already satisfied: urllib3<3,>=1.21.1 in c:\\users\\alex\\anaconda3\\lib\\site-packages (from requests) (1.26.16)\n",
      "Requirement already satisfied: certifi>=2017.4.17 in c:\\users\\alex\\anaconda3\\lib\\site-packages (from requests) (2023.7.22)\n"
     ]
    }
   ],
   "source": [
    "# !pip install requests"
   ]
  },
  {
   "cell_type": "code",
   "execution_count": 1,
   "metadata": {
    "colab": {
     "base_uri": "https://localhost:8080/"
    },
    "id": "mqnpCGUvxHDB",
    "outputId": "2b5b05d4-a0a1-4c99-c588-ee22b8ce6f03"
   },
   "outputs": [
    {
     "data": {
      "text/plain": [
       "<Response [200]>"
      ]
     },
     "execution_count": 1,
     "metadata": {},
     "output_type": "execute_result"
    }
   ],
   "source": [
    "import requests\n",
    "\n",
    "url = 'http://books.toscrape.com/catalogue/page-1.html'\n",
    "response = requests.get(url)\n",
    "response"
   ]
  },
  {
   "cell_type": "markdown",
   "metadata": {
    "id": "fYMAW1U5xHDD"
   },
   "source": [
    "Благословенный 200 ответ - соединение установлено и данные получены, всё чудесно! Если попытаться перейти на несуществующую страницу, то можно получить, например, знаменитую ошибку 404."
   ]
  },
  {
   "cell_type": "code",
   "execution_count": 20,
   "metadata": {
    "colab": {
     "base_uri": "https://localhost:8080/"
    },
    "id": "ADAz8sPrxHDD",
    "outputId": "a3893f68-7436-47aa-907c-890159186a15"
   },
   "outputs": [
    {
     "data": {
      "text/plain": [
       "<Response [404]>"
      ]
     },
     "execution_count": 20,
     "metadata": {},
     "output_type": "execute_result"
    }
   ],
   "source": [
    "requests.get('http://books.toscrape.com/big_scholarship')"
   ]
  },
  {
   "cell_type": "markdown",
   "metadata": {
    "id": "mABUXG7VxHDE"
   },
   "source": [
    "Внутри response лежит html-разметка странички, которую мы парсим."
   ]
  },
  {
   "cell_type": "code",
   "execution_count": 21,
   "metadata": {
    "colab": {
     "base_uri": "https://localhost:8080/",
     "height": 126
    },
    "id": "EYGrfuCpxHDE",
    "outputId": "e7ad7adf-666e-4282-aab7-2bccf0520926"
   },
   "outputs": [
    {
     "data": {
      "text/plain": [
       "'\\n\\n<!DOCTYPE html>\\n<!--[if lt IE 7]>      <html lang=\"en-us\" class=\"no-js lt-ie9 lt-ie8 lt-ie7\"> <![endif]-->\\n<!--[if IE 7]>         <html lang=\"en-us\" class=\"no-js lt-ie9 lt-ie8\"> <![endif]-->\\n<!--[if IE 8]>         <html lang=\"en-us\" class=\"no-js lt-ie9\"> <![endif]-->\\n<!--[if gt IE 8]><!--> <html lang=\"en-us\" class=\"no-js\"> <!--<![endif]-->\\n    <head>\\n        <title>\\n    All products | Books to Scrape - Sandbox\\n</title>\\n\\n        <meta http-equiv=\"content-type\" content=\"text/html; charset=UTF-8\" />\\n        <meta name=\"created\" content=\"24th Jun 2016 09:30\" />\\n        <meta name=\"description\" content=\"\" />\\n        <meta name=\"viewport\" content=\"width=device-width\" />\\n        <meta name=\"robots\" content=\"NOARCHIVE,NOCACHE\" />\\n\\n        <!-- Le HTML5 shim, for IE6-8 support of HTML elements -->\\n        <!--[if lt IE 9]>\\n        <script src=\"//html5shim.googlecode.com/svn/trunk/html5.js\"></script>\\n        <![endif]-->\\n\\n        \\n            <link rel=\"shortcut icon\" href=\"../static/oscar/fav'"
      ]
     },
     "execution_count": 21,
     "metadata": {},
     "output_type": "execute_result"
    }
   ],
   "source": [
    "response.text[:1000]"
   ]
  },
  {
   "cell_type": "markdown",
   "metadata": {
    "id": "IL7JjYiGxHDF"
   },
   "source": [
    "Выглядит неудобоваримо, как насчет сварить из этого дела что-то покрасивее? Например, прекрасный суп.\n",
    "\n",
    "<img align=\"center\" src=\"https://raw.githubusercontent.com/hse-econ-data-science/eds_spring_2020/master/sem05_parsing/image/alisa.jpg\" height=\"200\" width=\"200\">\n",
    "\n",
    "Пакет **[`bs4`](https://www.crummy.com/software/BeautifulSoup/)**, a.k.a **BeautifulSoup** был назван в честь стишка про красивый суп из Алисы в стране чудес. Эта совершенно волшебная библиотека, которая из сырого и необработанного HTML (или XML) кода страницы выдаст вам структурированный массив данных, по которому очень удобно искать необходимые теги, классы, атрибуты, тексты и прочие элементы веб страниц.\n",
    "\n",
    "> Пакет под названием `BeautifulSoup` — скорее всего, не то, что вам нужно. Это третья версия (*Beautiful Soup 3*), а мы будем использовать четвертую. Так что нам нужен пакет `beautifulsoup4`. Чтобы было совсем весело, при импорте нужно указывать другое название пакета — `bs4`, а импортировать функцию под названием `BeautifulSoup`. В общем, сначала легко запутаться, но эти трудности нужно преодолеть однажды, а потом будет проще."
   ]
  },
  {
   "cell_type": "code",
   "execution_count": 2,
   "metadata": {
    "id": "9q5m90f6xHDF"
   },
   "outputs": [],
   "source": [
    "from bs4 import BeautifulSoup\n",
    "\n",
    "# распарсили страничку в дерево\n",
    "tree = BeautifulSoup(response.content, 'html.parser')"
   ]
  },
  {
   "cell_type": "code",
   "execution_count": 23,
   "metadata": {
    "colab": {
     "base_uri": "https://localhost:8080/"
    },
    "id": "G6-MVC-fyvct",
    "outputId": "4a944f0e-4c90-425d-e24e-f671931bee03"
   },
   "outputs": [
    {
     "data": {
      "text/plain": [
       "\n",
       "<!DOCTYPE html>\n",
       "\n",
       "<!--[if lt IE 7]>      <html lang=\"en-us\" class=\"no-js lt-ie9 lt-ie8 lt-ie7\"> <![endif]-->\n",
       "<!--[if IE 7]>         <html lang=\"en-us\" class=\"no-js lt-ie9 lt-ie8\"> <![endif]-->\n",
       "<!--[if IE 8]>         <html lang=\"en-us\" class=\"no-js lt-ie9\"> <![endif]-->\n",
       "<!--[if gt IE 8]><!--> <html class=\"no-js\" lang=\"en-us\"> <!--<![endif]-->\n",
       "<head>\n",
       "<title>\n",
       "    All products | Books to Scrape - Sandbox\n",
       "</title>\n",
       "<meta content=\"text/html; charset=utf-8\" http-equiv=\"content-type\"/>\n",
       "<meta content=\"24th Jun 2016 09:30\" name=\"created\"/>\n",
       "<meta content=\"\" name=\"description\"/>\n",
       "<meta content=\"width=device-width\" name=\"viewport\"/>\n",
       "<meta content=\"NOARCHIVE,NOCACHE\" name=\"robots\"/>\n",
       "<!-- Le HTML5 shim, for IE6-8 support of HTML elements -->\n",
       "<!--[if lt IE 9]>\n",
       "        <script src=\"//html5shim.googlecode.com/svn/trunk/html5.js\"></script>\n",
       "        <![endif]-->\n",
       "<link href=\"../static/oscar/favicon.ico\" rel=\"shortcut icon\"/>\n",
       "<link href=\"../static/oscar/css/styles.css\" rel=\"stylesheet\" type=\"text/css\"/>\n",
       "<link href=\"../static/oscar/js/bootstrap-datetimepicker/bootstrap-datetimepicker.css\" rel=\"stylesheet\"/>\n",
       "<link href=\"../static/oscar/css/datetimepicker.css\" rel=\"stylesheet\" type=\"text/css\"/>\n",
       "</head>\n",
       "<body class=\"default\" id=\"default\">\n",
       "<header class=\"header container-fluid\">\n",
       "<div class=\"page_inner\">\n",
       "<div class=\"row\">\n",
       "<div class=\"col-sm-8 h1\"><a href=\"../index.html\">Books to Scrape</a><small> We love being scraped!</small>\n",
       "</div>\n",
       "</div>\n",
       "</div>\n",
       "</header>\n",
       "<div class=\"container-fluid page\">\n",
       "<div class=\"page_inner\">\n",
       "<ul class=\"breadcrumb\">\n",
       "<li>\n",
       "<a href=\"../index.html\">Home</a>\n",
       "</li>\n",
       "<li class=\"active\">All products</li>\n",
       "</ul>\n",
       "<div class=\"row\">\n",
       "<aside class=\"sidebar col-sm-4 col-md-3\">\n",
       "<div id=\"promotions_left\">\n",
       "</div>\n",
       "<div class=\"side_categories\">\n",
       "<ul class=\"nav nav-list\">\n",
       "<li>\n",
       "<a href=\"category/books_1/index.html\">\n",
       "                            \n",
       "                                Books\n",
       "                            \n",
       "                        </a>\n",
       "<ul>\n",
       "<li>\n",
       "<a href=\"category/books/travel_2/index.html\">\n",
       "                            \n",
       "                                Travel\n",
       "                            \n",
       "                        </a>\n",
       "</li>\n",
       "<li>\n",
       "<a href=\"category/books/mystery_3/index.html\">\n",
       "                            \n",
       "                                Mystery\n",
       "                            \n",
       "                        </a>\n",
       "</li>\n",
       "<li>\n",
       "<a href=\"category/books/historical-fiction_4/index.html\">\n",
       "                            \n",
       "                                Historical Fiction\n",
       "                            \n",
       "                        </a>\n",
       "</li>\n",
       "<li>\n",
       "<a href=\"category/books/sequential-art_5/index.html\">\n",
       "                            \n",
       "                                Sequential Art\n",
       "                            \n",
       "                        </a>\n",
       "</li>\n",
       "<li>\n",
       "<a href=\"category/books/classics_6/index.html\">\n",
       "                            \n",
       "                                Classics\n",
       "                            \n",
       "                        </a>\n",
       "</li>\n",
       "<li>\n",
       "<a href=\"category/books/philosophy_7/index.html\">\n",
       "                            \n",
       "                                Philosophy\n",
       "                            \n",
       "                        </a>\n",
       "</li>\n",
       "<li>\n",
       "<a href=\"category/books/romance_8/index.html\">\n",
       "                            \n",
       "                                Romance\n",
       "                            \n",
       "                        </a>\n",
       "</li>\n",
       "<li>\n",
       "<a href=\"category/books/womens-fiction_9/index.html\">\n",
       "                            \n",
       "                                Womens Fiction\n",
       "                            \n",
       "                        </a>\n",
       "</li>\n",
       "<li>\n",
       "<a href=\"category/books/fiction_10/index.html\">\n",
       "                            \n",
       "                                Fiction\n",
       "                            \n",
       "                        </a>\n",
       "</li>\n",
       "<li>\n",
       "<a href=\"category/books/childrens_11/index.html\">\n",
       "                            \n",
       "                                Childrens\n",
       "                            \n",
       "                        </a>\n",
       "</li>\n",
       "<li>\n",
       "<a href=\"category/books/religion_12/index.html\">\n",
       "                            \n",
       "                                Religion\n",
       "                            \n",
       "                        </a>\n",
       "</li>\n",
       "<li>\n",
       "<a href=\"category/books/nonfiction_13/index.html\">\n",
       "                            \n",
       "                                Nonfiction\n",
       "                            \n",
       "                        </a>\n",
       "</li>\n",
       "<li>\n",
       "<a href=\"category/books/music_14/index.html\">\n",
       "                            \n",
       "                                Music\n",
       "                            \n",
       "                        </a>\n",
       "</li>\n",
       "<li>\n",
       "<a href=\"category/books/default_15/index.html\">\n",
       "                            \n",
       "                                Default\n",
       "                            \n",
       "                        </a>\n",
       "</li>\n",
       "<li>\n",
       "<a href=\"category/books/science-fiction_16/index.html\">\n",
       "                            \n",
       "                                Science Fiction\n",
       "                            \n",
       "                        </a>\n",
       "</li>\n",
       "<li>\n",
       "<a href=\"category/books/sports-and-games_17/index.html\">\n",
       "                            \n",
       "                                Sports and Games\n",
       "                            \n",
       "                        </a>\n",
       "</li>\n",
       "<li>\n",
       "<a href=\"category/books/add-a-comment_18/index.html\">\n",
       "                            \n",
       "                                Add a comment\n",
       "                            \n",
       "                        </a>\n",
       "</li>\n",
       "<li>\n",
       "<a href=\"category/books/fantasy_19/index.html\">\n",
       "                            \n",
       "                                Fantasy\n",
       "                            \n",
       "                        </a>\n",
       "</li>\n",
       "<li>\n",
       "<a href=\"category/books/new-adult_20/index.html\">\n",
       "                            \n",
       "                                New Adult\n",
       "                            \n",
       "                        </a>\n",
       "</li>\n",
       "<li>\n",
       "<a href=\"category/books/young-adult_21/index.html\">\n",
       "                            \n",
       "                                Young Adult\n",
       "                            \n",
       "                        </a>\n",
       "</li>\n",
       "<li>\n",
       "<a href=\"category/books/science_22/index.html\">\n",
       "                            \n",
       "                                Science\n",
       "                            \n",
       "                        </a>\n",
       "</li>\n",
       "<li>\n",
       "<a href=\"category/books/poetry_23/index.html\">\n",
       "                            \n",
       "                                Poetry\n",
       "                            \n",
       "                        </a>\n",
       "</li>\n",
       "<li>\n",
       "<a href=\"category/books/paranormal_24/index.html\">\n",
       "                            \n",
       "                                Paranormal\n",
       "                            \n",
       "                        </a>\n",
       "</li>\n",
       "<li>\n",
       "<a href=\"category/books/art_25/index.html\">\n",
       "                            \n",
       "                                Art\n",
       "                            \n",
       "                        </a>\n",
       "</li>\n",
       "<li>\n",
       "<a href=\"category/books/psychology_26/index.html\">\n",
       "                            \n",
       "                                Psychology\n",
       "                            \n",
       "                        </a>\n",
       "</li>\n",
       "<li>\n",
       "<a href=\"category/books/autobiography_27/index.html\">\n",
       "                            \n",
       "                                Autobiography\n",
       "                            \n",
       "                        </a>\n",
       "</li>\n",
       "<li>\n",
       "<a href=\"category/books/parenting_28/index.html\">\n",
       "                            \n",
       "                                Parenting\n",
       "                            \n",
       "                        </a>\n",
       "</li>\n",
       "<li>\n",
       "<a href=\"category/books/adult-fiction_29/index.html\">\n",
       "                            \n",
       "                                Adult Fiction\n",
       "                            \n",
       "                        </a>\n",
       "</li>\n",
       "<li>\n",
       "<a href=\"category/books/humor_30/index.html\">\n",
       "                            \n",
       "                                Humor\n",
       "                            \n",
       "                        </a>\n",
       "</li>\n",
       "<li>\n",
       "<a href=\"category/books/horror_31/index.html\">\n",
       "                            \n",
       "                                Horror\n",
       "                            \n",
       "                        </a>\n",
       "</li>\n",
       "<li>\n",
       "<a href=\"category/books/history_32/index.html\">\n",
       "                            \n",
       "                                History\n",
       "                            \n",
       "                        </a>\n",
       "</li>\n",
       "<li>\n",
       "<a href=\"category/books/food-and-drink_33/index.html\">\n",
       "                            \n",
       "                                Food and Drink\n",
       "                            \n",
       "                        </a>\n",
       "</li>\n",
       "<li>\n",
       "<a href=\"category/books/christian-fiction_34/index.html\">\n",
       "                            \n",
       "                                Christian Fiction\n",
       "                            \n",
       "                        </a>\n",
       "</li>\n",
       "<li>\n",
       "<a href=\"category/books/business_35/index.html\">\n",
       "                            \n",
       "                                Business\n",
       "                            \n",
       "                        </a>\n",
       "</li>\n",
       "<li>\n",
       "<a href=\"category/books/biography_36/index.html\">\n",
       "                            \n",
       "                                Biography\n",
       "                            \n",
       "                        </a>\n",
       "</li>\n",
       "<li>\n",
       "<a href=\"category/books/thriller_37/index.html\">\n",
       "                            \n",
       "                                Thriller\n",
       "                            \n",
       "                        </a>\n",
       "</li>\n",
       "<li>\n",
       "<a href=\"category/books/contemporary_38/index.html\">\n",
       "                            \n",
       "                                Contemporary\n",
       "                            \n",
       "                        </a>\n",
       "</li>\n",
       "<li>\n",
       "<a href=\"category/books/spirituality_39/index.html\">\n",
       "                            \n",
       "                                Spirituality\n",
       "                            \n",
       "                        </a>\n",
       "</li>\n",
       "<li>\n",
       "<a href=\"category/books/academic_40/index.html\">\n",
       "                            \n",
       "                                Academic\n",
       "                            \n",
       "                        </a>\n",
       "</li>\n",
       "<li>\n",
       "<a href=\"category/books/self-help_41/index.html\">\n",
       "                            \n",
       "                                Self Help\n",
       "                            \n",
       "                        </a>\n",
       "</li>\n",
       "<li>\n",
       "<a href=\"category/books/historical_42/index.html\">\n",
       "                            \n",
       "                                Historical\n",
       "                            \n",
       "                        </a>\n",
       "</li>\n",
       "<li>\n",
       "<a href=\"category/books/christian_43/index.html\">\n",
       "                            \n",
       "                                Christian\n",
       "                            \n",
       "                        </a>\n",
       "</li>\n",
       "<li>\n",
       "<a href=\"category/books/suspense_44/index.html\">\n",
       "                            \n",
       "                                Suspense\n",
       "                            \n",
       "                        </a>\n",
       "</li>\n",
       "<li>\n",
       "<a href=\"category/books/short-stories_45/index.html\">\n",
       "                            \n",
       "                                Short Stories\n",
       "                            \n",
       "                        </a>\n",
       "</li>\n",
       "<li>\n",
       "<a href=\"category/books/novels_46/index.html\">\n",
       "                            \n",
       "                                Novels\n",
       "                            \n",
       "                        </a>\n",
       "</li>\n",
       "<li>\n",
       "<a href=\"category/books/health_47/index.html\">\n",
       "                            \n",
       "                                Health\n",
       "                            \n",
       "                        </a>\n",
       "</li>\n",
       "<li>\n",
       "<a href=\"category/books/politics_48/index.html\">\n",
       "                            \n",
       "                                Politics\n",
       "                            \n",
       "                        </a>\n",
       "</li>\n",
       "<li>\n",
       "<a href=\"category/books/cultural_49/index.html\">\n",
       "                            \n",
       "                                Cultural\n",
       "                            \n",
       "                        </a>\n",
       "</li>\n",
       "<li>\n",
       "<a href=\"category/books/erotica_50/index.html\">\n",
       "                            \n",
       "                                Erotica\n",
       "                            \n",
       "                        </a>\n",
       "</li>\n",
       "<li>\n",
       "<a href=\"category/books/crime_51/index.html\">\n",
       "                            \n",
       "                                Crime\n",
       "                            \n",
       "                        </a>\n",
       "</li>\n",
       "</ul></li>\n",
       "</ul>\n",
       "</div>\n",
       "</aside>\n",
       "<div class=\"col-sm-8 col-md-9\">\n",
       "<div class=\"page-header action\">\n",
       "<h1>All products</h1>\n",
       "</div>\n",
       "<div id=\"messages\">\n",
       "</div>\n",
       "<div id=\"promotions\">\n",
       "</div>\n",
       "<form class=\"form-horizontal\" method=\"get\">\n",
       "<div style=\"display:none\">\n",
       "</div>\n",
       "<strong>1000</strong> results - showing <strong>1</strong> to <strong>20</strong>.\n",
       "                \n",
       "            \n",
       "            \n",
       "        \n",
       "    </form>\n",
       "<section>\n",
       "<div class=\"alert alert-warning\" role=\"alert\"><strong>Warning!</strong> This is a demo website for web scraping purposes. Prices and ratings here were randomly assigned and have no real meaning.</div>\n",
       "<div>\n",
       "<ol class=\"row\">\n",
       "<li class=\"col-xs-6 col-sm-4 col-md-3 col-lg-3\">\n",
       "<article class=\"product_pod\">\n",
       "<div class=\"image_container\">\n",
       "<a href=\"a-light-in-the-attic_1000/index.html\"><img alt=\"A Light in the Attic\" class=\"thumbnail\" src=\"../media/cache/2c/da/2cdad67c44b002e7ead0cc35693c0e8b.jpg\"/></a>\n",
       "</div>\n",
       "<p class=\"star-rating Three\">\n",
       "<i class=\"icon-star\"></i>\n",
       "<i class=\"icon-star\"></i>\n",
       "<i class=\"icon-star\"></i>\n",
       "<i class=\"icon-star\"></i>\n",
       "<i class=\"icon-star\"></i>\n",
       "</p>\n",
       "<h3><a href=\"a-light-in-the-attic_1000/index.html\" title=\"A Light in the Attic\">A Light in the ...</a></h3>\n",
       "<div class=\"product_price\">\n",
       "<p class=\"price_color\">£51.77</p>\n",
       "<p class=\"instock availability\">\n",
       "<i class=\"icon-ok\"></i>\n",
       "    \n",
       "        In stock\n",
       "    \n",
       "</p>\n",
       "<form>\n",
       "<button class=\"btn btn-primary btn-block\" data-loading-text=\"Adding...\" type=\"submit\">Add to basket</button>\n",
       "</form>\n",
       "</div>\n",
       "</article>\n",
       "</li>\n",
       "<li class=\"col-xs-6 col-sm-4 col-md-3 col-lg-3\">\n",
       "<article class=\"product_pod\">\n",
       "<div class=\"image_container\">\n",
       "<a href=\"tipping-the-velvet_999/index.html\"><img alt=\"Tipping the Velvet\" class=\"thumbnail\" src=\"../media/cache/26/0c/260c6ae16bce31c8f8c95daddd9f4a1c.jpg\"/></a>\n",
       "</div>\n",
       "<p class=\"star-rating One\">\n",
       "<i class=\"icon-star\"></i>\n",
       "<i class=\"icon-star\"></i>\n",
       "<i class=\"icon-star\"></i>\n",
       "<i class=\"icon-star\"></i>\n",
       "<i class=\"icon-star\"></i>\n",
       "</p>\n",
       "<h3><a href=\"tipping-the-velvet_999/index.html\" title=\"Tipping the Velvet\">Tipping the Velvet</a></h3>\n",
       "<div class=\"product_price\">\n",
       "<p class=\"price_color\">£53.74</p>\n",
       "<p class=\"instock availability\">\n",
       "<i class=\"icon-ok\"></i>\n",
       "    \n",
       "        In stock\n",
       "    \n",
       "</p>\n",
       "<form>\n",
       "<button class=\"btn btn-primary btn-block\" data-loading-text=\"Adding...\" type=\"submit\">Add to basket</button>\n",
       "</form>\n",
       "</div>\n",
       "</article>\n",
       "</li>\n",
       "<li class=\"col-xs-6 col-sm-4 col-md-3 col-lg-3\">\n",
       "<article class=\"product_pod\">\n",
       "<div class=\"image_container\">\n",
       "<a href=\"soumission_998/index.html\"><img alt=\"Soumission\" class=\"thumbnail\" src=\"../media/cache/3e/ef/3eef99c9d9adef34639f510662022830.jpg\"/></a>\n",
       "</div>\n",
       "<p class=\"star-rating One\">\n",
       "<i class=\"icon-star\"></i>\n",
       "<i class=\"icon-star\"></i>\n",
       "<i class=\"icon-star\"></i>\n",
       "<i class=\"icon-star\"></i>\n",
       "<i class=\"icon-star\"></i>\n",
       "</p>\n",
       "<h3><a href=\"soumission_998/index.html\" title=\"Soumission\">Soumission</a></h3>\n",
       "<div class=\"product_price\">\n",
       "<p class=\"price_color\">£50.10</p>\n",
       "<p class=\"instock availability\">\n",
       "<i class=\"icon-ok\"></i>\n",
       "    \n",
       "        In stock\n",
       "    \n",
       "</p>\n",
       "<form>\n",
       "<button class=\"btn btn-primary btn-block\" data-loading-text=\"Adding...\" type=\"submit\">Add to basket</button>\n",
       "</form>\n",
       "</div>\n",
       "</article>\n",
       "</li>\n",
       "<li class=\"col-xs-6 col-sm-4 col-md-3 col-lg-3\">\n",
       "<article class=\"product_pod\">\n",
       "<div class=\"image_container\">\n",
       "<a href=\"sharp-objects_997/index.html\"><img alt=\"Sharp Objects\" class=\"thumbnail\" src=\"../media/cache/32/51/3251cf3a3412f53f339e42cac2134093.jpg\"/></a>\n",
       "</div>\n",
       "<p class=\"star-rating Four\">\n",
       "<i class=\"icon-star\"></i>\n",
       "<i class=\"icon-star\"></i>\n",
       "<i class=\"icon-star\"></i>\n",
       "<i class=\"icon-star\"></i>\n",
       "<i class=\"icon-star\"></i>\n",
       "</p>\n",
       "<h3><a href=\"sharp-objects_997/index.html\" title=\"Sharp Objects\">Sharp Objects</a></h3>\n",
       "<div class=\"product_price\">\n",
       "<p class=\"price_color\">£47.82</p>\n",
       "<p class=\"instock availability\">\n",
       "<i class=\"icon-ok\"></i>\n",
       "    \n",
       "        In stock\n",
       "    \n",
       "</p>\n",
       "<form>\n",
       "<button class=\"btn btn-primary btn-block\" data-loading-text=\"Adding...\" type=\"submit\">Add to basket</button>\n",
       "</form>\n",
       "</div>\n",
       "</article>\n",
       "</li>\n",
       "<li class=\"col-xs-6 col-sm-4 col-md-3 col-lg-3\">\n",
       "<article class=\"product_pod\">\n",
       "<div class=\"image_container\">\n",
       "<a href=\"sapiens-a-brief-history-of-humankind_996/index.html\"><img alt=\"Sapiens: A Brief History of Humankind\" class=\"thumbnail\" src=\"../media/cache/be/a5/bea5697f2534a2f86a3ef27b5a8c12a6.jpg\"/></a>\n",
       "</div>\n",
       "<p class=\"star-rating Five\">\n",
       "<i class=\"icon-star\"></i>\n",
       "<i class=\"icon-star\"></i>\n",
       "<i class=\"icon-star\"></i>\n",
       "<i class=\"icon-star\"></i>\n",
       "<i class=\"icon-star\"></i>\n",
       "</p>\n",
       "<h3><a href=\"sapiens-a-brief-history-of-humankind_996/index.html\" title=\"Sapiens: A Brief History of Humankind\">Sapiens: A Brief History ...</a></h3>\n",
       "<div class=\"product_price\">\n",
       "<p class=\"price_color\">£54.23</p>\n",
       "<p class=\"instock availability\">\n",
       "<i class=\"icon-ok\"></i>\n",
       "    \n",
       "        In stock\n",
       "    \n",
       "</p>\n",
       "<form>\n",
       "<button class=\"btn btn-primary btn-block\" data-loading-text=\"Adding...\" type=\"submit\">Add to basket</button>\n",
       "</form>\n",
       "</div>\n",
       "</article>\n",
       "</li>\n",
       "<li class=\"col-xs-6 col-sm-4 col-md-3 col-lg-3\">\n",
       "<article class=\"product_pod\">\n",
       "<div class=\"image_container\">\n",
       "<a href=\"the-requiem-red_995/index.html\"><img alt=\"The Requiem Red\" class=\"thumbnail\" src=\"../media/cache/68/33/68339b4c9bc034267e1da611ab3b34f8.jpg\"/></a>\n",
       "</div>\n",
       "<p class=\"star-rating One\">\n",
       "<i class=\"icon-star\"></i>\n",
       "<i class=\"icon-star\"></i>\n",
       "<i class=\"icon-star\"></i>\n",
       "<i class=\"icon-star\"></i>\n",
       "<i class=\"icon-star\"></i>\n",
       "</p>\n",
       "<h3><a href=\"the-requiem-red_995/index.html\" title=\"The Requiem Red\">The Requiem Red</a></h3>\n",
       "<div class=\"product_price\">\n",
       "<p class=\"price_color\">£22.65</p>\n",
       "<p class=\"instock availability\">\n",
       "<i class=\"icon-ok\"></i>\n",
       "    \n",
       "        In stock\n",
       "    \n",
       "</p>\n",
       "<form>\n",
       "<button class=\"btn btn-primary btn-block\" data-loading-text=\"Adding...\" type=\"submit\">Add to basket</button>\n",
       "</form>\n",
       "</div>\n",
       "</article>\n",
       "</li>\n",
       "<li class=\"col-xs-6 col-sm-4 col-md-3 col-lg-3\">\n",
       "<article class=\"product_pod\">\n",
       "<div class=\"image_container\">\n",
       "<a href=\"the-dirty-little-secrets-of-getting-your-dream-job_994/index.html\"><img alt=\"The Dirty Little Secrets of Getting Your Dream Job\" class=\"thumbnail\" src=\"../media/cache/92/27/92274a95b7c251fea59a2b8a78275ab4.jpg\"/></a>\n",
       "</div>\n",
       "<p class=\"star-rating Four\">\n",
       "<i class=\"icon-star\"></i>\n",
       "<i class=\"icon-star\"></i>\n",
       "<i class=\"icon-star\"></i>\n",
       "<i class=\"icon-star\"></i>\n",
       "<i class=\"icon-star\"></i>\n",
       "</p>\n",
       "<h3><a href=\"the-dirty-little-secrets-of-getting-your-dream-job_994/index.html\" title=\"The Dirty Little Secrets of Getting Your Dream Job\">The Dirty Little Secrets ...</a></h3>\n",
       "<div class=\"product_price\">\n",
       "<p class=\"price_color\">£33.34</p>\n",
       "<p class=\"instock availability\">\n",
       "<i class=\"icon-ok\"></i>\n",
       "    \n",
       "        In stock\n",
       "    \n",
       "</p>\n",
       "<form>\n",
       "<button class=\"btn btn-primary btn-block\" data-loading-text=\"Adding...\" type=\"submit\">Add to basket</button>\n",
       "</form>\n",
       "</div>\n",
       "</article>\n",
       "</li>\n",
       "<li class=\"col-xs-6 col-sm-4 col-md-3 col-lg-3\">\n",
       "<article class=\"product_pod\">\n",
       "<div class=\"image_container\">\n",
       "<a href=\"the-coming-woman-a-novel-based-on-the-life-of-the-infamous-feminist-victoria-woodhull_993/index.html\"><img alt=\"The Coming Woman: A Novel Based on the Life of the Infamous Feminist, Victoria Woodhull\" class=\"thumbnail\" src=\"../media/cache/3d/54/3d54940e57e662c4dd1f3ff00c78cc64.jpg\"/></a>\n",
       "</div>\n",
       "<p class=\"star-rating Three\">\n",
       "<i class=\"icon-star\"></i>\n",
       "<i class=\"icon-star\"></i>\n",
       "<i class=\"icon-star\"></i>\n",
       "<i class=\"icon-star\"></i>\n",
       "<i class=\"icon-star\"></i>\n",
       "</p>\n",
       "<h3><a href=\"the-coming-woman-a-novel-based-on-the-life-of-the-infamous-feminist-victoria-woodhull_993/index.html\" title=\"The Coming Woman: A Novel Based on the Life of the Infamous Feminist, Victoria Woodhull\">The Coming Woman: A ...</a></h3>\n",
       "<div class=\"product_price\">\n",
       "<p class=\"price_color\">£17.93</p>\n",
       "<p class=\"instock availability\">\n",
       "<i class=\"icon-ok\"></i>\n",
       "    \n",
       "        In stock\n",
       "    \n",
       "</p>\n",
       "<form>\n",
       "<button class=\"btn btn-primary btn-block\" data-loading-text=\"Adding...\" type=\"submit\">Add to basket</button>\n",
       "</form>\n",
       "</div>\n",
       "</article>\n",
       "</li>\n",
       "<li class=\"col-xs-6 col-sm-4 col-md-3 col-lg-3\">\n",
       "<article class=\"product_pod\">\n",
       "<div class=\"image_container\">\n",
       "<a href=\"the-boys-in-the-boat-nine-americans-and-their-epic-quest-for-gold-at-the-1936-berlin-olympics_992/index.html\"><img alt=\"The Boys in the Boat: Nine Americans and Their Epic Quest for Gold at the 1936 Berlin Olympics\" class=\"thumbnail\" src=\"../media/cache/66/88/66883b91f6804b2323c8369331cb7dd1.jpg\"/></a>\n",
       "</div>\n",
       "<p class=\"star-rating Four\">\n",
       "<i class=\"icon-star\"></i>\n",
       "<i class=\"icon-star\"></i>\n",
       "<i class=\"icon-star\"></i>\n",
       "<i class=\"icon-star\"></i>\n",
       "<i class=\"icon-star\"></i>\n",
       "</p>\n",
       "<h3><a href=\"the-boys-in-the-boat-nine-americans-and-their-epic-quest-for-gold-at-the-1936-berlin-olympics_992/index.html\" title=\"The Boys in the Boat: Nine Americans and Their Epic Quest for Gold at the 1936 Berlin Olympics\">The Boys in the ...</a></h3>\n",
       "<div class=\"product_price\">\n",
       "<p class=\"price_color\">£22.60</p>\n",
       "<p class=\"instock availability\">\n",
       "<i class=\"icon-ok\"></i>\n",
       "    \n",
       "        In stock\n",
       "    \n",
       "</p>\n",
       "<form>\n",
       "<button class=\"btn btn-primary btn-block\" data-loading-text=\"Adding...\" type=\"submit\">Add to basket</button>\n",
       "</form>\n",
       "</div>\n",
       "</article>\n",
       "</li>\n",
       "<li class=\"col-xs-6 col-sm-4 col-md-3 col-lg-3\">\n",
       "<article class=\"product_pod\">\n",
       "<div class=\"image_container\">\n",
       "<a href=\"the-black-maria_991/index.html\"><img alt=\"The Black Maria\" class=\"thumbnail\" src=\"../media/cache/58/46/5846057e28022268153beff6d352b06c.jpg\"/></a>\n",
       "</div>\n",
       "<p class=\"star-rating One\">\n",
       "<i class=\"icon-star\"></i>\n",
       "<i class=\"icon-star\"></i>\n",
       "<i class=\"icon-star\"></i>\n",
       "<i class=\"icon-star\"></i>\n",
       "<i class=\"icon-star\"></i>\n",
       "</p>\n",
       "<h3><a href=\"the-black-maria_991/index.html\" title=\"The Black Maria\">The Black Maria</a></h3>\n",
       "<div class=\"product_price\">\n",
       "<p class=\"price_color\">£52.15</p>\n",
       "<p class=\"instock availability\">\n",
       "<i class=\"icon-ok\"></i>\n",
       "    \n",
       "        In stock\n",
       "    \n",
       "</p>\n",
       "<form>\n",
       "<button class=\"btn btn-primary btn-block\" data-loading-text=\"Adding...\" type=\"submit\">Add to basket</button>\n",
       "</form>\n",
       "</div>\n",
       "</article>\n",
       "</li>\n",
       "<li class=\"col-xs-6 col-sm-4 col-md-3 col-lg-3\">\n",
       "<article class=\"product_pod\">\n",
       "<div class=\"image_container\">\n",
       "<a href=\"starving-hearts-triangular-trade-trilogy-1_990/index.html\"><img alt=\"Starving Hearts (Triangular Trade Trilogy, #1)\" class=\"thumbnail\" src=\"../media/cache/be/f4/bef44da28c98f905a3ebec0b87be8530.jpg\"/></a>\n",
       "</div>\n",
       "<p class=\"star-rating Two\">\n",
       "<i class=\"icon-star\"></i>\n",
       "<i class=\"icon-star\"></i>\n",
       "<i class=\"icon-star\"></i>\n",
       "<i class=\"icon-star\"></i>\n",
       "<i class=\"icon-star\"></i>\n",
       "</p>\n",
       "<h3><a href=\"starving-hearts-triangular-trade-trilogy-1_990/index.html\" title=\"Starving Hearts (Triangular Trade Trilogy, #1)\">Starving Hearts (Triangular Trade ...</a></h3>\n",
       "<div class=\"product_price\">\n",
       "<p class=\"price_color\">£13.99</p>\n",
       "<p class=\"instock availability\">\n",
       "<i class=\"icon-ok\"></i>\n",
       "    \n",
       "        In stock\n",
       "    \n",
       "</p>\n",
       "<form>\n",
       "<button class=\"btn btn-primary btn-block\" data-loading-text=\"Adding...\" type=\"submit\">Add to basket</button>\n",
       "</form>\n",
       "</div>\n",
       "</article>\n",
       "</li>\n",
       "<li class=\"col-xs-6 col-sm-4 col-md-3 col-lg-3\">\n",
       "<article class=\"product_pod\">\n",
       "<div class=\"image_container\">\n",
       "<a href=\"shakespeares-sonnets_989/index.html\"><img alt=\"Shakespeare's Sonnets\" class=\"thumbnail\" src=\"../media/cache/10/48/1048f63d3b5061cd2f424d20b3f9b666.jpg\"/></a>\n",
       "</div>\n",
       "<p class=\"star-rating Four\">\n",
       "<i class=\"icon-star\"></i>\n",
       "<i class=\"icon-star\"></i>\n",
       "<i class=\"icon-star\"></i>\n",
       "<i class=\"icon-star\"></i>\n",
       "<i class=\"icon-star\"></i>\n",
       "</p>\n",
       "<h3><a href=\"shakespeares-sonnets_989/index.html\" title=\"Shakespeare's Sonnets\">Shakespeare's Sonnets</a></h3>\n",
       "<div class=\"product_price\">\n",
       "<p class=\"price_color\">£20.66</p>\n",
       "<p class=\"instock availability\">\n",
       "<i class=\"icon-ok\"></i>\n",
       "    \n",
       "        In stock\n",
       "    \n",
       "</p>\n",
       "<form>\n",
       "<button class=\"btn btn-primary btn-block\" data-loading-text=\"Adding...\" type=\"submit\">Add to basket</button>\n",
       "</form>\n",
       "</div>\n",
       "</article>\n",
       "</li>\n",
       "<li class=\"col-xs-6 col-sm-4 col-md-3 col-lg-3\">\n",
       "<article class=\"product_pod\">\n",
       "<div class=\"image_container\">\n",
       "<a href=\"set-me-free_988/index.html\"><img alt=\"Set Me Free\" class=\"thumbnail\" src=\"../media/cache/5b/88/5b88c52633f53cacf162c15f4f823153.jpg\"/></a>\n",
       "</div>\n",
       "<p class=\"star-rating Five\">\n",
       "<i class=\"icon-star\"></i>\n",
       "<i class=\"icon-star\"></i>\n",
       "<i class=\"icon-star\"></i>\n",
       "<i class=\"icon-star\"></i>\n",
       "<i class=\"icon-star\"></i>\n",
       "</p>\n",
       "<h3><a href=\"set-me-free_988/index.html\" title=\"Set Me Free\">Set Me Free</a></h3>\n",
       "<div class=\"product_price\">\n",
       "<p class=\"price_color\">£17.46</p>\n",
       "<p class=\"instock availability\">\n",
       "<i class=\"icon-ok\"></i>\n",
       "    \n",
       "        In stock\n",
       "    \n",
       "</p>\n",
       "<form>\n",
       "<button class=\"btn btn-primary btn-block\" data-loading-text=\"Adding...\" type=\"submit\">Add to basket</button>\n",
       "</form>\n",
       "</div>\n",
       "</article>\n",
       "</li>\n",
       "<li class=\"col-xs-6 col-sm-4 col-md-3 col-lg-3\">\n",
       "<article class=\"product_pod\">\n",
       "<div class=\"image_container\">\n",
       "<a href=\"scott-pilgrims-precious-little-life-scott-pilgrim-1_987/index.html\"><img alt=\"Scott Pilgrim's Precious Little Life (Scott Pilgrim #1)\" class=\"thumbnail\" src=\"../media/cache/94/b1/94b1b8b244bce9677c2f29ccc890d4d2.jpg\"/></a>\n",
       "</div>\n",
       "<p class=\"star-rating Five\">\n",
       "<i class=\"icon-star\"></i>\n",
       "<i class=\"icon-star\"></i>\n",
       "<i class=\"icon-star\"></i>\n",
       "<i class=\"icon-star\"></i>\n",
       "<i class=\"icon-star\"></i>\n",
       "</p>\n",
       "<h3><a href=\"scott-pilgrims-precious-little-life-scott-pilgrim-1_987/index.html\" title=\"Scott Pilgrim's Precious Little Life (Scott Pilgrim #1)\">Scott Pilgrim's Precious Little ...</a></h3>\n",
       "<div class=\"product_price\">\n",
       "<p class=\"price_color\">£52.29</p>\n",
       "<p class=\"instock availability\">\n",
       "<i class=\"icon-ok\"></i>\n",
       "    \n",
       "        In stock\n",
       "    \n",
       "</p>\n",
       "<form>\n",
       "<button class=\"btn btn-primary btn-block\" data-loading-text=\"Adding...\" type=\"submit\">Add to basket</button>\n",
       "</form>\n",
       "</div>\n",
       "</article>\n",
       "</li>\n",
       "<li class=\"col-xs-6 col-sm-4 col-md-3 col-lg-3\">\n",
       "<article class=\"product_pod\">\n",
       "<div class=\"image_container\">\n",
       "<a href=\"rip-it-up-and-start-again_986/index.html\"><img alt=\"Rip it Up and Start Again\" class=\"thumbnail\" src=\"../media/cache/81/c4/81c4a973364e17d01f217e1188253d5e.jpg\"/></a>\n",
       "</div>\n",
       "<p class=\"star-rating Five\">\n",
       "<i class=\"icon-star\"></i>\n",
       "<i class=\"icon-star\"></i>\n",
       "<i class=\"icon-star\"></i>\n",
       "<i class=\"icon-star\"></i>\n",
       "<i class=\"icon-star\"></i>\n",
       "</p>\n",
       "<h3><a href=\"rip-it-up-and-start-again_986/index.html\" title=\"Rip it Up and Start Again\">Rip it Up and ...</a></h3>\n",
       "<div class=\"product_price\">\n",
       "<p class=\"price_color\">£35.02</p>\n",
       "<p class=\"instock availability\">\n",
       "<i class=\"icon-ok\"></i>\n",
       "    \n",
       "        In stock\n",
       "    \n",
       "</p>\n",
       "<form>\n",
       "<button class=\"btn btn-primary btn-block\" data-loading-text=\"Adding...\" type=\"submit\">Add to basket</button>\n",
       "</form>\n",
       "</div>\n",
       "</article>\n",
       "</li>\n",
       "<li class=\"col-xs-6 col-sm-4 col-md-3 col-lg-3\">\n",
       "<article class=\"product_pod\">\n",
       "<div class=\"image_container\">\n",
       "<a href=\"our-band-could-be-your-life-scenes-from-the-american-indie-underground-1981-1991_985/index.html\"><img alt=\"Our Band Could Be Your Life: Scenes from the American Indie Underground, 1981-1991\" class=\"thumbnail\" src=\"../media/cache/54/60/54607fe8945897cdcced0044103b10b6.jpg\"/></a>\n",
       "</div>\n",
       "<p class=\"star-rating Three\">\n",
       "<i class=\"icon-star\"></i>\n",
       "<i class=\"icon-star\"></i>\n",
       "<i class=\"icon-star\"></i>\n",
       "<i class=\"icon-star\"></i>\n",
       "<i class=\"icon-star\"></i>\n",
       "</p>\n",
       "<h3><a href=\"our-band-could-be-your-life-scenes-from-the-american-indie-underground-1981-1991_985/index.html\" title=\"Our Band Could Be Your Life: Scenes from the American Indie Underground, 1981-1991\">Our Band Could Be ...</a></h3>\n",
       "<div class=\"product_price\">\n",
       "<p class=\"price_color\">£57.25</p>\n",
       "<p class=\"instock availability\">\n",
       "<i class=\"icon-ok\"></i>\n",
       "    \n",
       "        In stock\n",
       "    \n",
       "</p>\n",
       "<form>\n",
       "<button class=\"btn btn-primary btn-block\" data-loading-text=\"Adding...\" type=\"submit\">Add to basket</button>\n",
       "</form>\n",
       "</div>\n",
       "</article>\n",
       "</li>\n",
       "<li class=\"col-xs-6 col-sm-4 col-md-3 col-lg-3\">\n",
       "<article class=\"product_pod\">\n",
       "<div class=\"image_container\">\n",
       "<a href=\"olio_984/index.html\"><img alt=\"Olio\" class=\"thumbnail\" src=\"../media/cache/55/33/553310a7162dfbc2c6d19a84da0df9e1.jpg\"/></a>\n",
       "</div>\n",
       "<p class=\"star-rating One\">\n",
       "<i class=\"icon-star\"></i>\n",
       "<i class=\"icon-star\"></i>\n",
       "<i class=\"icon-star\"></i>\n",
       "<i class=\"icon-star\"></i>\n",
       "<i class=\"icon-star\"></i>\n",
       "</p>\n",
       "<h3><a href=\"olio_984/index.html\" title=\"Olio\">Olio</a></h3>\n",
       "<div class=\"product_price\">\n",
       "<p class=\"price_color\">£23.88</p>\n",
       "<p class=\"instock availability\">\n",
       "<i class=\"icon-ok\"></i>\n",
       "    \n",
       "        In stock\n",
       "    \n",
       "</p>\n",
       "<form>\n",
       "<button class=\"btn btn-primary btn-block\" data-loading-text=\"Adding...\" type=\"submit\">Add to basket</button>\n",
       "</form>\n",
       "</div>\n",
       "</article>\n",
       "</li>\n",
       "<li class=\"col-xs-6 col-sm-4 col-md-3 col-lg-3\">\n",
       "<article class=\"product_pod\">\n",
       "<div class=\"image_container\">\n",
       "<a href=\"mesaerion-the-best-science-fiction-stories-1800-1849_983/index.html\"><img alt=\"Mesaerion: The Best Science Fiction Stories 1800-1849\" class=\"thumbnail\" src=\"../media/cache/09/a3/09a3aef48557576e1a85ba7efea8ecb7.jpg\"/></a>\n",
       "</div>\n",
       "<p class=\"star-rating One\">\n",
       "<i class=\"icon-star\"></i>\n",
       "<i class=\"icon-star\"></i>\n",
       "<i class=\"icon-star\"></i>\n",
       "<i class=\"icon-star\"></i>\n",
       "<i class=\"icon-star\"></i>\n",
       "</p>\n",
       "<h3><a href=\"mesaerion-the-best-science-fiction-stories-1800-1849_983/index.html\" title=\"Mesaerion: The Best Science Fiction Stories 1800-1849\">Mesaerion: The Best Science ...</a></h3>\n",
       "<div class=\"product_price\">\n",
       "<p class=\"price_color\">£37.59</p>\n",
       "<p class=\"instock availability\">\n",
       "<i class=\"icon-ok\"></i>\n",
       "    \n",
       "        In stock\n",
       "    \n",
       "</p>\n",
       "<form>\n",
       "<button class=\"btn btn-primary btn-block\" data-loading-text=\"Adding...\" type=\"submit\">Add to basket</button>\n",
       "</form>\n",
       "</div>\n",
       "</article>\n",
       "</li>\n",
       "<li class=\"col-xs-6 col-sm-4 col-md-3 col-lg-3\">\n",
       "<article class=\"product_pod\">\n",
       "<div class=\"image_container\">\n",
       "<a href=\"libertarianism-for-beginners_982/index.html\"><img alt=\"Libertarianism for Beginners\" class=\"thumbnail\" src=\"../media/cache/0b/bc/0bbcd0a6f4bcd81ccb1049a52736406e.jpg\"/></a>\n",
       "</div>\n",
       "<p class=\"star-rating Two\">\n",
       "<i class=\"icon-star\"></i>\n",
       "<i class=\"icon-star\"></i>\n",
       "<i class=\"icon-star\"></i>\n",
       "<i class=\"icon-star\"></i>\n",
       "<i class=\"icon-star\"></i>\n",
       "</p>\n",
       "<h3><a href=\"libertarianism-for-beginners_982/index.html\" title=\"Libertarianism for Beginners\">Libertarianism for Beginners</a></h3>\n",
       "<div class=\"product_price\">\n",
       "<p class=\"price_color\">£51.33</p>\n",
       "<p class=\"instock availability\">\n",
       "<i class=\"icon-ok\"></i>\n",
       "    \n",
       "        In stock\n",
       "    \n",
       "</p>\n",
       "<form>\n",
       "<button class=\"btn btn-primary btn-block\" data-loading-text=\"Adding...\" type=\"submit\">Add to basket</button>\n",
       "</form>\n",
       "</div>\n",
       "</article>\n",
       "</li>\n",
       "<li class=\"col-xs-6 col-sm-4 col-md-3 col-lg-3\">\n",
       "<article class=\"product_pod\">\n",
       "<div class=\"image_container\">\n",
       "<a href=\"its-only-the-himalayas_981/index.html\"><img alt=\"It's Only the Himalayas\" class=\"thumbnail\" src=\"../media/cache/27/a5/27a53d0bb95bdd88288eaf66c9230d7e.jpg\"/></a>\n",
       "</div>\n",
       "<p class=\"star-rating Two\">\n",
       "<i class=\"icon-star\"></i>\n",
       "<i class=\"icon-star\"></i>\n",
       "<i class=\"icon-star\"></i>\n",
       "<i class=\"icon-star\"></i>\n",
       "<i class=\"icon-star\"></i>\n",
       "</p>\n",
       "<h3><a href=\"its-only-the-himalayas_981/index.html\" title=\"It's Only the Himalayas\">It's Only the Himalayas</a></h3>\n",
       "<div class=\"product_price\">\n",
       "<p class=\"price_color\">£45.17</p>\n",
       "<p class=\"instock availability\">\n",
       "<i class=\"icon-ok\"></i>\n",
       "    \n",
       "        In stock\n",
       "    \n",
       "</p>\n",
       "<form>\n",
       "<button class=\"btn btn-primary btn-block\" data-loading-text=\"Adding...\" type=\"submit\">Add to basket</button>\n",
       "</form>\n",
       "</div>\n",
       "</article>\n",
       "</li>\n",
       "</ol>\n",
       "<div>\n",
       "<ul class=\"pager\">\n",
       "<li class=\"current\">\n",
       "            \n",
       "                Page 1 of 50\n",
       "            \n",
       "            </li>\n",
       "<li class=\"next\"><a href=\"page-2.html\">next</a></li>\n",
       "</ul>\n",
       "</div>\n",
       "</div>\n",
       "</section>\n",
       "</div>\n",
       "</div><!-- /row -->\n",
       "</div><!-- /page_inner -->\n",
       "</div><!-- /container-fluid -->\n",
       "<footer class=\"footer container-fluid\">\n",
       "</footer>\n",
       "<!-- jQuery -->\n",
       "<script src=\"http://ajax.googleapis.com/ajax/libs/jquery/1.9.1/jquery.min.js\"></script>\n",
       "<script>window.jQuery || document.write('<script src=\"../static/oscar/js/jquery/jquery-1.9.1.min.js\"><\\/script>')</script>\n",
       "<!-- Twitter Bootstrap -->\n",
       "<script src=\"../static/oscar/js/bootstrap3/bootstrap.min.js\" type=\"text/javascript\"></script>\n",
       "<!-- Oscar -->\n",
       "<script charset=\"utf-8\" src=\"../static/oscar/js/oscar/ui.js\" type=\"text/javascript\"></script>\n",
       "<script charset=\"utf-8\" src=\"../static/oscar/js/bootstrap-datetimepicker/bootstrap-datetimepicker.js\" type=\"text/javascript\"></script>\n",
       "<script charset=\"utf-8\" src=\"../static/oscar/js/bootstrap-datetimepicker/locales/bootstrap-datetimepicker.all.js\" type=\"text/javascript\"></script>\n",
       "<script type=\"text/javascript\">\n",
       "            $(function() {\n",
       "                \n",
       "    \n",
       "    \n",
       "    oscar.init();\n",
       "\n",
       "    oscar.search.init();\n",
       "\n",
       "            });\n",
       "        </script>\n",
       "<!-- Version: N/A -->\n",
       "</body>\n",
       "</html>"
      ]
     },
     "execution_count": 23,
     "metadata": {},
     "output_type": "execute_result"
    }
   ],
   "source": [
    "tree"
   ]
  },
  {
   "cell_type": "markdown",
   "metadata": {
    "id": "4AChsXZzxHDG"
   },
   "source": [
    "Внутри переменной `tree` теперь лежит дерево из тегов, по которому мы можем совершенно спокойно бродить."
   ]
  },
  {
   "cell_type": "code",
   "execution_count": 26,
   "metadata": {},
   "outputs": [
    {
     "data": {
      "text/plain": [
       "<title>\n",
       "    All products | Books to Scrape - Sandbox\n",
       "</title>"
      ]
     },
     "execution_count": 26,
     "metadata": {},
     "output_type": "execute_result"
    }
   ],
   "source": [
    "tree.title"
   ]
  },
  {
   "cell_type": "code",
   "execution_count": 6,
   "metadata": {
    "colab": {
     "base_uri": "https://localhost:8080/",
     "height": 36
    },
    "id": "ija8TAkKxHDG",
    "outputId": "5439533c-a1f1-4751-8150-700ffcdcf401"
   },
   "outputs": [
    {
     "data": {
      "text/plain": [
       "'All products | Books to Scrape - Sandbox'"
      ]
     },
     "execution_count": 6,
     "metadata": {},
     "output_type": "execute_result"
    }
   ],
   "source": [
    "tree.title.text.strip()"
   ]
  },
  {
   "cell_type": "markdown",
   "metadata": {
    "id": "FUH3eaudxHDG"
   },
   "source": [
    "Можно вытащить из того места, куда мы забрели, текст с помощью метода `text`."
   ]
  },
  {
   "cell_type": "code",
   "execution_count": 7,
   "metadata": {
    "colab": {
     "base_uri": "https://localhost:8080/",
     "height": 36
    },
    "id": "6eSbeTzoxHDH",
    "outputId": "6fd37c88-1c85-41ac-a123-6c7a126ae2df"
   },
   "outputs": [
    {
     "data": {
      "text/plain": [
       "'\\n    All products | Books to Scrape - Sandbox\\n'"
      ]
     },
     "execution_count": 7,
     "metadata": {},
     "output_type": "execute_result"
    }
   ],
   "source": [
    "tree.html.head.title.text"
   ]
  },
  {
   "cell_type": "markdown",
   "metadata": {
    "id": "1z1QJpQIxHDH"
   },
   "source": [
    "С текстом можно работать классическими питоновскими методами. Например, можно избавиться от лишних отступов."
   ]
  },
  {
   "cell_type": "code",
   "execution_count": 8,
   "metadata": {
    "colab": {
     "base_uri": "https://localhost:8080/",
     "height": 36
    },
    "id": "RUik73qFxHDH",
    "outputId": "58eb5afe-3e35-4331-ab5d-6ab95bf2eabd"
   },
   "outputs": [
    {
     "data": {
      "text/plain": [
       "'All products | Books to Scrape - Sandbox'"
      ]
     },
     "execution_count": 8,
     "metadata": {},
     "output_type": "execute_result"
    }
   ],
   "source": [
    "tree.html.head.title.text.strip()"
   ]
  },
  {
   "cell_type": "markdown",
   "metadata": {
    "id": "yhKKduSExHDI"
   },
   "source": [
    "Более того, зная адрес элемента, мы сразу можем найти его. Например, вот так в коде страницы мы можем найти где именно для каждой книги лежит основная информация. Видно, что она находится внутри тега `article`, для которого прописан класс `product_pod` (грубо говоря, в html класс задаёт оформление соотвествующего кусочка страницы).\n",
    "\n",
    "Вытащим инфу о книге из этого тега."
   ]
  },
  {
   "cell_type": "code",
   "execution_count": 28,
   "metadata": {
    "colab": {
     "base_uri": "https://localhost:8080/"
    },
    "id": "0rRdKbwlxHDJ",
    "outputId": "ab8c79df-dae9-4880-da1c-8ea7b6acdf7b"
   },
   "outputs": [
    {
     "data": {
      "text/plain": [
       "<article class=\"product_pod\">\n",
       "<div class=\"image_container\">\n",
       "<a href=\"a-light-in-the-attic_1000/index.html\"><img alt=\"A Light in the Attic\" class=\"thumbnail\" src=\"../media/cache/2c/da/2cdad67c44b002e7ead0cc35693c0e8b.jpg\"/></a>\n",
       "</div>\n",
       "<p class=\"star-rating Three\">\n",
       "<i class=\"icon-star\"></i>\n",
       "<i class=\"icon-star\"></i>\n",
       "<i class=\"icon-star\"></i>\n",
       "<i class=\"icon-star\"></i>\n",
       "<i class=\"icon-star\"></i>\n",
       "</p>\n",
       "<h3><a href=\"a-light-in-the-attic_1000/index.html\" title=\"A Light in the Attic\">A Light in the ...</a></h3>\n",
       "<div class=\"product_price\">\n",
       "<p class=\"price_color\">£51.77</p>\n",
       "<p class=\"instock availability\">\n",
       "<i class=\"icon-ok\"></i>\n",
       "    \n",
       "        In stock\n",
       "    \n",
       "</p>\n",
       "<form>\n",
       "<button class=\"btn btn-primary btn-block\" data-loading-text=\"Adding...\" type=\"submit\">Add to basket</button>\n",
       "</form>\n",
       "</div>\n",
       "</article>"
      ]
     },
     "execution_count": 28,
     "metadata": {},
     "output_type": "execute_result"
    }
   ],
   "source": [
    "books = tree.find_all('article', {'class' : 'product_pod'})\n",
    "books[0]"
   ]
  },
  {
   "cell_type": "markdown",
   "metadata": {
    "id": "SEzcx0eKxHDK"
   },
   "source": [
    "Полученный после поиска объект также обладает структурой bs4. Поэтому можно продолжить искать нужные нам объекты уже в нём."
   ]
  },
  {
   "cell_type": "code",
   "execution_count": 31,
   "metadata": {
    "colab": {
     "base_uri": "https://localhost:8080/",
     "height": 186
    },
    "id": "vYlUvjMzxHDL",
    "outputId": "41752ebf-04a7-4787-a4db-a1011ba4b80f"
   },
   "outputs": [
    {
     "data": {
      "text/plain": [
       "bs4.element.Tag"
      ]
     },
     "execution_count": 31,
     "metadata": {},
     "output_type": "execute_result"
    }
   ],
   "source": [
    "type(books[0])"
   ]
  },
  {
   "cell_type": "code",
   "execution_count": 33,
   "metadata": {
    "colab": {
     "base_uri": "https://localhost:8080/",
     "height": 36
    },
    "id": "LjCg-3mUxHDM",
    "outputId": "1ec53312-af26-400f-8e40-2ae14c7ef015"
   },
   "outputs": [
    {
     "data": {
      "text/plain": [
       "'£51.77'"
      ]
     },
     "execution_count": 33,
     "metadata": {},
     "output_type": "execute_result"
    }
   ],
   "source": [
    "books[0].find('p', {'class': 'price_color'}).text"
   ]
  },
  {
   "cell_type": "markdown",
   "metadata": {
    "id": "tqEHkHPrxHDM"
   },
   "source": [
    "Обратите внимание, что для поиска есть как минимум два метода: `find` и `find_all`. Если несколько элементов на странице обладают указанным адресом, то метод `find` вернёт только самый первый. Чтобы найти все элементы с таким адресом, нужно использовать метод `find_all`. На выход будет выдан список.\n",
    "\n",
    "Кроме содержимого у тегов часто есть атрибуты. Например, у названия книги есть атрибуты `title` и `href` (гипертекстовая ссылка):"
   ]
  },
  {
   "cell_type": "code",
   "execution_count": 34,
   "metadata": {
    "colab": {
     "base_uri": "https://localhost:8080/"
    },
    "id": "NHjODdf3xHDM",
    "outputId": "1de3201d-90da-4b13-d427-95db7e5f3b8f"
   },
   "outputs": [
    {
     "data": {
      "text/plain": [
       "<h3><a href=\"a-light-in-the-attic_1000/index.html\" title=\"A Light in the Attic\">A Light in the ...</a></h3>"
      ]
     },
     "execution_count": 34,
     "metadata": {},
     "output_type": "execute_result"
    }
   ],
   "source": [
    "books[0].h3"
   ]
  },
  {
   "cell_type": "markdown",
   "metadata": {
    "id": "pEo9xmPNxHDN"
   },
   "source": [
    "Их тоже можно вытащить."
   ]
  },
  {
   "cell_type": "code",
   "execution_count": 35,
   "metadata": {
    "colab": {
     "base_uri": "https://localhost:8080/",
     "height": 36
    },
    "id": "nCzPrBIvxHDN",
    "outputId": "a75221a6-20b6-4924-98e6-fdc086ff1c33"
   },
   "outputs": [
    {
     "data": {
      "text/plain": [
       "'a-light-in-the-attic_1000/index.html'"
      ]
     },
     "execution_count": 35,
     "metadata": {},
     "output_type": "execute_result"
    }
   ],
   "source": [
    "books[0].h3.a.get('href')"
   ]
  },
  {
   "cell_type": "code",
   "execution_count": 36,
   "metadata": {
    "colab": {
     "base_uri": "https://localhost:8080/",
     "height": 36
    },
    "id": "yDeRg_J9xHDO",
    "outputId": "ab4f4147-5d49-4d72-cd1a-83c56f2a0b35"
   },
   "outputs": [
    {
     "data": {
      "text/plain": [
       "'A Light in the Attic'"
      ]
     },
     "execution_count": 36,
     "metadata": {},
     "output_type": "execute_result"
    }
   ],
   "source": [
    "books[0].h3.a.get('title')"
   ]
  },
  {
   "cell_type": "markdown",
   "metadata": {
    "id": "WW8IDEpyxHDO"
   },
   "source": [
    "А ещё по этим атрибутам можно искать интересующие нас кусочки страницы."
   ]
  },
  {
   "cell_type": "code",
   "execution_count": 37,
   "metadata": {
    "colab": {
     "base_uri": "https://localhost:8080/"
    },
    "id": "8Pf6AKf4xHDO",
    "outputId": "e79bed7a-91cf-486d-be7f-ee440da4c909"
   },
   "outputs": [
    {
     "data": {
      "text/plain": [
       "[<a href=\"a-light-in-the-attic_1000/index.html\" title=\"A Light in the Attic\">A Light in the ...</a>]"
      ]
     },
     "execution_count": 37,
     "metadata": {},
     "output_type": "execute_result"
    }
   ],
   "source": [
    "tree.find_all('a', {'title': 'A Light in the Attic'})"
   ]
  },
  {
   "cell_type": "markdown",
   "metadata": {
    "id": "vdanmzdOxHDO"
   },
   "source": [
    "Собственно говоря, это всё.\n",
    "\n",
    "Обратите внимание, что на сайте все книги лежат на разных страничках. Если попробовать потыкать их, можно заметить, что в ссылке будет меняться атрибут `page`. Значит, если мы хотим собрать все книги, надо создать кучу ссылок с разным `page` внутри цикла. Когда качаешь данные с более сложных сайтов, в ссылке часто есть огромное количество атрибутов, которые регулируют выдачу.\n",
    "\n",
    "Давайте запишем весь код для сбора книг в виде функции. На вход она будет принимать номер странички, которую надо скачать."
   ]
  },
  {
   "cell_type": "code",
   "execution_count": null,
   "metadata": {},
   "outputs": [],
   "source": [
    "'http://books.toscrape.com/catalogue/page-{}.html'.format(p)\n",
    "f'http://books.toscrape.com/catalogue/page-{p}.html'"
   ]
  },
  {
   "cell_type": "code",
   "execution_count": 38,
   "metadata": {
    "id": "jNKAj3IjxHDP"
   },
   "outputs": [],
   "source": [
    "def get_page(p):\n",
    "\n",
    "    # изготовили ссылку\n",
    "    url = 'http://books.toscrape.com/catalogue/page-{}.html'.format(p)\n",
    "\n",
    "    # сходили по ней\n",
    "    response = requests.get(url)\n",
    "\n",
    "    # построили дерево\n",
    "    tree = BeautifulSoup(response.content, 'html.parser')\n",
    "\n",
    "    # нашли в нём всё самое интересное\n",
    "    books = tree.find_all('article', {'class' : 'product_pod'})\n",
    "\n",
    "    infa = [ ]\n",
    "\n",
    "    for book in books:\n",
    "        infa.append({'price': book.find('p', {'class': 'price_color'}).text,\n",
    "                     'href': book.h3.a.get('href'),\n",
    "                     'title': book.h3.a.get('title')})\n",
    "\n",
    "    return infa"
   ]
  },
  {
   "cell_type": "markdown",
   "metadata": {
    "id": "XdiraxwQxHDP"
   },
   "source": [
    "Осталось только пройтись по всем страничкам от page-1 до page-50 циклом и данные у нас в кармане."
   ]
  },
  {
   "cell_type": "code",
   "execution_count": 39,
   "metadata": {
    "id": "pk1UqSSbxHDP"
   },
   "outputs": [],
   "source": [
    "infa = []\n",
    "\n",
    "for p in range(1,51):\n",
    "    infa.extend(get_page(p))"
   ]
  },
  {
   "cell_type": "code",
   "execution_count": 19,
   "metadata": {
    "colab": {
     "base_uri": "https://localhost:8080/",
     "height": 224
    },
    "id": "ajBw3wnjxHDQ",
    "outputId": "74773564-a9fe-4a70-bb52-e6ed9ba9863d"
   },
   "outputs": [
    {
     "name": "stdout",
     "output_type": "stream",
     "text": [
      "(1000, 3)\n"
     ]
    },
    {
     "data": {
      "text/html": [
       "<div>\n",
       "<style scoped>\n",
       "    .dataframe tbody tr th:only-of-type {\n",
       "        vertical-align: middle;\n",
       "    }\n",
       "\n",
       "    .dataframe tbody tr th {\n",
       "        vertical-align: top;\n",
       "    }\n",
       "\n",
       "    .dataframe thead th {\n",
       "        text-align: right;\n",
       "    }\n",
       "</style>\n",
       "<table border=\"1\" class=\"dataframe\">\n",
       "  <thead>\n",
       "    <tr style=\"text-align: right;\">\n",
       "      <th></th>\n",
       "      <th>price</th>\n",
       "      <th>href</th>\n",
       "      <th>title</th>\n",
       "    </tr>\n",
       "  </thead>\n",
       "  <tbody>\n",
       "    <tr>\n",
       "      <th>0</th>\n",
       "      <td>£51.77</td>\n",
       "      <td>a-light-in-the-attic_1000/index.html</td>\n",
       "      <td>A Light in the Attic</td>\n",
       "    </tr>\n",
       "    <tr>\n",
       "      <th>1</th>\n",
       "      <td>£53.74</td>\n",
       "      <td>tipping-the-velvet_999/index.html</td>\n",
       "      <td>Tipping the Velvet</td>\n",
       "    </tr>\n",
       "    <tr>\n",
       "      <th>2</th>\n",
       "      <td>£50.10</td>\n",
       "      <td>soumission_998/index.html</td>\n",
       "      <td>Soumission</td>\n",
       "    </tr>\n",
       "    <tr>\n",
       "      <th>3</th>\n",
       "      <td>£47.82</td>\n",
       "      <td>sharp-objects_997/index.html</td>\n",
       "      <td>Sharp Objects</td>\n",
       "    </tr>\n",
       "    <tr>\n",
       "      <th>4</th>\n",
       "      <td>£54.23</td>\n",
       "      <td>sapiens-a-brief-history-of-humankind_996/index...</td>\n",
       "      <td>Sapiens: A Brief History of Humankind</td>\n",
       "    </tr>\n",
       "  </tbody>\n",
       "</table>\n",
       "</div>"
      ],
      "text/plain": [
       "    price                                               href  \\\n",
       "0  £51.77               a-light-in-the-attic_1000/index.html   \n",
       "1  £53.74                  tipping-the-velvet_999/index.html   \n",
       "2  £50.10                          soumission_998/index.html   \n",
       "3  £47.82                       sharp-objects_997/index.html   \n",
       "4  £54.23  sapiens-a-brief-history-of-humankind_996/index...   \n",
       "\n",
       "                                   title  \n",
       "0                   A Light in the Attic  \n",
       "1                     Tipping the Velvet  \n",
       "2                             Soumission  \n",
       "3                          Sharp Objects  \n",
       "4  Sapiens: A Brief History of Humankind  "
      ]
     },
     "execution_count": 19,
     "metadata": {},
     "output_type": "execute_result"
    }
   ],
   "source": [
    "import pandas as pd\n",
    "\n",
    "df = pd.DataFrame(infa)\n",
    "print(df.shape)\n",
    "df.head()"
   ]
  },
  {
   "cell_type": "markdown",
   "metadata": {
    "id": "LrqEVswuxHDQ"
   },
   "source": [
    "Кстати говоря, если перейти по ссылке в саму книгу, там о ней будет куча дополнительной информации. Можно пройтись по всем ссылкам и выкачать себе по ним дополнительную информацию."
   ]
  },
  {
   "cell_type": "markdown",
   "metadata": {
    "id": "Zinlj7fsxHDQ"
   },
   "source": [
    "# 2. Что делать, если сервер разозлился\n",
    "\n",
    "* Вы решили собрать себе немного данных\n",
    "* Сервер не в восторге от ковровой бомбардировки автоматическими запросами\n",
    "* Error 403, 404, 504, $\\ldots$\n",
    "* Капча, требования зарегистрироваться\n",
    "* Заботливые сообщения, что с вашего устройства обнаружен подозрительный трафик\n",
    "\n",
    "<center>\n",
    "<img src=\"https://raw.githubusercontent.com/hse-econ-data-science/eds_spring_2020/master/sem05_parsing/image/doge.jpg\" width=\"450\">"
   ]
  },
  {
   "cell_type": "markdown",
   "metadata": {
    "id": "fS4aHtxtxHDd"
   },
   "source": [
    "## а) быть терпеливым\n",
    "\n",
    "* Слишком частые запросы раздражают сервер\n",
    "* Ставьте между ними временные задержки"
   ]
  },
  {
   "cell_type": "code",
   "execution_count": 40,
   "metadata": {
    "id": "Kwa_bpfnxHDe"
   },
   "outputs": [],
   "source": [
    "import time\n",
    "time.sleep(3) # и пусть весь мир подождёт 3 секунды"
   ]
  },
  {
   "cell_type": "markdown",
   "metadata": {
    "id": "q81-qGhmxHDe"
   },
   "source": [
    "## б) быть похожим на человека\n",
    "\n",
    "\n",
    "Запрос нормального человека через браузер выглядит так:\n",
    "\n",
    "<center>\n",
    "<img src=\"https://raw.githubusercontent.com/hse-econ-data-science/eds_spring_2020/master/sem05_parsing/image/browser_get.png\" width=\"600\">\n",
    "    \n",
    "С ним на сервер попадает куча информации! Запрос от питона выглядит так:\n",
    "\n",
    "\n",
    "<center>\n",
    "<img src=\"https://raw.githubusercontent.com/hse-econ-data-science/eds_spring_2020/master/sem05_parsing/image/python_get.jpg\" width=\"250\">\n",
    "\n",
    "Заметили разницу?  Очевидно, что нашему скромному запросу не тягаться с таким обилием мета-информации, которое передается при запросе из обычного браузера. К счастью, никто нам не мешает притвориться человечными и пустить пыль в глаза сервера при помощи генерации фейкового юзер-агента. Библиотек, которые справляются с такой задачей, существует очень и очень много, лично мне больше всего нравится [fake-useragent.](https://pypi.org/project/fake-useragent/) При вызове метода из различных кусочков будет генерироваться рандомное сочетание операционной системы, спецификаций и версии браузера, которые можно передавать в запрос:"
   ]
  },
  {
   "cell_type": "code",
   "execution_count": 21,
   "metadata": {
    "colab": {
     "base_uri": "https://localhost:8080/"
    },
    "id": "KiKRqYZ733w7",
    "outputId": "32860bd1-5e7c-4301-bff5-368143e978c1"
   },
   "outputs": [
    {
     "name": "stdout",
     "output_type": "stream",
     "text": [
      "Collecting fake_useragent\n",
      "  Obtaining dependency information for fake_useragent from https://files.pythonhosted.org/packages/e4/99/60d8cf1b26938c2e0a57e232f7f15641dfcd6f8deda454d73e4145910ff6/fake_useragent-1.5.1-py3-none-any.whl.metadata\n",
      "  Downloading fake_useragent-1.5.1-py3-none-any.whl.metadata (15 kB)\n",
      "Downloading fake_useragent-1.5.1-py3-none-any.whl (17 kB)\n",
      "Installing collected packages: fake_useragent\n",
      "Successfully installed fake_useragent-1.5.1\n"
     ]
    }
   ],
   "source": [
    "# !pip install fake_useragent"
   ]
  },
  {
   "cell_type": "code",
   "execution_count": 41,
   "metadata": {
    "colab": {
     "base_uri": "https://localhost:8080/",
     "height": 36
    },
    "id": "PpKs11quxHDf",
    "outputId": "899c3c32-34ab-4be5-9fec-def14184e7cf"
   },
   "outputs": [
    {
     "data": {
      "text/plain": [
       "'Mozilla/5.0 (Macintosh; Intel Mac OS X 10_15_7) AppleWebKit/537.36 (KHTML, like Gecko) Chrome/122.0.0.0 Safari/537.36'"
      ]
     },
     "execution_count": 41,
     "metadata": {},
     "output_type": "execute_result"
    }
   ],
   "source": [
    "from fake_useragent import UserAgent\n",
    "UserAgent().chrome"
   ]
  },
  {
   "cell_type": "markdown",
   "metadata": {
    "id": "6U1mOl7cxHDf"
   },
   "source": [
    "Например, https://knowyourmeme.com/ не захочет пускать к себе python и выдаст ошибку 403. Она выдается сервером, если он доступен и способен обрабатывать запросы, но по некоторым личным причинам отказывается это делать."
   ]
  },
  {
   "cell_type": "code",
   "execution_count": 42,
   "metadata": {
    "colab": {
     "base_uri": "https://localhost:8080/"
    },
    "id": "VbGhhiQRxHDf",
    "outputId": "98636c4b-1e4d-49aa-fee8-adf3e8c30e85"
   },
   "outputs": [
    {
     "data": {
      "text/plain": [
       "<Response [200]>"
      ]
     },
     "execution_count": 42,
     "metadata": {},
     "output_type": "execute_result"
    }
   ],
   "source": [
    "url = 'https://knowyourmeme.com/'\n",
    "\n",
    "response = requests.get(url)\n",
    "response"
   ]
  },
  {
   "cell_type": "markdown",
   "metadata": {
    "id": "yliMyM2ExHDg"
   },
   "source": [
    "А если сгенерировать User-Agent, вопросов у сервера не возникнет."
   ]
  },
  {
   "cell_type": "code",
   "execution_count": 43,
   "metadata": {
    "colab": {
     "base_uri": "https://localhost:8080/"
    },
    "id": "N71uLPZjxHDg",
    "outputId": "7a2202a7-bac9-4ca9-cec4-d95261657c6c"
   },
   "outputs": [
    {
     "data": {
      "text/plain": [
       "<Response [200]>"
      ]
     },
     "execution_count": 43,
     "metadata": {},
     "output_type": "execute_result"
    }
   ],
   "source": [
    "response = requests.get(url, headers={'User-Agent': UserAgent().chrome})\n",
    "response"
   ]
  },
  {
   "cell_type": "markdown",
   "metadata": {
    "id": "b5bz9E9UxHDh"
   },
   "source": [
    "__Другой пример:__ если захотите спарсить ЦИАН, он начнет вам выдавать капчу. Один из вариантов обхода: менять ip через тор. Однако на практически каждый запрос из-под тора, ЦИАН будет выдавать капчу. Если добавить в запрос `User_Agent`, то капча будет вылезать намного реже."
   ]
  },
  {
   "cell_type": "markdown",
   "metadata": {
    "id": "bm2_ndUXxHDh"
   },
   "source": [
    "## в) общаться через посредников\n",
    "\n",
    "<center>\n",
    "<img src=\"https://raw.githubusercontent.com/hse-econ-data-science/eds_spring_2020/master/sem05_parsing/image/proxy.jpeg\" width=\"400\">"
   ]
  },
  {
   "cell_type": "markdown",
   "metadata": {
    "id": "Pw0dASQMxHDh"
   },
   "source": [
    "Посмотрим на свой ip-адрес без прокси."
   ]
  },
  {
   "cell_type": "code",
   "execution_count": null,
   "metadata": {
    "colab": {
     "base_uri": "https://localhost:8080/"
    },
    "id": "KX_H-dkfxHDh",
    "outputId": "da7192df-f0ef-4457-de13-da961b18a1d6"
   },
   "outputs": [
    {
     "name": "stdout",
     "output_type": "stream",
     "text": [
      "{'origin': '34.125.68.50'}\n"
     ]
    }
   ],
   "source": [
    "r = requests.get('https://httpbin.org/ip')\n",
    "print(r.json())"
   ]
  },
  {
   "cell_type": "markdown",
   "metadata": {
    "id": "TjLy7uEIxHDi"
   },
   "source": [
    "А теперь попробуем посмотреть, что будет если подключить прокси."
   ]
  },
  {
   "cell_type": "code",
   "execution_count": null,
   "metadata": {
    "colab": {
     "base_uri": "https://localhost:8080/",
     "height": 749
    },
    "collapsed": true,
    "id": "onAf6SIpxHDj",
    "outputId": "b0bc10fd-4a9c-4d70-85d0-98a78599a831"
   },
   "outputs": [
    {
     "ename": "ProxyError",
     "evalue": "HTTPSConnectionPool(host='httpbin.org', port=443): Max retries exceeded with url: /ip (Caused by ProxyError('Unable to connect to proxy', ConnectTimeoutError(<urllib3.connection.HTTPSConnection object at 0x7934870a6500>, 'Connection to 182.53.206.47 timed out. (connect timeout=None)')))",
     "output_type": "error",
     "traceback": [
      "\u001b[0;31m---------------------------------------------------------------------------\u001b[0m",
      "\u001b[0;31mTimeoutError\u001b[0m                              Traceback (most recent call last)",
      "\u001b[0;32m/usr/local/lib/python3.10/dist-packages/urllib3/connection.py\u001b[0m in \u001b[0;36m_new_conn\u001b[0;34m(self)\u001b[0m\n\u001b[1;32m    202\u001b[0m         \u001b[0;32mtry\u001b[0m\u001b[0;34m:\u001b[0m\u001b[0;34m\u001b[0m\u001b[0;34m\u001b[0m\u001b[0m\n\u001b[0;32m--> 203\u001b[0;31m             sock = connection.create_connection(\n\u001b[0m\u001b[1;32m    204\u001b[0m                 \u001b[0;34m(\u001b[0m\u001b[0mself\u001b[0m\u001b[0;34m.\u001b[0m\u001b[0m_dns_host\u001b[0m\u001b[0;34m,\u001b[0m \u001b[0mself\u001b[0m\u001b[0;34m.\u001b[0m\u001b[0mport\u001b[0m\u001b[0;34m)\u001b[0m\u001b[0;34m,\u001b[0m\u001b[0;34m\u001b[0m\u001b[0;34m\u001b[0m\u001b[0m\n",
      "\u001b[0;32m/usr/local/lib/python3.10/dist-packages/urllib3/util/connection.py\u001b[0m in \u001b[0;36mcreate_connection\u001b[0;34m(address, timeout, source_address, socket_options)\u001b[0m\n\u001b[1;32m     84\u001b[0m         \u001b[0;32mtry\u001b[0m\u001b[0;34m:\u001b[0m\u001b[0;34m\u001b[0m\u001b[0;34m\u001b[0m\u001b[0m\n\u001b[0;32m---> 85\u001b[0;31m             \u001b[0;32mraise\u001b[0m \u001b[0merr\u001b[0m\u001b[0;34m\u001b[0m\u001b[0;34m\u001b[0m\u001b[0m\n\u001b[0m\u001b[1;32m     86\u001b[0m         \u001b[0;32mfinally\u001b[0m\u001b[0;34m:\u001b[0m\u001b[0;34m\u001b[0m\u001b[0;34m\u001b[0m\u001b[0m\n",
      "\u001b[0;32m/usr/local/lib/python3.10/dist-packages/urllib3/util/connection.py\u001b[0m in \u001b[0;36mcreate_connection\u001b[0;34m(address, timeout, source_address, socket_options)\u001b[0m\n\u001b[1;32m     72\u001b[0m                 \u001b[0msock\u001b[0m\u001b[0;34m.\u001b[0m\u001b[0mbind\u001b[0m\u001b[0;34m(\u001b[0m\u001b[0msource_address\u001b[0m\u001b[0;34m)\u001b[0m\u001b[0;34m\u001b[0m\u001b[0;34m\u001b[0m\u001b[0m\n\u001b[0;32m---> 73\u001b[0;31m             \u001b[0msock\u001b[0m\u001b[0;34m.\u001b[0m\u001b[0mconnect\u001b[0m\u001b[0;34m(\u001b[0m\u001b[0msa\u001b[0m\u001b[0;34m)\u001b[0m\u001b[0;34m\u001b[0m\u001b[0;34m\u001b[0m\u001b[0m\n\u001b[0m\u001b[1;32m     74\u001b[0m             \u001b[0;31m# Break explicitly a reference cycle\u001b[0m\u001b[0;34m\u001b[0m\u001b[0;34m\u001b[0m\u001b[0m\n",
      "\u001b[0;31mTimeoutError\u001b[0m: [Errno 110] Connection timed out",
      "\nThe above exception was the direct cause of the following exception:\n",
      "\u001b[0;31mConnectTimeoutError\u001b[0m                       Traceback (most recent call last)",
      "\u001b[0;32m/usr/local/lib/python3.10/dist-packages/urllib3/connectionpool.py\u001b[0m in \u001b[0;36murlopen\u001b[0;34m(self, method, url, body, headers, retries, redirect, assert_same_host, timeout, pool_timeout, release_conn, chunked, body_pos, preload_content, decode_content, **response_kw)\u001b[0m\n\u001b[1;32m    776\u001b[0m                 \u001b[0;32mtry\u001b[0m\u001b[0;34m:\u001b[0m\u001b[0;34m\u001b[0m\u001b[0;34m\u001b[0m\u001b[0m\n\u001b[0;32m--> 777\u001b[0;31m                     \u001b[0mself\u001b[0m\u001b[0;34m.\u001b[0m\u001b[0m_prepare_proxy\u001b[0m\u001b[0;34m(\u001b[0m\u001b[0mconn\u001b[0m\u001b[0;34m)\u001b[0m\u001b[0;34m\u001b[0m\u001b[0;34m\u001b[0m\u001b[0m\n\u001b[0m\u001b[1;32m    778\u001b[0m                 \u001b[0;32mexcept\u001b[0m \u001b[0;34m(\u001b[0m\u001b[0mBaseSSLError\u001b[0m\u001b[0;34m,\u001b[0m \u001b[0mOSError\u001b[0m\u001b[0;34m,\u001b[0m \u001b[0mSocketTimeout\u001b[0m\u001b[0;34m)\u001b[0m \u001b[0;32mas\u001b[0m \u001b[0me\u001b[0m\u001b[0;34m:\u001b[0m\u001b[0;34m\u001b[0m\u001b[0;34m\u001b[0m\u001b[0m\n",
      "\u001b[0;32m/usr/local/lib/python3.10/dist-packages/urllib3/connectionpool.py\u001b[0m in \u001b[0;36m_prepare_proxy\u001b[0;34m(self, conn)\u001b[0m\n\u001b[1;32m   1045\u001b[0m         )\n\u001b[0;32m-> 1046\u001b[0;31m         \u001b[0mconn\u001b[0m\u001b[0;34m.\u001b[0m\u001b[0mconnect\u001b[0m\u001b[0;34m(\u001b[0m\u001b[0;34m)\u001b[0m\u001b[0;34m\u001b[0m\u001b[0;34m\u001b[0m\u001b[0m\n\u001b[0m\u001b[1;32m   1047\u001b[0m \u001b[0;34m\u001b[0m\u001b[0m\n",
      "\u001b[0;32m/usr/local/lib/python3.10/dist-packages/urllib3/connection.py\u001b[0m in \u001b[0;36mconnect\u001b[0;34m(self)\u001b[0m\n\u001b[1;32m    610\u001b[0m         \u001b[0msock\u001b[0m\u001b[0;34m:\u001b[0m \u001b[0msocket\u001b[0m\u001b[0;34m.\u001b[0m\u001b[0msocket\u001b[0m \u001b[0;34m|\u001b[0m \u001b[0mssl\u001b[0m\u001b[0;34m.\u001b[0m\u001b[0mSSLSocket\u001b[0m\u001b[0;34m\u001b[0m\u001b[0;34m\u001b[0m\u001b[0m\n\u001b[0;32m--> 611\u001b[0;31m         \u001b[0mself\u001b[0m\u001b[0;34m.\u001b[0m\u001b[0msock\u001b[0m \u001b[0;34m=\u001b[0m \u001b[0msock\u001b[0m \u001b[0;34m=\u001b[0m \u001b[0mself\u001b[0m\u001b[0;34m.\u001b[0m\u001b[0m_new_conn\u001b[0m\u001b[0;34m(\u001b[0m\u001b[0;34m)\u001b[0m\u001b[0;34m\u001b[0m\u001b[0;34m\u001b[0m\u001b[0m\n\u001b[0m\u001b[1;32m    612\u001b[0m         \u001b[0mserver_hostname\u001b[0m\u001b[0;34m:\u001b[0m \u001b[0mstr\u001b[0m \u001b[0;34m=\u001b[0m \u001b[0mself\u001b[0m\u001b[0;34m.\u001b[0m\u001b[0mhost\u001b[0m\u001b[0;34m\u001b[0m\u001b[0;34m\u001b[0m\u001b[0m\n",
      "\u001b[0;32m/usr/local/lib/python3.10/dist-packages/urllib3/connection.py\u001b[0m in \u001b[0;36m_new_conn\u001b[0;34m(self)\u001b[0m\n\u001b[1;32m    211\u001b[0m         \u001b[0;32mexcept\u001b[0m \u001b[0mSocketTimeout\u001b[0m \u001b[0;32mas\u001b[0m \u001b[0me\u001b[0m\u001b[0;34m:\u001b[0m\u001b[0;34m\u001b[0m\u001b[0;34m\u001b[0m\u001b[0m\n\u001b[0;32m--> 212\u001b[0;31m             raise ConnectTimeoutError(\n\u001b[0m\u001b[1;32m    213\u001b[0m                 \u001b[0mself\u001b[0m\u001b[0;34m,\u001b[0m\u001b[0;34m\u001b[0m\u001b[0;34m\u001b[0m\u001b[0m\n",
      "\u001b[0;31mConnectTimeoutError\u001b[0m: (<urllib3.connection.HTTPSConnection object at 0x7934870a6500>, 'Connection to 182.53.206.47 timed out. (connect timeout=None)')",
      "\nThe above exception was the direct cause of the following exception:\n",
      "\u001b[0;31mProxyError\u001b[0m                                Traceback (most recent call last)",
      "\u001b[0;31mProxyError\u001b[0m: ('Unable to connect to proxy', ConnectTimeoutError(<urllib3.connection.HTTPSConnection object at 0x7934870a6500>, 'Connection to 182.53.206.47 timed out. (connect timeout=None)'))",
      "\nThe above exception was the direct cause of the following exception:\n",
      "\u001b[0;31mMaxRetryError\u001b[0m                             Traceback (most recent call last)",
      "\u001b[0;32m/usr/local/lib/python3.10/dist-packages/requests/adapters.py\u001b[0m in \u001b[0;36msend\u001b[0;34m(self, request, stream, timeout, verify, cert, proxies)\u001b[0m\n\u001b[1;32m    485\u001b[0m         \u001b[0;32mtry\u001b[0m\u001b[0;34m:\u001b[0m\u001b[0;34m\u001b[0m\u001b[0;34m\u001b[0m\u001b[0m\n\u001b[0;32m--> 486\u001b[0;31m             resp = conn.urlopen(\n\u001b[0m\u001b[1;32m    487\u001b[0m                 \u001b[0mmethod\u001b[0m\u001b[0;34m=\u001b[0m\u001b[0mrequest\u001b[0m\u001b[0;34m.\u001b[0m\u001b[0mmethod\u001b[0m\u001b[0;34m,\u001b[0m\u001b[0;34m\u001b[0m\u001b[0;34m\u001b[0m\u001b[0m\n",
      "\u001b[0;32m/usr/local/lib/python3.10/dist-packages/urllib3/connectionpool.py\u001b[0m in \u001b[0;36murlopen\u001b[0;34m(self, method, url, body, headers, retries, redirect, assert_same_host, timeout, pool_timeout, release_conn, chunked, body_pos, preload_content, decode_content, **response_kw)\u001b[0m\n\u001b[1;32m    844\u001b[0m \u001b[0;34m\u001b[0m\u001b[0m\n\u001b[0;32m--> 845\u001b[0;31m             retries = retries.increment(\n\u001b[0m\u001b[1;32m    846\u001b[0m                 \u001b[0mmethod\u001b[0m\u001b[0;34m,\u001b[0m \u001b[0murl\u001b[0m\u001b[0;34m,\u001b[0m \u001b[0merror\u001b[0m\u001b[0;34m=\u001b[0m\u001b[0mnew_e\u001b[0m\u001b[0;34m,\u001b[0m \u001b[0m_pool\u001b[0m\u001b[0;34m=\u001b[0m\u001b[0mself\u001b[0m\u001b[0;34m,\u001b[0m \u001b[0m_stacktrace\u001b[0m\u001b[0;34m=\u001b[0m\u001b[0msys\u001b[0m\u001b[0;34m.\u001b[0m\u001b[0mexc_info\u001b[0m\u001b[0;34m(\u001b[0m\u001b[0;34m)\u001b[0m\u001b[0;34m[\u001b[0m\u001b[0;36m2\u001b[0m\u001b[0;34m]\u001b[0m\u001b[0;34m\u001b[0m\u001b[0;34m\u001b[0m\u001b[0m\n",
      "\u001b[0;32m/usr/local/lib/python3.10/dist-packages/urllib3/util/retry.py\u001b[0m in \u001b[0;36mincrement\u001b[0;34m(self, method, url, response, error, _pool, _stacktrace)\u001b[0m\n\u001b[1;32m    514\u001b[0m             \u001b[0mreason\u001b[0m \u001b[0;34m=\u001b[0m \u001b[0merror\u001b[0m \u001b[0;32mor\u001b[0m \u001b[0mResponseError\u001b[0m\u001b[0;34m(\u001b[0m\u001b[0mcause\u001b[0m\u001b[0;34m)\u001b[0m\u001b[0;34m\u001b[0m\u001b[0;34m\u001b[0m\u001b[0m\n\u001b[0;32m--> 515\u001b[0;31m             \u001b[0;32mraise\u001b[0m \u001b[0mMaxRetryError\u001b[0m\u001b[0;34m(\u001b[0m\u001b[0m_pool\u001b[0m\u001b[0;34m,\u001b[0m \u001b[0murl\u001b[0m\u001b[0;34m,\u001b[0m \u001b[0mreason\u001b[0m\u001b[0;34m)\u001b[0m \u001b[0;32mfrom\u001b[0m \u001b[0mreason\u001b[0m  \u001b[0;31m# type: ignore[arg-type]\u001b[0m\u001b[0;34m\u001b[0m\u001b[0;34m\u001b[0m\u001b[0m\n\u001b[0m\u001b[1;32m    516\u001b[0m \u001b[0;34m\u001b[0m\u001b[0m\n",
      "\u001b[0;31mMaxRetryError\u001b[0m: HTTPSConnectionPool(host='httpbin.org', port=443): Max retries exceeded with url: /ip (Caused by ProxyError('Unable to connect to proxy', ConnectTimeoutError(<urllib3.connection.HTTPSConnection object at 0x7934870a6500>, 'Connection to 182.53.206.47 timed out. (connect timeout=None)')))",
      "\nDuring handling of the above exception, another exception occurred:\n",
      "\u001b[0;31mProxyError\u001b[0m                                Traceback (most recent call last)",
      "\u001b[0;32m<ipython-input-31-4178672318cb>\u001b[0m in \u001b[0;36m<cell line: 6>\u001b[0;34m()\u001b[0m\n\u001b[1;32m      4\u001b[0m }\n\u001b[1;32m      5\u001b[0m \u001b[0;34m\u001b[0m\u001b[0m\n\u001b[0;32m----> 6\u001b[0;31m \u001b[0mr\u001b[0m \u001b[0;34m=\u001b[0m \u001b[0mrequests\u001b[0m\u001b[0;34m.\u001b[0m\u001b[0mget\u001b[0m\u001b[0;34m(\u001b[0m\u001b[0;34m'https://httpbin.org/ip'\u001b[0m\u001b[0;34m,\u001b[0m \u001b[0mproxies\u001b[0m\u001b[0;34m=\u001b[0m\u001b[0mproxies\u001b[0m\u001b[0;34m)\u001b[0m\u001b[0;34m\u001b[0m\u001b[0;34m\u001b[0m\u001b[0m\n\u001b[0m\u001b[1;32m      7\u001b[0m \u001b[0;34m\u001b[0m\u001b[0m\n\u001b[1;32m      8\u001b[0m \u001b[0mprint\u001b[0m\u001b[0;34m(\u001b[0m\u001b[0mr\u001b[0m\u001b[0;34m.\u001b[0m\u001b[0mjson\u001b[0m\u001b[0;34m(\u001b[0m\u001b[0;34m)\u001b[0m\u001b[0;34m)\u001b[0m\u001b[0;34m\u001b[0m\u001b[0;34m\u001b[0m\u001b[0m\n",
      "\u001b[0;32m/usr/local/lib/python3.10/dist-packages/requests/api.py\u001b[0m in \u001b[0;36mget\u001b[0;34m(url, params, **kwargs)\u001b[0m\n\u001b[1;32m     71\u001b[0m     \"\"\"\n\u001b[1;32m     72\u001b[0m \u001b[0;34m\u001b[0m\u001b[0m\n\u001b[0;32m---> 73\u001b[0;31m     \u001b[0;32mreturn\u001b[0m \u001b[0mrequest\u001b[0m\u001b[0;34m(\u001b[0m\u001b[0;34m\"get\"\u001b[0m\u001b[0;34m,\u001b[0m \u001b[0murl\u001b[0m\u001b[0;34m,\u001b[0m \u001b[0mparams\u001b[0m\u001b[0;34m=\u001b[0m\u001b[0mparams\u001b[0m\u001b[0;34m,\u001b[0m \u001b[0;34m**\u001b[0m\u001b[0mkwargs\u001b[0m\u001b[0;34m)\u001b[0m\u001b[0;34m\u001b[0m\u001b[0;34m\u001b[0m\u001b[0m\n\u001b[0m\u001b[1;32m     74\u001b[0m \u001b[0;34m\u001b[0m\u001b[0m\n\u001b[1;32m     75\u001b[0m \u001b[0;34m\u001b[0m\u001b[0m\n",
      "\u001b[0;32m/usr/local/lib/python3.10/dist-packages/requests/api.py\u001b[0m in \u001b[0;36mrequest\u001b[0;34m(method, url, **kwargs)\u001b[0m\n\u001b[1;32m     57\u001b[0m     \u001b[0;31m# cases, and look like a memory leak in others.\u001b[0m\u001b[0;34m\u001b[0m\u001b[0;34m\u001b[0m\u001b[0m\n\u001b[1;32m     58\u001b[0m     \u001b[0;32mwith\u001b[0m \u001b[0msessions\u001b[0m\u001b[0;34m.\u001b[0m\u001b[0mSession\u001b[0m\u001b[0;34m(\u001b[0m\u001b[0;34m)\u001b[0m \u001b[0;32mas\u001b[0m \u001b[0msession\u001b[0m\u001b[0;34m:\u001b[0m\u001b[0;34m\u001b[0m\u001b[0;34m\u001b[0m\u001b[0m\n\u001b[0;32m---> 59\u001b[0;31m         \u001b[0;32mreturn\u001b[0m \u001b[0msession\u001b[0m\u001b[0;34m.\u001b[0m\u001b[0mrequest\u001b[0m\u001b[0;34m(\u001b[0m\u001b[0mmethod\u001b[0m\u001b[0;34m=\u001b[0m\u001b[0mmethod\u001b[0m\u001b[0;34m,\u001b[0m \u001b[0murl\u001b[0m\u001b[0;34m=\u001b[0m\u001b[0murl\u001b[0m\u001b[0;34m,\u001b[0m \u001b[0;34m**\u001b[0m\u001b[0mkwargs\u001b[0m\u001b[0;34m)\u001b[0m\u001b[0;34m\u001b[0m\u001b[0;34m\u001b[0m\u001b[0m\n\u001b[0m\u001b[1;32m     60\u001b[0m \u001b[0;34m\u001b[0m\u001b[0m\n\u001b[1;32m     61\u001b[0m \u001b[0;34m\u001b[0m\u001b[0m\n",
      "\u001b[0;32m/usr/local/lib/python3.10/dist-packages/requests/sessions.py\u001b[0m in \u001b[0;36mrequest\u001b[0;34m(self, method, url, params, data, headers, cookies, files, auth, timeout, allow_redirects, proxies, hooks, stream, verify, cert, json)\u001b[0m\n\u001b[1;32m    587\u001b[0m         }\n\u001b[1;32m    588\u001b[0m         \u001b[0msend_kwargs\u001b[0m\u001b[0;34m.\u001b[0m\u001b[0mupdate\u001b[0m\u001b[0;34m(\u001b[0m\u001b[0msettings\u001b[0m\u001b[0;34m)\u001b[0m\u001b[0;34m\u001b[0m\u001b[0;34m\u001b[0m\u001b[0m\n\u001b[0;32m--> 589\u001b[0;31m         \u001b[0mresp\u001b[0m \u001b[0;34m=\u001b[0m \u001b[0mself\u001b[0m\u001b[0;34m.\u001b[0m\u001b[0msend\u001b[0m\u001b[0;34m(\u001b[0m\u001b[0mprep\u001b[0m\u001b[0;34m,\u001b[0m \u001b[0;34m**\u001b[0m\u001b[0msend_kwargs\u001b[0m\u001b[0;34m)\u001b[0m\u001b[0;34m\u001b[0m\u001b[0;34m\u001b[0m\u001b[0m\n\u001b[0m\u001b[1;32m    590\u001b[0m \u001b[0;34m\u001b[0m\u001b[0m\n\u001b[1;32m    591\u001b[0m         \u001b[0;32mreturn\u001b[0m \u001b[0mresp\u001b[0m\u001b[0;34m\u001b[0m\u001b[0;34m\u001b[0m\u001b[0m\n",
      "\u001b[0;32m/usr/local/lib/python3.10/dist-packages/requests/sessions.py\u001b[0m in \u001b[0;36msend\u001b[0;34m(self, request, **kwargs)\u001b[0m\n\u001b[1;32m    701\u001b[0m \u001b[0;34m\u001b[0m\u001b[0m\n\u001b[1;32m    702\u001b[0m         \u001b[0;31m# Send the request\u001b[0m\u001b[0;34m\u001b[0m\u001b[0;34m\u001b[0m\u001b[0m\n\u001b[0;32m--> 703\u001b[0;31m         \u001b[0mr\u001b[0m \u001b[0;34m=\u001b[0m \u001b[0madapter\u001b[0m\u001b[0;34m.\u001b[0m\u001b[0msend\u001b[0m\u001b[0;34m(\u001b[0m\u001b[0mrequest\u001b[0m\u001b[0;34m,\u001b[0m \u001b[0;34m**\u001b[0m\u001b[0mkwargs\u001b[0m\u001b[0;34m)\u001b[0m\u001b[0;34m\u001b[0m\u001b[0;34m\u001b[0m\u001b[0m\n\u001b[0m\u001b[1;32m    704\u001b[0m \u001b[0;34m\u001b[0m\u001b[0m\n\u001b[1;32m    705\u001b[0m         \u001b[0;31m# Total elapsed time of the request (approximately)\u001b[0m\u001b[0;34m\u001b[0m\u001b[0;34m\u001b[0m\u001b[0m\n",
      "\u001b[0;32m/usr/local/lib/python3.10/dist-packages/requests/adapters.py\u001b[0m in \u001b[0;36msend\u001b[0;34m(self, request, stream, timeout, verify, cert, proxies)\u001b[0m\n\u001b[1;32m    511\u001b[0m \u001b[0;34m\u001b[0m\u001b[0m\n\u001b[1;32m    512\u001b[0m             \u001b[0;32mif\u001b[0m \u001b[0misinstance\u001b[0m\u001b[0;34m(\u001b[0m\u001b[0me\u001b[0m\u001b[0;34m.\u001b[0m\u001b[0mreason\u001b[0m\u001b[0;34m,\u001b[0m \u001b[0m_ProxyError\u001b[0m\u001b[0;34m)\u001b[0m\u001b[0;34m:\u001b[0m\u001b[0;34m\u001b[0m\u001b[0;34m\u001b[0m\u001b[0m\n\u001b[0;32m--> 513\u001b[0;31m                 \u001b[0;32mraise\u001b[0m \u001b[0mProxyError\u001b[0m\u001b[0;34m(\u001b[0m\u001b[0me\u001b[0m\u001b[0;34m,\u001b[0m \u001b[0mrequest\u001b[0m\u001b[0;34m=\u001b[0m\u001b[0mrequest\u001b[0m\u001b[0;34m)\u001b[0m\u001b[0;34m\u001b[0m\u001b[0;34m\u001b[0m\u001b[0m\n\u001b[0m\u001b[1;32m    514\u001b[0m \u001b[0;34m\u001b[0m\u001b[0m\n\u001b[1;32m    515\u001b[0m             \u001b[0;32mif\u001b[0m \u001b[0misinstance\u001b[0m\u001b[0;34m(\u001b[0m\u001b[0me\u001b[0m\u001b[0;34m.\u001b[0m\u001b[0mreason\u001b[0m\u001b[0;34m,\u001b[0m \u001b[0m_SSLError\u001b[0m\u001b[0;34m)\u001b[0m\u001b[0;34m:\u001b[0m\u001b[0;34m\u001b[0m\u001b[0;34m\u001b[0m\u001b[0m\n",
      "\u001b[0;31mProxyError\u001b[0m: HTTPSConnectionPool(host='httpbin.org', port=443): Max retries exceeded with url: /ip (Caused by ProxyError('Unable to connect to proxy', ConnectTimeoutError(<urllib3.connection.HTTPSConnection object at 0x7934870a6500>, 'Connection to 182.53.206.47 timed out. (connect timeout=None)')))"
     ]
    }
   ],
   "source": [
    "proxies = {\n",
    "    'http': '182.53.206.47:47592',\n",
    "    'https': '182.53.206.47:47592'\n",
    "}\n",
    "\n",
    "r = requests.get('https://httpbin.org/ip', proxies=proxies)\n",
    "\n",
    "print(r.json())"
   ]
  },
  {
   "cell_type": "markdown",
   "metadata": {
    "id": "3MQ4se_YxHDj"
   },
   "source": [
    "Запрос работал немного подольше, ip адрес сменился. Большая часть проксей, которые вы найдёте работают криво. Иногда запрос идёт очень долго и выгоднее сбросить его и попробовать другую проксю. Это можно настроить опцией `timeout`.  Например, так если сервер не будет отвечать секунду, код упадёт."
   ]
  },
  {
   "cell_type": "code",
   "execution_count": null,
   "metadata": {
    "colab": {
     "base_uri": "https://localhost:8080/"
    },
    "id": "7j728n-_xHDk",
    "outputId": "9fff5999-ef8a-4c54-c491-a137b2b4e833"
   },
   "outputs": [
    {
     "data": {
      "text/plain": [
       "<Response [200]>"
      ]
     },
     "execution_count": 29,
     "metadata": {},
     "output_type": "execute_result"
    }
   ],
   "source": [
    "import requests\n",
    "requests.get('http://www.google.com', timeout=1)"
   ]
  },
  {
   "cell_type": "markdown",
   "metadata": {
    "id": "AWoOfEaGxHDk"
   },
   "source": [
    "У requests есть довольно много разных интересных примочек. Посмотреть на них можно в [гайде из документации.](https://requests.readthedocs.io/en/master/user/advanced/)\n",
    "\n",
    "\n",
    "__Где можно попытаться раздобыть списки прокси:__\n",
    "\n",
    "* https://qna.habr.com/q/591069\n",
    "* https://getfreeproxylists.blogspot.com/\n",
    "* Большая часть бесплатных прокси обычно не работает. Платные обычно продают куче людей и они тоже быстро тухнут. Пишите парсер, который будет собирать списки из проксей и пытаться применить их."
   ]
  },
  {
   "cell_type": "markdown",
   "metadata": {
    "id": "NbLNXVWKxHDk"
   },
   "source": [
    "## г) уходить глубже\n",
    "\n",
    "<center>\n",
    "<img src=\"https://raw.githubusercontent.com/hse-econ-data-science/eds_spring_2020/master/sem05_parsing/image/tor.jpg\" width=\"600\">\n",
    "\n",
    "Можно попытаться обходить злые сервера через тор. Есть аж несколько способов, но мы про это говорить не будем. Лучше подробно почитать в нашей статье на Хабре. Ссылка на неё в конце тетрадки. Ещё в самом начале была. А ещё в середине [наверняка есть.](https://habr.com/ru/company/ods/blog/346632/)"
   ]
  },
  {
   "cell_type": "markdown",
   "metadata": {
    "id": "2t3ob4hDxHDl"
   },
   "source": [
    "## Совместить всё?\n",
    "\n",
    "1. Начните с малого\n",
    "2. Если продолжает банить, накидывайте новые примочки\n",
    "3. Каждая новая примочка бьёт по скорости\n",
    "4. [Разные примочки для requests](http://docs.python-requests.org/en/v0.10.6/user/advanced/)"
   ]
  },
  {
   "cell_type": "markdown",
   "metadata": {
    "id": "WJNFJ77ExHDm"
   },
   "source": [
    "# 3. API\n",
    "\n",
    "__API (Application Programming Interface__ — это уже готовый код, который можно всунуть в свой код! Многие сервисы, в том числе Google и Вконтакте, предоставляют свои уже готовые решения для вашей разработки.\n",
    "\n",
    "Примеры:\n",
    "\n",
    "* [Контактовский API](https://vk.com/dev/methods)\n",
    "* [API twitter](https://developer.twitter.com/en/docs.html)\n",
    "* [API youtube](https://developers.google.com/youtube/v3/)\n",
    "* [API google maps](https://developers.google.com/maps/documentation/)\n",
    "* [Aviasales](https://www.aviasales.ru/API)\n",
    "* [Yandex Translate](https://yandex.ru/dev/translate/)\n",
    "\n",
    "Оно есть почти везде! На этом семинаре мы посмотрим на два примера: на API контакта и google maps."
   ]
  },
  {
   "cell_type": "markdown",
   "metadata": {
    "id": "p9aDnpeHxHDm"
   },
   "source": [
    "## 3.1 API vk\n",
    "\n",
    "> Правила работы с API vk могли измениться. Пайплайн ровно тот же, но токен может добываться иначе. Читайте об этом подробнее документацию.\n",
    "\n",
    "Зачем может понадобиться доступ к API контакта, думаю, объяснять не надо. Социальная сетка — это тонны различной полезной информации, которую можно заиспользовать для своего рисёрча. [В документации](https://vk.com/dev/manuals) очень подробно описано как можно работать с API контакта и к чему это приводит.\n",
    "\n",
    "Но для начала к API нужно получить доступ. Для этого придётся пройти пару бюрократических процедур (о, боже, эти два предложения были так бюрократически сформулированы, что мне захотелось отстоять в очереди).\n",
    "\n",
    "Первая такая процедура заключается в создании своего приложения. Для этого переходим по [ссылке](http://vk.com/editapp?act=create) и проходимся по необходимым шагам:\n",
    "\n",
    "<img align=\"center\" src=\"https://raw.githubusercontent.com/hse-econ-data-science/eds_spring_2020/master/sem05_parsing/image/app_creation_1.png\" width=\"500\">\n",
    "\n",
    "После подтверждения своей личности по номеру телефона, попадаем на страницу свежесозданного приложения\n",
    "\n",
    "<img align=\"center\" src=\"https://raw.githubusercontent.com/hse-econ-data-science/eds_spring_2020/master/sem05_parsing/image/app_creation_2.png\" width=\"500\">\n",
    "\n",
    "Слева нам будем доступна вкладка с настройками, перейдя в неё мы увидим все необходимые нам для работы с приложением параметры:\n",
    "<img align=\"center\" src=\"https://raw.githubusercontent.com/hse-econ-data-science/eds_spring_2020/master/sem05_parsing/image/app_creation_3.png\" width=\"500\">\n",
    "\n",
    "Отсюда в качестве токена можно забрать сервисный ключ доступа. Для работы с частью методов API этого вполне достаточно (обычно в заголовке такого метода стоит соответствующая пометка). Иногда нужны дополнительные доступы. Для того, чтобы получить их, необходимо сделать ещё пару странных манипуляций:\n",
    "\n",
    "Переходим по ссылке вида (на месте звездочек должен стоять ID созданного вами приложения):\n",
    "\n",
    "> https://oauth.vk.com/authorize?client_id=**********&scope=8198&redirect_uri=https://oauth.vk.com/blank.html&display=page&v=5.16&response_type=token\n",
    "\n",
    "В итоге по этому запросу будет сформирована ссылка следующего вида:\n",
    "> https://oauth.vk.com/blank.html#access_token=25b636116ef40e0718fe4d9f382544fc28&expires_in=86400&user_id=*******\n",
    "\n",
    "Первый набор знаков — `access token`, т.е. маркер доступа. Вторая цифра (`expires_in=`) время работы маркера доступа в секундах (одни сутки). По истечению суток нужно будет получить новый маркер доступа. Последняя цифра (`user_id=`) ваш ID Вконтакте. Нам в дальнейшем понадобится маркер доступа. Для удобства сохраним его в отдельном файле или экспортируем в глобальную область видимости. В целях безопасности ваших данных не стоит нигде светить токенами и тем более выкладывать их в открытый доступ. __Так можно и аккаунта случайно лишиться.__ Берегите токен смолоду.\n",
    "\n",
    "Обратите внимание на ссылку, по которой мы делали запрос на предоставление токена. Внутри неё находится странный параметр `scope=8198.` Это мы просим доступ к конкретным разделам. Подробнее познакомиться с взаимно-однозначным соответствием между числами и правами можно [в документации.](https://vk.com/dev/permissions) Например, если мы хотим получить доступ к друзьям, фото и стенам, мы подставим в scope цифру $2 + 4 + 8192 = 8198.$"
   ]
  },
  {
   "cell_type": "code",
   "execution_count": 44,
   "metadata": {
    "id": "wl6g4iq4xHDn"
   },
   "outputs": [],
   "source": [
    "# мой номер странички\n",
    "myid = 'soroktani'  # вставить номер странички\n",
    "\n",
    "# версия используемого API\n",
    "version = '5.103'\n",
    "\n",
    "# подгружаем токен из файлика на компьютере\n",
    "with open('secret_token.txt') as f:\n",
    "    token = f.read()"
   ]
  },
  {
   "cell_type": "markdown",
   "metadata": {
    "id": "nf5oy2LfxHDn"
   },
   "source": [
    "Чтобы скачать что-то из контакта, надо сделать ссылку и сходить по ней пакетом `requests`. Ссылка должна будет включать в себя метод (что мы просим у вк) и параметры (насколько много и как именно). Мы будем просто заменять эти две штуки и выкачивать разные вещи."
   ]
  },
  {
   "cell_type": "code",
   "execution_count": 45,
   "metadata": {
    "id": "TV27Rpu_xHDo",
    "outputId": "98a1f9bc-a5d4-4f5e-bd56-ebf91f740260"
   },
   "outputs": [
    {
     "data": {
      "text/plain": [
       "{'response': [{'id': 170554662,\n",
       "   'first_name': 'Tatiana',\n",
       "   'last_name': 'Sorokina',\n",
       "   'can_access_closed': True,\n",
       "   'is_closed': False}]}"
      ]
     },
     "execution_count": 45,
     "metadata": {},
     "output_type": "execute_result"
    }
   ],
   "source": [
    "method = 'users.get'\n",
    "parameters = 'user_ids=soroktani'\n",
    "\n",
    "url = 'https://api.vk.com/method/' + method + '?' + parameters + '&v=' + version + '&access_token=' + token\n",
    "\n",
    "response = requests.get(url)\n",
    "response.json()"
   ]
  },
  {
   "cell_type": "markdown",
   "metadata": {
    "id": "y0ojYdyTxHDo"
   },
   "source": [
    "В ответ на наш запрос vk выкидывает JSON с информацией. JSON очень похож на птонячие словарики. Смысл квадратных и фигурных скобок такой же. Правда, есть и отличия: например, в Python одинарные и двойные кавычки ничем не отличаются, а в JSON можно использовать только двойные.\n",
    "\n",
    "Мы видим, что полученный нами JSON представляет собой словарь, значения которого — строки или числа, а также списки или словари, значения которых в свою очередь также могут быть строками, числами, списками, словарями и т.д. То есть получается такая довольно сложная структура данных, из которой можно вытащить всё то, что нас интересует."
   ]
  },
  {
   "cell_type": "code",
   "execution_count": 47,
   "metadata": {
    "id": "Dwgf9ZTrxHDo",
    "outputId": "b8fa129e-5015-4483-92db-9184e0322cc9"
   },
   "outputs": [
    {
     "data": {
      "text/plain": [
       "'Tatiana'"
      ]
     },
     "execution_count": 47,
     "metadata": {},
     "output_type": "execute_result"
    }
   ],
   "source": [
    "response.json()['response'][0]['first_name']"
   ]
  },
  {
   "cell_type": "markdown",
   "metadata": {
    "id": "7CkNyuHhxHDp"
   },
   "source": [
    "[В документации](https://vk.com/dev/manuals) очень подробно описано какие есть методы и какие у них бывают параметры.  Давайте завернём код выше в функцию и попробуем что-нибудь скачать."
   ]
  },
  {
   "cell_type": "code",
   "execution_count": 48,
   "metadata": {
    "id": "9MLDggi9xHDp"
   },
   "outputs": [],
   "source": [
    "def vk_download(method, parameters):\n",
    "\n",
    "    url = 'https://api.vk.com/method/' + method + '?' + parameters + '&access_token=' + token + '&v=' + version\n",
    "    response = requests.get(url)\n",
    "    infa = response.json()\n",
    "    return infa"
   ]
  },
  {
   "cell_type": "markdown",
   "metadata": {
    "id": "xS5oUzFpxHDp"
   },
   "source": [
    "Например, все лайки с [хайер скул оф мемс.](https://vk.com/hsemem)"
   ]
  },
  {
   "cell_type": "code",
   "execution_count": 50,
   "metadata": {
    "id": "Aw0Ie92HxHDq"
   },
   "outputs": [],
   "source": [
    "group_id = '-139105204'  # взяли из ссылки на группу"
   ]
  },
  {
   "cell_type": "code",
   "execution_count": 56,
   "metadata": {
    "id": "vpyJ2QLBxHDq"
   },
   "outputs": [],
   "source": [
    "wall = vk_download('wall.get', 'owner_id={}&count=100'.format(group_id))\n",
    "wall = wall['response']"
   ]
  },
  {
   "cell_type": "code",
   "execution_count": 52,
   "metadata": {
    "id": "i-pBKwUfxHDr",
    "outputId": "82a03be3-bd56-42b6-a678-b3f8d4b96866",
    "scrolled": true
   },
   "outputs": [
    {
     "data": {
      "text/plain": [
       "{'inner_type': 'wall_wallpost',\n",
       " 'is_pinned': 1,\n",
       " 'comments': {'can_post': 0, 'count': 5, 'groups_can_post': True},\n",
       " 'marked_as_ads': 0,\n",
       " 'hash': '8kk1aZWud4if4fwbuw',\n",
       " 'type': 'post',\n",
       " 'donut_miniapp_url': 'https://vk.com/app51528700#/?owner_id=-139105204&no_badges=1&post_id=99618',\n",
       " 'attachments': [{'type': 'photo',\n",
       "   'photo': {'album_id': -7,\n",
       "    'date': 1701888418,\n",
       "    'id': 457268772,\n",
       "    'owner_id': -139105204,\n",
       "    'access_key': '175cdb95c54ff99fa2',\n",
       "    'sizes': [{'height': 75,\n",
       "      'type': 's',\n",
       "      'width': 50,\n",
       "      'url': 'https://sun9-1.userapi.com/impg/CEHFForTve7BMU8TyIbqv0D3Tfz5PHrTECvLGQ/Xz_qFSUym30.jpg?size=50x75&quality=95&sign=74cac38a460846ffa8cc1cfd97faa2f7&c_uniq_tag=XOKBuEgewyoemtcGHCmMCy2UlGl4MRcyjXMsDJ_Cr9c&type=album'},\n",
       "     {'height': 130,\n",
       "      'type': 'm',\n",
       "      'width': 87,\n",
       "      'url': 'https://sun9-1.userapi.com/impg/CEHFForTve7BMU8TyIbqv0D3Tfz5PHrTECvLGQ/Xz_qFSUym30.jpg?size=87x130&quality=95&sign=86c2be168c13aef113410ee9493e094c&c_uniq_tag=_DxJwDxpsLLLTvmaqscvSqFVn9X4R7GT702sJQ1ocM0&type=album'},\n",
       "     {'height': 604,\n",
       "      'type': 'x',\n",
       "      'width': 403,\n",
       "      'url': 'https://sun9-1.userapi.com/impg/CEHFForTve7BMU8TyIbqv0D3Tfz5PHrTECvLGQ/Xz_qFSUym30.jpg?size=403x604&quality=95&sign=df54a354db879d180571977b69d7de0f&c_uniq_tag=URaG-cMa0PGgylCuoauqwggHMNWsVbMvzR2XSGsY2to&type=album'},\n",
       "     {'height': 807,\n",
       "      'type': 'y',\n",
       "      'width': 538,\n",
       "      'url': 'https://sun9-1.userapi.com/impg/CEHFForTve7BMU8TyIbqv0D3Tfz5PHrTECvLGQ/Xz_qFSUym30.jpg?size=538x807&quality=95&sign=405fa24941c2f9dcfe9ae7641d171734&c_uniq_tag=4NmyxCt-Qfv7b-4fu4WtYy4DR7xyU0LVjc6lJtwyoJo&type=album'},\n",
       "     {'height': 1080,\n",
       "      'type': 'z',\n",
       "      'width': 720,\n",
       "      'url': 'https://sun9-1.userapi.com/impg/CEHFForTve7BMU8TyIbqv0D3Tfz5PHrTECvLGQ/Xz_qFSUym30.jpg?size=720x1080&quality=95&sign=b6f89e949f0cec7d91772ef8f157484e&c_uniq_tag=MTc5Q4jsTyoRGkfIkd8PPj53cmd5ti0mmmpblcaH7Q4&type=album'},\n",
       "     {'height': 1920,\n",
       "      'type': 'w',\n",
       "      'width': 1280,\n",
       "      'url': 'https://sun9-1.userapi.com/impg/CEHFForTve7BMU8TyIbqv0D3Tfz5PHrTECvLGQ/Xz_qFSUym30.jpg?size=1280x1920&quality=95&sign=805566691873746007bcca044489c4d1&c_uniq_tag=ossSN6qAYPRftAFf1kVqgHzo8POx_mVBkqmnh3OL-5Y&type=album'},\n",
       "     {'height': 195,\n",
       "      'type': 'o',\n",
       "      'width': 130,\n",
       "      'url': 'https://sun9-1.userapi.com/impg/CEHFForTve7BMU8TyIbqv0D3Tfz5PHrTECvLGQ/Xz_qFSUym30.jpg?size=130x195&quality=95&sign=770a11d568b3c482d8b6cd72b02794d2&c_uniq_tag=iuSLhoYKZzMEJyyq4AgzSKbriGKFL5is4LMEgu9lZqM&type=album'},\n",
       "     {'height': 300,\n",
       "      'type': 'p',\n",
       "      'width': 200,\n",
       "      'url': 'https://sun9-1.userapi.com/impg/CEHFForTve7BMU8TyIbqv0D3Tfz5PHrTECvLGQ/Xz_qFSUym30.jpg?size=200x300&quality=95&sign=b57b42ea2552313be1124527c21743df&c_uniq_tag=lzi7ZdIxTp1OpR4VlT5Vc_KFUwEtXLmp4XWZfjoc8ew&type=album'},\n",
       "     {'height': 480,\n",
       "      'type': 'q',\n",
       "      'width': 320,\n",
       "      'url': 'https://sun9-1.userapi.com/impg/CEHFForTve7BMU8TyIbqv0D3Tfz5PHrTECvLGQ/Xz_qFSUym30.jpg?size=320x480&quality=95&sign=49d031ffd74b2b0eb4b7e495a275d4d2&c_uniq_tag=nBxP8uOyecjTioKJuDxjrxaZmATFzvcecH-ff1Rpkr8&type=album'},\n",
       "     {'height': 765,\n",
       "      'type': 'r',\n",
       "      'width': 510,\n",
       "      'url': 'https://sun9-1.userapi.com/impg/CEHFForTve7BMU8TyIbqv0D3Tfz5PHrTECvLGQ/Xz_qFSUym30.jpg?size=510x765&quality=95&sign=237b1c52347fa123aeb1879a11b29c7b&c_uniq_tag=Ug2aYuZbg4yQ5o7UmkNAtvjTsXHSj95VYcWKCGVogZg&type=album'}],\n",
       "    'text': '',\n",
       "    'user_id': 100,\n",
       "    'web_view_token': '40a111972f891f12cc'}}],\n",
       " 'date': 1701888418,\n",
       " 'edited': 1701888902,\n",
       " 'from_id': -139105204,\n",
       " 'id': 99618,\n",
       " 'likes': {'can_like': 1,\n",
       "  'count': 507,\n",
       "  'user_likes': 0,\n",
       "  'can_publish': 1,\n",
       "  'repost_disabled': False},\n",
       " 'owner_id': -139105204,\n",
       " 'post_source': {'platform': 'iphone', 'type': 'api'},\n",
       " 'post_type': 'post',\n",
       " 'reposts': {'count': 107, 'user_reposted': 0},\n",
       " 'text': 'Марии Платоновой запросили 7 лет колонии.\\n \\nМаша - наш редактор и дорогой нам всем человек. \\nМы уже писали о ней, когда её задержали 2 года назад, но это безумство тянется так долго, что многие из вас не знают про неё. \\nНо мы хотим, чтобы как можно больше людей знало про Машу и её историю.\\n \\nМашу задержали 16 сентября 2021, когда она ещё училась на 3 курсе в Школе Дизайна в Москве. С тех пор Маша находится под домашним арестом. \\nЕё обвиняют в участии в анонимном телеграм-чате, \"направленном на склонение к массовым беспорядкам в дни единого голосования 2021 года\". \\n \\nЕсли кратко, дело политическое. Конечно же, реальных доказательств причастности Маши нет и быть не может. Есть противоречия, указывающие на то, что это не Маша скрывалась под псевдонимом в чате, и даже есть показания другой девушки, которая признавалась, что она использовала такой псевдоним.\\n \\nМы убеждены, что Маша оказалась в этой ситуации случайно. Для дела не хватало человека и выбрали её. До Ареста Маша работала в предвыборном штабе Анастасии Брюхановой в Москве, и у неё был 1 арест за раздачу листовок ОВД-Инфо \"Как вести себя при задержании\" на митинге. \\n \\nТеперь в суде начнутся прения сторон, и затем вынесение приговора.\\n\\nЭтим рассказом мы ни к чему не призываем. Но мы хотим, что бы вы знали о Маше. Ссылок на статьи СМИ-иноагентов не прикладываем, но всё гуглится.\\n \\n[https://vk.com/wall-139105204_80874|В комментариях к этому посту], мы персонально рассказывали про Машу. \\n \\nА здесь вы можете посмотреть на её творчество: https://www.behance.net/maffkap',\n",
       " 'views': {'count': 48210}}"
      ]
     },
     "execution_count": 52,
     "metadata": {},
     "output_type": "execute_result"
    }
   ],
   "source": [
    "wall['items'][0]"
   ]
  },
  {
   "cell_type": "code",
   "execution_count": 53,
   "metadata": {
    "id": "jR8kNl2OxHDr",
    "outputId": "1012afda-59f6-4a4d-c7b0-221951c0a9e8"
   },
   "outputs": [
    {
     "data": {
      "text/plain": [
       "507"
      ]
     },
     "execution_count": 53,
     "metadata": {},
     "output_type": "execute_result"
    }
   ],
   "source": [
    "wall['items'][0]['likes']['count']"
   ]
  },
  {
   "cell_type": "code",
   "execution_count": 60,
   "metadata": {
    "id": "B4hS8936xHDr",
    "outputId": "b224b539-c3ce-489c-e11f-ebd85689a8d8"
   },
   "outputs": [
    {
     "data": {
      "text/plain": [
       "[507, 25, 244, 210, 287, 9, 190, 828, 556, 227]"
      ]
     },
     "execution_count": 60,
     "metadata": {},
     "output_type": "execute_result"
    }
   ],
   "source": [
    "likes = [item['likes']['count'] for item in wall['items']]\n",
    "likes[:10]"
   ]
  },
  {
   "cell_type": "markdown",
   "metadata": {
    "id": "vHtxvZr7xHDs"
   },
   "source": [
    "За один запрос скачалось всего-лишь $100$ постов с лайками. В паблике их целых"
   ]
  },
  {
   "cell_type": "code",
   "execution_count": 58,
   "metadata": {
    "id": "44jbBLebxHDs",
    "outputId": "992582fe-e8ef-4fac-9ba2-449ab695f858"
   },
   "outputs": [
    {
     "data": {
      "text/plain": [
       "1104"
      ]
     },
     "execution_count": 58,
     "metadata": {},
     "output_type": "execute_result"
    }
   ],
   "source": [
    "wall['count']"
   ]
  },
  {
   "cell_type": "markdown",
   "metadata": {
    "id": "7msoXobLxHDs"
   },
   "source": [
    "[Документация](https://vk.com/dev/manuals) говорит, что есть параметр `offset`, с помощью которого можно указать какие именно посты из группы нужно скачать. Например, если мы укажем `offset = 100`, скачается вторая сотня. Наше дело за малым: написать цикл."
   ]
  },
  {
   "cell_type": "code",
   "execution_count": 61,
   "metadata": {
    "id": "O1IbmnlHxHDt"
   },
   "outputs": [],
   "source": [
    "import time\n",
    "\n",
    "likes = [ ] # сюда буду сохранять лайки\n",
    "\n",
    "for offset in range(0, 4800, 100):\n",
    "\n",
    "    time.sleep(0.4) # вк согласен работать 3 раза в секунду,\n",
    "                    # между запросами python спит 0.4 секунды\n",
    "\n",
    "    wall = vk_download('wall.get', 'owner_id={}&count=100&offset={}'.format(group_id, offset))\n",
    "\n",
    "    likes.extend([item['likes']['count'] for item in wall['response']['items']])"
   ]
  },
  {
   "cell_type": "markdown",
   "metadata": {
    "id": "S5SrACUsxHDt"
   },
   "source": [
    "Лайки в наших руках. Можем даже посмотреть на их распределение и попробовать что-то с ними сделать."
   ]
  },
  {
   "cell_type": "code",
   "execution_count": 62,
   "metadata": {
    "id": "KKJ0cZdnxHDt",
    "outputId": "dac9ee2c-0ba7-492d-cea5-0ca55a1103f7"
   },
   "outputs": [
    {
     "data": {
      "text/plain": [
       "1105"
      ]
     },
     "execution_count": 62,
     "metadata": {},
     "output_type": "execute_result"
    }
   ],
   "source": [
    "len(likes)"
   ]
  },
  {
   "cell_type": "code",
   "execution_count": 94,
   "metadata": {
    "id": "uKFYR-7QxHDw",
    "outputId": "ed1c78b1-12b8-4ac0-92df-ac8d26fe7719"
   },
   "outputs": [
    {
     "data": {
      "image/png": "[encoded data removed]",
      "text/plain": [
       "<Figure size 640x480 with 1 Axes>"
      ]
     },
     "metadata": {},
     "output_type": "display_data"
    }
   ],
   "source": [
    "import matplotlib.pyplot as plt\n",
    "plt.hist(likes);"
   ]
  },
  {
   "cell_type": "markdown",
   "metadata": {
    "id": "5nDoejvVxHDw"
   },
   "source": [
    "В принципе похожим образом можно скачать что угодно. Обратите внимание, что у вк есть специальный метод [`execute`,](https://vk.com/dev/execute) который иногда помогает ускорить скачку в $25$ раз. [В этом очень старом туториале](https://github.com/DmitrySerg/OpenData/blob/master/RussianElections2018/Part_1_Parsing_VK.ipynb) даже есть пример использования."
   ]
  },
  {
   "cell_type": "markdown",
   "metadata": {
    "id": "9jVEmNvWxHDw"
   },
   "source": [
    "## 3.2 API Google maps\n",
    "\n",
    "API для карт может понадобиться для различных полугеографических исследований. Например, мы хотим проверить гипотезу о том, что хороший кофе повышает цену квартиры. Одним из регрессоров хотим взять число кофеен в окрестностях. Это количество кофеен надо откуда-то взять. Google maps вам в помощь!\n",
    "\n",
    "Снова всё начинается с [получения ключа.](https://developers.google.com/maps/documentation/directions/start) Тут всё намного проще. Переходим по ссылке, жмём Get started, соглашаемся со всем, кроме оплаты. Получаем ключ доступа, сохраняем его в файлик рядом с блокнотом."
   ]
  },
  {
   "cell_type": "code",
   "execution_count": 63,
   "metadata": {
    "id": "ggbP5loexHDx"
   },
   "outputs": [],
   "source": [
    "# подгружаем токен\n",
    "with open('google_token.txt') as f:\n",
    "    google_token = f.read()"
   ]
  },
  {
   "cell_type": "markdown",
   "metadata": {
    "id": "1J2sZS7exHDx"
   },
   "source": [
    "Формируем ссылку для запроса по заветам [документации](https://developers.google.com/maps/documentation) и получаем ответ в виде JSON."
   ]
  },
  {
   "cell_type": "code",
   "execution_count": 67,
   "metadata": {
    "colab": {
     "base_uri": "https://localhost:8080/",
     "height": 53
    },
    "id": "iQE7YemexHDx",
    "outputId": "fbf453ef-a1a0-4a16-bf1a-e84756be756d"
   },
   "outputs": [],
   "source": [
    "mainpage = 'https://maps.googleapis.com/maps/api/place/nearbysearch/json?'\n",
    "\n",
    "# проверить адрес: https://yandex.ru/map-constructor/location-tool/?from=club\n",
    "# location = '55.86,37.54'\n",
    "\n",
    "location = '55.75,37.64' # корпус покровки [55.75353156100432,37.64859873019391]\n",
    "radius = '1000'\n",
    "keyword = 'кофе'\n",
    "\n",
    "parameters = 'location='+location+'&radius='+radius+'&keyword='+keyword+'&language=ru-Ru'+'&key='+ google_token\n",
    "\n",
    "itog_url = mainpage + parameters"
   ]
  },
  {
   "cell_type": "code",
   "execution_count": 69,
   "metadata": {
    "colab": {
     "base_uri": "https://localhost:8080/"
    },
    "id": "B53Fs-cLxHDy",
    "outputId": "6250c09f-8f70-4688-9a8d-5eb8e550a046"
   },
   "outputs": [
    {
     "data": {
      "text/plain": [
       "{'business_status': 'OPERATIONAL',\n",
       " 'geometry': {'location': {'lat': 55.7595493, 'lng': 37.6455545},\n",
       "  'viewport': {'northeast': {'lat': 55.76079707989272,\n",
       "    'lng': 37.64693842989272},\n",
       "   'southwest': {'lat': 55.75809742010728, 'lng': 37.64423877010728}}},\n",
       " 'icon': 'https://maps.gstatic.com/mapfiles/place_api/icons/v1/png_71/cafe-71.png',\n",
       " 'icon_background_color': '#FF9E67',\n",
       " 'icon_mask_base_uri': 'https://maps.gstatic.com/mapfiles/place_api/icons/v2/cafe_pinlet',\n",
       " 'name': 'кофейня tinē',\n",
       " 'opening_hours': {'open_now': True},\n",
       " 'photos': [{'height': 3000,\n",
       "   'html_attributions': ['<a href=\"https://maps.google.com/maps/contrib/116247948572858733496\">Андрей</a>'],\n",
       "   'photo_reference': 'ATplDJaGyxB3231TONlZV4aJ2A_LTOqJbB-4_CJ-Is0h6PA6ZyM9WkYkTBLX9JDYPZMFlkHqBGBlisFe2p9hsLPSext22DUlAt7WDk7uacEiufU3dLZxvWpv1iz-xn9UQG3Vvmg2H3QIJdSSLoGONXALba4icnaxWgCCBH60gUs84C5hy4B5',\n",
       "   'width': 4000}],\n",
       " 'place_id': 'ChIJq0_hvYpKtUYR1N37n0E2Xmc',\n",
       " 'plus_code': {'compound_code': 'QJ5W+R6 Басманный р-н, Москва, Россия',\n",
       "  'global_code': '9G7VQJ5W+R6'},\n",
       " 'rating': 4.8,\n",
       " 'reference': 'ChIJq0_hvYpKtUYR1N37n0E2Xmc',\n",
       " 'scope': 'GOOGLE',\n",
       " 'types': ['cafe', 'point_of_interest', 'food', 'store', 'establishment'],\n",
       " 'user_ratings_total': 387,\n",
       " 'vicinity': 'ул. Покровка, 17.1, Москва'}"
      ]
     },
     "execution_count": 69,
     "metadata": {},
     "output_type": "execute_result"
    }
   ],
   "source": [
    "response = requests.get(itog_url)\n",
    "\n",
    "response.json()['results'][0]"
   ]
  },
  {
   "cell_type": "markdown",
   "metadata": {
    "id": "mxD3EqDAxHDz"
   },
   "source": [
    "Из json по сотвествующим ключам тащим самое интересное. Например, названия заведений:"
   ]
  },
  {
   "cell_type": "code",
   "execution_count": 70,
   "metadata": {
    "colab": {
     "base_uri": "https://localhost:8080/"
    },
    "id": "a26jNv4NxHDz",
    "outputId": "5141f907-55c5-4672-c9fa-54e62f9b780e"
   },
   "outputs": [
    {
     "data": {
      "text/plain": [
       "['кофейня tinē',\n",
       " 'GØG',\n",
       " 'Кофе Хауз',\n",
       " 'Coffeewood',\n",
       " 'Skuratov Coffee roasters',\n",
       " 'Энигма Кофе',\n",
       " 'Seadog Coffee Roasters',\n",
       " 'Surf Coffee',\n",
       " 'Кофейня DAILY GREEN',\n",
       " 'ABC Coffee Roasters',\n",
       " 'Кофеин',\n",
       " 'Вкусно Кофе',\n",
       " 'Coffee Place',\n",
       " 'COFFEE BURO',\n",
       " 'Кофейня Corner Coffee Roasters',\n",
       " 'Просвет',\n",
       " 'Coffee Bean',\n",
       " 'Кофейня \"Gross Coffee\"',\n",
       " 'Бодрый день',\n",
       " 'Правда кофе']"
      ]
     },
     "execution_count": 70,
     "metadata": {},
     "output_type": "execute_result"
    }
   ],
   "source": [
    "[item['name'] for item in response.json()['results']]"
   ]
  },
  {
   "cell_type": "markdown",
   "metadata": {
    "id": "r3uTEaKWxHDz"
   },
   "source": [
    "# 4. Selenium\n",
    "\n",
    "Это инструмент для роботизированного управления браузером. Для его коректной работы нужно скачать драйвер [для хрома](https://chromedriver.chromium.org/downloads). [Туториал](https://www.youtube.com/watch?v=m4-Z5KqDHpU) по установке драйвера для MacOS."
   ]
  },
  {
   "cell_type": "code",
   "execution_count": 30,
   "metadata": {
    "colab": {
     "base_uri": "https://localhost:8080/"
    },
    "collapsed": true,
    "id": "45QrG8BlM_0b",
    "outputId": "eb99d722-3606-4460-df5c-d5e46e0afee2"
   },
   "outputs": [
    {
     "name": "stdout",
     "output_type": "stream",
     "text": [
      "Collecting selenium\n",
      "  Obtaining dependency information for selenium from https://files.pythonhosted.org/packages/3f/fd/c2e7bb547b5b96c7bd536b4a80c4564b7ce5cd38d10095fbba8648996ab9/selenium-4.18.1-py3-none-any.whl.metadata\n",
      "  Downloading selenium-4.18.1-py3-none-any.whl.metadata (6.9 kB)\n",
      "Requirement already satisfied: urllib3[socks]<3,>=1.26 in c:\\users\\alex\\anaconda3\\lib\\site-packages (from selenium) (1.26.16)\n",
      "Collecting trio~=0.17 (from selenium)\n",
      "  Obtaining dependency information for trio~=0.17 from https://files.pythonhosted.org/packages/17/c9/f86f89f14d52f9f2f652ce24cb2f60141a51d087db1563f3fba94ba07346/trio-0.25.0-py3-none-any.whl.metadata\n",
      "  Downloading trio-0.25.0-py3-none-any.whl.metadata (8.7 kB)\n",
      "Collecting trio-websocket~=0.9 (from selenium)\n",
      "  Obtaining dependency information for trio-websocket~=0.9 from https://files.pythonhosted.org/packages/48/be/a9ae5f50cad5b6f85bd2574c2c923730098530096e170c1ce7452394d7aa/trio_websocket-0.11.1-py3-none-any.whl.metadata\n",
      "  Downloading trio_websocket-0.11.1-py3-none-any.whl.metadata (4.7 kB)\n",
      "Requirement already satisfied: certifi>=2021.10.8 in c:\\users\\alex\\anaconda3\\lib\\site-packages (from selenium) (2023.7.22)\n",
      "Collecting typing_extensions>=4.9.0 (from selenium)\n",
      "  Obtaining dependency information for typing_extensions>=4.9.0 from https://files.pythonhosted.org/packages/f9/de/dc04a3ea60b22624b51c703a84bbe0184abcd1d0b9bc8074b5d6b7ab90bb/typing_extensions-4.10.0-py3-none-any.whl.metadata\n",
      "  Downloading typing_extensions-4.10.0-py3-none-any.whl.metadata (3.0 kB)\n",
      "Collecting attrs>=23.2.0 (from trio~=0.17->selenium)\n",
      "  Obtaining dependency information for attrs>=23.2.0 from https://files.pythonhosted.org/packages/e0/44/827b2a91a5816512fcaf3cc4ebc465ccd5d598c45cefa6703fcf4a79018f/attrs-23.2.0-py3-none-any.whl.metadata\n",
      "  Downloading attrs-23.2.0-py3-none-any.whl.metadata (9.5 kB)\n",
      "Requirement already satisfied: sortedcontainers in c:\\users\\alex\\anaconda3\\lib\\site-packages (from trio~=0.17->selenium) (2.4.0)\n",
      "Requirement already satisfied: idna in c:\\users\\alex\\anaconda3\\lib\\site-packages (from trio~=0.17->selenium) (3.4)\n",
      "Collecting outcome (from trio~=0.17->selenium)\n",
      "  Obtaining dependency information for outcome from https://files.pythonhosted.org/packages/55/8b/5ab7257531a5d830fc8000c476e63c935488d74609b50f9384a643ec0a62/outcome-1.3.0.post0-py2.py3-none-any.whl.metadata\n",
      "  Downloading outcome-1.3.0.post0-py2.py3-none-any.whl.metadata (2.6 kB)\n",
      "Collecting sniffio>=1.3.0 (from trio~=0.17->selenium)\n",
      "  Obtaining dependency information for sniffio>=1.3.0 from https://files.pythonhosted.org/packages/e9/44/75a9c9421471a6c4805dbf2356f7c181a29c1879239abab1ea2cc8f38b40/sniffio-1.3.1-py3-none-any.whl.metadata\n",
      "  Downloading sniffio-1.3.1-py3-none-any.whl.metadata (3.9 kB)\n",
      "Requirement already satisfied: cffi>=1.14 in c:\\users\\alex\\anaconda3\\lib\\site-packages (from trio~=0.17->selenium) (1.15.1)\n",
      "Collecting wsproto>=0.14 (from trio-websocket~=0.9->selenium)\n",
      "  Obtaining dependency information for wsproto>=0.14 from https://files.pythonhosted.org/packages/78/58/e860788190eba3bcce367f74d29c4675466ce8dddfba85f7827588416f01/wsproto-1.2.0-py3-none-any.whl.metadata\n",
      "  Downloading wsproto-1.2.0-py3-none-any.whl.metadata (5.6 kB)\n",
      "Requirement already satisfied: PySocks!=1.5.7,<2.0,>=1.5.6 in c:\\users\\alex\\anaconda3\\lib\\site-packages (from urllib3[socks]<3,>=1.26->selenium) (1.7.1)\n",
      "Requirement already satisfied: pycparser in c:\\users\\alex\\anaconda3\\lib\\site-packages (from cffi>=1.14->trio~=0.17->selenium) (2.21)\n",
      "Collecting h11<1,>=0.9.0 (from wsproto>=0.14->trio-websocket~=0.9->selenium)\n",
      "  Obtaining dependency information for h11<1,>=0.9.0 from https://files.pythonhosted.org/packages/95/04/ff642e65ad6b90db43e668d70ffb6736436c7ce41fcc549f4e9472234127/h11-0.14.0-py3-none-any.whl.metadata\n",
      "  Downloading h11-0.14.0-py3-none-any.whl.metadata (8.2 kB)\n",
      "Downloading selenium-4.18.1-py3-none-any.whl (10.0 MB)\n",
      "   ---------------------------------------- 0.0/10.0 MB ? eta -:--:--\n",
      "    --------------------------------------- 0.2/10.0 MB 4.6 MB/s eta 0:00:03\n",
      "   - -------------------------------------- 0.4/10.0 MB 5.0 MB/s eta 0:00:02\n",
      "   ---- ----------------------------------- 1.2/10.0 MB 8.2 MB/s eta 0:00:02\n",
      "   ------- -------------------------------- 1.8/10.0 MB 8.7 MB/s eta 0:00:01\n",
      "   --------- ------------------------------ 2.3/10.0 MB 9.8 MB/s eta 0:00:01\n",
      "   ---------- ----------------------------- 2.7/10.0 MB 9.6 MB/s eta 0:00:01\n",
      "   ------------ --------------------------- 3.1/10.0 MB 9.3 MB/s eta 0:00:01\n",
      "   -------------- ------------------------- 3.5/10.0 MB 9.4 MB/s eta 0:00:01\n",
      "   --------------- ------------------------ 3.9/10.0 MB 9.3 MB/s eta 0:00:01\n",
      "   ----------------- ---------------------- 4.4/10.0 MB 9.7 MB/s eta 0:00:01\n",
      "   ------------------- -------------------- 4.9/10.0 MB 9.7 MB/s eta 0:00:01\n",
      "   --------------------- ------------------ 5.5/10.0 MB 10.0 MB/s eta 0:00:01\n",
      "   ---------------------- ----------------- 5.6/10.0 MB 10.0 MB/s eta 0:00:01\n",
      "   ----------------------- ---------------- 5.9/10.0 MB 9.2 MB/s eta 0:00:01\n",
      "   ------------------------- -------------- 6.3/10.0 MB 8.9 MB/s eta 0:00:01\n",
      "   -------------------------- ------------- 6.7/10.0 MB 8.9 MB/s eta 0:00:01\n",
      "   ----------------------------- ---------- 7.4/10.0 MB 9.1 MB/s eta 0:00:01\n",
      "   -------------------------------- ------- 8.1/10.0 MB 9.6 MB/s eta 0:00:01\n",
      "   --------------------------------- ------ 8.4/10.0 MB 9.4 MB/s eta 0:00:01\n",
      "   ---------------------------------- ----- 8.6/10.0 MB 9.4 MB/s eta 0:00:01\n",
      "   ------------------------------------ --- 9.2/10.0 MB 9.4 MB/s eta 0:00:01\n",
      "   -------------------------------------- - 9.7/10.0 MB 9.4 MB/s eta 0:00:01\n",
      "   ---------------------------------------  10.0/10.0 MB 9.4 MB/s eta 0:00:01\n",
      "   ---------------------------------------- 10.0/10.0 MB 9.0 MB/s eta 0:00:00\n",
      "Downloading trio-0.25.0-py3-none-any.whl (467 kB)\n",
      "   ---------------------------------------- 0.0/467.2 kB ? eta -:--:--\n",
      "   --------------------------------------- 467.2/467.2 kB 14.7 MB/s eta 0:00:00\n",
      "Downloading trio_websocket-0.11.1-py3-none-any.whl (17 kB)\n",
      "Downloading typing_extensions-4.10.0-py3-none-any.whl (33 kB)\n",
      "Downloading attrs-23.2.0-py3-none-any.whl (60 kB)\n",
      "   ---------------------------------------- 0.0/60.8 kB ? eta -:--:--\n",
      "   ---------------------------------------- 60.8/60.8 kB ? eta 0:00:00\n",
      "Downloading sniffio-1.3.1-py3-none-any.whl (10 kB)\n",
      "Downloading wsproto-1.2.0-py3-none-any.whl (24 kB)\n",
      "Downloading outcome-1.3.0.post0-py2.py3-none-any.whl (10 kB)\n",
      "Downloading h11-0.14.0-py3-none-any.whl (58 kB)\n",
      "   ---------------------------------------- 0.0/58.3 kB ? eta -:--:--\n",
      "   ---------------------------------------- 58.3/58.3 kB ? eta 0:00:00\n",
      "Installing collected packages: typing_extensions, sniffio, h11, attrs, wsproto, outcome, trio, trio-websocket, selenium\n",
      "  Attempting uninstall: typing_extensions\n",
      "    Found existing installation: typing_extensions 4.7.1\n",
      "    Uninstalling typing_extensions-4.7.1:\n",
      "      Successfully uninstalled typing_extensions-4.7.1\n",
      "  Attempting uninstall: sniffio\n",
      "    Found existing installation: sniffio 1.2.0\n",
      "    Uninstalling sniffio-1.2.0:\n",
      "      Successfully uninstalled sniffio-1.2.0\n",
      "  Attempting uninstall: attrs\n",
      "    Found existing installation: attrs 22.1.0\n",
      "    Uninstalling attrs-22.1.0:\n",
      "      Successfully uninstalled attrs-22.1.0\n",
      "Successfully installed attrs-23.2.0 h11-0.14.0 outcome-1.3.0.post0 selenium-4.18.1 sniffio-1.3.1 trio-0.25.0 trio-websocket-0.11.1 typing_extensions-4.10.0 wsproto-1.2.0\n"
     ]
    }
   ],
   "source": [
    "# !pip install selenium"
   ]
  },
  {
   "cell_type": "code",
   "execution_count": 36,
   "metadata": {
    "colab": {
     "base_uri": "https://localhost:8080/",
     "height": 676
    },
    "id": "aQCl_Z1rxHD0",
    "outputId": "e059feb7-f16d-465c-c37c-8a8c9d2bc1d5"
   },
   "outputs": [],
   "source": [
    "from selenium import webdriver\n",
    "\n",
    "driver = webdriver.Chrome()"
   ]
  },
  {
   "cell_type": "markdown",
   "metadata": {
    "id": "EL6LdQCixHD0"
   },
   "source": [
    "После выполнения верхнего блока у вас откроется ещё один браузер. Можно пойти в нём на стартовую гугла."
   ]
  },
  {
   "cell_type": "code",
   "execution_count": 37,
   "metadata": {
    "id": "xpOCSzYCxHD0"
   },
   "outputs": [],
   "source": [
    "ref = 'http://google.com'\n",
    "driver.get(ref)"
   ]
  },
  {
   "cell_type": "markdown",
   "metadata": {
    "id": "15WcOOSVxHD1"
   },
   "source": [
    "Найти по html-коду строку для ввода запроса, кликнуть на неё."
   ]
  },
  {
   "cell_type": "code",
   "execution_count": 38,
   "metadata": {},
   "outputs": [],
   "source": [
    "from selenium.webdriver.common.by import By\n",
    "\n",
    "driver.find_elements(By.CSS_SELECTOR,'[class=\"QS5gu sy4vM\"')[0].click() # reject all cookies\n",
    "stroka = driver.find_element(By.NAME, \"q\") # поиск поисковой строки\n",
    "stroka.click() # перемещение курсора на строку, клик"
   ]
  },
  {
   "cell_type": "markdown",
   "metadata": {
    "id": "FanoesuPxHD1"
   },
   "source": [
    "Написать в неё что-нибудь."
   ]
  },
  {
   "cell_type": "code",
   "execution_count": 39,
   "metadata": {
    "id": "NxngAS_FxHD2"
   },
   "outputs": [],
   "source": [
    "stroka.send_keys('Вконтакте')"
   ]
  },
  {
   "cell_type": "markdown",
   "metadata": {
    "id": "PgXz-rEAxHD2"
   },
   "source": [
    "Найти кнопку для гугления и нажать её."
   ]
  },
  {
   "cell_type": "code",
   "execution_count": 40,
   "metadata": {
    "id": "3sAX7azGxHD2"
   },
   "outputs": [],
   "source": [
    "# находим кнопку для гугления и жмём её\n",
    "button = driver.find_element(By.NAME, 'btnK')\n",
    "button.click()"
   ]
  },
  {
   "cell_type": "markdown",
   "metadata": {
    "id": "UiS4yPi6xHD2"
   },
   "source": [
    "У нас на стринчке есть поисковая выдача. Заберём её в bs4 и найдём все сайты."
   ]
  },
  {
   "cell_type": "code",
   "execution_count": 76,
   "metadata": {
    "id": "y9blOOWZxHD3",
    "outputId": "ba641ded-2691-4201-b34d-d6049dad3c80"
   },
   "outputs": [
    {
     "data": {
      "text/plain": [
       "['https://vk.com/page-777107_28406709',\n",
       " 'https://vk.com/search',\n",
       " 'https://vk.com/vk',\n",
       " 'https://vk.com/settings',\n",
       " 'https://vk.com/terms']"
      ]
     },
     "execution_count": 76,
     "metadata": {},
     "output_type": "execute_result"
    }
   ],
   "source": [
    "bs = BeautifulSoup(driver.page_source)\n",
    "\n",
    "dirty_hrefs = bs.find_all('a',attrs={'class':'l'})\n",
    "clean_hrefs = [href['href'] for href in dirty_hrefs]\n",
    "clean_hrefs"
   ]
  },
  {
   "cell_type": "markdown",
   "metadata": {
    "id": "2ZcLxVPpxHD3"
   },
   "source": [
    "Закроем браузер."
   ]
  },
  {
   "cell_type": "code",
   "execution_count": 41,
   "metadata": {
    "id": "CrgaxuVJxHD3"
   },
   "outputs": [],
   "source": [
    "driver.close()"
   ]
  },
  {
   "cell_type": "markdown",
   "metadata": {
    "id": "aITa9bDfxHD4"
   },
   "source": [
    "Вообще selenium придумывали для тестировщиков, а не для парсинга. Для парсеров имеет смысл использовать только в крайнем случае. Он очень медленный. Если у вас очень-очень-очень-очень не получается обмануть сервер через requests или вы сталкиваетесь с какой-то специфической защитой от ботов, seleium может помочь. Ещё для selenium __важно__ не забывать ставить временные задержки, чтобы страница успевала прогрузиться. Либо можно дописывать полноценные код, который будет ждать прогрузки и только тогда тыкать на кнопки и тп.\n",
    "\n",
    "В моей практике такой подход был полезен в следующих кейсах:\n",
    "\n",
    "* Надо было скачать много инфы о поисковых запросах из [Google Trends,](https://trends.google.ru/trends/?geo=RU) а API сильно ограничивал меня.\n",
    "* Надо было понять через поисковик какой у различных организаций ИНН по их наименованию (помогло только для крупных компаний)\n",
    "* Надо было парсить ЛМС вроде anytask"
   ]
  },
  {
   "cell_type": "markdown",
   "metadata": {
    "id": "qBkgBDmuxHD4"
   },
   "source": [
    "# 5. Хитрости:\n",
    "\n",
    "### Хитрость 1:  Не стесняйтесь пользоваться `try-except`\n",
    "\n",
    "Эта конструкция позволяет питону в случае ошибки сделать что-нибудь другое либо проигнорировать её. Например, мы хотим найти логарифм от всех чисел из списка:"
   ]
  },
  {
   "cell_type": "code",
   "execution_count": 78,
   "metadata": {
    "id": "smTJr05yxHD4",
    "outputId": "de37ec12-46e8-436d-f0a2-69e08feaa816"
   },
   "outputs": [
    {
     "name": "stdout",
     "output_type": "stream",
     "text": [
      "0.0\n",
      "0.6931471805599453\n",
      "1.0986122886681098\n"
     ]
    },
    {
     "ename": "ValueError",
     "evalue": "math domain error",
     "output_type": "error",
     "traceback": [
      "\u001b[1;31m---------------------------------------------------------------------------\u001b[0m",
      "\u001b[1;31mValueError\u001b[0m                                Traceback (most recent call last)",
      "Cell \u001b[1;32mIn[78], line 6\u001b[0m\n\u001b[0;32m      3\u001b[0m a \u001b[38;5;241m=\u001b[39m [\u001b[38;5;241m1\u001b[39m,\u001b[38;5;241m2\u001b[39m,\u001b[38;5;241m3\u001b[39m,\u001b[38;5;241m-\u001b[39m\u001b[38;5;241m1\u001b[39m,\u001b[38;5;241m-\u001b[39m\u001b[38;5;241m5\u001b[39m,\u001b[38;5;241m10\u001b[39m,\u001b[38;5;241m3\u001b[39m]\n\u001b[0;32m      5\u001b[0m \u001b[38;5;28;01mfor\u001b[39;00m item \u001b[38;5;129;01min\u001b[39;00m a:\n\u001b[1;32m----> 6\u001b[0m     \u001b[38;5;28mprint\u001b[39m(log(item))\n",
      "\u001b[1;31mValueError\u001b[0m: math domain error"
     ]
    }
   ],
   "source": [
    "from math import log\n",
    "\n",
    "a = [1,2,3,-1,-5,10,3]\n",
    "\n",
    "for item in a:\n",
    "    print(log(item))"
   ]
  },
  {
   "cell_type": "markdown",
   "metadata": {
    "id": "48vJG0CjxHD5"
   },
   "source": [
    "У нас не выходит, так как логарифм от отрицательных чисел не берётся. Чтобы код не падал при возникновении ошибки, мы можем его немного изменить:"
   ]
  },
  {
   "cell_type": "code",
   "execution_count": 69,
   "metadata": {
    "id": "qcfX6rzsxHD5",
    "outputId": "d1e3b381-2e36-43d4-c8cb-90cac48d902d"
   },
   "outputs": [
    {
     "name": "stdout",
     "output_type": "stream",
     "text": [
      "0.0\n",
      "0.6931471805599453\n",
      "1.0986122886681098\n",
      "я не смог\n",
      "я не смог\n",
      "2.302585092994046\n",
      "1.0986122886681098\n"
     ]
    }
   ],
   "source": [
    "from math import log\n",
    "\n",
    "a = [1,2,3,-1,-5,10,3]\n",
    "\n",
    "for item in a:\n",
    "    try:\n",
    "        print(log(item))  # попробуй взять логарифм\n",
    "    except:\n",
    "        print('я не смог') # если не вышло, сознайся и работай дальше"
   ]
  },
  {
   "cell_type": "markdown",
   "metadata": {
    "id": "nfwF4-BXxHD6"
   },
   "source": [
    "__Как это использовать при парсинге?__  Интернет создаёт человек. У многих людей руки очень кривые. Предположим, что мы на ночь поставили парсер скачивать цены, он отработал час и упал из-за того, что на како-нибудь одной странице были криво проставлены теги, либо вылезло какое-то редкое поле, либо вылезли какие-то артефакты от старой версии сайта, которые не были учтены в нашем парсере. Гораздо лучше, чтобы код проигнорировал эту ошибку и продолжил работать дальше."
   ]
  },
  {
   "cell_type": "markdown",
   "metadata": {
    "id": "LMNRiXcbxHD6"
   },
   "source": [
    "### Хитрость 2:  pd.read_html\n",
    "\n",
    "Если на странице, которую вы спарсили, среди тэгов `<tr>` и `<td>` прячется таблица, чаще всего можно забрать её себе без написания цикла, который будет перебирать все стобцы и строки. Поможет в этом `pd.read_html`. Например, вот так можно забрать себе [табличку с сайта ЦБ](https://cbr.ru/currency_base/daily/)"
   ]
  },
  {
   "cell_type": "code",
   "execution_count": 71,
   "metadata": {
    "id": "rVb_Yc-FxHD6",
    "outputId": "38f3dc1c-9577-4319-acd7-b1546a2bbd22"
   },
   "outputs": [
    {
     "data": {
      "text/html": [
       "<div>\n",
       "<style scoped>\n",
       "    .dataframe tbody tr th:only-of-type {\n",
       "        vertical-align: middle;\n",
       "    }\n",
       "\n",
       "    .dataframe tbody tr th {\n",
       "        vertical-align: top;\n",
       "    }\n",
       "\n",
       "    .dataframe thead th {\n",
       "        text-align: right;\n",
       "    }\n",
       "</style>\n",
       "<table border=\"1\" class=\"dataframe\">\n",
       "  <thead>\n",
       "    <tr style=\"text-align: right;\">\n",
       "      <th></th>\n",
       "      <th>Цифр. код</th>\n",
       "      <th>Букв. код</th>\n",
       "      <th>Единиц</th>\n",
       "      <th>Валюта</th>\n",
       "      <th>Курс</th>\n",
       "    </tr>\n",
       "  </thead>\n",
       "  <tbody>\n",
       "    <tr>\n",
       "      <th>0</th>\n",
       "      <td>36</td>\n",
       "      <td>AUD</td>\n",
       "      <td>1</td>\n",
       "      <td>Австралийский доллар</td>\n",
       "      <td>604292</td>\n",
       "    </tr>\n",
       "    <tr>\n",
       "      <th>1</th>\n",
       "      <td>944</td>\n",
       "      <td>AZN</td>\n",
       "      <td>1</td>\n",
       "      <td>Азербайджанский манат</td>\n",
       "      <td>544775</td>\n",
       "    </tr>\n",
       "    <tr>\n",
       "      <th>2</th>\n",
       "      <td>51</td>\n",
       "      <td>AMD</td>\n",
       "      <td>100</td>\n",
       "      <td>Армянских драмов</td>\n",
       "      <td>232833</td>\n",
       "    </tr>\n",
       "    <tr>\n",
       "      <th>3</th>\n",
       "      <td>933</td>\n",
       "      <td>BYN</td>\n",
       "      <td>1</td>\n",
       "      <td>Белорусский рубль</td>\n",
       "      <td>285354</td>\n",
       "    </tr>\n",
       "    <tr>\n",
       "      <th>4</th>\n",
       "      <td>975</td>\n",
       "      <td>BGN</td>\n",
       "      <td>1</td>\n",
       "      <td>Болгарский лев</td>\n",
       "      <td>516464</td>\n",
       "    </tr>\n",
       "  </tbody>\n",
       "</table>\n",
       "</div>"
      ],
      "text/plain": [
       "   Цифр. код Букв. код  Единиц                 Валюта    Курс\n",
       "0         36       AUD       1   Австралийский доллар  604292\n",
       "1        944       AZN       1  Азербайджанский манат  544775\n",
       "2         51       AMD     100       Армянских драмов  232833\n",
       "3        933       BYN       1      Белорусский рубль  285354\n",
       "4        975       BGN       1         Болгарский лев  516464"
      ]
     },
     "execution_count": 71,
     "metadata": {},
     "output_type": "execute_result"
    }
   ],
   "source": [
    "import pandas as pd\n",
    "\n",
    "df = pd.read_html('https://cbr.ru/currency_base/daily/')[0]\n",
    "df.head()"
   ]
  },
  {
   "cell_type": "markdown",
   "metadata": {
    "id": "pawpQnyoxHD7"
   },
   "source": [
    "Команда пытается собрать в массив все таблички c веб-страницы. Если хочется, можно сначала через bs4 найти нужную таблицу, а потом уже распарсить её:"
   ]
  },
  {
   "cell_type": "code",
   "execution_count": 72,
   "metadata": {
    "id": "XUWOpdV6xHD7",
    "outputId": "2db969d8-2155-41fe-ffdb-71fe5fbab9ec"
   },
   "outputs": [
    {
     "data": {
      "text/html": [
       "<div>\n",
       "<style scoped>\n",
       "    .dataframe tbody tr th:only-of-type {\n",
       "        vertical-align: middle;\n",
       "    }\n",
       "\n",
       "    .dataframe tbody tr th {\n",
       "        vertical-align: top;\n",
       "    }\n",
       "\n",
       "    .dataframe thead th {\n",
       "        text-align: right;\n",
       "    }\n",
       "</style>\n",
       "<table border=\"1\" class=\"dataframe\">\n",
       "  <thead>\n",
       "    <tr style=\"text-align: right;\">\n",
       "      <th></th>\n",
       "      <th>Цифр. код</th>\n",
       "      <th>Букв. код</th>\n",
       "      <th>Единиц</th>\n",
       "      <th>Валюта</th>\n",
       "      <th>Курс</th>\n",
       "    </tr>\n",
       "  </thead>\n",
       "  <tbody>\n",
       "    <tr>\n",
       "      <th>0</th>\n",
       "      <td>36</td>\n",
       "      <td>AUD</td>\n",
       "      <td>1</td>\n",
       "      <td>Австралийский доллар</td>\n",
       "      <td>604292</td>\n",
       "    </tr>\n",
       "    <tr>\n",
       "      <th>1</th>\n",
       "      <td>944</td>\n",
       "      <td>AZN</td>\n",
       "      <td>1</td>\n",
       "      <td>Азербайджанский манат</td>\n",
       "      <td>544775</td>\n",
       "    </tr>\n",
       "    <tr>\n",
       "      <th>2</th>\n",
       "      <td>51</td>\n",
       "      <td>AMD</td>\n",
       "      <td>100</td>\n",
       "      <td>Армянских драмов</td>\n",
       "      <td>232833</td>\n",
       "    </tr>\n",
       "    <tr>\n",
       "      <th>3</th>\n",
       "      <td>933</td>\n",
       "      <td>BYN</td>\n",
       "      <td>1</td>\n",
       "      <td>Белорусский рубль</td>\n",
       "      <td>285354</td>\n",
       "    </tr>\n",
       "    <tr>\n",
       "      <th>4</th>\n",
       "      <td>975</td>\n",
       "      <td>BGN</td>\n",
       "      <td>1</td>\n",
       "      <td>Болгарский лев</td>\n",
       "      <td>516464</td>\n",
       "    </tr>\n",
       "  </tbody>\n",
       "</table>\n",
       "</div>"
      ],
      "text/plain": [
       "   Цифр. код Букв. код  Единиц                 Валюта    Курс\n",
       "0         36       AUD       1   Австралийский доллар  604292\n",
       "1        944       AZN       1  Азербайджанский манат  544775\n",
       "2         51       AMD     100       Армянских драмов  232833\n",
       "3        933       BYN       1      Белорусский рубль  285354\n",
       "4        975       BGN       1         Болгарский лев  516464"
      ]
     },
     "execution_count": 72,
     "metadata": {},
     "output_type": "execute_result"
    }
   ],
   "source": [
    "resp = requests.get('https://cbr.ru/currency_base/daily/')\n",
    "tree = BeautifulSoup(resp.content, 'html.parser')\n",
    "\n",
    "# нашли табличку\n",
    "table = tree.find_all('table', {'class' : 'data'})[0]\n",
    "\n",
    "# распарсили её\n",
    "df = pd.read_html(str(table))[0]\n",
    "df.head()"
   ]
  },
  {
   "cell_type": "markdown",
   "metadata": {
    "id": "xtKCgxTuxHD8"
   },
   "source": [
    "### Хитрость 3:  используйте пакет tqdm\n",
    "\n",
    "> Код уже работает час. Я вообще без понятия когда он закончит работу. Было бы круто узнать, сколько ещё ждать...\n",
    "\n",
    "Если в вашей голове возникла такая мысль, пакет `tqdm` ваш лучший друг. Установите его: ```pip install tqdm```"
   ]
  },
  {
   "cell_type": "code",
   "execution_count": 79,
   "metadata": {
    "colab": {
     "referenced_widgets": [
      "f3ba6221ba0442958e7d3822fee8748c"
     ]
    },
    "id": "HFqAZJrUxHD8",
    "outputId": "c04b2a91-5534-43a1-cbd6-7000ec780f06"
   },
   "outputs": [
    {
     "name": "stderr",
     "output_type": "stream",
     "text": [
      "C:\\Users\\Alex\\AppData\\Local\\Temp\\ipykernel_4484\\1596546638.py:6: TqdmDeprecationWarning: This function will be removed in tqdm==5.0.0\n",
      "Please use `tqdm.notebook.tqdm` instead of `tqdm.tqdm_notebook`\n",
      "  for i in tqdm_notebook(a):\n"
     ]
    },
    {
     "data": {
      "application/vnd.jupyter.widget-view+json": {
       "model_id": "ebe56102f22a4823af4fddeb7fced674",
       "version_major": 2,
       "version_minor": 0
      },
      "text/plain": [
       "  0%|          | 0/30 [00:00<?, ?it/s]"
      ]
     },
     "metadata": {},
     "output_type": "display_data"
    }
   ],
   "source": [
    "from tqdm import tqdm_notebook\n",
    "\n",
    "a = list(range(30))\n",
    "\n",
    "# 30 раз будем спать по секунде\n",
    "for i in tqdm_notebook(a):\n",
    "    time.sleep(1)"
   ]
  },
  {
   "cell_type": "markdown",
   "metadata": {
    "id": "aYqTIV0CxHD9"
   },
   "source": [
    "Мы обмотали тот вектор, по которому идёт цикл в `tqdm_notebook`. Это даёт нам красивую зелёную строку, которая показывает насколько сильно мы продвинулись по коду. Обматывайте свои самые большие и долгие циклы в `tqdm_notebook` и всегда понимайте сколько осталось до конца."
   ]
  },
  {
   "cell_type": "markdown",
   "metadata": {
    "id": "mqobkZNpxHD9"
   },
   "source": [
    "### Хитрость 4:  распаралеливание\n",
    "\n",
    "Если сервер не очень настроен вас банить, можно распаралелить свои запросы к нему. Самый простой способ сделать это — библиотека `joblib`."
   ]
  },
  {
   "cell_type": "code",
   "execution_count": 74,
   "metadata": {
    "colab": {
     "referenced_widgets": [
      "99784f9ce8674550868ce2faf5b69e61"
     ]
    },
    "id": "lnHcMRmLxHD9",
    "outputId": "dedc38cf-65cb-40d6-f280-ac6c67835e55"
   },
   "outputs": [
    {
     "name": "stderr",
     "output_type": "stream",
     "text": [
      "C:\\Users\\Alex\\AppData\\Local\\Temp\\ipykernel_11912\\555554347.py:11: TqdmDeprecationWarning: This function will be removed in tqdm==5.0.0\n",
      "Please use `tqdm.notebook.tqdm` instead of `tqdm.tqdm_notebook`\n",
      "  for item in tqdm_notebook(range(10)))   # к каким объектам применям\n"
     ]
    },
    {
     "data": {
      "application/vnd.jupyter.widget-view+json": {
       "model_id": "5036baa94d7a4536922c61a38bd35d95",
       "version_major": 2,
       "version_minor": 0
      },
      "text/plain": [
       "  0%|          | 0/10 [00:00<?, ?it/s]"
      ]
     },
     "metadata": {},
     "output_type": "display_data"
    }
   ],
   "source": [
    "from joblib import Parallel, delayed\n",
    "from tqdm import tqdm_notebook\n",
    "\n",
    "def simple_function(x):\n",
    "    return x**2\n",
    "\n",
    "\n",
    "nj = -1 # паралель на все ядра\n",
    "result = Parallel(n_jobs=nj)(\n",
    "                delayed(simple_function)(item)          # какую функцию применяем\n",
    "                for item in tqdm_notebook(range(10)))   # к каким объектам применям\n",
    "\n",
    "# tqdm_notebook в последней строчке будет создавать зелёный бегунок с прогрессом"
   ]
  },
  {
   "cell_type": "markdown",
   "metadata": {
    "id": "pKMDKXb-xHD9"
   },
   "source": [
    "На самом деле это не самый эффективный способ паралелить в python. Он жрёт много памяти и работает медленнее, чем [стандартный multiprocessing.](https://docs.python.org/3/library/multiprocessing.html) Но зато две строчки, КАРЛ! Две строчки!"
   ]
  },
  {
   "cell_type": "markdown",
   "metadata": {
    "id": "_DCPfKacxHD-"
   },
   "source": [
    "### Хитрость 5:  selenium без браузера\n",
    "\n",
    "Селениум можно настроить так, чтобы физически браузер не открывался."
   ]
  },
  {
   "cell_type": "code",
   "execution_count": 76,
   "metadata": {
    "id": "rTrNPCk1xHD-"
   },
   "outputs": [],
   "source": [
    "from selenium import webdriver\n",
    "from selenium.webdriver.chrome.options import Options\n",
    "\n",
    "options = Options()\n",
    "options.headless = True\n",
    "driver = webdriver.Chrome(options=options)\n",
    "\n",
    "ref = 'http://google.com'\n",
    "driver.get(ref)\n",
    "\n",
    "driver.close()"
   ]
  },
  {
   "cell_type": "markdown",
   "metadata": {
    "id": "9ijIqwpbxHD-"
   },
   "source": [
    "###  Ещё хитрости:\n",
    "\n",
    "* __Сохраняйте то, что парсите по мере скачки!__ Прямо внутрь цикла запихните код, который сохраняет файл!\n",
    "* Когда код упал в середине списка для скачки, не обязательно запускать его с самого начала. Просто сохраните тот кусок, который уже скачался и дозапустите код с места падения.\n",
    "* Засовывать цикл для обхода ссылок внутрь функции - не самая хорошая идея. Предположим, что надо обойти $100$ ссылок. Функция должна вернуть на выход объекты, которые скачались по всему этому добру. Она берёт и падает на $50$ объекте. Конечно же то, что уже было скачано, функция не возвращает. Всё, что вы накачали - вы теряете. Надо запускать заново. Почему? Потому что внутри функции своё пространство имён. Если бы вы делали это циклом влоб, то можно было бы сохранить первые $50$ объектов, которые уже лежат внутри листа, а потом продолжить скачку.\n",
    "* Можно ориентироваться на html-страничке с помощью `xpath`. Он предназначен для того, чтобы внутри html-странички можно было быстро находить какие-то элементы. [Подробнее можно почитать тут.](https://devhints.io/xpath)\n",
    "* Не ленитесь листать документацию. Из неё можно узнать много полезных штук."
   ]
  },
  {
   "cell_type": "markdown",
   "metadata": {
    "id": "bYhlYbTcxHD-"
   },
   "source": [
    "# 6. Почиташки\n",
    "\n",
    "* [Парсим мемы в python](https://habr.com/ru/company/ods/blog/346632/) - подробная статья на Хабре, по которой можно научиться ... парсить (ВНЕЗАПНО)\n",
    "* [Тетрадки Ильи Щурова](https://github.com/ischurov/pythonhse) про python для анализа данных. В [лекции 9](https://nbviewer.jupyter.org/github/ischurov/pythonhse/blob/master/Lecture%209.ipynb) и [лекции 10](https://nbviewer.jupyter.org/github/ischurov/pythonhse/blob/master/Lecture%2010.ipynb) есть про парсеры.\n",
    "* [Книга про парсинг](https://github.com/FUlyankin/Parsers/blob/master/Ryan_Mitchell_Web_Scraping_with_Python-_Collecting_Data_from_the_Modern_Web_2015.pdf) на случай если вам совсем скучно и хочется почитать что-то длинное и на английском\n",
    "* [Продвинутое использование requests](https://2.python-requests.org/en/master/user/advanced/)\n",
    "* [Перевод документации по selenium на русский на хабре](https://habr.com/ru/post/248559/)"
   ]
  }
 ],
 "metadata": {
  "colab": {
   "provenance": []
  },
  "kernelspec": {
   "display_name": "Python 3 (ipykernel)",
   "language": "python",
   "name": "python3"
  },
  "language_info": {
   "codemirror_mode": {
    "name": "ipython",
    "version": 3
   },
   "file_extension": ".py",
   "mimetype": "text/x-python",
   "name": "python",
   "nbconvert_exporter": "python",
   "pygments_lexer": "ipython3",
   "version": "3.11.5"
  },
  "toc": {
   "base_numbering": 1,
   "nav_menu": {},
   "number_sections": true,
   "sideBar": true,
   "skip_h1_title": false,
   "title_cell": "Table of Contents",
   "title_sidebar": "Contents",
   "toc_cell": false,
   "toc_position": {},
   "toc_section_display": true,
   "toc_window_display": false
  }
 },
 "nbformat": 4,
 "nbformat_minor": 1
}
