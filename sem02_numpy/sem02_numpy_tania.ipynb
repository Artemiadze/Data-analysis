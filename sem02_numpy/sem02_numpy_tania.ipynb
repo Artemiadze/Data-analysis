{
  "cells": [
    {
      "cell_type": "markdown",
      "metadata": {
        "id": "GVvLjEz__i5Y"
      },
      "source": [
        "<img src=\"https://raw.githubusercontent.com/dvgodoy/PyTorch101_ODSC_Europe2020/master/images/linear_dogs.jpg\" height=\"400\" width=\"800\">\n",
        "\n",
        "\n",
        "# Андан на экономе\n",
        "\n",
        "## Семинар 2: numpy"
      ]
    },
    {
      "cell_type": "code",
      "execution_count": null,
      "metadata": {
        "id": "T_HE3f4v_i5h"
      },
      "outputs": [],
      "source": []
    },
    {
      "cell_type": "code",
      "execution_count": null,
      "metadata": {
        "id": "a83ZSCuS_i5i"
      },
      "outputs": [],
      "source": [
        "import numpy as np"
      ]
    },
    {
      "cell_type": "markdown",
      "metadata": {
        "id": "1X1B8bXP_i5k"
      },
      "source": [
        "## Зачем нужен этот пакет?\n",
        "\n",
        "`numpy` — библиотека, позволяющая удобно работать с многомерными массивами и матрицами, содержащая математические функции. Кроме того, `numpy` позволяет векторизовать многие вычисления и пригождается в анализе данных."
      ]
    },
    {
      "cell_type": "code",
      "execution_count": null,
      "metadata": {
        "id": "9gXx6clA_i5l",
        "outputId": "9f2e1c8a-7296-4249-9502-1259d2ca0859",
        "colab": {
          "base_uri": "https://localhost:8080/"
        }
      },
      "outputs": [
        {
          "output_type": "stream",
          "name": "stdout",
          "text": [
            "[1, 2, 3, 4, 5, 6]\n",
            "[1, 2, 3, 1, 2, 3, 1, 2, 3]\n"
          ]
        },
        {
          "output_type": "execute_result",
          "data": {
            "text/plain": [
              "list"
            ]
          },
          "metadata": {},
          "execution_count": 2
        }
      ],
      "source": [
        "x = [1, 2, 3]\n",
        "y = [4, 5, 6]\n",
        "\n",
        "print(x + y) # списки объединились вмесссте\n",
        "print(3 * x) # список продублировался трижды\n",
        "type(x)"
      ]
    },
    {
      "cell_type": "code",
      "source": [
        "# тот же принцип, что и для сложения строк - не поэлементно, а просто объединение\n",
        "'abc'+'def'"
      ],
      "metadata": {
        "id": "yXPmJImxSUNx",
        "outputId": "f524fddf-0aa4-4427-e165-3e3990f6f3e7",
        "colab": {
          "base_uri": "https://localhost:8080/",
          "height": 36
        }
      },
      "execution_count": null,
      "outputs": [
        {
          "output_type": "execute_result",
          "data": {
            "text/plain": [
              "'abcdef'"
            ],
            "application/vnd.google.colaboratory.intrinsic+json": {
              "type": "string"
            }
          },
          "metadata": {},
          "execution_count": 3
        }
      ]
    },
    {
      "cell_type": "code",
      "source": [
        "# если хотим поэлементно - долго и сложно\n",
        "summing = []\n",
        "for i in range(len(x)):\n",
        "    summing.append(x[i]+y[i])\n",
        "summing"
      ],
      "metadata": {
        "id": "nyASEr7uAGpF",
        "outputId": "2b907603-5cc2-4a7d-c847-21b7bd1bd3d9",
        "colab": {
          "base_uri": "https://localhost:8080/"
        }
      },
      "execution_count": null,
      "outputs": [
        {
          "output_type": "execute_result",
          "data": {
            "text/plain": [
              "[5, 7, 9]"
            ]
          },
          "metadata": {},
          "execution_count": 4
        }
      ]
    },
    {
      "cell_type": "code",
      "execution_count": null,
      "metadata": {
        "id": "gpa_hofn_i5m",
        "outputId": "92a52465-b050-4683-d6dd-63725b8e4563",
        "colab": {
          "base_uri": "https://localhost:8080/"
        }
      },
      "outputs": [
        {
          "output_type": "stream",
          "name": "stdout",
          "text": [
            "[5 7 9]\n",
            "[3 6 9]\n"
          ]
        },
        {
          "output_type": "execute_result",
          "data": {
            "text/plain": [
              "numpy.ndarray"
            ]
          },
          "metadata": {},
          "execution_count": 5
        }
      ],
      "source": [
        "# а в numpy - быстро и в одну строку\n",
        "x = np.array([1, 2, 3])\n",
        "y = np.array([4, 5, 6])\n",
        "\n",
        "print(x + y) # в случае numpy поэлементное сложение\n",
        "print(3 * x) # каждый элемент умножился на число\n",
        "type(x)"
      ]
    },
    {
      "cell_type": "markdown",
      "metadata": {
        "id": "OyV9zQhW_i5n"
      },
      "source": [
        "Работает более быстро."
      ]
    },
    {
      "cell_type": "code",
      "execution_count": null,
      "metadata": {
        "id": "wRPgMaNq_i5o",
        "outputId": "1abf100b-07be-4301-f912-2a7e21e448f9",
        "colab": {
          "base_uri": "https://localhost:8080/"
        }
      },
      "outputs": [
        {
          "output_type": "execute_result",
          "data": {
            "text/plain": [
              "array([0, 1, 2, 3, 4, 5, 6, 7, 8, 9])"
            ]
          },
          "metadata": {},
          "execution_count": 6
        }
      ],
      "source": [
        "x = np.arange(10**7)  # для большого массива\n",
        "x[:10]  # при помощи '[:10]' мы выводим срез первых 10-и значений из массива - чтобы не пришлось все 10 млн выводить!"
      ]
    },
    {
      "cell_type": "code",
      "source": [
        "np.arange(10**7).shape # размер созданного массива 10 млн"
      ],
      "metadata": {
        "id": "QIsj_bc4Aq_L",
        "outputId": "38b0729e-9c12-4897-d907-3fb720715fb5",
        "colab": {
          "base_uri": "https://localhost:8080/"
        }
      },
      "execution_count": null,
      "outputs": [
        {
          "output_type": "execute_result",
          "data": {
            "text/plain": [
              "(10000000,)"
            ]
          },
          "metadata": {},
          "execution_count": 7
        }
      ]
    },
    {
      "cell_type": "code",
      "execution_count": null,
      "metadata": {
        "id": "NeLeFP33_i5q",
        "outputId": "8e27be87-5950-4526-d975-19f78286896c",
        "colab": {
          "base_uri": "https://localhost:8080/"
        }
      },
      "outputs": [
        {
          "output_type": "execute_result",
          "data": {
            "text/plain": [
              "[0, 1, 2, 3, 4, 5, 6, 7, 8, 9]"
            ]
          },
          "metadata": {},
          "execution_count": 9
        }
      ],
      "source": [
        "y = list(x)\n",
        "y[:10]"
      ]
    },
    {
      "cell_type": "code",
      "execution_count": null,
      "metadata": {
        "id": "hVnBXNMf_i5q",
        "outputId": "14459ace-357e-4098-86d3-8726c9e192e8",
        "colab": {
          "base_uri": "https://localhost:8080/"
        }
      },
      "outputs": [
        {
          "output_type": "stream",
          "name": "stdout",
          "text": [
            "497 ms ± 153 ms per loop (mean ± std. dev. of 7 runs, 1 loop each)\n"
          ]
        }
      ],
      "source": [
        "%%timeit\n",
        "sum(y)"
      ]
    },
    {
      "cell_type": "code",
      "execution_count": null,
      "metadata": {
        "id": "xT_BO1HL_i5r",
        "outputId": "9221342e-4407-414b-c704-76b17084cc59",
        "colab": {
          "base_uri": "https://localhost:8080/"
        }
      },
      "outputs": [
        {
          "output_type": "stream",
          "name": "stdout",
          "text": [
            "7.3 ms ± 514 µs per loop (mean ± std. dev. of 7 runs, 100 loops each)\n"
          ]
        }
      ],
      "source": [
        "%%timeit\n",
        "np.sum(x) # в среднем, почти в 70 раз быстрее!"
      ]
    },
    {
      "cell_type": "markdown",
      "metadata": {
        "id": "HbFlckoD_i5r"
      },
      "source": [
        "NumPy работает быстро по нескольким причинам:\n",
        "* Массивы хранятся в непрерывном участке памяти, а все элементы имеют один и тот же тип\n",
        "* Для вычислений по возможности используются библиотеки линейной алгебры вроде BLAS"
      ]
    },
    {
      "cell_type": "markdown",
      "metadata": {
        "id": "KPa5ekv6_i5s"
      },
      "source": [
        "# 1. Вектора и матрицы\n",
        "\n",
        "Посмотрим на основы работы с матрицами и векторами подробнее!\n",
        "\n",
        "## 1.1 Вектора"
      ]
    },
    {
      "cell_type": "markdown",
      "metadata": {
        "id": "6u-PpeTY_i5s"
      },
      "source": [
        "Векторно работает не только сложение, но и все другие операции."
      ]
    },
    {
      "cell_type": "code",
      "execution_count": null,
      "metadata": {
        "id": "GsOhO1_t_i5s",
        "outputId": "03185dac-7458-460b-aedf-a859c8c2a856",
        "colab": {
          "base_uri": "https://localhost:8080/"
        }
      },
      "outputs": [
        {
          "output_type": "execute_result",
          "data": {
            "text/plain": [
              "array([ 0,  1, 75])"
            ]
          },
          "metadata": {},
          "execution_count": 13
        }
      ],
      "source": [
        "x = np.array([1, -10, 3, 0, 1, 75, 3])\n",
        "x[3:6] # можно делать срезы по индексам"
      ]
    },
    {
      "cell_type": "code",
      "source": [
        "x > 0  # проверять условия"
      ],
      "metadata": {
        "id": "a6j3-g9kBcm7",
        "outputId": "fb810b00-f27b-4e89-e227-ca633146bb87",
        "colab": {
          "base_uri": "https://localhost:8080/"
        }
      },
      "execution_count": null,
      "outputs": [
        {
          "output_type": "execute_result",
          "data": {
            "text/plain": [
              "array([ True, False,  True, False,  True,  True,  True])"
            ]
          },
          "metadata": {},
          "execution_count": 19
        }
      ]
    },
    {
      "cell_type": "code",
      "source": [
        "x[x > 0]  # выводить элементы массива, удовлетоворяющие условиям"
      ],
      "metadata": {
        "id": "UEXvc9tlCQRk",
        "outputId": "3770f2ee-1392-4e97-df6f-190f59cfdb92",
        "colab": {
          "base_uri": "https://localhost:8080/"
        }
      },
      "execution_count": null,
      "outputs": [
        {
          "output_type": "execute_result",
          "data": {
            "text/plain": [
              "array([ 1,  3,  1, 75,  3])"
            ]
          },
          "metadata": {},
          "execution_count": 29
        }
      ]
    },
    {
      "cell_type": "code",
      "execution_count": null,
      "metadata": {
        "id": "De376N9D_i5t",
        "outputId": "324c952b-9260-4eaa-b040-6c0aba9df31c",
        "colab": {
          "base_uri": "https://localhost:8080/"
        }
      },
      "outputs": [
        {
          "output_type": "execute_result",
          "data": {
            "text/plain": [
              "array([ 3, 75,  3])"
            ]
          },
          "metadata": {},
          "execution_count": 21
        }
      ],
      "source": [
        "y = x-1\n",
        "x[y > 0]  # условие не обязательно должно быть выставлено для того же массива"
      ]
    },
    {
      "cell_type": "code",
      "execution_count": null,
      "metadata": {
        "id": "IYnHYGVG_i5t",
        "outputId": "cf387e61-6657-4894-bfe2-7b73fab86f49",
        "colab": {
          "base_uri": "https://localhost:8080/"
        }
      },
      "outputs": [
        {
          "output_type": "execute_result",
          "data": {
            "text/plain": [
              "array([1, 3, 1, 3])"
            ]
          },
          "metadata": {},
          "execution_count": 25
        }
      ],
      "source": [
        "# составные условия\n",
        "\n",
        "x[(x > 0) * (x <= 70)] # операция с \"и\"\n",
        "x[(x > 0) & (x <= 70)]\n",
        "\n",
        "x[(x > 0) | (x <= 70)] # операция с \"или\" - для правил вспоминаем операторы из информатики (например, 1+1=1 и т.д.)\n",
        "x[(x > 0) + (x <= 70)]"
      ]
    },
    {
      "cell_type": "code",
      "execution_count": null,
      "metadata": {
        "id": "yvpr6dkE_i5u",
        "outputId": "a29ecc56-5fe9-43b9-8605-e32da7a64d27",
        "colab": {
          "base_uri": "https://localhost:8080/"
        }
      },
      "outputs": [
        {
          "output_type": "execute_result",
          "data": {
            "text/plain": [
              "array([ 3, 75])"
            ]
          },
          "metadata": {},
          "execution_count": 30
        }
      ],
      "source": [
        "x[[2, 5]]  # хотим вывести несколько элементов с индексами [2, 5] - заметим, что работаем пока в одномерном векторе!"
      ]
    },
    {
      "cell_type": "markdown",
      "metadata": {
        "id": "7YmyxMPD_i5u"
      },
      "source": [
        "Есть много сопособов создать в `numpy` вектор. Можно сделать это перечислением элементов, как выше для вектора `x`. А можно с помощью различных специальных функций."
      ]
    },
    {
      "cell_type": "code",
      "execution_count": null,
      "metadata": {
        "id": "Mj8wJSil_i5u",
        "outputId": "691eb315-073c-475b-e8ff-4ef3bd359deb",
        "colab": {
          "base_uri": "https://localhost:8080/"
        }
      },
      "outputs": [
        {
          "output_type": "execute_result",
          "data": {
            "text/plain": [
              "array([10, 12, 14, 16, 18, 20, 22])"
            ]
          },
          "metadata": {},
          "execution_count": 38
        }
      ],
      "source": [
        "y = np.arange(start=10, stop=20, step=2) # последнее значение не включается!\n",
        "y"
      ]
    },
    {
      "cell_type": "code",
      "source": [
        "np.linspace(0,1, 20)  # тут размер шага определяется автоматически"
      ],
      "metadata": {
        "id": "FZG9CrtgDBME",
        "outputId": "f1063cfd-ee78-4ddd-9f21-f47672d16a4c",
        "colab": {
          "base_uri": "https://localhost:8080/"
        }
      },
      "execution_count": null,
      "outputs": [
        {
          "output_type": "execute_result",
          "data": {
            "text/plain": [
              "array([0.        , 0.05263158, 0.10526316, 0.15789474, 0.21052632,\n",
              "       0.26315789, 0.31578947, 0.36842105, 0.42105263, 0.47368421,\n",
              "       0.52631579, 0.57894737, 0.63157895, 0.68421053, 0.73684211,\n",
              "       0.78947368, 0.84210526, 0.89473684, 0.94736842, 1.        ])"
            ]
          },
          "metadata": {},
          "execution_count": 35
        }
      ]
    },
    {
      "cell_type": "code",
      "execution_count": null,
      "metadata": {
        "id": "0AsqB2jg_i5v",
        "outputId": "ab0620c1-4983-4814-fa89-d0b0e80078a2",
        "colab": {
          "base_uri": "https://localhost:8080/"
        }
      },
      "outputs": [
        {
          "output_type": "execute_result",
          "data": {
            "text/plain": [
              "array([1., 1., 1., 1., 1.])"
            ]
          },
          "metadata": {},
          "execution_count": 39
        }
      ],
      "source": [
        "y = np.ones(5) # вектор длины 5 из единиц\n",
        "y"
      ]
    },
    {
      "cell_type": "code",
      "execution_count": null,
      "metadata": {
        "id": "blSE14NX_i5v",
        "outputId": "1e40cfeb-b10c-42fd-9cbf-1824a9cf0f1f",
        "colab": {
          "base_uri": "https://localhost:8080/"
        }
      },
      "outputs": [
        {
          "output_type": "execute_result",
          "data": {
            "text/plain": [
              "array([0., 0., 0., 0.])"
            ]
          },
          "metadata": {},
          "execution_count": 44
        }
      ],
      "source": [
        "y = np.zeros(shape=4) # вектор длины 4 из нулей\n",
        "y"
      ]
    },
    {
      "cell_type": "code",
      "execution_count": null,
      "metadata": {
        "id": "YV-zEEsx_i5w",
        "outputId": "51e002a9-b9d8-410d-cd55-b18c03759801",
        "colab": {
          "base_uri": "https://localhost:8080/"
        }
      },
      "outputs": [
        {
          "output_type": "execute_result",
          "data": {
            "text/plain": [
              "array([4.17022005e-01, 7.20324493e-01, 1.14374817e-04, 3.02332573e-01,\n",
              "       1.46755891e-01])"
            ]
          },
          "metadata": {},
          "execution_count": 12
        }
      ],
      "source": [
        "np.random.seed(1)  # фиксируем зерно генерации для воспроизводимости\n",
        "y = np.random.rand(5)  # случайный вектор, равномерное распределение на [0;1)\n",
        "y"
      ]
    },
    {
      "cell_type": "code",
      "execution_count": null,
      "metadata": {
        "id": "zGsvKn6E_i5w",
        "outputId": "b7482adc-40f7-436c-f017-d173e7354a1d",
        "colab": {
          "base_uri": "https://localhost:8080/"
        }
      },
      "outputs": [
        {
          "output_type": "execute_result",
          "data": {
            "text/plain": [
              "array([1, 1, 1, ..., 1, 1, 1])"
            ]
          },
          "metadata": {},
          "execution_count": 14
        }
      ],
      "source": [
        "y = np.ones_like(x) # вектор из единиц такой же длины как вектор x\n",
        "y"
      ]
    },
    {
      "cell_type": "markdown",
      "source": [
        "$*$ _на линейную регрессию мы будем смотреть позже на занятиях по математической статистике и на анализе данных. Но для ее решения нам часто надо будет сгенерировать доп вектор из единиц, чтобы можно было найти коэффициент сдвига для линейной функции._\n",
        "\n",
        "Создание такого вектора нужно, например, если мы хотим решить задачу линейной регрессии для зависимой переменной $y$ и объясняющей переменной $x$ и найти коэффициенты $(\\alpha,\\beta)$ такие, что $y_i=a+b\\cdot x_i$, $i \\in \\{1,...,n\\}$.\n",
        "\n",
        " Задачу можно представить также в матричном виде: $Y= X\\beta$, где $X=((1,...,1)^T, (x_1,...,x_n)^T)$, $\\beta=(a,b)^T$. Вот тут нам и нужно сгенирировать вектор (1,...,1)^T, который мы могли бы добавить к x!"
      ],
      "metadata": {
        "id": "8u8LWbqSc3IN"
      }
    },
    {
      "cell_type": "code",
      "source": [
        "import matplotlib.pyplot as plt\n",
        "\n",
        "np.random.seed(123)\n",
        "x = np.random.rand(100)\n",
        "a=3\n",
        "b=4\n",
        "y = a + x*b\n",
        "plt.scatter(x,y)\n",
        "plt.show()"
      ],
      "metadata": {
        "id": "597IwHCEECvM",
        "outputId": "4f9ede7d-1c37-44de-d017-75e80264a2d8",
        "colab": {
          "base_uri": "https://localhost:8080/",
          "height": 430
        }
      },
      "execution_count": null,
      "outputs": [
        {
          "output_type": "display_data",
          "data": {
            "text/plain": [
              "<Figure size 640x480 with 1 Axes>"
            ],
            "image/png": "[encoded data removed]"
          },
          "metadata": {}
        }
      ]
    },
    {
      "cell_type": "code",
      "source": [
        "X = np.concatenate([np.ones_like(x).reshape(-1,1), x.reshape(-1,1)], axis=1)\n",
        "beta = np.array([[a,b]])\n",
        "\n",
        "np.sum(X.dot(beta.T) == y.reshape(-1,1))  # видим, что все элементы совпадают, если мы используем матричное умножение вместо стандартных операций\n",
        "# но что-то мы забежали вперед!"
      ],
      "metadata": {
        "id": "h-vEuQUMEl3i"
      },
      "execution_count": null,
      "outputs": []
    },
    {
      "cell_type": "markdown",
      "metadata": {
        "id": "oywPFedC_i5w"
      },
      "source": [
        "По сути вектор в `numpy` является одномерным массивом, что соответствует интуитивному определению вектора:"
      ]
    },
    {
      "cell_type": "code",
      "execution_count": null,
      "metadata": {
        "id": "YpCKh_vG_i5x",
        "outputId": "12ba9794-046d-417c-bafc-019a0de2e3e0",
        "colab": {
          "base_uri": "https://localhost:8080/"
        }
      },
      "outputs": [
        {
          "output_type": "execute_result",
          "data": {
            "text/plain": [
              "(100,)"
            ]
          },
          "metadata": {},
          "execution_count": 47
        }
      ],
      "source": [
        "y.shape # размерность вектора"
      ]
    },
    {
      "cell_type": "code",
      "source": [
        "y.reshape(-1,1).shape # размерность !матрицы! - в линале мы все еще считаем ее вектором, но для numpy это не совсем так!"
      ],
      "metadata": {
        "id": "IkinDIHBguwg",
        "outputId": "67e30d91-b902-4d37-d72b-26888efaab8e",
        "colab": {
          "base_uri": "https://localhost:8080/"
        }
      },
      "execution_count": null,
      "outputs": [
        {
          "output_type": "execute_result",
          "data": {
            "text/plain": [
              "(100, 1)"
            ]
          },
          "metadata": {},
          "execution_count": 48
        }
      ]
    },
    {
      "cell_type": "markdown",
      "metadata": {
        "id": "AUmkLLz8_i5x"
      },
      "source": [
        "Более подробно о том, как создавать векторы в `NumPy`,\n",
        "см. [документацию](http://docs.scipy.org/doc/numpy-1.10.1/user/basics.creation.html)."
      ]
    },
    {
      "cell_type": "markdown",
      "metadata": {
        "id": "VjVtvP25_i5x"
      },
      "source": [
        "## 1.2 Матрицы\n",
        "\n",
        "Можно создать матрицу!"
      ]
    },
    {
      "cell_type": "code",
      "execution_count": null,
      "metadata": {
        "id": "a9huj7PK_i5y",
        "outputId": "124047cc-bdc4-4047-b27c-7a601caff2ad",
        "colab": {
          "base_uri": "https://localhost:8080/"
        }
      },
      "outputs": [
        {
          "output_type": "execute_result",
          "data": {
            "text/plain": [
              "array([[1, 2, 3],\n",
              "       [2, 5, 6],\n",
              "       [6, 7, 4]])"
            ]
          },
          "metadata": {},
          "execution_count": 49
        }
      ],
      "source": [
        "A = np.array([[1, 2, 3], [2, 5, 6], [6, 7, 4]])\n",
        "A"
      ]
    },
    {
      "cell_type": "code",
      "execution_count": null,
      "metadata": {
        "id": "XlQ2FS_J_i5y",
        "outputId": "04ad9326-f83b-4d50-fa70-b79199e57432",
        "colab": {
          "base_uri": "https://localhost:8080/"
        }
      },
      "outputs": [
        {
          "output_type": "execute_result",
          "data": {
            "text/plain": [
              "(3, 3)"
            ]
          },
          "metadata": {},
          "execution_count": 50
        }
      ],
      "source": [
        "A.shape # размерность"
      ]
    },
    {
      "cell_type": "code",
      "execution_count": null,
      "metadata": {
        "id": "uuiC8Xag_i5y",
        "outputId": "6ebe1c77-960d-4b71-9e7d-d3819ca93c6a",
        "colab": {
          "base_uri": "https://localhost:8080/"
        }
      },
      "outputs": [
        {
          "output_type": "execute_result",
          "data": {
            "text/plain": [
              "array([6, 7, 4])"
            ]
          },
          "metadata": {},
          "execution_count": 71
        }
      ],
      "source": [
        "A[2]    # вторая строка матрицы"
      ]
    },
    {
      "cell_type": "code",
      "execution_count": null,
      "metadata": {
        "id": "LftVdnHA_i5z",
        "outputId": "9465201e-8395-4e6b-d982-68cb1617686f",
        "colab": {
          "base_uri": "https://localhost:8080/"
        }
      },
      "outputs": [
        {
          "output_type": "execute_result",
          "data": {
            "text/plain": [
              "array([2, 5, 7])"
            ]
          },
          "metadata": {},
          "execution_count": 51
        }
      ],
      "source": [
        "A[:,1]  # первый столбец матрицы"
      ]
    },
    {
      "cell_type": "code",
      "execution_count": null,
      "metadata": {
        "id": "mMZ5kOq3_i5z",
        "outputId": "7c8e0c81-7384-4dd5-a04f-bf3f029cf14d",
        "colab": {
          "base_uri": "https://localhost:8080/"
        }
      },
      "outputs": [
        {
          "output_type": "execute_result",
          "data": {
            "text/plain": [
              "7"
            ]
          },
          "metadata": {},
          "execution_count": 52
        }
      ],
      "source": [
        "A[2][1] # можно срезать сначала строку, потом столбец"
      ]
    },
    {
      "cell_type": "code",
      "execution_count": null,
      "metadata": {
        "id": "4eRt1iLh_i5z",
        "outputId": "4e02fdcd-43f0-48f3-d31b-bb75b899d6a4",
        "colab": {
          "base_uri": "https://localhost:8080/"
        }
      },
      "outputs": [
        {
          "output_type": "execute_result",
          "data": {
            "text/plain": [
              "7"
            ]
          },
          "metadata": {},
          "execution_count": 53
        }
      ],
      "source": [
        "A[2,1]  # либос разу обе размерности"
      ]
    },
    {
      "cell_type": "code",
      "execution_count": null,
      "metadata": {
        "id": "kxHZBDB8_i50",
        "outputId": "add92c26-e25d-42d7-8384-4304bb34a0a5",
        "colab": {
          "base_uri": "https://localhost:8080/"
        }
      },
      "outputs": [
        {
          "output_type": "execute_result",
          "data": {
            "text/plain": [
              "array([[5, 6],\n",
              "       [7, 4]])"
            ]
          },
          "metadata": {},
          "execution_count": 54
        }
      ],
      "source": [
        "A[1:,1:] # можно найти срез"
      ]
    },
    {
      "cell_type": "markdown",
      "metadata": {
        "id": "LlPW2jUS_i50"
      },
      "source": [
        "Более подробно о различных способах индексирования в массивах\n",
        "см. [документацию](http://docs.scipy.org/doc/numpy/reference/arrays.indexing.html)."
      ]
    },
    {
      "cell_type": "markdown",
      "metadata": {
        "id": "cSa9Q8dc_i50"
      },
      "source": [
        "Булевы массивы позволяют получать элементы, стоящие на тех же местах что и True в булевом массиве (выражение в квадратных скобках):"
      ]
    },
    {
      "cell_type": "code",
      "source": [
        "A % 2 # также делаем операцию, чтобы потом проверить условие"
      ],
      "metadata": {
        "id": "qyFqp05aFvqz",
        "outputId": "53210804-0595-4c82-fe30-1c1971dccdde",
        "colab": {
          "base_uri": "https://localhost:8080/"
        }
      },
      "execution_count": null,
      "outputs": [
        {
          "output_type": "execute_result",
          "data": {
            "text/plain": [
              "array([[1, 0, 1],\n",
              "       [0, 1, 0],\n",
              "       [0, 1, 0]])"
            ]
          },
          "metadata": {},
          "execution_count": 56
        }
      ]
    },
    {
      "cell_type": "code",
      "execution_count": null,
      "metadata": {
        "scrolled": true,
        "id": "p9AnGq2G_i51",
        "outputId": "02478081-303b-4ec7-d122-7964ebf789ee",
        "colab": {
          "base_uri": "https://localhost:8080/"
        }
      },
      "outputs": [
        {
          "output_type": "stream",
          "name": "stdout",
          "text": [
            "[[False  True False]\n",
            " [ True False  True]\n",
            " [ True False  True]]\n"
          ]
        }
      ],
      "source": [
        "is_even = A % 2 == 0 # проверяем четность элементов\n",
        "print(is_even)"
      ]
    },
    {
      "cell_type": "code",
      "execution_count": null,
      "metadata": {
        "id": "_qlmebjp_i52",
        "outputId": "c91f16c3-22bc-4d86-9534-6ccc42f9657c",
        "colab": {
          "base_uri": "https://localhost:8080/"
        }
      },
      "outputs": [
        {
          "output_type": "execute_result",
          "data": {
            "text/plain": [
              "array([2, 2, 6, 6, 4])"
            ]
          },
          "metadata": {},
          "execution_count": 59
        }
      ],
      "source": [
        "A[is_even] # выводим все подходящие элементы"
      ]
    },
    {
      "cell_type": "code",
      "execution_count": null,
      "metadata": {
        "id": "u9zQ4hHq_i6B",
        "outputId": "6449e4b4-6052-4650-eb04-3f771b74befc",
        "colab": {
          "base_uri": "https://localhost:8080/"
        }
      },
      "outputs": [
        {
          "output_type": "execute_result",
          "data": {
            "text/plain": [
              "(array([0, 1, 1, 2, 2]), array([1, 0, 2, 0, 2]))"
            ]
          },
          "metadata": {},
          "execution_count": 60
        }
      ],
      "source": [
        "# то же самое, но в другом виде\n",
        "np.where(A % 2 == 0)  # номера строк и столбцов"
      ]
    },
    {
      "cell_type": "code",
      "execution_count": null,
      "metadata": {
        "id": "Mj8Rr9fw_i6B",
        "outputId": "8ee5dc1d-bf41-4993-d86c-6b7ed696b933",
        "colab": {
          "base_uri": "https://localhost:8080/"
        }
      },
      "outputs": [
        {
          "output_type": "execute_result",
          "data": {
            "text/plain": [
              "array([2, 2, 6, 6, 4])"
            ]
          },
          "metadata": {},
          "execution_count": 61
        }
      ],
      "source": [
        "idx = np.where(A % 2 == 0)\n",
        "A[idx]"
      ]
    },
    {
      "cell_type": "markdown",
      "metadata": {
        "id": "sE15gFTr_i6B"
      },
      "source": [
        "Можно создавать специальные матрицы разными функциями, по аналогии с векторами."
      ]
    },
    {
      "cell_type": "code",
      "execution_count": null,
      "metadata": {
        "id": "0UL33dnW_i6C",
        "outputId": "f9fb955d-e0f4-4773-bd16-a475544604f3",
        "colab": {
          "base_uri": "https://localhost:8080/"
        }
      },
      "outputs": [
        {
          "output_type": "execute_result",
          "data": {
            "text/plain": [
              "array([[1., 1., 1.],\n",
              "       [1., 1., 1.],\n",
              "       [1., 1., 1.]])"
            ]
          },
          "metadata": {},
          "execution_count": 62
        }
      ],
      "source": [
        "np.ones((3,3))"
      ]
    },
    {
      "cell_type": "code",
      "execution_count": null,
      "metadata": {
        "id": "lRk0i5Mz_i6C",
        "outputId": "b0f39ebe-09e0-4ee3-d1eb-951e3bba9c1b",
        "colab": {
          "base_uri": "https://localhost:8080/"
        }
      },
      "outputs": [
        {
          "output_type": "execute_result",
          "data": {
            "text/plain": [
              "array([[0., 0., 0.],\n",
              "       [0., 0., 0.],\n",
              "       [0., 0., 0.]])"
            ]
          },
          "metadata": {},
          "execution_count": 63
        }
      ],
      "source": [
        "np.zeros((3,3))"
      ]
    },
    {
      "cell_type": "code",
      "execution_count": null,
      "metadata": {
        "id": "QwlE0ZKQ_i6C",
        "outputId": "181835a3-2a1a-48a4-e5cd-151c79b581e4",
        "colab": {
          "base_uri": "https://localhost:8080/"
        }
      },
      "outputs": [
        {
          "output_type": "execute_result",
          "data": {
            "text/plain": [
              "array([[ 2.08711336,  0.16444123,  1.15020554],\n",
              "       [-1.26735205,  0.18103513,  1.17786194],\n",
              "       [-0.33501076,  1.03111446, -1.08456791]])"
            ]
          },
          "metadata": {},
          "execution_count": 64
        }
      ],
      "source": [
        "np.random.normal(size=(3,3))"
      ]
    },
    {
      "cell_type": "code",
      "execution_count": null,
      "metadata": {
        "id": "QjBW_iUS_i6D",
        "outputId": "202e6654-53b1-4716-f221-e7a264efc14b",
        "colab": {
          "base_uri": "https://localhost:8080/"
        }
      },
      "outputs": [
        {
          "output_type": "execute_result",
          "data": {
            "text/plain": [
              "array([[1., 0., 0., 0., 0.],\n",
              "       [0., 1., 0., 0., 0.],\n",
              "       [0., 0., 1., 0., 0.],\n",
              "       [0., 0., 0., 1., 0.],\n",
              "       [0., 0., 0., 0., 1.]])"
            ]
          },
          "metadata": {},
          "execution_count": 65
        }
      ],
      "source": [
        "np.eye(5) # единичная матрица"
      ]
    },
    {
      "cell_type": "markdown",
      "metadata": {
        "id": "pBP_kZQr_i6D"
      },
      "source": [
        "Можно изменять размерности, если число элементов позволяет это сделать."
      ]
    },
    {
      "cell_type": "code",
      "execution_count": null,
      "metadata": {
        "id": "5VB2FNsn_i6D",
        "outputId": "093920be-0521-4314-f18f-8848fb7a9218",
        "colab": {
          "base_uri": "https://localhost:8080/"
        }
      },
      "outputs": [
        {
          "output_type": "execute_result",
          "data": {
            "text/plain": [
              "array([ 0,  2,  4,  6,  8, 10, 12, 14, 16, 18, 20, 22])"
            ]
          },
          "metadata": {},
          "execution_count": 66
        }
      ],
      "source": [
        "v = np.arange(0, 24, 2)\n",
        "v"
      ]
    },
    {
      "cell_type": "code",
      "execution_count": null,
      "metadata": {
        "id": "3EeHlt5u_i6E",
        "outputId": "91c11ec6-19f8-4de1-dcf5-f45272122ce0",
        "colab": {
          "base_uri": "https://localhost:8080/"
        }
      },
      "outputs": [
        {
          "output_type": "execute_result",
          "data": {
            "text/plain": [
              "(12,)"
            ]
          },
          "metadata": {},
          "execution_count": 98
        }
      ],
      "source": [
        "v.shape"
      ]
    },
    {
      "cell_type": "code",
      "execution_count": null,
      "metadata": {
        "id": "uW9oa0yR_i6F",
        "outputId": "e1ce6ece-b8d3-4d81-dd27-e7fc03056cd9",
        "colab": {
          "base_uri": "https://localhost:8080/",
          "height": 179
        }
      },
      "outputs": [
        {
          "output_type": "error",
          "ename": "ValueError",
          "evalue": "cannot reshape array of size 12 into shape (3,6)",
          "traceback": [
            "\u001b[0;31m---------------------------------------------------------------------------\u001b[0m",
            "\u001b[0;31mValueError\u001b[0m                                Traceback (most recent call last)",
            "\u001b[0;32m<ipython-input-67-a31d52b074a5>\u001b[0m in \u001b[0;36m<cell line: 1>\u001b[0;34m()\u001b[0m\n\u001b[0;32m----> 1\u001b[0;31m \u001b[0mv\u001b[0m\u001b[0;34m.\u001b[0m\u001b[0mreshape\u001b[0m\u001b[0;34m(\u001b[0m\u001b[0;34m(\u001b[0m\u001b[0;36m3\u001b[0m\u001b[0;34m,\u001b[0m \u001b[0;36m6\u001b[0m\u001b[0;34m)\u001b[0m\u001b[0;34m)\u001b[0m\u001b[0;34m\u001b[0m\u001b[0;34m\u001b[0m\u001b[0m\n\u001b[0m",
            "\u001b[0;31mValueError\u001b[0m: cannot reshape array of size 12 into shape (3,6)"
          ]
        }
      ],
      "source": [
        "v.reshape((3, 6)) # n*m должно быть равно количеству элементов в исходной матрице!"
      ]
    },
    {
      "cell_type": "code",
      "execution_count": null,
      "metadata": {
        "id": "IluHeIP0_i6F",
        "outputId": "330dffc8-7eae-43e3-d009-a5b4f6de718d",
        "colab": {
          "base_uri": "https://localhost:8080/",
          "height": 179
        }
      },
      "outputs": [
        {
          "output_type": "error",
          "ename": "ValueError",
          "evalue": "cannot reshape array of size 12 into shape (3,2)",
          "traceback": [
            "\u001b[0;31m---------------------------------------------------------------------------\u001b[0m",
            "\u001b[0;31mValueError\u001b[0m                                Traceback (most recent call last)",
            "\u001b[0;32m<ipython-input-101-7abfcb8fe7e4>\u001b[0m in \u001b[0;36m<cell line: 1>\u001b[0;34m()\u001b[0m\n\u001b[0;32m----> 1\u001b[0;31m \u001b[0mv\u001b[0m\u001b[0;34m.\u001b[0m\u001b[0mreshape\u001b[0m\u001b[0;34m(\u001b[0m\u001b[0;34m(\u001b[0m\u001b[0;36m3\u001b[0m\u001b[0;34m,\u001b[0m \u001b[0;36m2\u001b[0m\u001b[0;34m)\u001b[0m\u001b[0;34m)\u001b[0m\u001b[0;34m\u001b[0m\u001b[0;34m\u001b[0m\u001b[0m\n\u001b[0m",
            "\u001b[0;31mValueError\u001b[0m: cannot reshape array of size 12 into shape (3,2)"
          ]
        }
      ],
      "source": [
        "v.reshape((3, 2))"
      ]
    },
    {
      "cell_type": "code",
      "execution_count": null,
      "metadata": {
        "id": "TUVtEoDJ_i6F",
        "outputId": "941cc10e-be24-4295-fdf0-724373a62449",
        "colab": {
          "base_uri": "https://localhost:8080/"
        }
      },
      "outputs": [
        {
          "output_type": "execute_result",
          "data": {
            "text/plain": [
              "array([[ 0,  2,  4,  6],\n",
              "       [ 8, 10, 12, 14],\n",
              "       [16, 18, 20, 22]])"
            ]
          },
          "metadata": {},
          "execution_count": 68
        }
      ],
      "source": [
        "v.reshape((3, -1)) # -1 => если возможно, найди размерность второй оси автоматически"
      ]
    },
    {
      "cell_type": "code",
      "execution_count": null,
      "metadata": {
        "id": "WlzgQ0WG_i6G",
        "outputId": "583bdafa-474f-4c84-c4b7-2daa9d8c8b16",
        "colab": {
          "base_uri": "https://localhost:8080/"
        }
      },
      "outputs": [
        {
          "output_type": "execute_result",
          "data": {
            "text/plain": [
              "(3, 3, 3)"
            ]
          },
          "metadata": {},
          "execution_count": 69
        }
      ],
      "source": [
        "D = np.random.normal(size=(3,3,3))\n",
        "D.shape"
      ]
    },
    {
      "cell_type": "code",
      "execution_count": null,
      "metadata": {
        "id": "VY5fo3qN_i6G",
        "outputId": "50e38a4a-db86-42fc-e3d1-146e6dfbdc33",
        "colab": {
          "base_uri": "https://localhost:8080/"
        }
      },
      "outputs": [
        {
          "output_type": "execute_result",
          "data": {
            "text/plain": [
              "array([[[-1.36347154,  0.37940061, -0.37917643],\n",
              "        [ 0.64205469, -1.97788793,  0.71226464],\n",
              "        [ 2.59830393, -0.02462598,  0.03414213]],\n",
              "\n",
              "       [[ 0.17954948, -1.86197571,  0.42614664],\n",
              "        [-1.60540974, -0.4276796 ,  1.24286955],\n",
              "        [-0.73521696,  0.50124899,  1.01273905]],\n",
              "\n",
              "       [[ 0.27874086, -1.37094847, -0.33247528],\n",
              "        [ 1.95941134, -2.02504576, -0.27578601],\n",
              "        [-0.55210807,  0.12074736,  0.74821562]]])"
            ]
          },
          "metadata": {},
          "execution_count": 70
        }
      ],
      "source": [
        "D  # Вектор из матриц"
      ]
    },
    {
      "cell_type": "markdown",
      "metadata": {
        "id": "Vv1-rS1k_i6H"
      },
      "source": [
        "Массивы можно объединять:\n",
        "\n"
      ]
    },
    {
      "cell_type": "code",
      "execution_count": null,
      "metadata": {
        "id": "X80llNPQ_i6H",
        "outputId": "fc960abb-09f8-4027-b19f-876131e3104e",
        "colab": {
          "base_uri": "https://localhost:8080/"
        }
      },
      "outputs": [
        {
          "output_type": "execute_result",
          "data": {
            "text/plain": [
              "array([[1., 2., 0., 0.],\n",
              "       [3., 4., 0., 0.]])"
            ]
          },
          "metadata": {},
          "execution_count": 71
        }
      ],
      "source": [
        "A = np.array([[1, 2], [3, 4]])\n",
        "np.hstack((A, np.zeros(A.shape)))"
      ]
    },
    {
      "cell_type": "code",
      "execution_count": null,
      "metadata": {
        "id": "LUUpWLTZ_i6H",
        "outputId": "425b6ffb-6993-4bb1-cfcc-7b45c83601e8",
        "colab": {
          "base_uri": "https://localhost:8080/"
        }
      },
      "outputs": [
        {
          "output_type": "execute_result",
          "data": {
            "text/plain": [
              "array([[1., 2.],\n",
              "       [3., 4.],\n",
              "       [0., 0.],\n",
              "       [0., 0.]])"
            ]
          },
          "metadata": {},
          "execution_count": 72
        }
      ],
      "source": [
        "np.vstack((A, np.zeros(A.shape)))"
      ]
    },
    {
      "cell_type": "code",
      "execution_count": null,
      "metadata": {
        "id": "7FRaMXBG_i6I",
        "outputId": "c2314136-1a76-4f00-bd65-5e51d2ae32a9",
        "colab": {
          "base_uri": "https://localhost:8080/"
        }
      },
      "outputs": [
        {
          "output_type": "execute_result",
          "data": {
            "text/plain": [
              "array([[1., 2., 1., 0.],\n",
              "       [3., 4., 0., 1.]])"
            ]
          },
          "metadata": {},
          "execution_count": 73
        }
      ],
      "source": [
        "np.concatenate((A, np.eye(A.shape[1])), axis=1)"
      ]
    },
    {
      "cell_type": "markdown",
      "metadata": {
        "id": "2ii_zpfS_i6I"
      },
      "source": [
        "<img src=\"https://i.ibb.co/JqsBZBF/matricesconcat.png\" style=\"width: 55vw;\">"
      ]
    },
    {
      "cell_type": "markdown",
      "metadata": {
        "id": "lEQqYakd_i6I"
      },
      "source": [
        "Более подробно о том, как создавать массивы в `numpy`,\n",
        "см. [документацию](http://docs.scipy.org/doc/numpy-1.10.1/user/basics.creation.html)."
      ]
    },
    {
      "cell_type": "markdown",
      "metadata": {
        "id": "n7sIxNLv_i6J"
      },
      "source": [
        "## 1.3 Векторы, вектор-строки и вектор-столбцы"
      ]
    },
    {
      "cell_type": "code",
      "execution_count": null,
      "metadata": {
        "id": "RtCccTqE_i6J",
        "outputId": "89b97bdc-3072-4d12-e725-e5914a7a3fab",
        "colab": {
          "base_uri": "https://localhost:8080/"
        }
      },
      "outputs": [
        {
          "output_type": "execute_result",
          "data": {
            "text/plain": [
              "array([1, 2, 3])"
            ]
          },
          "metadata": {},
          "execution_count": 74
        }
      ],
      "source": [
        "a = np.array([1, 2, 3])\n",
        "a"
      ]
    },
    {
      "cell_type": "code",
      "execution_count": null,
      "metadata": {
        "id": "O5YwwGAB_i6J",
        "outputId": "062a5edb-2dfd-418f-e28f-731dbb2b4646",
        "colab": {
          "base_uri": "https://localhost:8080/"
        }
      },
      "outputs": [
        {
          "output_type": "execute_result",
          "data": {
            "text/plain": [
              "array([[1],\n",
              "       [2],\n",
              "       [3]])"
            ]
          },
          "metadata": {},
          "execution_count": 75
        }
      ],
      "source": [
        "b = np.array([[1], [2], [3]])\n",
        "b"
      ]
    },
    {
      "cell_type": "code",
      "execution_count": null,
      "metadata": {
        "id": "wAU7a5Y2_i6J",
        "outputId": "ee6d5d97-1e72-4826-b6d5-b70af2a72ba7",
        "colab": {
          "base_uri": "https://localhost:8080/"
        }
      },
      "outputs": [
        {
          "output_type": "execute_result",
          "data": {
            "text/plain": [
              "(3,)"
            ]
          },
          "metadata": {},
          "execution_count": 76
        }
      ],
      "source": [
        "a.shape"
      ]
    },
    {
      "cell_type": "code",
      "execution_count": null,
      "metadata": {
        "id": "LymZcOiN_i6K",
        "outputId": "fa9a8978-bb07-4356-c6e5-bfc7bde65860",
        "colab": {
          "base_uri": "https://localhost:8080/"
        }
      },
      "outputs": [
        {
          "output_type": "execute_result",
          "data": {
            "text/plain": [
              "(3, 1)"
            ]
          },
          "metadata": {},
          "execution_count": 77
        }
      ],
      "source": [
        "b.shape"
      ]
    },
    {
      "cell_type": "code",
      "source": [
        "b.transpose()"
      ],
      "metadata": {
        "id": "pjenqoLSIwDs",
        "outputId": "d0d7042a-2105-466a-c552-55b22f06c091",
        "colab": {
          "base_uri": "https://localhost:8080/"
        }
      },
      "execution_count": null,
      "outputs": [
        {
          "output_type": "execute_result",
          "data": {
            "text/plain": [
              "array([[1, 2, 3]])"
            ]
          },
          "metadata": {},
          "execution_count": 78
        }
      ]
    },
    {
      "cell_type": "code",
      "source": [
        "b.transpose().shape"
      ],
      "metadata": {
        "id": "y1rsVTULI3Pg",
        "outputId": "183a1998-82f9-4b4c-f3d4-5b914c849b97",
        "colab": {
          "base_uri": "https://localhost:8080/"
        }
      },
      "execution_count": null,
      "outputs": [
        {
          "output_type": "execute_result",
          "data": {
            "text/plain": [
              "(1, 3)"
            ]
          },
          "metadata": {},
          "execution_count": 79
        }
      ]
    },
    {
      "cell_type": "code",
      "source": [
        "b = b.transpose() # если хотим безвозвратно провести операцию над матрицей\n",
        "b"
      ],
      "metadata": {
        "id": "8oL1swW8I579",
        "outputId": "54754b32-6e6d-4eda-9e68-8793151a9e46",
        "colab": {
          "base_uri": "https://localhost:8080/"
        }
      },
      "execution_count": null,
      "outputs": [
        {
          "output_type": "execute_result",
          "data": {
            "text/plain": [
              "array([[1, 2, 3]])"
            ]
          },
          "metadata": {},
          "execution_count": 80
        }
      ]
    },
    {
      "cell_type": "markdown",
      "source": [
        "$(A^T)^T=A$"
      ],
      "metadata": {
        "id": "i4QT-aBYJC8U"
      }
    },
    {
      "cell_type": "code",
      "source": [
        "b.transpose().transpose()"
      ],
      "metadata": {
        "id": "jiQbVI1NI_Mm",
        "outputId": "3c62907a-9d1d-4396-dc98-4bee67baecf1",
        "colab": {
          "base_uri": "https://localhost:8080/"
        }
      },
      "execution_count": null,
      "outputs": [
        {
          "output_type": "execute_result",
          "data": {
            "text/plain": [
              "array([[1],\n",
              "       [2],\n",
              "       [3]])"
            ]
          },
          "metadata": {},
          "execution_count": 120
        }
      ]
    },
    {
      "cell_type": "markdown",
      "metadata": {
        "id": "xLLaiMOZ_i6K"
      },
      "source": [
        "__Обратите внимание:__ _вектор_ (одномерный массив) и _вектор-столбец_ или _вектор-строка_ (двумерные массивы) являются различными объектами в `numpy`, хотя математически задают один и тот же объект. В случае одномерного массива кортеж `shape` состоит из одного числа и имеет вид `(n,)`, где `n` — длина вектора. В случае двумерных векторов в `shape` присутствует еще одна размерность, равная единице."
      ]
    },
    {
      "cell_type": "markdown",
      "metadata": {
        "id": "8XskskRB_i6K"
      },
      "source": [
        "В большинстве случаев неважно, какое представление использовать, потому что часто срабатывает приведение типов. Но некоторые операции не работают для одномерных массивов. Например, транспонирование:"
      ]
    },
    {
      "cell_type": "code",
      "execution_count": null,
      "metadata": {
        "id": "7a3U2y8m_i6K",
        "outputId": "b2ae1e19-b884-4b17-866c-21fe6f5da86c",
        "colab": {
          "base_uri": "https://localhost:8080/"
        }
      },
      "outputs": [
        {
          "output_type": "execute_result",
          "data": {
            "text/plain": [
              "array([1, 2, 3])"
            ]
          },
          "metadata": {},
          "execution_count": 130
        }
      ],
      "source": [
        "a.T"
      ]
    },
    {
      "cell_type": "code",
      "execution_count": null,
      "metadata": {
        "id": "dxgOxaz8_i6L",
        "outputId": "6c57ac73-5e67-495a-ed19-12554126684f",
        "colab": {
          "base_uri": "https://localhost:8080/"
        }
      },
      "outputs": [
        {
          "output_type": "execute_result",
          "data": {
            "text/plain": [
              "array([[1, 2, 3]])"
            ]
          },
          "metadata": {},
          "execution_count": 131
        }
      ],
      "source": [
        "b.T"
      ]
    },
    {
      "cell_type": "markdown",
      "metadata": {
        "id": "uSHrpWm1_i6L"
      },
      "source": [
        "## 1.4  Умножение матриц и векторов-столбцов\n",
        "\n",
        "Матрицы можно умножать!"
      ]
    },
    {
      "cell_type": "markdown",
      "metadata": {
        "id": "q3lhQ9kO_i6L"
      },
      "source": [
        "<img src=\"https://i.ibb.co/xq6tgns/matrixmult.png\" style=\"width: 55vw;\">"
      ]
    },
    {
      "cell_type": "code",
      "execution_count": null,
      "metadata": {
        "id": "9bLyqVWe_i6L",
        "outputId": "d875695b-102f-40c2-ee47-c091678f3c95",
        "colab": {
          "base_uri": "https://localhost:8080/"
        }
      },
      "outputs": [
        {
          "output_type": "execute_result",
          "data": {
            "text/plain": [
              "array([[4, 1],\n",
              "       [2, 2]])"
            ]
          },
          "metadata": {},
          "execution_count": 81
        }
      ],
      "source": [
        "A = np.array([[1, 0], [0, 1]])\n",
        "B = np.array([[4, 1], [2, 2]])\n",
        "A@B # матричное умножение, как в линале"
      ]
    },
    {
      "cell_type": "code",
      "execution_count": null,
      "metadata": {
        "id": "Q-trrQGB_i6M",
        "outputId": "cdd96983-ebf0-43db-edf0-e04985d88cdf",
        "colab": {
          "base_uri": "https://localhost:8080/"
        }
      },
      "outputs": [
        {
          "output_type": "execute_result",
          "data": {
            "text/plain": [
              "array([[4, 1],\n",
              "       [2, 2]])"
            ]
          },
          "metadata": {},
          "execution_count": 82
        }
      ],
      "source": [
        "np.dot(A, B) # тоже матричное умножение"
      ]
    },
    {
      "cell_type": "code",
      "source": [
        "A.dot(B) # тоже матричное умножение"
      ],
      "metadata": {
        "id": "vCtcLXjqKCsL",
        "outputId": "5e225736-9846-415c-df0b-05473e75c57d",
        "colab": {
          "base_uri": "https://localhost:8080/"
        }
      },
      "execution_count": null,
      "outputs": [
        {
          "output_type": "execute_result",
          "data": {
            "text/plain": [
              "array([[4, 1],\n",
              "       [2, 2]])"
            ]
          },
          "metadata": {},
          "execution_count": 83
        }
      ]
    },
    {
      "cell_type": "markdown",
      "source": [
        "Можно и вектора перемножать!\n",
        "\n",
        "$(1\\ \\ \\ 2)\\cdot\\left(\\begin{matrix}4\\ \\ \\ 1\\\\2\\ \\ \\ 2\\end{matrix}\\right)=(8\\ \\ \\ 5)$"
      ],
      "metadata": {
        "id": "UL7YZLO7iUoe"
      }
    },
    {
      "cell_type": "code",
      "execution_count": null,
      "metadata": {
        "id": "gWgraJiQ_i6M",
        "outputId": "855eaed3-713d-4da4-8bde-5624de4b7862",
        "colab": {
          "base_uri": "https://localhost:8080/"
        }
      },
      "outputs": [
        {
          "output_type": "execute_result",
          "data": {
            "text/plain": [
              "array([[8, 5]])"
            ]
          },
          "metadata": {},
          "execution_count": 88
        }
      ],
      "source": [
        "x = np.array([[1, 2]])\n",
        "x@B"
      ]
    },
    {
      "cell_type": "markdown",
      "metadata": {
        "id": "2yVwxXFF_i6M"
      },
      "source": [
        "__Обратите внимание:__ операция __`*`__ производит над матрицами покоординатное умножение, а не матричное!"
      ]
    },
    {
      "cell_type": "code",
      "source": [
        "A = np.array([[1, 0],\n",
        "              [0, 1]])\n",
        "\n",
        "B = np.array([[4, 1],\n",
        "              [2, 2]])\n",
        "\n",
        "A * B"
      ],
      "metadata": {
        "id": "yLjq_mW-KNmt",
        "outputId": "5b58a81f-ddbd-4e5b-d08f-193223dbf245",
        "colab": {
          "base_uri": "https://localhost:8080/"
        }
      },
      "execution_count": null,
      "outputs": [
        {
          "output_type": "execute_result",
          "data": {
            "text/plain": [
              "array([[4, 0],\n",
              "       [0, 2]])"
            ]
          },
          "metadata": {},
          "execution_count": 168
        }
      ]
    },
    {
      "cell_type": "markdown",
      "metadata": {
        "id": "sG1Gwh1F_i6M"
      },
      "source": [
        "<img src=\"https://i.ibb.co/CtC2RqY/elementwisemult.png\" style=\"width: 55vw;\">"
      ]
    },
    {
      "cell_type": "code",
      "execution_count": null,
      "metadata": {
        "id": "LrQHBSSg_i6N",
        "outputId": "c8e00909-96d9-47f3-abc6-49473a3241d1",
        "colab": {
          "base_uri": "https://localhost:8080/"
        }
      },
      "outputs": [
        {
          "output_type": "execute_result",
          "data": {
            "text/plain": [
              "array([[4, 0],\n",
              "       [0, 2]])"
            ]
          },
          "metadata": {},
          "execution_count": 89
        }
      ],
      "source": [
        "A * B"
      ]
    },
    {
      "cell_type": "markdown",
      "metadata": {
        "id": "cxQEZvFf_i6N"
      },
      "source": [
        "Базовые арифметические операции над массивами выполняются поэлементно."
      ]
    },
    {
      "cell_type": "code",
      "execution_count": null,
      "metadata": {
        "id": "yMNB-Egq_i6N",
        "outputId": "de27d11c-2f58-412f-ab29-378c5636b094",
        "colab": {
          "base_uri": "https://localhost:8080/"
        }
      },
      "outputs": [
        {
          "output_type": "execute_result",
          "data": {
            "text/plain": [
              "array([[5, 1],\n",
              "       [2, 3]])"
            ]
          },
          "metadata": {},
          "execution_count": 90
        }
      ],
      "source": [
        "A + B"
      ]
    },
    {
      "cell_type": "code",
      "source": [
        "print(A.dtype)\n",
        "print((A * 1.0).dtype)"
      ],
      "metadata": {
        "id": "JCBafXq6KyEi",
        "outputId": "eac1b277-e657-4deb-d12c-f3499da8c55e",
        "colab": {
          "base_uri": "https://localhost:8080/"
        }
      },
      "execution_count": null,
      "outputs": [
        {
          "output_type": "stream",
          "name": "stdout",
          "text": [
            "int64\n",
            "float64\n"
          ]
        }
      ]
    },
    {
      "cell_type": "code",
      "execution_count": null,
      "metadata": {
        "id": "mKQzohnH_i6O",
        "outputId": "d5ecaa63-3f14-4420-dc43-70c1b8062542",
        "colab": {
          "base_uri": "https://localhost:8080/"
        }
      },
      "outputs": [
        {
          "output_type": "execute_result",
          "data": {
            "text/plain": [
              "array([[0.25, 0.  ],\n",
              "       [0.  , 0.5 ]])"
            ]
          },
          "metadata": {},
          "execution_count": 91
        }
      ],
      "source": [
        "A * 1.0 / B  # для того, чтобы мы можгли поделить, нужно перевести матрицу A в объект float"
      ]
    },
    {
      "cell_type": "code",
      "execution_count": null,
      "metadata": {
        "id": "G_5Wqu35_i6O",
        "outputId": "dceb6820-3a0d-48cf-ecc3-980102802c12",
        "colab": {
          "base_uri": "https://localhost:8080/"
        }
      },
      "outputs": [
        {
          "output_type": "execute_result",
          "data": {
            "text/plain": [
              "array([[2, 1],\n",
              "       [1, 2]])"
            ]
          },
          "metadata": {},
          "execution_count": 93
        }
      ],
      "source": [
        "A + 1"
      ]
    },
    {
      "cell_type": "code",
      "execution_count": null,
      "metadata": {
        "id": "s2_xTMCn_i6P",
        "outputId": "4f214530-95df-4a76-f617-c30e3320f9d1",
        "colab": {
          "base_uri": "https://localhost:8080/"
        }
      },
      "outputs": [
        {
          "output_type": "execute_result",
          "data": {
            "text/plain": [
              "array([[3, 0],\n",
              "       [0, 3]])"
            ]
          },
          "metadata": {},
          "execution_count": 94
        }
      ],
      "source": [
        "3 * A"
      ]
    },
    {
      "cell_type": "code",
      "execution_count": null,
      "metadata": {
        "id": "wAkcK-lQ_i6P",
        "outputId": "205c9d3b-43e1-44fe-c130-51c90c930f47",
        "colab": {
          "base_uri": "https://localhost:8080/"
        }
      },
      "outputs": [
        {
          "output_type": "execute_result",
          "data": {
            "text/plain": [
              "array([[16,  1],\n",
              "       [ 4,  4]])"
            ]
          },
          "metadata": {},
          "execution_count": 95
        }
      ],
      "source": [
        "B ** 2 # возведение в степень каждого элемента"
      ]
    },
    {
      "cell_type": "code",
      "source": [
        "B.dot(B) # Возведение матрицы в степень: B^2=(B^T)B"
      ],
      "metadata": {
        "id": "udob6nWILCr4",
        "outputId": "18025e1c-511c-4e07-8121-91d250a36024",
        "colab": {
          "base_uri": "https://localhost:8080/"
        }
      },
      "execution_count": null,
      "outputs": [
        {
          "output_type": "execute_result",
          "data": {
            "text/plain": [
              "array([[18,  6],\n",
              "       [12,  6]])"
            ]
          },
          "metadata": {},
          "execution_count": 96
        }
      ]
    },
    {
      "cell_type": "markdown",
      "metadata": {
        "id": "o9OorJzG_i6P"
      },
      "source": [
        "Поскольку операции выполняются поэлементно, операнды бинарных операций должны иметь одинаковый размер. Тем не менее, операция может быть корректно выполнена, если размеры операндов таковы, что они могут быть расширены до одинаковых размеров. Данная возможность называется [broadcasting](http://www.scipy-lectures.org/intro/numpy/operations.html#broadcasting):\n",
        "![](https://jakevdp.github.io/PythonDataScienceHandbook/figures/02.05-broadcasting.png)"
      ]
    },
    {
      "cell_type": "code",
      "source": [
        "B.dot(np.array([3,0]))"
      ],
      "metadata": {
        "id": "F963Jf2ILT4H",
        "outputId": "4e120fae-6f3e-4f8a-e7e5-9488f7f03931",
        "colab": {
          "base_uri": "https://localhost:8080/"
        }
      },
      "execution_count": null,
      "outputs": [
        {
          "output_type": "execute_result",
          "data": {
            "text/plain": [
              "array([12,  6])"
            ]
          },
          "metadata": {},
          "execution_count": 98
        }
      ]
    },
    {
      "cell_type": "code",
      "source": [
        "B * np.array([3,0]) # а тут мы каждую строку умножаем поэлементно на вектор!"
      ],
      "metadata": {
        "id": "gkZt3FiELZ5Y",
        "outputId": "8967d5c2-84a5-4259-bda6-891739c28745",
        "colab": {
          "base_uri": "https://localhost:8080/"
        }
      },
      "execution_count": null,
      "outputs": [
        {
          "output_type": "execute_result",
          "data": {
            "text/plain": [
              "array([[12,  0],\n",
              "       [ 6,  0]])"
            ]
          },
          "metadata": {},
          "execution_count": 99
        }
      ]
    },
    {
      "cell_type": "code",
      "execution_count": null,
      "metadata": {
        "id": "5IrV1s17_i6P",
        "outputId": "b1401fc6-b896-4faa-84de-8ecfa7ae1906",
        "colab": {
          "base_uri": "https://localhost:8080/"
        }
      },
      "outputs": [
        {
          "output_type": "execute_result",
          "data": {
            "text/plain": [
              "array([[ 0,  0,  0],\n",
              "       [10, 10, 10],\n",
              "       [20, 20, 20],\n",
              "       [30, 30, 30]])"
            ]
          },
          "metadata": {},
          "execution_count": 155
        }
      ],
      "source": [
        "A = np.tile(np.arange(0, 40, 10), (3, 1)).T\n",
        "A"
      ]
    },
    {
      "cell_type": "code",
      "execution_count": null,
      "metadata": {
        "id": "AIfZRNmS_i6Q",
        "outputId": "e23a6ce0-1c46-4662-91fd-746784bc39cf",
        "colab": {
          "base_uri": "https://localhost:8080/"
        }
      },
      "outputs": [
        {
          "output_type": "execute_result",
          "data": {
            "text/plain": [
              "array([[ 0,  1,  2],\n",
              "       [10, 11, 12],\n",
              "       [20, 21, 22],\n",
              "       [30, 31, 32]])"
            ]
          },
          "metadata": {},
          "execution_count": 156
        }
      ],
      "source": [
        "A + np.array([0, 1, 2])"
      ]
    },
    {
      "cell_type": "markdown",
      "metadata": {
        "id": "clS-7Tec_i6Q"
      },
      "source": [
        "## 1.5 Другие операции над матрицами"
      ]
    },
    {
      "cell_type": "code",
      "execution_count": null,
      "metadata": {
        "id": "VaHvAeqD_i6R",
        "outputId": "d777a777-0d29-436c-8208-1094b7f9501a",
        "colab": {
          "base_uri": "https://localhost:8080/"
        }
      },
      "outputs": [
        {
          "output_type": "execute_result",
          "data": {
            "text/plain": [
              "array([[ 1,  2,  3],\n",
              "       [ 4,  5,  6],\n",
              "       [ 7,  8, 10]])"
            ]
          },
          "metadata": {},
          "execution_count": 101
        }
      ],
      "source": [
        "A = np.array([[1, 2, 3], [4, 5, 6], [7, 8, 10]])\n",
        "A"
      ]
    },
    {
      "cell_type": "code",
      "execution_count": null,
      "metadata": {
        "id": "Pk3Z-Y_n_i6S",
        "outputId": "59b4aca2-2324-4b9d-d4b0-0a3e1a93721f",
        "colab": {
          "base_uri": "https://localhost:8080/"
        }
      },
      "outputs": [
        {
          "output_type": "execute_result",
          "data": {
            "text/plain": [
              "array([[ 1,  4,  7],\n",
              "       [ 2,  5,  8],\n",
              "       [ 3,  6, 10]])"
            ]
          },
          "metadata": {},
          "execution_count": 162
        }
      ],
      "source": [
        "A.T  # Транспонирование"
      ]
    },
    {
      "cell_type": "code",
      "execution_count": null,
      "metadata": {
        "id": "OMeH4es5_i6S",
        "outputId": "8871da21-36a3-4a98-82ac-42fad33b134a",
        "colab": {
          "base_uri": "https://localhost:8080/"
        }
      },
      "outputs": [
        {
          "output_type": "execute_result",
          "data": {
            "text/plain": [
              "-2.9999999999999996"
            ]
          },
          "metadata": {},
          "execution_count": 163
        }
      ],
      "source": [
        "np.linalg.det(A) # Определитель"
      ]
    },
    {
      "cell_type": "code",
      "execution_count": null,
      "metadata": {
        "id": "lRGWBnwy_i6T",
        "outputId": "ec05f36e-fff3-4401-ade2-60f0d3094e73",
        "colab": {
          "base_uri": "https://localhost:8080/"
        }
      },
      "outputs": [
        {
          "output_type": "execute_result",
          "data": {
            "text/plain": [
              "3"
            ]
          },
          "metadata": {},
          "execution_count": 164
        }
      ],
      "source": [
        "np.linalg.matrix_rank(A) # Ранг матрицы"
      ]
    },
    {
      "cell_type": "code",
      "execution_count": null,
      "metadata": {
        "id": "_0q1m3fl_i6T",
        "outputId": "30b505d3-009f-47d0-8e3f-8cc0cb1c5ff4",
        "colab": {
          "base_uri": "https://localhost:8080/"
        }
      },
      "outputs": [
        {
          "output_type": "execute_result",
          "data": {
            "text/plain": [
              "array([ 1,  5, 10])"
            ]
          },
          "metadata": {},
          "execution_count": 165
        }
      ],
      "source": [
        "np.diag(A) # главная диагональ"
      ]
    },
    {
      "cell_type": "code",
      "execution_count": null,
      "metadata": {
        "id": "RBXhSrdA_i6U",
        "outputId": "f7347a9b-4cdd-4d68-adc4-e7e01348dc96",
        "colab": {
          "base_uri": "https://localhost:8080/"
        }
      },
      "outputs": [
        {
          "output_type": "execute_result",
          "data": {
            "text/plain": [
              "array([[-0.66666667, -1.33333333,  1.        ],\n",
              "       [-0.66666667,  3.66666667, -2.        ],\n",
              "       [ 1.        , -2.        ,  1.        ]])"
            ]
          },
          "metadata": {},
          "execution_count": 102
        }
      ],
      "source": [
        "B = np.linalg.inv(A) # обратная матрица\n",
        "B"
      ]
    },
    {
      "cell_type": "code",
      "execution_count": null,
      "metadata": {
        "id": "u83UPBlR_i6U",
        "outputId": "4d1850b8-c687-454c-d99f-06d2efebdfc7",
        "colab": {
          "base_uri": "https://localhost:8080/"
        }
      },
      "outputs": [
        {
          "output_type": "execute_result",
          "data": {
            "text/plain": [
              "array([[1.00000000e+00, 0.00000000e+00, 1.11022302e-16],\n",
              "       [0.00000000e+00, 1.00000000e+00, 2.22044605e-16],\n",
              "       [8.88178420e-16, 0.00000000e+00, 1.00000000e+00]])"
            ]
          },
          "metadata": {},
          "execution_count": 175
        }
      ],
      "source": [
        "A@B # Единичная матрица - в теории"
      ]
    },
    {
      "cell_type": "code",
      "source": [
        "1e-4 # 1/10000 - представление степени 10-и в Python"
      ],
      "metadata": {
        "id": "-burvCNwMb2a",
        "outputId": "92407b3a-9760-4042-995d-9fba4761d4f6",
        "colab": {
          "base_uri": "https://localhost:8080/"
        }
      },
      "execution_count": null,
      "outputs": [
        {
          "output_type": "execute_result",
          "data": {
            "text/plain": [
              "0.0001"
            ]
          },
          "metadata": {},
          "execution_count": 176
        }
      ]
    },
    {
      "cell_type": "code",
      "execution_count": null,
      "metadata": {
        "id": "DKK0Q_BO_i6U",
        "outputId": "6784cd4d-cf9a-4c11-f29b-bb3432abdd59",
        "colab": {
          "base_uri": "https://localhost:8080/"
        }
      },
      "outputs": [
        {
          "output_type": "execute_result",
          "data": {
            "text/plain": [
              "2.0830858278492343e-30"
            ]
          },
          "metadata": {},
          "execution_count": 104
        }
      ],
      "source": [
        "np.sum((A@B - np.eye(3))**2) # невязка между элементами из-за погрешностей округления"
      ]
    },
    {
      "cell_type": "markdown",
      "metadata": {
        "id": "uJv5TMuc_i6V"
      },
      "source": [
        "У некоторых функций бывает параметр `axis`, который позволяет применить эту функцию по разным осям. Если речь о матрицах, то по строкам или столбцам:"
      ]
    },
    {
      "cell_type": "code",
      "execution_count": null,
      "metadata": {
        "id": "p-CgOQxi_i6W",
        "outputId": "7b83c589-0fe4-42ee-c132-1990aa7fb8cb",
        "colab": {
          "base_uri": "https://localhost:8080/"
        }
      },
      "outputs": [
        {
          "output_type": "execute_result",
          "data": {
            "text/plain": [
              "array([[ 1,  2,  3],\n",
              "       [ 4,  5,  6],\n",
              "       [ 7,  8, 10]])"
            ]
          },
          "metadata": {},
          "execution_count": 106
        }
      ],
      "source": [
        "A = np.array([[1, 2, 3], [4, 5, 6], [7, 8, 10]])\n",
        "A"
      ]
    },
    {
      "cell_type": "code",
      "execution_count": null,
      "metadata": {
        "id": "PGDSUSj4_i6X",
        "outputId": "bc9bc574-ad42-476e-a8f2-7c62ea69673e",
        "colab": {
          "base_uri": "https://localhost:8080/"
        }
      },
      "outputs": [
        {
          "output_type": "execute_result",
          "data": {
            "text/plain": [
              "46"
            ]
          },
          "metadata": {},
          "execution_count": 107
        }
      ],
      "source": [
        "A.sum()"
      ]
    },
    {
      "cell_type": "markdown",
      "metadata": {
        "id": "ozG_D9uH_i6Y"
      },
      "source": [
        "У некоторых функций бывает параметр `axis`, который позволяет применить эту функцию по разным осям - в данном случае, по строкам или столбцам."
      ]
    },
    {
      "cell_type": "code",
      "execution_count": null,
      "metadata": {
        "id": "SlppYX4Q_i6Z",
        "outputId": "9af11250-747c-4ef3-d6b5-233a465b58ac",
        "colab": {
          "base_uri": "https://localhost:8080/"
        }
      },
      "outputs": [
        {
          "output_type": "execute_result",
          "data": {
            "text/plain": [
              "array([ 6, 15, 25])"
            ]
          },
          "metadata": {},
          "execution_count": 180
        }
      ],
      "source": [
        "np.sum(A, axis=1)"
      ]
    },
    {
      "cell_type": "code",
      "execution_count": null,
      "metadata": {
        "id": "CrRzAAwG_i6a",
        "outputId": "132fc853-69ca-469c-918c-37704c193f7e",
        "colab": {
          "base_uri": "https://localhost:8080/"
        }
      },
      "outputs": [
        {
          "output_type": "execute_result",
          "data": {
            "text/plain": [
              "array([12, 15, 19])"
            ]
          },
          "metadata": {},
          "execution_count": 181
        }
      ],
      "source": [
        "np.sum(A, axis=0)"
      ]
    },
    {
      "cell_type": "code",
      "execution_count": null,
      "metadata": {
        "id": "BjnwjkwF_i6b",
        "outputId": "bc601a2e-197f-41a6-e034-3833ba0644cc",
        "colab": {
          "base_uri": "https://localhost:8080/"
        }
      },
      "outputs": [
        {
          "output_type": "execute_result",
          "data": {
            "text/plain": [
              "array([12, 15, 19])"
            ]
          },
          "metadata": {},
          "execution_count": 182
        }
      ],
      "source": [
        "A.sum(axis=0) # то же самое, но как метод"
      ]
    },
    {
      "cell_type": "code",
      "source": [
        "A.mean(axis=0)\n",
        "A.std(axis=0)"
      ],
      "metadata": {
        "id": "gEFq9S_aM066",
        "outputId": "ef9323f0-ac0c-4581-cc2c-d8d87d5f1817",
        "colab": {
          "base_uri": "https://localhost:8080/"
        }
      },
      "execution_count": null,
      "outputs": [
        {
          "output_type": "execute_result",
          "data": {
            "text/plain": [
              "array([2.44948974, 2.44948974, 2.86744176])"
            ]
          },
          "metadata": {},
          "execution_count": 186
        }
      ]
    },
    {
      "cell_type": "markdown",
      "metadata": {
        "id": "2SCTNoyC_i6c"
      },
      "source": [
        "# 2. Решаем задачи\n",
        "\n",
        "В будущем вы будете учить анализ данных. Там неожиданно выяснится, что любые данные - это матрица. Там-то вы и увидите впервые всю мощь numpy."
      ]
    },
    {
      "cell_type": "markdown",
      "metadata": {
        "id": "Gp-DJjYV_i6e"
      },
      "source": [
        "### Задачка 1 (максимум перед нулем)\n",
        "\n",
        "Реализуйте функцию, возвращающую максимальный элемент в векторе $x$ среди элементов, перед которыми стоит нулевой.\n",
        "\n",
        "Например, для `x = np.array([6, 2, 0, 3, 0, 0, 5, 7, 0])` ответом является `5`. Если нулевых элементов нет, функция должна возвращать `None`."
      ]
    },
    {
      "cell_type": "code",
      "execution_count": null,
      "metadata": {
        "id": "y4-nRZZt_i6f",
        "outputId": "3d65d7ad-58a8-4077-8822-1fcb10c9e6f9",
        "colab": {
          "base_uri": "https://localhost:8080/"
        }
      },
      "outputs": [
        {
          "output_type": "stream",
          "name": "stdout",
          "text": [
            "7 \tfor the vector [6 2 0 3 0 0 5 7 0]\n",
            "8 \tfor the vector [3 6 5 4 8 1 7 6 8 0]\n",
            "3 \tfor the vector [0 4 3 0 7]\n",
            "None \tfor the vector [0 4]\n"
          ]
        }
      ],
      "source": [
        "### ╰( ͡° ͜ʖ ͡° )つ▬▬ι═══════  Peace is a lie, there is only passion.\n",
        "\n",
        "np.random.seed(1234)\n",
        "x = np.array([6, 2, 0, 3, 0, 0, 5, 7, 0])\n",
        "y = np.random.randint(9, size=10)\n",
        "z = np.array([0,4,3,0,7])\n",
        "w = np.array([0,4])\n",
        "\n",
        "def max_element_before_zero(x):\n",
        "    idx = np.where(x == 0)[0]  # делаем для вектра, поэтому можно не переживаьть о проверке существования второй координаты\n",
        "    idx = idx[1:] if idx[0]==0 else idx  # если первый элемент равен нулю - удалим его\n",
        "    if idx.size != 0:\n",
        "        return np.max(x[idx-1])\n",
        "    else:\n",
        "        return None\n",
        "\n",
        "for vect in [x,y,z,w]:\n",
        "  print(max_element_before_zero(vect), f'\\tfor the vector {vect}')"
      ]
    },
    {
      "cell_type": "markdown",
      "metadata": {
        "id": "iGQaRg-f_i6g"
      },
      "source": [
        "__Зачем?__\n",
        "\n",
        "К вам в голову тут должна была прийти мысль: \"Зачем? Можно же использовать цикл!\". Да, можно. Но векторные вычисления работают на порядок быстрее. Часто сделать их намного удобнее, чем написать цикл."
      ]
    },
    {
      "cell_type": "markdown",
      "metadata": {
        "id": "gXTEeqUf_i6g"
      },
      "source": [
        "### Задачка 2 (нормировка)\n",
        "\n",
        "\n",
        "Есть матрица $X$. Нужно отнормировать её столбцы к отрезку $[0;1]:$\n",
        "\n",
        "$$\n",
        "x^{*} = \\frac{x−min(x)}{max(x)−min(x)}\n",
        "$$"
      ]
    },
    {
      "cell_type": "code",
      "execution_count": null,
      "metadata": {
        "id": "hMvlLCGx_i6h",
        "outputId": "e8f05602-9833-40ee-d8d2-0b9fbacc8b20",
        "colab": {
          "base_uri": "https://localhost:8080/"
        }
      },
      "outputs": [
        {
          "output_type": "stream",
          "name": "stdout",
          "text": [
            "[0.85714286 0.28571429 0.         0.42857143 0.         0.\n",
            " 0.71428571 1.         0.        ]\n",
            "[0.375 0.75  0.625 0.5   1.    0.125 0.875 0.75  1.    0.   ]\n",
            "[0.         0.57142857 0.42857143 0.         1.        ]\n",
            "[0. 1.]\n"
          ]
        }
      ],
      "source": [
        "### ╰( ͡° ͜ʖ ͡° )つ▬▬ι═══════   Through power, I gain victory.\n",
        "\n",
        "def min_max_scaling(x):\n",
        "    return (x-x.min()) / (x.max()-x.min())\n",
        "\n",
        "for vect in [x,y,z,w]:\n",
        "  print(min_max_scaling(vect))"
      ]
    },
    {
      "cell_type": "markdown",
      "metadata": {
        "id": "YauLjDOF_i6m"
      },
      "source": [
        "__Зачем?__\n",
        "\n",
        "К вам в голову тут должна была прийти мысль: \"Зачем вообще делать это?\".\n",
        "\n",
        "Обычно в машинном обучении по строчкам записывают наблюдения, по столбцам разные признаки. Часто между объектами надо считать расстояния. Представим, что у нас в выборке два наблюдения. Петя, который весит $50$ кг при росте $1$ метр. И Вася, который вести $75$ кг при росте в $1.5$ метра. То есть Петя описывается вектором $(50, 1)$, а Вася $(75, 1.5)$.\n",
        "\n",
        "Если нам надо вычислить между парнями расстояние, мы будем делать это так:"
      ]
    },
    {
      "cell_type": "code",
      "execution_count": null,
      "metadata": {
        "id": "-xxKjSsn_i6o",
        "outputId": "9b5adbb8-72b3-415b-bc80-e40e08df664b",
        "colab": {
          "base_uri": "https://localhost:8080/"
        }
      },
      "outputs": [
        {
          "output_type": "stream",
          "name": "stdout",
          "text": [
            "625\n",
            "0.25\n"
          ]
        },
        {
          "output_type": "execute_result",
          "data": {
            "text/plain": [
              "625.25"
            ]
          },
          "metadata": {},
          "execution_count": 190
        }
      ],
      "source": [
        "print((50 - 75) ** 2)\n",
        "print((1 - 1.5) ** 2)\n",
        "(50 - 75) ** 2 + (1 - 1.5) ** 2"
      ]
    },
    {
      "cell_type": "markdown",
      "metadata": {
        "id": "TGaexhF5_i6o"
      },
      "source": [
        "Намного больше внимания уделяется весу. Чтобы такого не возникало, надо отнормировать все признаки к одной шкале. Например, отрезку $[0;1]$.\n",
        "\n",
        "> Если хотите узнать о том как линал используется в машинном обучении больше, смотрите небольшой видос про рекомендательные системы [\"От матрицы до больших данных\"](https://www.youtube.com/watch?v=Or119IXozCM)"
      ]
    },
    {
      "cell_type": "markdown",
      "metadata": {
        "id": "BbCMqETs_i6o"
      },
      "source": [
        "### Задачка 3 (ближайший в матрице)\n",
        "\n",
        "Реализуйте функцию, принимающую на вход матрицу $X$ и некоторое число $a$ и возвращающую ближайший к числу элемент матрицы. А потом перепишите её так, чтобы она возвращала самый дальний элемент."
      ]
    },
    {
      "cell_type": "code",
      "execution_count": null,
      "metadata": {
        "id": "96DMtKYT_i6p",
        "outputId": "96e27003-2b86-421d-cad1-80de3e890680",
        "colab": {
          "base_uri": "https://localhost:8080/"
        }
      },
      "outputs": [
        {
          "output_type": "execute_result",
          "data": {
            "text/plain": [
              "7"
            ]
          },
          "metadata": {},
          "execution_count": 173
        }
      ],
      "source": [
        "### ╰( ͡° ͜ʖ ͡° )つ▬▬ι═══════  Through victory, my chains are broken.\n",
        "\n",
        "np.random.seed(123)\n",
        "a = 8\n",
        "x = np.random.randint(1,10, size=(5,3))\n",
        "\n",
        "idx = np.argmin(np.abs(x - a))  # возвращает значение в flattened array - массиве, \"разглаженном\" в одну строку\n",
        "x.flatten()[idx] # достаем значение из массива"
      ]
    },
    {
      "cell_type": "code",
      "source": [
        "# можно и в одну строку уместить\n",
        "find_closest_to_a = lambda x,a: x.flatten()[np.argmin(np.abs(x - a))]  # задала через лямбда-функцию\n",
        "\n",
        "print(f'''\n",
        "Для матрицы\n",
        "{x},\n",
        "ближайшее к {a} значение: {find_closest_to_a(x,a)}''')"
      ],
      "metadata": {
        "id": "Ecsqn0OKzyag",
        "outputId": "8d0b0344-154e-49b9-9021-5236bcca65ff",
        "colab": {
          "base_uri": "https://localhost:8080/"
        }
      },
      "execution_count": null,
      "outputs": [
        {
          "output_type": "stream",
          "name": "stdout",
          "text": [
            "\n",
            "Для матрицы \n",
            "[[3 3 7]\n",
            " [2 4 7]\n",
            " [2 1 2]\n",
            " [1 1 4]\n",
            " [5 1 1]],\n",
            "ближайшее к 8 значение: 7\n"
          ]
        }
      ]
    },
    {
      "cell_type": "code",
      "source": [
        "# чтобы можно было дифферинцировать функцию, вместо модуля можно использовать квадрат разности\n",
        "find_closest_to_a_sq = lambda x,a: x.flatten()[np.argmin((x - a)**2)]\n",
        "\n",
        "# для простых задач ответ будет тот же\n",
        "print(f'''\n",
        "Для матрицы\n",
        "{x},\n",
        "ближайшее к {a} значение: {find_closest_to_a_sq(x,a)}''')"
      ],
      "metadata": {
        "id": "dSTP5174zGfN",
        "outputId": "b7d2d452-10f8-4948-9f2a-9ecf8ed33d45",
        "colab": {
          "base_uri": "https://localhost:8080/"
        }
      },
      "execution_count": null,
      "outputs": [
        {
          "output_type": "stream",
          "name": "stdout",
          "text": [
            "\n",
            "Для матрицы \n",
            "[[3 3 7]\n",
            " [2 4 7]\n",
            " [2 1 2]\n",
            " [1 1 4]\n",
            " [5 1 1]],\n",
            "ближайшее к 8 значение: 7\n"
          ]
        }
      ]
    },
    {
      "cell_type": "markdown",
      "metadata": {
        "id": "yoH8lEEF_i6r"
      },
      "source": [
        "### Задачка 4 (ближайшая строка в матрице)\n",
        "\n",
        "Усложним предыдущую задачу! Дана матрица $X$ и вектор $v$. Нужно найти в матрице $X$ строку, которая будет ближе всего к вектору $v$."
      ]
    },
    {
      "cell_type": "code",
      "execution_count": null,
      "metadata": {
        "id": "eSO4HxXp_i6r",
        "outputId": "f420c235-85e1-4d5d-fd7d-6b71e028f81c",
        "colab": {
          "base_uri": "https://localhost:8080/"
        }
      },
      "outputs": [
        {
          "output_type": "stream",
          "name": "stdout",
          "text": [
            "\n",
            "X:\n",
            "[[0.54 0.49 0.53]\n",
            " [0.52 0.49 0.55]\n",
            " [0.52 0.49 0.5 ]\n",
            " [0.51 0.48 0.52]\n",
            " [0.45 0.53 0.47]]\n",
            "      \n",
            "v:\n",
            "[[0.88532683]\n",
            " [0.62724897]\n",
            " [0.72341636]\n",
            " [0.01612921]\n",
            " [0.59443188]]\n",
            "\n"
          ]
        }
      ],
      "source": [
        "### ╰( ͡° ͜ʖ ͡° )つ▬▬ι═══════  bzzzzzzzzzz\n",
        "x = np.random.binomial(100, 0.5, size=(5,3)) / 100\n",
        "v = np.random.uniform(size=(5,1))\n",
        "\n",
        "print(f'''\n",
        "X:\n",
        "{x}\n",
        "\n",
        "v:\n",
        "{v}\n",
        "''')"
      ]
    },
    {
      "cell_type": "code",
      "source": [
        "distance = ((x-v)**2).sum(axis=0) # также считаем расстояние\n",
        "distance"
      ],
      "metadata": {
        "id": "_YSw-j3KPv9u",
        "outputId": "609f707f-4c10-4249-f9f6-2bc0aa74eebe",
        "colab": {
          "base_uri": "https://localhost:8080/"
        }
      },
      "execution_count": null,
      "outputs": [
        {
          "output_type": "execute_result",
          "data": {
            "text/plain": [
              "array([0.4369001 , 0.44893136, 0.4515085 ])"
            ]
          },
          "metadata": {},
          "execution_count": 181
        }
      ]
    },
    {
      "cell_type": "code",
      "source": [
        "x[:, np.where(distance==np.min(distance))[0]] # и ищем соответствующий столбец"
      ],
      "metadata": {
        "id": "Mq8FCH3iQRE8",
        "outputId": "a1d3ceb0-e39d-4f74-e297-74adb3bfe89f",
        "colab": {
          "base_uri": "https://localhost:8080/"
        }
      },
      "execution_count": null,
      "outputs": [
        {
          "output_type": "execute_result",
          "data": {
            "text/plain": [
              "array([[0.54],\n",
              "       [0.52],\n",
              "       [0.52],\n",
              "       [0.51],\n",
              "       [0.45]])"
            ]
          },
          "metadata": {},
          "execution_count": 182
        }
      ]
    },
    {
      "cell_type": "markdown",
      "metadata": {
        "id": "PJHfcwal_i6s"
      },
      "source": [
        "__Зачем?__\n",
        "\n",
        "Зачем вообще кому-то нужны задания 3 и 4?! В машинном обучения всюду вектора! Например, есть волшебная технология __word2vec__. В ней все слова превращают в вектора так, чтобы в них был закодирован смысл слова. В итоге неожиданно оказывается, что эти вектора можно складывать и вычитать. Если взять вектор _король_, вычесть из него _мужчина_ и добавить _женщина_, внезапно получится вектор, самым близким к которому является _королева_.\n",
        "\n",
        "Все эти вычисления удобно делать в `numpy`, написанными нами функциями. Поиграться с такой моделью и калькулятором слов можно [на сайте resvectores](https://rusvectores.org/ru/calculator/#)"
      ]
    },
    {
      "cell_type": "markdown",
      "metadata": {
        "id": "PifLEzVv_i6s"
      },
      "source": []
    },
    {
      "cell_type": "markdown",
      "metadata": {
        "id": "8WWi-jvc_i6t"
      },
      "source": [
        "### Больше заданий для практики можно найти:\n",
        "\n",
        "- В [необязательном контесте](https://official.contest.yandex.ru/contest/25960/enter/) вас ждут простые и не очень задачи на numpy\n",
        "- В сборнике [100 упражнений на `numpy`](https://github.com/rougier/numpy-100/blob/master/100_Numpy_exercises_with_solutions.md), там же [вариант без решения с подсказками.](https://github.com/rougier/numpy-100) Некоторые упражнения странные и бесполезные.\n",
        "\n",
        "Ещё можно почитать [numpy tutorial](http://cs231n.github.io/python-numpy-tutorial/)"
      ]
    },
    {
      "cell_type": "markdown",
      "metadata": {
        "id": "IqLt6Hsz_i6u"
      },
      "source": [
        "------------------------"
      ]
    },
    {
      "cell_type": "markdown",
      "metadata": {
        "id": "3sh2I8lj_i6v"
      },
      "source": [
        "# 3. Бонус-трек: линейная алгебра\n",
        "\n",
        "> Эту часть тетрадки мы __НЕ будем__ делать на семинаре. Её можно помотреть после него. Внутри много полезного функционала. Но ясное дело далеко не весь. Если хочется больше линала, да ещё и с python, добро пожаловать [курс по линал от ББ Демешева](https://www.coursera.org/learn/lineinaya-algebra)\n",
        "\n",
        "В этой части тетрадки мы поглубже поссмотим на функционал пакета. Далее нам понабится модуль `numpy.linalg`, реализующий некоторые приложения линейной алгебры."
      ]
    },
    {
      "cell_type": "markdown",
      "metadata": {
        "id": "-nYH2_db_i6v"
      },
      "source": [
        "## 3.1 Нормы векторов\n",
        "\n",
        "Вспомним некоторые нормы, которые можно ввести в пространстве $\\mathbb{R}^{n}$, и рассмотрим, с помощью каких библиотек и функций их можно вычислять в `numpy`.  Для вычисления различных норм мы используем функцию `numpy.linalg.norm(x, ord=None, ...)`, где `x` — исходный вектор, `ord` — параметр, определяющий норму (мы рассмотрим два варианта его значений — 1 и 2).\n",
        "\n",
        "### $\\ell_{2}$ норма\n",
        "\n",
        "$\\ell_{2}$ норма (также известная как евклидова норма)\n",
        "для вектора $x = (x_{1}, \\dots, x_{n}) \\in \\mathbb{R}^{n}$ вычисляется по формуле:\n",
        "\n",
        "$$\n",
        " \\left\\Vert x \\right\\Vert_{2} = \\sqrt{\\sum_{i=1}^n \\left( x_{i} \\right)^2}.\n",
        "$$\n",
        "\n",
        "Ей в функции `numpy.linalg.norm(x, ord=None, ...)` соответствует параметр `ord=2`."
      ]
    },
    {
      "cell_type": "code",
      "execution_count": null,
      "metadata": {
        "id": "z4fXlXye_i6v"
      },
      "outputs": [],
      "source": [
        "from numpy.linalg import norm"
      ]
    },
    {
      "cell_type": "code",
      "execution_count": null,
      "metadata": {
        "id": "87yLAS4y_i6w"
      },
      "outputs": [],
      "source": [
        "a = np.array([1, 2, -3])\n",
        "norm(a, ord=2)"
      ]
    },
    {
      "cell_type": "markdown",
      "metadata": {
        "id": "Q97JV1r8_i6w"
      },
      "source": [
        "### $\\ell_{1}$ норма\n",
        "\n",
        "$\\ell_{1}$ норма\n",
        "(также известная как [манхэттенское расстояние](https://ru.wikipedia.org/wiki/%D0%A0%D0%B0%D1%81%D1%81%D1%82%D0%BE%D1%8F%D0%BD%D0%B8%D0%B5_%D0%B3%D0%BE%D1%80%D0%BE%D0%B4%D1%81%D0%BA%D0%B8%D1%85_%D0%BA%D0%B2%D0%B0%D1%80%D1%82%D0%B0%D0%BB%D0%BE%D0%B2))\n",
        "для вектора $x = (x_{1}, \\dots, x_{n}) \\in \\mathbb{R}^{n}$ вычисляется по формуле:\n",
        "\n",
        "$$\n",
        " \\left\\Vert x \\right\\Vert_{1} = \\sum_{i=1}^n \\left| x_{i} \\right|.\n",
        "$$\n",
        "\n",
        "Ей в функции `numpy.linalg.norm(x, ord=None, ...)` соответствует параметр `ord=1`."
      ]
    },
    {
      "cell_type": "code",
      "execution_count": null,
      "metadata": {
        "id": "6oBJaGCL_i6x"
      },
      "outputs": [],
      "source": [
        "a = np.array([1, 2, -3])\n",
        "norm(a, ord=1)"
      ]
    },
    {
      "cell_type": "markdown",
      "metadata": {
        "id": "wCyLXlNO_i6x"
      },
      "source": [
        "Более подробно о том, какие еще нормы (в том числе матричные) можно вычислить, см. [документацию](http://docs.scipy.org/doc/numpy-1.10.0/reference/generated/numpy.linalg.norm.html)."
      ]
    },
    {
      "cell_type": "markdown",
      "metadata": {
        "id": "dlbRUbZs_i6z"
      },
      "source": [
        "## 3.2   Расстояния между векторами\n",
        "\n",
        "Для двух векторов $x = (x_{1}, \\dots, x_{n}) \\in \\mathbb{R}^{n}$ и $y = (y_{1}, \\dots, y_{n}) \\in \\mathbb{R}^{n}$ $\\ell_{1}$ и $\\ell_{2}$ раccтояния вычисляются по следующим формулам соответственно:\n",
        "\n",
        "$$\n",
        " \\rho_{1}\\left( x, y \\right) = \\left\\Vert x - y \\right\\Vert_{1} = \\sum_{i=1}^n \\left| x_{i} - y_{i} \\right|\n",
        "$$\n",
        "\n",
        "$$\n",
        " \\rho_{2}\\left( x, y \\right) = \\left\\Vert x - y \\right\\Vert_{2} =\n",
        " \\sqrt{\\sum_{i=1}^n \\left( x_{i} - y_{i} \\right)^2}.\n",
        "$$"
      ]
    },
    {
      "cell_type": "code",
      "execution_count": null,
      "metadata": {
        "id": "jvdoUadm_i60"
      },
      "outputs": [],
      "source": [
        "a = np.array([1, 2, -3])\n",
        "b = np.array([-4, 3, 8])"
      ]
    },
    {
      "cell_type": "code",
      "execution_count": null,
      "metadata": {
        "id": "gX8KLT4W_i61"
      },
      "outputs": [],
      "source": [
        "norm(a - b, ord=1)"
      ]
    },
    {
      "cell_type": "code",
      "execution_count": null,
      "metadata": {
        "id": "NSNUEkA-_i62"
      },
      "outputs": [],
      "source": [
        "norm(a - b, ord=2)"
      ]
    },
    {
      "cell_type": "markdown",
      "metadata": {
        "id": "pabxij0p_i62"
      },
      "source": [
        "Также расстояние между векторами можно посчитать с помощью функции  `scipy.spatial.distance.cdist(XA, XB, metric='euclidean', p=2, ...)` из модуля `scipy`, предназначенного для выполнения научных и инженерных расчётов."
      ]
    },
    {
      "cell_type": "code",
      "execution_count": null,
      "metadata": {
        "id": "AE_QY2qn_i62"
      },
      "outputs": [],
      "source": [
        "from scipy.spatial.distance import cdist"
      ]
    },
    {
      "cell_type": "markdown",
      "metadata": {
        "id": "lmbBAdAy_i63"
      },
      "source": [
        "`scipy.spatial.distance.cdist(...)` требует, чтобы размерность `XA` и `XB` была как минимум двумерная. По этой причине для использования этой функции необходимо преобразовать _векторы_, которые мы рассматриваем в этом ноутбуке, к _вектор-строкам_ с помощью способов, которые мы рассмотрим ниже.\n",
        "\n",
        "Параметры `XA, XB` — исходные вектор-строки, а `metric` и `p` задают метрику расстояния\n",
        "(более подробно о том, какие метрики можно использовать, см. [документацию](http://docs.scipy.org/doc/scipy-0.16.0/reference/generated/scipy.spatial.distance.cdist.html))."
      ]
    },
    {
      "cell_type": "markdown",
      "metadata": {
        "id": "91LmjqFD_i63"
      },
      "source": [
        "Первый способ из _вектора_ сделать _веткор-строку (вектор-столбец)_ — это использовать _метод_ `array.reshape(shape)`, где параметр `shape` задает размерность вектора (кортеж чисел)."
      ]
    },
    {
      "cell_type": "code",
      "execution_count": null,
      "metadata": {
        "id": "MfrNLBbn_i64"
      },
      "outputs": [],
      "source": [
        "a = np.array([6, 3, -5])\n",
        "b = np.array([-1, 0, 7])\n",
        "\n",
        "print('Вектор a:', a)\n",
        "print('Его размерность:', a.shape)\n",
        "print('Вектор b:', b)\n",
        "print('Его размерность:', b.shape)"
      ]
    },
    {
      "cell_type": "code",
      "execution_count": null,
      "metadata": {
        "id": "IfppsZ_Q_i65"
      },
      "outputs": [],
      "source": [
        "a = a.reshape((1, 3))\n",
        "b = b.reshape((1, 3))\n",
        "\n",
        "print('После применения метода reshape:\\n')\n",
        "print('Вектор-строка a:', a)\n",
        "print('Его размерность:', a.shape)\n",
        "print('Вектор-строка b:', b)\n",
        "print('Его размерность:', b.shape)"
      ]
    },
    {
      "cell_type": "code",
      "execution_count": null,
      "metadata": {
        "id": "LFIQNAnm_i65"
      },
      "outputs": [],
      "source": [
        "print('Манхэттенское расстояние между a и b (через cdist):', cdist(a, b, metric='cityblock'))"
      ]
    },
    {
      "cell_type": "markdown",
      "metadata": {
        "id": "rz5OPJCY_i66"
      },
      "source": [
        "Заметим, что после применения этого метода размерность полученных вектор-строк будет равна `shape`. Следующий метод позволяет сделать такое же преобразование, но не изменяет размерность исходного вектора.  "
      ]
    },
    {
      "cell_type": "markdown",
      "metadata": {
        "id": "a7c2YHd6_i66"
      },
      "source": [
        "В `numpy` к размерностям объектов можно добавлять фиктивные оси с помощью `np.newaxis`. Для того, чтобы понять, как это сделать, рассмотрим пример:"
      ]
    },
    {
      "cell_type": "code",
      "execution_count": null,
      "metadata": {
        "id": "l5vDZ9YX_i66"
      },
      "outputs": [],
      "source": [
        "d = np.array([3, 0, 8, 9, -10])\n",
        "\n",
        "print('Вектор d:', d)\n",
        "print('Его размерность:', d.shape)"
      ]
    },
    {
      "cell_type": "code",
      "execution_count": null,
      "metadata": {
        "id": "nBz4TbZv_i67"
      },
      "outputs": [],
      "source": [
        "print('Вектор d с newaxis --> вектор-строка:\\n', d[np.newaxis, :])\n",
        "print('Полученная размерность:', d[np.newaxis, :].shape)\n",
        "print(' ')\n",
        "print('Вектор d с newaxis --> вектор-столбец:\\n', d[:, np.newaxis])\n",
        "print('Полученная размерность:', d[:, np.newaxis].shape)"
      ]
    },
    {
      "cell_type": "markdown",
      "metadata": {
        "id": "h1hUFCm2_i67"
      },
      "source": [
        "Важно, что `np.newaxis` добавляет к размерности ось, длина которой равна 1 (это и логично, так как количество элементов должно сохраняться). Таким образом, надо вставлять новую ось там, где нужна единица в размерности."
      ]
    },
    {
      "cell_type": "markdown",
      "metadata": {
        "id": "OSscKR4Z_i68"
      },
      "source": [
        "Теперь посчитаем расстояния с помощью `scipy.spatial.distance.cdist(...)`, используя `np.newaxis` для преобразования векторов:"
      ]
    },
    {
      "cell_type": "code",
      "execution_count": null,
      "metadata": {
        "id": "ZmInD2fk_i68"
      },
      "outputs": [],
      "source": [
        "a = np.array([6, 3, -5])\n",
        "b = np.array([-1, 0, 7])\n",
        "\n",
        "print('Евклидово расстояние между a и b (через cdist):', cdist(a[np.newaxis, :],\n",
        "                                                               b[np.newaxis, :],\n",
        "                                                               metric='euclidean'))"
      ]
    },
    {
      "cell_type": "markdown",
      "metadata": {
        "id": "Qk6geLdo_i68"
      },
      "source": [
        "Эта функция также позволяет вычислять попарные расстояния между множествами векторов. Например, пусть у нас имеется матрица размера $m_{A} \\times n$. Мы можем рассматривать ее как описание некоторых $m_{A}$ наблюдений в $n$-мерном пространстве. Пусть также имеется еще одна аналогичная матрица размера $m_{B} \\times n$, где  $m_{B}$ векторов в том же $n$-мерном пространстве. Часто необходимо посчитать попарные расстояния между векторами первого и второго множеств.\n",
        "\n",
        "В этом случае можно пользоваться функцией `scipy.spatial.distance.cdist(XA, XB, metric='euclidean', p=2, ...)`, где в качестве `XA, XB` необходимо передать две описанные матрицы. Функция возаращает матрицу попарных расстояний размера $m_{A} \\times m_{B}$, где элемент матрицы на $[i, j]$-ой позиции равен расстоянию между $i$-тым вектором первого множества и $j$-ым вектором второго множества.\n",
        "\n",
        "В данном случае эта функция предподчительнее `numpy.linalg.norm(...)`, так как она вычисляет попарные расстояния быстрее и эффективнее."
      ]
    },
    {
      "cell_type": "markdown",
      "metadata": {
        "id": "phEI_Cng_i69"
      },
      "source": [
        "## 3.3 Скалярное произведение и угол между векторами"
      ]
    },
    {
      "cell_type": "code",
      "execution_count": null,
      "metadata": {
        "id": "eqtXbTDc_i69"
      },
      "outputs": [],
      "source": [
        "a = np.array([0, 5, -1])\n",
        "b = np.array([-4, 9, 3])"
      ]
    },
    {
      "cell_type": "markdown",
      "metadata": {
        "id": "cCsq-P3s_i69"
      },
      "source": [
        "Скалярное произведение в пространстве $\\mathbb{R}^{n}$ для двух векторов $x = (x_{1}, \\dots, x_{n})$ и $y = (y_{1}, \\dots, y_{n})$ определяется как:\n",
        "\n",
        "$$\n",
        "\\langle x, y \\rangle = \\sum_{i=1}^n x_{i} y_{i}.\n",
        "$$"
      ]
    },
    {
      "cell_type": "markdown",
      "metadata": {
        "id": "aWf9V1zR_i6-"
      },
      "source": [
        "Скалярное произведение двух векторов можно вычислять помощью функции `numpy.dot(a, b, ...)` или _метода_ `vec1.dot(vec2)`, где `vec1` и `vec2` — исходные векторы. Также эти функции подходят для матричного умножения, о котором речь пойдет в следующем уроке."
      ]
    },
    {
      "cell_type": "code",
      "execution_count": null,
      "metadata": {
        "id": "FfsTk5Oq_i6_"
      },
      "outputs": [],
      "source": [
        "np.dot(a, b) # через функцию"
      ]
    },
    {
      "cell_type": "code",
      "execution_count": null,
      "metadata": {
        "id": "ObP5ur0F_i6_"
      },
      "outputs": [],
      "source": [
        "a.dot(b) # через метод"
      ]
    },
    {
      "cell_type": "code",
      "execution_count": null,
      "metadata": {
        "id": "WgaIcDT3_i7A"
      },
      "outputs": [],
      "source": [
        "a@b # через матричное умножение"
      ]
    },
    {
      "cell_type": "markdown",
      "metadata": {
        "id": "U978LrfN_i7A"
      },
      "source": [
        "Длиной вектора $x = (x_{1}, \\dots, x_{n}) \\in \\mathbb{R}^{n}$ называется квадратный корень из скалярного произведения, то есть длина равна евклидовой норме вектора:\n",
        "\n",
        "$$\n",
        "\\left| x \\right| = \\sqrt{\\langle x, x \\rangle} = \\sqrt{\\sum_{i=1}^n x_{i}^2} =  \\left\\Vert x \\right\\Vert_{2}.\n",
        "$$"
      ]
    },
    {
      "cell_type": "markdown",
      "metadata": {
        "id": "9OMLpwd1_i7B"
      },
      "source": [
        "Теперь, когда мы знаем расстояние между двумя ненулевыми векторами и их длины, мы можем вычислить угол между ними через скалярное произведение:\n",
        "\n",
        "$$\n",
        "\\langle x, y \\rangle = \\left| x \\right| | y | \\cos(\\alpha)\n",
        "\\implies \\cos(\\alpha) = \\frac{\\langle x, y \\rangle}{\\left| x \\right| | y |},\n",
        "$$\n",
        "\n",
        "где $\\alpha \\in [0, \\pi]$ — угол между векторами $x$ и $y$."
      ]
    },
    {
      "cell_type": "code",
      "execution_count": null,
      "metadata": {
        "id": "q1bh4sxl_i7B"
      },
      "outputs": [],
      "source": [
        "cos_angle = np.dot(a, b) / norm(a) / norm(b)\n",
        "cos_angle  # косинус угла"
      ]
    },
    {
      "cell_type": "code",
      "execution_count": null,
      "metadata": {
        "id": "u43boGIk_i7D"
      },
      "outputs": [],
      "source": [
        "np.arccos(cos_angle) # сам угол"
      ]
    },
    {
      "cell_type": "markdown",
      "metadata": {
        "id": "FYKmGq5e_i7E"
      },
      "source": [
        "Более подробно о том, как вычислять скалярное произведение в `numpy`,\n",
        "см. [документацию](http://docs.scipy.org/doc/numpy/reference/routines.linalg.html#matrix-and-vector-products)."
      ]
    },
    {
      "cell_type": "markdown",
      "metadata": {
        "id": "rha5sqUv_i7E"
      },
      "source": [
        "## 3.4 Системы линейных уравнений\n",
        "\n",
        "__Системой линейных алгебраических уравнений__ называется система вида $Ax = b$, где $A \\in \\mathbb{R}^{n \\times m}, x \\in \\mathbb{R}^{m \\times 1}, b \\in \\mathbb{R}^{n \\times 1}$. В случае квадратной невырожденной матрицы $A$ решение системы единственно.\n",
        "\n",
        "В `numpy` решение такой системы можно найти с помощью функции `numpy.linalg.solve(a, b)`, где первый аргумент — матрица $A$, второй — столбец $b$."
      ]
    },
    {
      "cell_type": "code",
      "execution_count": null,
      "metadata": {
        "id": "_orXfGRA_i7E"
      },
      "outputs": [],
      "source": [
        "A = np.array([[3, 1], [1, 2]])\n",
        "b = np.array([9, 8])\n",
        "x = np.linalg.solve(A, b)\n",
        "x"
      ]
    },
    {
      "cell_type": "markdown",
      "metadata": {
        "id": "Pq9tuRsA_i7F"
      },
      "source": [
        "Убедимся, что вектор $x$ действительно является решением системы:"
      ]
    },
    {
      "cell_type": "code",
      "execution_count": null,
      "metadata": {
        "id": "-7xCfc9m_i7F"
      },
      "outputs": [],
      "source": [
        "A.dot(x)"
      ]
    },
    {
      "cell_type": "markdown",
      "metadata": {
        "id": "zUHKHiVs_i7F"
      },
      "source": [
        "Бывают случаи, когда решение системы не существует. Но хотелось бы все равно \"решить\" такую систему. Логичным кажется искать такой вектор $x$, который минимизирует выражение $\\left\\Vert Ax - b\\right\\Vert^{2}$ — так мы приблизим выражение $Ax$ к $b$.\n",
        "\n",
        "В `numpy` такое псевдорешение можно искать с помощью функции `numpy.linalg.lstsq(a, b, ...)`, где первые два аргумента такие же, как и для функции `numpy.linalg.solve()`.\n",
        "\n",
        "Помимо решения функция возвращает еще три значения, которые нам сейчас не понадобятся."
      ]
    },
    {
      "cell_type": "code",
      "execution_count": null,
      "metadata": {
        "id": "hiwYy2hz_i7G"
      },
      "outputs": [],
      "source": [
        "A = np.array([[0, 1], [1, 1], [2, 1], [3, 1]])\n",
        "b = np.array([-1, 0.2, 0.9, 2.1])\n",
        "x, res, r, s = np.linalg.lstsq(A, b)"
      ]
    },
    {
      "cell_type": "code",
      "execution_count": null,
      "metadata": {
        "id": "kuorhU74_i7G"
      },
      "outputs": [],
      "source": [
        "A"
      ]
    },
    {
      "cell_type": "code",
      "execution_count": null,
      "metadata": {
        "id": "rDOSUiP5_i7G"
      },
      "outputs": [],
      "source": [
        "b"
      ]
    },
    {
      "cell_type": "code",
      "execution_count": null,
      "metadata": {
        "id": "FPe_PWjO_i7G"
      },
      "outputs": [],
      "source": [
        "x"
      ]
    },
    {
      "cell_type": "markdown",
      "metadata": {
        "id": "Klxbo-jG_i7H"
      },
      "source": [
        "## 3.5 Собственные числа и собственные вектора матрицы\n",
        "\n",
        "Для квадратных матриц определены понятия __собственного вектора__ и __собственного числа__.\n",
        "\n",
        "Пусть $A$ — квадратная матрица и $A \\in \\mathbb{R}^{n \\times n}$. __Собственным вектором__ матрицы $A$ называется такой ненулевой вектор $x \\in \\mathbb{R}^{n}$, что для некоторого $\\lambda \\in \\mathbb{R}$ выполняется равенство $Ax = \\lambda x$. При этом $\\lambda$ называется __собственным числом__ матрицы $A$. Собственные числа и собственные векторы матрицы играют важную роль в теории линейной алгебры и ее практических приложениях.\n",
        "\n",
        "В `numpy` собственные числа и собственные векторы матрицы вычисляются с помощью функции `numpy.linalg.eig(a)`, где `a` — исходная матрица. В качестве результата эта функция выдает одномерный массив `v` собственных чисел и двумерный массив `w`, в котором по столбцам записаны собственные вектора, так что вектор `w[:, i]` соотвествует собственному числу `v[i]`."
      ]
    },
    {
      "cell_type": "code",
      "execution_count": null,
      "metadata": {
        "id": "zdYuy6xc_i7H"
      },
      "outputs": [],
      "source": [
        "a = np.array([[-1, -6], [2, 6]])\n",
        "w, v = np.linalg.eig(a)"
      ]
    },
    {
      "cell_type": "code",
      "execution_count": null,
      "metadata": {
        "id": "CVF7vHK3_i7I"
      },
      "outputs": [],
      "source": [
        "w"
      ]
    },
    {
      "cell_type": "code",
      "execution_count": null,
      "metadata": {
        "id": "HmEyzWip_i7I"
      },
      "outputs": [],
      "source": [
        "v"
      ]
    },
    {
      "cell_type": "markdown",
      "metadata": {
        "id": "BulzWS3-_i7I"
      },
      "source": [
        "__Обратите внимание:__ у вещественной матрицы собственные значения или собственные векторы могут быть комплексными."
      ]
    },
    {
      "cell_type": "markdown",
      "metadata": {
        "id": "QforElpY_i7J"
      },
      "source": [
        "## 3.6  Комплексные числа в питоне\n",
        "\n",
        "__Комплексными числами__ называются числа вида $x + iy$, где $x$ и $y$ — вещественные числа, а $i$ — мнимая единица (величина, для которой выполняется равенство $i^{2} = -1$). Множество всех комплексных чисел обозначается буквой $\\mathbb{C}$ (подробнее про комплексные числа см. [википедию](https://ru.wikipedia.org/wiki/%D0%9A%D0%BE%D0%BC%D0%BF%D0%BB%D0%B5%D0%BA%D1%81%D0%BD%D0%BE%D0%B5_%D1%87%D0%B8%D1%81%D0%BB%D0%BE)).\n",
        "\n",
        "В питоне комплескные числа можно задать следующим образом ( $j$ обозначает мнимую единицу):"
      ]
    },
    {
      "cell_type": "code",
      "execution_count": null,
      "metadata": {
        "id": "osd6j31W_i7J"
      },
      "outputs": [],
      "source": [
        "a = 3 + 2j\n",
        "a"
      ]
    },
    {
      "cell_type": "code",
      "execution_count": null,
      "metadata": {
        "id": "SjLCjxtk_i7J"
      },
      "outputs": [],
      "source": [
        "b = 1j\n",
        "b"
      ]
    },
    {
      "cell_type": "code",
      "execution_count": null,
      "metadata": {
        "id": "VB0BiZLL_i7K"
      },
      "outputs": [],
      "source": [
        "a * a"
      ]
    },
    {
      "cell_type": "code",
      "execution_count": null,
      "metadata": {
        "id": "3IGQGaTe_i7K"
      },
      "outputs": [],
      "source": [
        "a / (4 - 5j)"
      ]
    },
    {
      "cell_type": "code",
      "execution_count": null,
      "metadata": {
        "id": "tpzit7f6_i7K"
      },
      "outputs": [],
      "source": [
        "np.abs(a)"
      ]
    },
    {
      "cell_type": "code",
      "execution_count": null,
      "metadata": {
        "id": "F4nJ2zRJ_i7L"
      },
      "outputs": [],
      "source": [
        "np.sqrt(3**2 + 2**2)"
      ]
    },
    {
      "cell_type": "markdown",
      "metadata": {
        "id": "g-eVOhto_i7L"
      },
      "source": []
    }
  ],
  "metadata": {
    "kernelspec": {
      "display_name": "Python 3 (ipykernel)",
      "language": "python",
      "name": "python3"
    },
    "language_info": {
      "codemirror_mode": {
        "name": "ipython",
        "version": 3
      },
      "file_extension": ".py",
      "mimetype": "text/x-python",
      "name": "python",
      "nbconvert_exporter": "python",
      "pygments_lexer": "ipython3",
      "version": "3.11.7"
    },
    "colab": {
      "provenance": []
    }
  },
  "nbformat": 4,
  "nbformat_minor": 0
}