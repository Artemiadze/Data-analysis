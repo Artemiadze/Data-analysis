{
 "cells": [
  {
   "cell_type": "markdown",
   "metadata": {},
   "source": [
    "<img src=\"https://raw.githubusercontent.com/dvgodoy/PyTorch101_ODSC_Europe2020/master/images/linear_dogs.jpg\" height=\"400\" width=\"800\"> \n",
    "\n",
    "\n",
    "# Андан на экономе\n",
    "\n",
    "## Семинар 2: numpy"
   ]
  },
  {
   "cell_type": "code",
   "execution_count": 1,
   "metadata": {},
   "outputs": [],
   "source": [
    "import numpy as np"
   ]
  },
  {
   "cell_type": "markdown",
   "metadata": {},
   "source": [
    "## Зачем нужен этот пакет? \n",
    "\n",
    "`numpy` — библиотека, позволяющая удобно работать с многомерными массивами и матрицами, содержащая математические функции. Кроме того, `numpy` позволяет векторизовать многие вычисления и пригождается в анализе данных."
   ]
  },
  {
   "cell_type": "code",
   "execution_count": 2,
   "metadata": {},
   "outputs": [
    {
     "name": "stdout",
     "output_type": "stream",
     "text": [
      "[1, 2, 3, 4, 5, 6]\n",
      "[1, 2, 3, 1, 2, 3, 1, 2, 3]\n"
     ]
    },
    {
     "data": {
      "text/plain": [
       "list"
      ]
     },
     "execution_count": 2,
     "metadata": {},
     "output_type": "execute_result"
    }
   ],
   "source": [
    "x = [1, 2, 3]\n",
    "y = [4, 5, 6]\n",
    "\n",
    "print(x + y) # списки объединились вместе\n",
    "print(3 * x) # список продублировался трижды \n",
    "type(x)"
   ]
  },
  {
   "cell_type": "code",
   "execution_count": 3,
   "metadata": {},
   "outputs": [
    {
     "name": "stdout",
     "output_type": "stream",
     "text": [
      "[5 7 9]\n",
      "[3 6 9]\n"
     ]
    },
    {
     "data": {
      "text/plain": [
       "numpy.ndarray"
      ]
     },
     "execution_count": 3,
     "metadata": {},
     "output_type": "execute_result"
    }
   ],
   "source": [
    "x = np.array([1, 2, 3])\n",
    "y = np.array([4, 5, 6])\n",
    "\n",
    "print(x + y) # в случае numpy поэлементное сложение\n",
    "print(3 * x) # каждый элемент умножился на число\n",
    "type(x)"
   ]
  },
  {
   "cell_type": "markdown",
   "metadata": {},
   "source": [
    "Работает более быстро."
   ]
  },
  {
   "cell_type": "code",
   "execution_count": 4,
   "metadata": {},
   "outputs": [
    {
     "data": {
      "text/plain": [
       "array([0, 1, 2, 3, 4, 5, 6, 7, 8, 9])"
      ]
     },
     "execution_count": 4,
     "metadata": {},
     "output_type": "execute_result"
    }
   ],
   "source": [
    "x = np.arange(10**7)\n",
    "x[:10]"
   ]
  },
  {
   "cell_type": "code",
   "execution_count": 5,
   "metadata": {},
   "outputs": [
    {
     "data": {
      "text/plain": [
       "[np.int64(0),\n",
       " np.int64(1),\n",
       " np.int64(2),\n",
       " np.int64(3),\n",
       " np.int64(4),\n",
       " np.int64(5),\n",
       " np.int64(6),\n",
       " np.int64(7),\n",
       " np.int64(8),\n",
       " np.int64(9)]"
      ]
     },
     "execution_count": 5,
     "metadata": {},
     "output_type": "execute_result"
    }
   ],
   "source": [
    "y = list(x)\n",
    "y[:10]"
   ]
  },
  {
   "cell_type": "code",
   "execution_count": 6,
   "metadata": {},
   "outputs": [
    {
     "name": "stdout",
     "output_type": "stream",
     "text": [
      "280 ms ± 14.1 ms per loop (mean ± std. dev. of 7 runs, 1 loop each)\n"
     ]
    }
   ],
   "source": [
    "%%timeit \n",
    "sum(y)"
   ]
  },
  {
   "cell_type": "code",
   "execution_count": 7,
   "metadata": {},
   "outputs": [
    {
     "name": "stdout",
     "output_type": "stream",
     "text": [
      "5.2 ms ± 47.5 μs per loop (mean ± std. dev. of 7 runs, 100 loops each)\n"
     ]
    }
   ],
   "source": [
    "%%timeit \n",
    "np.sum(x)"
   ]
  },
  {
   "cell_type": "markdown",
   "metadata": {},
   "source": [
    "NumPy работает быстро по нескольким причинам:\n",
    "* Массивы хранятся в непрерывном участке памяти, а все элементы имеют один и тот же тип\n",
    "* Для вычислений по возможности используются библиотеки линейной алгебры вроде BLAS"
   ]
  },
  {
   "cell_type": "markdown",
   "metadata": {},
   "source": [
    "# 1. Вектора и матрицы\n",
    "\n",
    "Посмотрим на основы работы с матрицами и векторами подробнее!\n",
    "\n",
    "## 1.1 Вектора"
   ]
  },
  {
   "cell_type": "markdown",
   "metadata": {},
   "source": [
    "Векторно работает не только сложение, но и все другие операции. "
   ]
  },
  {
   "cell_type": "code",
   "execution_count": 8,
   "metadata": {},
   "outputs": [
    {
     "data": {
      "text/plain": [
       "array([ 0,  1, 75])"
      ]
     },
     "execution_count": 8,
     "metadata": {},
     "output_type": "execute_result"
    }
   ],
   "source": [
    "x = np.array([1, -10, 3, 0, 1, 75, 3])\n",
    "x[3:6]"
   ]
  },
  {
   "cell_type": "code",
   "execution_count": 9,
   "metadata": {},
   "outputs": [
    {
     "data": {
      "text/plain": [
       "array([ 1,  3,  1, 75,  3])"
      ]
     },
     "execution_count": 9,
     "metadata": {},
     "output_type": "execute_result"
    }
   ],
   "source": [
    "x[x > 0]"
   ]
  },
  {
   "cell_type": "code",
   "execution_count": 10,
   "metadata": {},
   "outputs": [
    {
     "data": {
      "text/plain": [
       "array([1, 3, 1, 3])"
      ]
     },
     "execution_count": 10,
     "metadata": {},
     "output_type": "execute_result"
    }
   ],
   "source": [
    "x[(x > 0) & (x <= 70)]"
   ]
  },
  {
   "cell_type": "code",
   "execution_count": 11,
   "metadata": {},
   "outputs": [
    {
     "data": {
      "text/plain": [
       "array([ 3, 75])"
      ]
     },
     "execution_count": 11,
     "metadata": {},
     "output_type": "execute_result"
    }
   ],
   "source": [
    "x[[2, 5]]"
   ]
  },
  {
   "cell_type": "markdown",
   "metadata": {},
   "source": [
    "Есть много сопособов создать в `numpy` вектор. Можно сделать это перечислением элементов, как выше для вектора `x`. А можно с помощью различных специальных функций."
   ]
  },
  {
   "cell_type": "code",
   "execution_count": 12,
   "metadata": {},
   "outputs": [
    {
     "data": {
      "text/plain": [
       "array([10, 12, 14, 16, 18])"
      ]
     },
     "execution_count": 12,
     "metadata": {},
     "output_type": "execute_result"
    }
   ],
   "source": [
    "y = np.arange(start=10, stop=20, step=2) # последнее значение не включается!\n",
    "y"
   ]
  },
  {
   "cell_type": "code",
   "execution_count": 13,
   "metadata": {},
   "outputs": [
    {
     "data": {
      "text/plain": [
       "array([1., 1., 1., 1., 1.])"
      ]
     },
     "execution_count": 13,
     "metadata": {},
     "output_type": "execute_result"
    }
   ],
   "source": [
    "y = np.ones(5) # вектор длины 5 из единиц\n",
    "y"
   ]
  },
  {
   "cell_type": "code",
   "execution_count": 14,
   "metadata": {},
   "outputs": [
    {
     "data": {
      "text/plain": [
       "array([0., 0., 0., 0.])"
      ]
     },
     "execution_count": 14,
     "metadata": {},
     "output_type": "execute_result"
    }
   ],
   "source": [
    "y = np.zeros(4) # вектор длины 4 из нулей\n",
    "y"
   ]
  },
  {
   "cell_type": "code",
   "execution_count": 15,
   "metadata": {},
   "outputs": [
    {
     "data": {
      "text/plain": [
       "array([0.7657763 , 0.21751469, 0.6336682 , 0.24331567, 0.1992943 ])"
      ]
     },
     "execution_count": 15,
     "metadata": {},
     "output_type": "execute_result"
    }
   ],
   "source": [
    "y = np.random.rand(5)  # случайный вектор, равномерное распределение на [0;1] \n",
    "y"
   ]
  },
  {
   "cell_type": "code",
   "execution_count": 16,
   "metadata": {},
   "outputs": [
    {
     "data": {
      "text/plain": [
       "array([1, 1, 1, 1, 1, 1, 1])"
      ]
     },
     "execution_count": 16,
     "metadata": {},
     "output_type": "execute_result"
    }
   ],
   "source": [
    "y = np.ones_like(x) # вектор из единиц такой же длины как вектор x\n",
    "y"
   ]
  },
  {
   "cell_type": "markdown",
   "metadata": {},
   "source": [
    "По сути вектор в `numpy` является одномерным массивом, что соответствует интуитивному определению вектора:"
   ]
  },
  {
   "cell_type": "code",
   "execution_count": 17,
   "metadata": {},
   "outputs": [
    {
     "data": {
      "text/plain": [
       "(7,)"
      ]
     },
     "execution_count": 17,
     "metadata": {},
     "output_type": "execute_result"
    }
   ],
   "source": [
    "y.shape # размерность вектора"
   ]
  },
  {
   "cell_type": "markdown",
   "metadata": {},
   "source": [
    "Более подробно о том, как создавать векторы в `NumPy`, \n",
    "см. [документацию](http://docs.scipy.org/doc/numpy-1.10.1/user/basics.creation.html)."
   ]
  },
  {
   "cell_type": "markdown",
   "metadata": {},
   "source": [
    "## 1.2 Матрицы\n",
    "\n",
    "Можно создать матрицу!"
   ]
  },
  {
   "cell_type": "code",
   "execution_count": 18,
   "metadata": {},
   "outputs": [
    {
     "data": {
      "text/plain": [
       "array([[1, 2, 3],\n",
       "       [2, 5, 6],\n",
       "       [6, 7, 4]])"
      ]
     },
     "execution_count": 18,
     "metadata": {},
     "output_type": "execute_result"
    }
   ],
   "source": [
    "A = np.array([[1, 2, 3], [2, 5, 6], [6, 7, 4]])\n",
    "A"
   ]
  },
  {
   "cell_type": "code",
   "execution_count": 19,
   "metadata": {},
   "outputs": [
    {
     "data": {
      "text/plain": [
       "(3, 3)"
      ]
     },
     "execution_count": 19,
     "metadata": {},
     "output_type": "execute_result"
    }
   ],
   "source": [
    "A.shape # размерность"
   ]
  },
  {
   "cell_type": "code",
   "execution_count": 20,
   "metadata": {},
   "outputs": [
    {
     "data": {
      "text/plain": [
       "array([6, 7, 4])"
      ]
     },
     "execution_count": 20,
     "metadata": {},
     "output_type": "execute_result"
    }
   ],
   "source": [
    "A[2]    # вторая строка матрицы"
   ]
  },
  {
   "cell_type": "code",
   "execution_count": 21,
   "metadata": {},
   "outputs": [
    {
     "data": {
      "text/plain": [
       "array([2, 5, 7])"
      ]
     },
     "execution_count": 21,
     "metadata": {},
     "output_type": "execute_result"
    }
   ],
   "source": [
    "A[:,1]  # первый столбец матрицы"
   ]
  },
  {
   "cell_type": "code",
   "execution_count": 22,
   "metadata": {},
   "outputs": [
    {
     "data": {
      "text/plain": [
       "np.int64(7)"
      ]
     },
     "execution_count": 22,
     "metadata": {},
     "output_type": "execute_result"
    }
   ],
   "source": [
    "A[2][1] # можно срезать сначала строку, потом столбец"
   ]
  },
  {
   "cell_type": "code",
   "execution_count": 23,
   "metadata": {},
   "outputs": [
    {
     "data": {
      "text/plain": [
       "np.int64(7)"
      ]
     },
     "execution_count": 23,
     "metadata": {},
     "output_type": "execute_result"
    }
   ],
   "source": [
    "A[2,1]  # либос разу обе размерности"
   ]
  },
  {
   "cell_type": "code",
   "execution_count": 24,
   "metadata": {},
   "outputs": [
    {
     "data": {
      "text/plain": [
       "array([[5, 6],\n",
       "       [7, 4]])"
      ]
     },
     "execution_count": 24,
     "metadata": {},
     "output_type": "execute_result"
    }
   ],
   "source": [
    "A[1:,1:] # можно найти срез"
   ]
  },
  {
   "cell_type": "markdown",
   "metadata": {},
   "source": [
    "Более подробно о различных способах индексирования в массивах\n",
    "см. [документацию](http://docs.scipy.org/doc/numpy/reference/arrays.indexing.html)."
   ]
  },
  {
   "cell_type": "markdown",
   "metadata": {},
   "source": [
    "Булевы массивы позволяют получать элементы, стоящие на тех же местах что и True в булевом массиве (выражение в квадратных скобках):"
   ]
  },
  {
   "cell_type": "code",
   "execution_count": 25,
   "metadata": {
    "scrolled": true
   },
   "outputs": [
    {
     "name": "stdout",
     "output_type": "stream",
     "text": [
      "[[False  True False]\n",
      " [ True False  True]\n",
      " [ True False  True]]\n"
     ]
    }
   ],
   "source": [
    "is_even = A % 2 == 0 # проверяем четность элементов\n",
    "print(is_even)"
   ]
  },
  {
   "cell_type": "code",
   "execution_count": 26,
   "metadata": {},
   "outputs": [
    {
     "data": {
      "text/plain": [
       "array([2, 2, 6, 6, 4])"
      ]
     },
     "execution_count": 26,
     "metadata": {},
     "output_type": "execute_result"
    }
   ],
   "source": [
    "A[is_even]"
   ]
  },
  {
   "cell_type": "code",
   "execution_count": 27,
   "metadata": {},
   "outputs": [
    {
     "data": {
      "text/plain": [
       "(array([0, 1, 1, 2, 2]), array([1, 0, 2, 0, 2]))"
      ]
     },
     "execution_count": 27,
     "metadata": {},
     "output_type": "execute_result"
    }
   ],
   "source": [
    "np.where(A % 2 == 0)  # номера строк и столбцов"
   ]
  },
  {
   "cell_type": "code",
   "execution_count": 29,
   "metadata": {},
   "outputs": [
    {
     "data": {
      "text/plain": [
       "array([2, 2, 6, 6, 4])"
      ]
     },
     "execution_count": 29,
     "metadata": {},
     "output_type": "execute_result"
    }
   ],
   "source": [
    "idx = np.where(A % 2 == 0)\n",
    "A[idx]"
   ]
  },
  {
   "cell_type": "markdown",
   "metadata": {},
   "source": [
    "Можно создавать специальные матрицы разными функциями, по аналогии с векторами. "
   ]
  },
  {
   "cell_type": "code",
   "execution_count": 30,
   "metadata": {},
   "outputs": [
    {
     "data": {
      "text/plain": [
       "array([[1., 1., 1.],\n",
       "       [1., 1., 1.],\n",
       "       [1., 1., 1.]])"
      ]
     },
     "execution_count": 30,
     "metadata": {},
     "output_type": "execute_result"
    }
   ],
   "source": [
    "np.ones((3,3)) "
   ]
  },
  {
   "cell_type": "code",
   "execution_count": 31,
   "metadata": {},
   "outputs": [
    {
     "data": {
      "text/plain": [
       "array([[0., 0., 0.],\n",
       "       [0., 0., 0.],\n",
       "       [0., 0., 0.]])"
      ]
     },
     "execution_count": 31,
     "metadata": {},
     "output_type": "execute_result"
    }
   ],
   "source": [
    "np.zeros((3,3)) "
   ]
  },
  {
   "cell_type": "code",
   "execution_count": 32,
   "metadata": {},
   "outputs": [
    {
     "data": {
      "text/plain": [
       "array([[-1.72368418,  2.02493915, -0.95766333],\n",
       "       [ 0.84876178,  0.20057449, -0.32494328],\n",
       "       [ 0.29715447,  0.16831496,  0.42419411]])"
      ]
     },
     "execution_count": 32,
     "metadata": {},
     "output_type": "execute_result"
    }
   ],
   "source": [
    "np.random.normal(size=(3,3))"
   ]
  },
  {
   "cell_type": "code",
   "execution_count": 33,
   "metadata": {},
   "outputs": [
    {
     "data": {
      "text/plain": [
       "array([[1., 0., 0., 0., 0.],\n",
       "       [0., 1., 0., 0., 0.],\n",
       "       [0., 0., 1., 0., 0.],\n",
       "       [0., 0., 0., 1., 0.],\n",
       "       [0., 0., 0., 0., 1.]])"
      ]
     },
     "execution_count": 33,
     "metadata": {},
     "output_type": "execute_result"
    }
   ],
   "source": [
    "np.eye(5) # единичная матрица"
   ]
  },
  {
   "cell_type": "markdown",
   "metadata": {},
   "source": [
    "Можно изменять размерности, если число элементов позволяет это сделать."
   ]
  },
  {
   "cell_type": "code",
   "execution_count": 34,
   "metadata": {},
   "outputs": [
    {
     "data": {
      "text/plain": [
       "array([ 0,  2,  4,  6,  8, 10, 12, 14, 16, 18, 20, 22])"
      ]
     },
     "execution_count": 34,
     "metadata": {},
     "output_type": "execute_result"
    }
   ],
   "source": [
    "v = np.arange(0, 24, 2)\n",
    "v"
   ]
  },
  {
   "cell_type": "code",
   "execution_count": 35,
   "metadata": {},
   "outputs": [
    {
     "data": {
      "text/plain": [
       "(12,)"
      ]
     },
     "execution_count": 35,
     "metadata": {},
     "output_type": "execute_result"
    }
   ],
   "source": [
    "v.shape"
   ]
  },
  {
   "cell_type": "code",
   "execution_count": 36,
   "metadata": {},
   "outputs": [
    {
     "data": {
      "text/plain": [
       "array([[ 0,  2,  4,  6],\n",
       "       [ 8, 10, 12, 14],\n",
       "       [16, 18, 20, 22]])"
      ]
     },
     "execution_count": 36,
     "metadata": {},
     "output_type": "execute_result"
    }
   ],
   "source": [
    "v.reshape((3, 4))"
   ]
  },
  {
   "cell_type": "code",
   "execution_count": 37,
   "metadata": {},
   "outputs": [
    {
     "ename": "ValueError",
     "evalue": "cannot reshape array of size 12 into shape (3,6)",
     "output_type": "error",
     "traceback": [
      "\u001b[1;31m---------------------------------------------------------------------------\u001b[0m",
      "\u001b[1;31mValueError\u001b[0m                                Traceback (most recent call last)",
      "Cell \u001b[1;32mIn[37], line 1\u001b[0m\n\u001b[1;32m----> 1\u001b[0m \u001b[43mv\u001b[49m\u001b[38;5;241;43m.\u001b[39;49m\u001b[43mreshape\u001b[49m\u001b[43m(\u001b[49m\u001b[43m(\u001b[49m\u001b[38;5;241;43m3\u001b[39;49m\u001b[43m,\u001b[49m\u001b[43m \u001b[49m\u001b[38;5;241;43m6\u001b[39;49m\u001b[43m)\u001b[49m\u001b[43m)\u001b[49m\n",
      "\u001b[1;31mValueError\u001b[0m: cannot reshape array of size 12 into shape (3,6)"
     ]
    }
   ],
   "source": [
    "v.reshape((3, 6))"
   ]
  },
  {
   "cell_type": "code",
   "execution_count": 38,
   "metadata": {},
   "outputs": [
    {
     "data": {
      "text/plain": [
       "array([[ 0,  2,  4,  6],\n",
       "       [ 8, 10, 12, 14],\n",
       "       [16, 18, 20, 22]])"
      ]
     },
     "execution_count": 38,
     "metadata": {},
     "output_type": "execute_result"
    }
   ],
   "source": [
    "v.reshape((3, -1)) # -1 => если возможно, найди размерность второй оси автоматически"
   ]
  },
  {
   "cell_type": "code",
   "execution_count": 39,
   "metadata": {},
   "outputs": [
    {
     "data": {
      "text/plain": [
       "(3, 3, 3)"
      ]
     },
     "execution_count": 39,
     "metadata": {},
     "output_type": "execute_result"
    }
   ],
   "source": [
    "D = np.random.normal(size=(3,3,3))\n",
    "D.shape"
   ]
  },
  {
   "cell_type": "code",
   "execution_count": 40,
   "metadata": {},
   "outputs": [
    {
     "data": {
      "text/plain": [
       "array([[[-1.99132049e+00,  5.25892500e-01, -2.08989488e+00],\n",
       "        [-1.25951188e+00, -1.06834832e-03,  1.51534850e+00],\n",
       "        [-1.35239532e+00,  5.13514622e-01,  2.51832184e-01]],\n",
       "\n",
       "       [[ 2.62395959e+00,  4.69926281e-01, -1.01218004e+00],\n",
       "        [-2.50352170e-01, -9.33939696e-02,  9.77823181e-01],\n",
       "        [ 1.84249840e+00, -1.79271131e-01,  2.16180969e+00]],\n",
       "\n",
       "       [[ 1.56206426e+00,  1.26641667e+00,  1.04431892e+00],\n",
       "        [-9.62911152e-01, -6.95563026e-01, -1.25562756e+00],\n",
       "        [-1.03685910e+00,  8.29891176e-01,  1.27951095e+00]]])"
      ]
     },
     "execution_count": 40,
     "metadata": {},
     "output_type": "execute_result"
    }
   ],
   "source": [
    "D  # Вектор из матриц"
   ]
  },
  {
   "cell_type": "markdown",
   "metadata": {},
   "source": [
    "Массивы можно объединять:\n",
    "\n"
   ]
  },
  {
   "cell_type": "code",
   "execution_count": 41,
   "metadata": {},
   "outputs": [
    {
     "data": {
      "text/plain": [
       "array([[1., 2., 0., 0.],\n",
       "       [3., 4., 0., 0.]])"
      ]
     },
     "execution_count": 41,
     "metadata": {},
     "output_type": "execute_result"
    }
   ],
   "source": [
    "A = np.array([[1, 2], [3, 4]])\n",
    "np.hstack((A, np.zeros(A.shape)))"
   ]
  },
  {
   "cell_type": "code",
   "execution_count": 42,
   "metadata": {},
   "outputs": [
    {
     "data": {
      "text/plain": [
       "array([[1., 2.],\n",
       "       [3., 4.],\n",
       "       [0., 0.],\n",
       "       [0., 0.]])"
      ]
     },
     "execution_count": 42,
     "metadata": {},
     "output_type": "execute_result"
    }
   ],
   "source": [
    "np.vstack((A, np.zeros(A.shape)))"
   ]
  },
  {
   "cell_type": "code",
   "execution_count": 43,
   "metadata": {},
   "outputs": [
    {
     "data": {
      "text/plain": [
       "array([[1., 2.],\n",
       "       [3., 4.],\n",
       "       [1., 0.],\n",
       "       [0., 1.]])"
      ]
     },
     "execution_count": 43,
     "metadata": {},
     "output_type": "execute_result"
    }
   ],
   "source": [
    "np.concatenate((A, np.eye(A.shape[1])), axis=0)"
   ]
  },
  {
   "cell_type": "markdown",
   "metadata": {},
   "source": [
    "<img src=\"https://i.ibb.co/JqsBZBF/matricesconcat.png\" style=\"width: 55vw;\"> "
   ]
  },
  {
   "cell_type": "markdown",
   "metadata": {},
   "source": [
    "Более подробно о том, как создавать массивы в `numpy`, \n",
    "см. [документацию](http://docs.scipy.org/doc/numpy-1.10.1/user/basics.creation.html)."
   ]
  },
  {
   "cell_type": "markdown",
   "metadata": {},
   "source": [
    "## 1.3 Векторы, вектор-строки и вектор-столбцы"
   ]
  },
  {
   "cell_type": "code",
   "execution_count": 44,
   "metadata": {},
   "outputs": [
    {
     "data": {
      "text/plain": [
       "array([1, 2, 3])"
      ]
     },
     "execution_count": 44,
     "metadata": {},
     "output_type": "execute_result"
    }
   ],
   "source": [
    "a = np.array([1, 2, 3])\n",
    "a"
   ]
  },
  {
   "cell_type": "code",
   "execution_count": 45,
   "metadata": {},
   "outputs": [
    {
     "data": {
      "text/plain": [
       "array([[1],\n",
       "       [2],\n",
       "       [3]])"
      ]
     },
     "execution_count": 45,
     "metadata": {},
     "output_type": "execute_result"
    }
   ],
   "source": [
    "b = np.array([[1], [2], [3]])\n",
    "b"
   ]
  },
  {
   "cell_type": "code",
   "execution_count": 46,
   "metadata": {},
   "outputs": [
    {
     "data": {
      "text/plain": [
       "(3,)"
      ]
     },
     "execution_count": 46,
     "metadata": {},
     "output_type": "execute_result"
    }
   ],
   "source": [
    "a.shape"
   ]
  },
  {
   "cell_type": "code",
   "execution_count": 47,
   "metadata": {},
   "outputs": [
    {
     "data": {
      "text/plain": [
       "(3, 1)"
      ]
     },
     "execution_count": 47,
     "metadata": {},
     "output_type": "execute_result"
    }
   ],
   "source": [
    "b.shape"
   ]
  },
  {
   "cell_type": "markdown",
   "metadata": {},
   "source": [
    "__Обратите внимание:__ _вектор_ (одномерный массив) и _вектор-столбец_ или _вектор-строка_ (двумерные массивы) являются различными объектами в `numpy`, хотя математически задают один и тот же объект. В случае одномерного массива кортеж `shape` состоит из одного числа и имеет вид `(n,)`, где `n` — длина вектора. В случае двумерных векторов в `shape` присутствует еще одна размерность, равная единице. "
   ]
  },
  {
   "cell_type": "markdown",
   "metadata": {},
   "source": [
    "В большинстве случаев неважно, какое представление использовать, потому что часто срабатывает приведение типов. Но некоторые операции не работают для одномерных массивов. Например, транспонирование:"
   ]
  },
  {
   "cell_type": "code",
   "execution_count": 48,
   "metadata": {},
   "outputs": [
    {
     "data": {
      "text/plain": [
       "array([1, 2, 3])"
      ]
     },
     "execution_count": 48,
     "metadata": {},
     "output_type": "execute_result"
    }
   ],
   "source": [
    "a.T"
   ]
  },
  {
   "cell_type": "code",
   "execution_count": 49,
   "metadata": {},
   "outputs": [
    {
     "data": {
      "text/plain": [
       "array([[1, 2, 3]])"
      ]
     },
     "execution_count": 49,
     "metadata": {},
     "output_type": "execute_result"
    }
   ],
   "source": [
    "b.T"
   ]
  },
  {
   "cell_type": "markdown",
   "metadata": {},
   "source": [
    "## 1.4  Умножение матриц и векторов-столбцов\n",
    "\n",
    "Матрицы можно умножать!"
   ]
  },
  {
   "cell_type": "markdown",
   "metadata": {},
   "source": [
    "<img src=\"https://i.ibb.co/xq6tgns/matrixmult.png\" style=\"width: 55vw;\"> "
   ]
  },
  {
   "cell_type": "code",
   "execution_count": 50,
   "metadata": {},
   "outputs": [
    {
     "data": {
      "text/plain": [
       "array([[4, 1],\n",
       "       [2, 2]])"
      ]
     },
     "execution_count": 50,
     "metadata": {},
     "output_type": "execute_result"
    }
   ],
   "source": [
    "A = np.array([[1, 0], [0, 1]])\n",
    "B = np.array([[4, 1], [2, 2]])\n",
    "A@B"
   ]
  },
  {
   "cell_type": "code",
   "execution_count": 51,
   "metadata": {},
   "outputs": [
    {
     "data": {
      "text/plain": [
       "array([[4, 1],\n",
       "       [2, 2]])"
      ]
     },
     "execution_count": 51,
     "metadata": {},
     "output_type": "execute_result"
    }
   ],
   "source": [
    "np.dot(A, B)"
   ]
  },
  {
   "cell_type": "code",
   "execution_count": 52,
   "metadata": {},
   "outputs": [
    {
     "data": {
      "text/plain": [
       "array([6, 6])"
      ]
     },
     "execution_count": 52,
     "metadata": {},
     "output_type": "execute_result"
    }
   ],
   "source": [
    "x = np.array([1, 2])\n",
    "B@x"
   ]
  },
  {
   "cell_type": "markdown",
   "metadata": {},
   "source": [
    "__Обратите внимание:__ операция __`*`__ производит над матрицами покоординатное умножение, а не матричное!"
   ]
  },
  {
   "cell_type": "markdown",
   "metadata": {},
   "source": [
    "<img src=\"https://i.ibb.co/CtC2RqY/elementwisemult.png\" style=\"width: 55vw;\"> "
   ]
  },
  {
   "cell_type": "code",
   "execution_count": 53,
   "metadata": {},
   "outputs": [
    {
     "data": {
      "text/plain": [
       "array([[4, 0],\n",
       "       [0, 2]])"
      ]
     },
     "execution_count": 53,
     "metadata": {},
     "output_type": "execute_result"
    }
   ],
   "source": [
    "A * B"
   ]
  },
  {
   "cell_type": "markdown",
   "metadata": {},
   "source": [
    "Базовые арифметические операции над массивами выполняются поэлементно."
   ]
  },
  {
   "cell_type": "code",
   "execution_count": 54,
   "metadata": {},
   "outputs": [
    {
     "data": {
      "text/plain": [
       "array([[5, 1],\n",
       "       [2, 3]])"
      ]
     },
     "execution_count": 54,
     "metadata": {},
     "output_type": "execute_result"
    }
   ],
   "source": [
    "A + B"
   ]
  },
  {
   "cell_type": "code",
   "execution_count": 55,
   "metadata": {},
   "outputs": [
    {
     "data": {
      "text/plain": [
       "array([[0.25, 0.  ],\n",
       "       [0.  , 0.5 ]])"
      ]
     },
     "execution_count": 55,
     "metadata": {},
     "output_type": "execute_result"
    }
   ],
   "source": [
    "A * 1.0 / B"
   ]
  },
  {
   "cell_type": "code",
   "execution_count": 56,
   "metadata": {},
   "outputs": [
    {
     "data": {
      "text/plain": [
       "array([[2, 1],\n",
       "       [1, 2]])"
      ]
     },
     "execution_count": 56,
     "metadata": {},
     "output_type": "execute_result"
    }
   ],
   "source": [
    "A + 1 "
   ]
  },
  {
   "cell_type": "code",
   "execution_count": 57,
   "metadata": {},
   "outputs": [
    {
     "data": {
      "text/plain": [
       "array([[3, 0],\n",
       "       [0, 3]])"
      ]
     },
     "execution_count": 57,
     "metadata": {},
     "output_type": "execute_result"
    }
   ],
   "source": [
    "3 * A"
   ]
  },
  {
   "cell_type": "code",
   "execution_count": 58,
   "metadata": {},
   "outputs": [
    {
     "data": {
      "text/plain": [
       "array([[1, 0],\n",
       "       [0, 1]])"
      ]
     },
     "execution_count": 58,
     "metadata": {},
     "output_type": "execute_result"
    }
   ],
   "source": [
    "A ** 2"
   ]
  },
  {
   "cell_type": "markdown",
   "metadata": {},
   "source": [
    "Поскольку операции выполняются поэлементно, операнды бинарных операций должны иметь одинаковый размер. Тем не менее, операция может быть корректно выполнена, если размеры операндов таковы, что они могут быть расширены до одинаковых размеров. Данная возможность называется [broadcasting](http://www.scipy-lectures.org/intro/numpy/operations.html#broadcasting):\n",
    "![](https://jakevdp.github.io/PythonDataScienceHandbook/figures/02.05-broadcasting.png)"
   ]
  },
  {
   "cell_type": "code",
   "execution_count": 59,
   "metadata": {},
   "outputs": [
    {
     "data": {
      "text/plain": [
       "array([[ 0,  0,  0],\n",
       "       [10, 10, 10],\n",
       "       [20, 20, 20],\n",
       "       [30, 30, 30]])"
      ]
     },
     "execution_count": 59,
     "metadata": {},
     "output_type": "execute_result"
    }
   ],
   "source": [
    "A = np.tile(np.arange(0, 40, 10), (3, 1)).T \n",
    "A"
   ]
  },
  {
   "cell_type": "code",
   "execution_count": 60,
   "metadata": {},
   "outputs": [
    {
     "data": {
      "text/plain": [
       "array([[ 0,  1,  2],\n",
       "       [10, 11, 12],\n",
       "       [20, 21, 22],\n",
       "       [30, 31, 32]])"
      ]
     },
     "execution_count": 60,
     "metadata": {},
     "output_type": "execute_result"
    }
   ],
   "source": [
    "A + np.array([0, 1, 2])"
   ]
  },
  {
   "cell_type": "markdown",
   "metadata": {},
   "source": [
    "## 1.5 Другие операции над матрицами"
   ]
  },
  {
   "cell_type": "code",
   "execution_count": 61,
   "metadata": {},
   "outputs": [
    {
     "data": {
      "text/plain": [
       "array([[ 1,  2,  3],\n",
       "       [ 4,  5,  6],\n",
       "       [ 7,  8, 10]])"
      ]
     },
     "execution_count": 61,
     "metadata": {},
     "output_type": "execute_result"
    }
   ],
   "source": [
    "A = np.array([[1, 2, 3], [4, 5, 6], [7, 8, 10]])\n",
    "A  "
   ]
  },
  {
   "cell_type": "code",
   "execution_count": 62,
   "metadata": {},
   "outputs": [
    {
     "data": {
      "text/plain": [
       "array([[ 1,  4,  7],\n",
       "       [ 2,  5,  8],\n",
       "       [ 3,  6, 10]])"
      ]
     },
     "execution_count": 62,
     "metadata": {},
     "output_type": "execute_result"
    }
   ],
   "source": [
    "A.T  # Транспонирование"
   ]
  },
  {
   "cell_type": "code",
   "execution_count": 63,
   "metadata": {},
   "outputs": [
    {
     "data": {
      "text/plain": [
       "np.float64(-2.9999999999999996)"
      ]
     },
     "execution_count": 63,
     "metadata": {},
     "output_type": "execute_result"
    }
   ],
   "source": [
    "np.linalg.det(A) # Определитель"
   ]
  },
  {
   "cell_type": "code",
   "execution_count": 64,
   "metadata": {},
   "outputs": [
    {
     "data": {
      "text/plain": [
       "np.int64(3)"
      ]
     },
     "execution_count": 64,
     "metadata": {},
     "output_type": "execute_result"
    }
   ],
   "source": [
    "np.linalg.matrix_rank(A) # Ранг матрицы"
   ]
  },
  {
   "cell_type": "code",
   "execution_count": 65,
   "metadata": {},
   "outputs": [
    {
     "data": {
      "text/plain": [
       "array([ 1,  5, 10])"
      ]
     },
     "execution_count": 65,
     "metadata": {},
     "output_type": "execute_result"
    }
   ],
   "source": [
    "np.diag(A) # главная диагональ"
   ]
  },
  {
   "cell_type": "code",
   "execution_count": 66,
   "metadata": {},
   "outputs": [
    {
     "data": {
      "text/plain": [
       "array([[-0.66666667, -1.33333333,  1.        ],\n",
       "       [-0.66666667,  3.66666667, -2.        ],\n",
       "       [ 1.        , -2.        ,  1.        ]])"
      ]
     },
     "execution_count": 66,
     "metadata": {},
     "output_type": "execute_result"
    }
   ],
   "source": [
    "B = np.linalg.inv(A) # обратная матрица\n",
    "B"
   ]
  },
  {
   "cell_type": "code",
   "execution_count": 67,
   "metadata": {},
   "outputs": [
    {
     "data": {
      "text/plain": [
       "array([[1.00000000e+00, 0.00000000e+00, 1.11022302e-16],\n",
       "       [0.00000000e+00, 1.00000000e+00, 2.22044605e-16],\n",
       "       [8.88178420e-16, 0.00000000e+00, 1.00000000e+00]])"
      ]
     },
     "execution_count": 67,
     "metadata": {},
     "output_type": "execute_result"
    }
   ],
   "source": [
    "A@B # Единичная матрица"
   ]
  },
  {
   "cell_type": "code",
   "execution_count": 68,
   "metadata": {},
   "outputs": [
    {
     "data": {
      "text/plain": [
       "np.float64(2.0830858278492343e-30)"
      ]
     },
     "execution_count": 68,
     "metadata": {},
     "output_type": "execute_result"
    }
   ],
   "source": [
    "np.sum((A@B - np.eye(3))**2) # невязка между элементами"
   ]
  },
  {
   "cell_type": "markdown",
   "metadata": {},
   "source": [
    "У некоторых функций бывает параметр `axis`, который позволяет применить эту функцию по разным осям. Если речь о матрицах, то по строкам или столбцам:"
   ]
  },
  {
   "cell_type": "code",
   "execution_count": 69,
   "metadata": {},
   "outputs": [
    {
     "data": {
      "text/plain": [
       "array([[ 1,  2,  3],\n",
       "       [ 4,  5,  6],\n",
       "       [ 7,  8, 10]])"
      ]
     },
     "execution_count": 69,
     "metadata": {},
     "output_type": "execute_result"
    }
   ],
   "source": [
    "A = np.array([[1, 2, 3], [4, 5, 6], [7, 8, 10]])\n",
    "A"
   ]
  },
  {
   "cell_type": "code",
   "execution_count": 70,
   "metadata": {},
   "outputs": [
    {
     "data": {
      "text/plain": [
       "np.int64(46)"
      ]
     },
     "execution_count": 70,
     "metadata": {},
     "output_type": "execute_result"
    }
   ],
   "source": [
    "A.sum()"
   ]
  },
  {
   "cell_type": "markdown",
   "metadata": {},
   "source": [
    "У некоторых функций бывает параметр `axis`, который позволяет применить эту функцию по разным осям - в данном случае, по строкам или столбцам."
   ]
  },
  {
   "cell_type": "code",
   "execution_count": 71,
   "metadata": {},
   "outputs": [
    {
     "data": {
      "text/plain": [
       "array([ 6, 15, 25])"
      ]
     },
     "execution_count": 71,
     "metadata": {},
     "output_type": "execute_result"
    }
   ],
   "source": [
    "np.sum(A, axis=1)"
   ]
  },
  {
   "cell_type": "code",
   "execution_count": 72,
   "metadata": {},
   "outputs": [
    {
     "data": {
      "text/plain": [
       "array([12, 15, 19])"
      ]
     },
     "execution_count": 72,
     "metadata": {},
     "output_type": "execute_result"
    }
   ],
   "source": [
    "np.sum(A, axis=0)"
   ]
  },
  {
   "cell_type": "code",
   "execution_count": 73,
   "metadata": {},
   "outputs": [
    {
     "data": {
      "text/plain": [
       "array([12, 15, 19])"
      ]
     },
     "execution_count": 73,
     "metadata": {},
     "output_type": "execute_result"
    }
   ],
   "source": [
    "A.sum(axis=0) # то же самое, но как метод"
   ]
  },
  {
   "cell_type": "markdown",
   "metadata": {},
   "source": [
    "# 2. Решаем задачи\n",
    "\n",
    "В будущем вы будете учить анализ данных. Там неожиданно выяснится, что любые данные - это матрица. Там-то вы и увидите впервые всю мощь numpy. "
   ]
  },
  {
   "cell_type": "markdown",
   "metadata": {},
   "source": [
    "### Задачка 1 (максимум перед нулем) \n",
    "\n",
    " \n",
    "Реализуйте функцию, возвращающую максимальный элемент в векторе $x$ среди элементов, перед которыми стоит нулевой. \n",
    "\n",
    "Например, для `x = np.array([6, 2, 0, 3, 0, 0, 5, 7, 0])` ответом является `5`. Если нулевых элементов нет, функция должна возвращать `None`."
   ]
  },
  {
   "cell_type": "code",
   "execution_count": 74,
   "metadata": {},
   "outputs": [
    {
     "name": "stdout",
     "output_type": "stream",
     "text": [
      "Случайный вектор:\n",
      "[1 5 8 6 6 1 7 4 4 0]\n",
      "Максимальный элемент:\n",
      "None\n",
      " \n",
      "Случайный вектор:\n",
      "[0 4 5 2 7 3 8 0 4 1]\n",
      "Максимальный элемент:\n",
      "4\n"
     ]
    }
   ],
   "source": [
    "x = np.array([1, 5, 8, 6, 6, 1, 7, 4, 4, 0])\n",
    "y = np.random.randint(9, size=10)\n",
    "\n",
    "def max_element_before_zero(x):\n",
    "    shift_by_one = np.hstack((1, x))\n",
    "    bool_array = (shift_by_one == 0)[:np.size(shift_by_one) - 1]\n",
    "    if np.size(x[bool_array]) == 0:\n",
    "        return None\n",
    "    else:\n",
    "        return np.max(x[bool_array])\n",
    "    \n",
    "print('Случайный вектор:', x, 'Максимальный элемент:', max_element_before_zero(x), sep='\\n')\n",
    "print(' ')\n",
    "print('Случайный вектор:', y, 'Максимальный элемент:', max_element_before_zero(y), sep='\\n')"
   ]
  },
  {
   "cell_type": "markdown",
   "metadata": {},
   "source": [
    "__Зачем?__ \n",
    "\n",
    "К вам в голову тут должна была прийти мысль: \"Зачем? Можно же использовать цикл!\". Да, можно. Но векторные вычисления работают на порядок быстрее. Часто сделать их намного удобнее, чем написать цикл."
   ]
  },
  {
   "cell_type": "markdown",
   "metadata": {},
   "source": [
    "### Задачка 2 (нормировка) \n",
    "\n",
    "Есть матрица $X$. Нужно отнормировать её столбцы к отрезку $[0;1]:$\n",
    "\n",
    "$$\n",
    "x^{*} = \\frac{x−min(x)}{max(x)−min(x)}\n",
    "$$"
   ]
  },
  {
   "cell_type": "code",
   "execution_count": 75,
   "metadata": {},
   "outputs": [
    {
     "data": {
      "text/plain": [
       "array([[ 1.56846445,  0.30081152, -2.1614318 , -0.87495006, -1.4457568 ],\n",
       "       [ 1.08877225, -1.16481522, -0.38667793, -1.29954061, -0.14017814],\n",
       "       [ 0.11348299, -1.26284459, -0.26482452,  0.63619275,  0.70342114],\n",
       "       [-1.65094894,  1.20086771,  1.5189676 ,  0.13667104,  0.32792664],\n",
       "       [-0.74972536,  1.08470149,  1.04749967,  0.49607142, -1.08339565]])"
      ]
     },
     "execution_count": 75,
     "metadata": {},
     "output_type": "execute_result"
    }
   ],
   "source": [
    "X = np.random.normal(size=(5,5))\n",
    "X"
   ]
  },
  {
   "cell_type": "code",
   "execution_count": 76,
   "metadata": {},
   "outputs": [
    {
     "data": {
      "text/plain": [
       "array([[1.        , 0.6346748 , 0.        , 0.21934351, 0.        ],\n",
       "       [0.85100012, 0.03978929, 0.48221774, 0.        , 0.60747816],\n",
       "       [0.54806007, 0.        , 0.51532648, 1.        , 1.        ],\n",
       "       [0.        , 1.        , 1.        , 0.74194705, 0.82528459],\n",
       "       [0.2799341 , 0.95284911, 0.87189762, 0.92761331, 0.16860454]])"
      ]
     },
     "execution_count": 76,
     "metadata": {},
     "output_type": "execute_result"
    }
   ],
   "source": [
    "(X - X.min(axis=0))/(X.max(axis=0) - X.min(axis=0))"
   ]
  },
  {
   "cell_type": "markdown",
   "metadata": {},
   "source": [
    "__Зачем?__ \n",
    "\n",
    "К вам в голову тут должна была прийти мысль: \"Зачем вообще делать это?\". \n",
    "\n",
    "Обычно в машинном обучении по строчкам записывают наблюдения, по столбцам разные признаки. Часто между объектами надо считать расстояния. Представим, что у нас в выборке два наблюдения. Петя, который весит $50$ кг при росте $1$ метр. И Вася, который вести $75$ кг при росте в $1.5$ метра. То есть Петя описывается вектором $(50, 1)$, а Вася $(75, 1.5)$. \n",
    "\n",
    "Если нам надо вычислить между парнями расстояние, мы будем делать это так:"
   ]
  },
  {
   "cell_type": "code",
   "execution_count": 77,
   "metadata": {},
   "outputs": [
    {
     "name": "stdout",
     "output_type": "stream",
     "text": [
      "625\n",
      "0.25\n"
     ]
    },
    {
     "data": {
      "text/plain": [
       "625.25"
      ]
     },
     "execution_count": 77,
     "metadata": {},
     "output_type": "execute_result"
    }
   ],
   "source": [
    "print((50 - 75) ** 2)\n",
    "print((1 - 1.5) ** 2)\n",
    "(50 - 75) ** 2 + (1 - 1.5) ** 2"
   ]
  },
  {
   "cell_type": "markdown",
   "metadata": {},
   "source": [
    "Намного больше внимания уделяется весу. Чтобы такого не возникало, надо отнормировать все признаки к одной шкале. Например, отрезку $[0;1]$. \n",
    "\n",
    "> Если хотите узнать о том как линал используется в машинном обучении больше, смотрите небольшой видос про рекомендательные системы [\"От матрицы до больших данных\"](https://www.youtube.com/watch?v=Or119IXozCM)"
   ]
  },
  {
   "cell_type": "markdown",
   "metadata": {},
   "source": [
    "### Задачка 3 (ближайший в матрице) \n",
    "\n",
    "Реализуйте функцию, принимающую на вход матрицу $X$ и некоторое число $a$ и возвращающую ближайший к числу элемент матрицы. А потом перепишите её так, чтобы она возвращала самый дальний элемент. "
   ]
  },
  {
   "cell_type": "code",
   "execution_count": 78,
   "metadata": {},
   "outputs": [
    {
     "name": "stdout",
     "output_type": "stream",
     "text": [
      "Матрица:\n",
      "[[0 1 2 3 4]\n",
      " [5 6 7 8 9]]\n",
      "Число:\n",
      "3.6\n",
      "Ближайший к числу элемент матрицы:\n",
      "4\n"
     ]
    }
   ],
   "source": [
    "def nearest_value(X, v):\n",
    "    Y = np.abs(X - v)\n",
    "    m = np.min(Y)\n",
    "    inds = np.where(Y == m)\n",
    "    return X[inds[0][0], inds[1][0]]\n",
    "\n",
    "X = np.arange(0,10).reshape((2, 5))\n",
    "v = 3.6\n",
    "print ('Матрица:', X, 'Число:', v, 'Ближайший к числу элемент матрицы:', nearest_value(X, v), sep='\\n')"
   ]
  },
  {
   "cell_type": "code",
   "execution_count": 79,
   "metadata": {},
   "outputs": [
    {
     "name": "stdout",
     "output_type": "stream",
     "text": [
      "Матрица:\n",
      "[[0 1 2 3 4]\n",
      " [5 6 7 8 9]]\n",
      "Число:\n",
      "3.6\n",
      "Ближайший к числу элемент матрицы:\n",
      "4\n"
     ]
    }
   ],
   "source": [
    "# Решение в одну строку\n",
    "def get_nearest_value(X, v):\n",
    "    return X.reshape(1, -1)[0][np.argmin(np.abs(X - v))]\n",
    "\n",
    "print ('Матрица:', X, 'Число:', v, \n",
    "       'Ближайший к числу элемент матрицы:', get_nearest_value(X, v), sep='\\n')"
   ]
  },
  {
   "cell_type": "markdown",
   "metadata": {},
   "source": [
    "### Задачка 4 (ближайшая строка в матрице) \n",
    "\n",
    "Усложним предыдущую задачу! Дана матрица $X$ и вектор $v$. Нужно найти в матрице $X$ строку, которая будет ближе всего к вектору $v$. "
   ]
  },
  {
   "cell_type": "code",
   "execution_count": 80,
   "metadata": {},
   "outputs": [
    {
     "data": {
      "text/plain": [
       "(array([[0.44, 0.48, 0.47],\n",
       "        [0.51, 0.5 , 0.48],\n",
       "        [0.4 , 0.52, 0.54],\n",
       "        [0.57, 0.55, 0.44],\n",
       "        [0.48, 0.53, 0.47]]),\n",
       " array([[0.10817927],\n",
       "        [0.86671588],\n",
       "        [0.76782416],\n",
       "        [0.70964692],\n",
       "        [0.66603871]]))"
      ]
     },
     "execution_count": 80,
     "metadata": {},
     "output_type": "execute_result"
    }
   ],
   "source": [
    "X = np.random.binomial(100, 0.5, size=(5,3))/100\n",
    "v = np.random.uniform(size=(5,1))\n",
    "X, v"
   ]
  },
  {
   "cell_type": "code",
   "execution_count": 81,
   "metadata": {},
   "outputs": [
    {
     "data": {
      "text/plain": [
       "array([[0.110105  , 0.13825066, 0.13091424],\n",
       "       [0.12724622, 0.13448054, 0.14954917],\n",
       "       [0.13529461, 0.06141681, 0.05190385],\n",
       "       [0.01950126, 0.02548714, 0.07270946],\n",
       "       [0.0346104 , 0.01850653, 0.03843117]])"
      ]
     },
     "execution_count": 81,
     "metadata": {},
     "output_type": "execute_result"
    }
   ],
   "source": [
    "R = (X - v)**2\n",
    "R"
   ]
  },
  {
   "cell_type": "code",
   "execution_count": 82,
   "metadata": {},
   "outputs": [
    {
     "data": {
      "text/plain": [
       "array([0.65326679, 0.61493226, 0.66596389])"
      ]
     },
     "execution_count": 82,
     "metadata": {},
     "output_type": "execute_result"
    }
   ],
   "source": [
    "z = np.sqrt(np.sum(R, axis=0))\n",
    "z"
   ]
  },
  {
   "cell_type": "code",
   "execution_count": 83,
   "metadata": {},
   "outputs": [
    {
     "data": {
      "text/plain": [
       "array([[[0.48, 0.5 , 0.52, 0.55, 0.53]]])"
      ]
     },
     "execution_count": 83,
     "metadata": {},
     "output_type": "execute_result"
    }
   ],
   "source": [
    "X[:, np.where(z == np.min(z))].T"
   ]
  },
  {
   "cell_type": "markdown",
   "metadata": {},
   "source": [
    "__Зачем?__ \n",
    "\n",
    "Зачем вообще кому-то нужны задания 3 и 4?! В машинном обучения всюду вектора! Например, есть волшебная технология __word2vec__. В ней все слова превращают в вектора так, чтобы в них был закодирован смысл слова. В итоге неожиданно оказывается, что эти вектора можно складывать и вычитать. Если взять вектор _король_, вычесть из него _мужчина_ и добавить _женщина_, внезапно получится вектор, самым близким к которому является _королева_. \n",
    "\n",
    "Все эти вычисления удобно делать в `numpy`, написанными нами функциями. Поиграться с такой моделью и калькулятором слов можно [на сайте resvectores](https://rusvectores.org/ru/calculator/#)"
   ]
  },
  {
   "cell_type": "markdown",
   "metadata": {},
   "source": [
    " "
   ]
  },
  {
   "cell_type": "markdown",
   "metadata": {},
   "source": [
    "### Больше заданий для практики можно найти: \n",
    "\n",
    "- В [необязательном контесте](https://official.contest.yandex.ru/contest/25960/enter/) вас ждут простые и не очень задачи на numpy\n",
    "- В сборнике [100 упражнений на `numpy`](https://github.com/rougier/numpy-100/blob/master/100_Numpy_exercises_with_solutions.md), там же [вариант без решения с подсказками.](https://github.com/rougier/numpy-100) Некоторые упражнения странные и бесполезные. \n",
    "\n",
    "Ещё можно почитать [numpy tutorial](http://cs231n.github.io/python-numpy-tutorial/)"
   ]
  },
  {
   "cell_type": "markdown",
   "metadata": {},
   "source": [
    "------------------------"
   ]
  },
  {
   "cell_type": "markdown",
   "metadata": {},
   "source": [
    "# 3. Бонус-трек: линейная алгебра\n",
    "\n",
    "> Эту часть тетрадки мы __НЕ будем__ делать на семинаре. Её можно помотреть после него. Внутри много полезного функционала. Но ясное дело далеко не весь. Если хочется больше линала, да ещё и с python, добро пожаловать [курс по линал от ББ Демешева](https://www.coursera.org/learn/lineinaya-algebra) \n",
    "\n",
    "В этой части тетрадки мы поглубже поссмотим на функционал пакета. Далее нам понабится модуль `numpy.linalg`, реализующий некоторые приложения линейной алгебры."
   ]
  },
  {
   "cell_type": "markdown",
   "metadata": {},
   "source": [
    "## 3.1 Нормы векторов \n",
    "\n",
    "Вспомним некоторые нормы, которые можно ввести в пространстве $\\mathbb{R}^{n}$, и рассмотрим, с помощью каких библиотек и функций их можно вычислять в `numpy`.  Для вычисления различных норм мы используем функцию `numpy.linalg.norm(x, ord=None, ...)`, где `x` — исходный вектор, `ord` — параметр, определяющий норму (мы рассмотрим два варианта его значений — 1 и 2). \n",
    "\n",
    "### $\\ell_{2}$ норма\n",
    "\n",
    "$\\ell_{2}$ норма (также известная как евклидова норма)\n",
    "для вектора $x = (x_{1}, \\dots, x_{n}) \\in \\mathbb{R}^{n}$ вычисляется по формуле:\n",
    "\n",
    "$$\n",
    " \\left\\Vert x \\right\\Vert_{2} = \\sqrt{\\sum_{i=1}^n \\left( x_{i} \\right)^2}.\n",
    "$$\n",
    "\n",
    "Ей в функции `numpy.linalg.norm(x, ord=None, ...)` соответствует параметр `ord=2`."
   ]
  },
  {
   "cell_type": "code",
   "execution_count": 84,
   "metadata": {},
   "outputs": [],
   "source": [
    "from numpy.linalg import norm"
   ]
  },
  {
   "cell_type": "code",
   "execution_count": 85,
   "metadata": {},
   "outputs": [
    {
     "data": {
      "text/plain": [
       "np.float64(3.7416573867739413)"
      ]
     },
     "execution_count": 85,
     "metadata": {},
     "output_type": "execute_result"
    }
   ],
   "source": [
    "a = np.array([1, 2, -3])\n",
    "norm(a, ord=2)"
   ]
  },
  {
   "cell_type": "markdown",
   "metadata": {},
   "source": [
    "### $\\ell_{1}$ норма\n",
    "\n",
    "$\\ell_{1}$ норма \n",
    "(также известная как [манхэттенское расстояние](https://ru.wikipedia.org/wiki/%D0%A0%D0%B0%D1%81%D1%81%D1%82%D0%BE%D1%8F%D0%BD%D0%B8%D0%B5_%D0%B3%D0%BE%D1%80%D0%BE%D0%B4%D1%81%D0%BA%D0%B8%D1%85_%D0%BA%D0%B2%D0%B0%D1%80%D1%82%D0%B0%D0%BB%D0%BE%D0%B2))\n",
    "для вектора $x = (x_{1}, \\dots, x_{n}) \\in \\mathbb{R}^{n}$ вычисляется по формуле:\n",
    "\n",
    "$$\n",
    " \\left\\Vert x \\right\\Vert_{1} = \\sum_{i=1}^n \\left| x_{i} \\right|.\n",
    "$$\n",
    "\n",
    "Ей в функции `numpy.linalg.norm(x, ord=None, ...)` соответствует параметр `ord=1`."
   ]
  },
  {
   "cell_type": "code",
   "execution_count": 86,
   "metadata": {},
   "outputs": [
    {
     "data": {
      "text/plain": [
       "np.float64(6.0)"
      ]
     },
     "execution_count": 86,
     "metadata": {},
     "output_type": "execute_result"
    }
   ],
   "source": [
    "a = np.array([1, 2, -3])\n",
    "norm(a, ord=1)"
   ]
  },
  {
   "cell_type": "markdown",
   "metadata": {},
   "source": [
    "Более подробно о том, какие еще нормы (в том числе матричные) можно вычислить, см. [документацию](http://docs.scipy.org/doc/numpy-1.10.0/reference/generated/numpy.linalg.norm.html). "
   ]
  },
  {
   "cell_type": "markdown",
   "metadata": {},
   "source": [
    "## 3.2   Расстояния между векторами\n",
    "\n",
    "Для двух векторов $x = (x_{1}, \\dots, x_{n}) \\in \\mathbb{R}^{n}$ и $y = (y_{1}, \\dots, y_{n}) \\in \\mathbb{R}^{n}$ $\\ell_{1}$ и $\\ell_{2}$ раccтояния вычисляются по следующим формулам соответственно:\n",
    "\n",
    "$$\n",
    " \\rho_{1}\\left( x, y \\right) = \\left\\Vert x - y \\right\\Vert_{1} = \\sum_{i=1}^n \\left| x_{i} - y_{i} \\right|\n",
    "$$\n",
    "\n",
    "$$\n",
    " \\rho_{2}\\left( x, y \\right) = \\left\\Vert x - y \\right\\Vert_{2} = \n",
    " \\sqrt{\\sum_{i=1}^n \\left( x_{i} - y_{i} \\right)^2}.\n",
    "$$"
   ]
  },
  {
   "cell_type": "code",
   "execution_count": 87,
   "metadata": {},
   "outputs": [],
   "source": [
    "a = np.array([1, 2, -3])\n",
    "b = np.array([-4, 3, 8])"
   ]
  },
  {
   "cell_type": "code",
   "execution_count": 88,
   "metadata": {},
   "outputs": [
    {
     "data": {
      "text/plain": [
       "np.float64(17.0)"
      ]
     },
     "execution_count": 88,
     "metadata": {},
     "output_type": "execute_result"
    }
   ],
   "source": [
    "norm(a - b, ord=1)"
   ]
  },
  {
   "cell_type": "code",
   "execution_count": 89,
   "metadata": {},
   "outputs": [
    {
     "data": {
      "text/plain": [
       "np.float64(12.12435565298214)"
      ]
     },
     "execution_count": 89,
     "metadata": {},
     "output_type": "execute_result"
    }
   ],
   "source": [
    "norm(a - b, ord=2)"
   ]
  },
  {
   "cell_type": "markdown",
   "metadata": {},
   "source": [
    "Также расстояние между векторами можно посчитать с помощью функции  `scipy.spatial.distance.cdist(XA, XB, metric='euclidean', p=2, ...)` из модуля `scipy`, предназначенного для выполнения научных и инженерных расчётов. "
   ]
  },
  {
   "cell_type": "code",
   "execution_count": 90,
   "metadata": {},
   "outputs": [],
   "source": [
    "from scipy.spatial.distance import cdist"
   ]
  },
  {
   "cell_type": "markdown",
   "metadata": {},
   "source": [
    "`scipy.spatial.distance.cdist(...)` требует, чтобы размерность `XA` и `XB` была как минимум двумерная. По этой причине для использования этой функции необходимо преобразовать _векторы_, которые мы рассматриваем в этом ноутбуке, к _вектор-строкам_ с помощью способов, которые мы рассмотрим ниже. \n",
    "\n",
    "Параметры `XA, XB` — исходные вектор-строки, а `metric` и `p` задают метрику расстояния\n",
    "(более подробно о том, какие метрики можно использовать, см. [документацию](http://docs.scipy.org/doc/scipy-0.16.0/reference/generated/scipy.spatial.distance.cdist.html))."
   ]
  },
  {
   "cell_type": "markdown",
   "metadata": {},
   "source": [
    "Первый способ из _вектора_ сделать _веткор-строку (вектор-столбец)_ — это использовать _метод_ `array.reshape(shape)`, где параметр `shape` задает размерность вектора (кортеж чисел)."
   ]
  },
  {
   "cell_type": "code",
   "execution_count": 91,
   "metadata": {},
   "outputs": [
    {
     "name": "stdout",
     "output_type": "stream",
     "text": [
      "Вектор a: [ 6  3 -5]\n",
      "Его размерность: (3,)\n",
      "Вектор b: [-1  0  7]\n",
      "Его размерность: (3,)\n"
     ]
    }
   ],
   "source": [
    "a = np.array([6, 3, -5])\n",
    "b = np.array([-1, 0, 7])\n",
    "\n",
    "print('Вектор a:', a)\n",
    "print('Его размерность:', a.shape)\n",
    "print('Вектор b:', b)\n",
    "print('Его размерность:', b.shape)"
   ]
  },
  {
   "cell_type": "code",
   "execution_count": 92,
   "metadata": {},
   "outputs": [
    {
     "name": "stdout",
     "output_type": "stream",
     "text": [
      "После применения метода reshape:\n",
      "\n",
      "Вектор-строка a: [[ 6  3 -5]]\n",
      "Его размерность: (1, 3)\n",
      "Вектор-строка b: [[-1  0  7]]\n",
      "Его размерность: (1, 3)\n"
     ]
    }
   ],
   "source": [
    "a = a.reshape((1, 3))\n",
    "b = b.reshape((1, 3))\n",
    "\n",
    "print('После применения метода reshape:\\n')\n",
    "print('Вектор-строка a:', a)\n",
    "print('Его размерность:', a.shape)\n",
    "print('Вектор-строка b:', b)\n",
    "print('Его размерность:', b.shape)"
   ]
  },
  {
   "cell_type": "code",
   "execution_count": 93,
   "metadata": {},
   "outputs": [
    {
     "name": "stdout",
     "output_type": "stream",
     "text": [
      "Манхэттенское расстояние между a и b (через cdist): [[22.]]\n"
     ]
    }
   ],
   "source": [
    "print('Манхэттенское расстояние между a и b (через cdist):', cdist(a, b, metric='cityblock'))"
   ]
  },
  {
   "cell_type": "markdown",
   "metadata": {},
   "source": [
    "Заметим, что после применения этого метода размерность полученных вектор-строк будет равна `shape`. Следующий метод позволяет сделать такое же преобразование, но не изменяет размерность исходного вектора.  "
   ]
  },
  {
   "cell_type": "markdown",
   "metadata": {},
   "source": [
    "В `numpy` к размерностям объектов можно добавлять фиктивные оси с помощью `np.newaxis`. Для того, чтобы понять, как это сделать, рассмотрим пример:"
   ]
  },
  {
   "cell_type": "code",
   "execution_count": 94,
   "metadata": {},
   "outputs": [
    {
     "name": "stdout",
     "output_type": "stream",
     "text": [
      "Вектор d: [  3   0   8   9 -10]\n",
      "Его размерность: (5,)\n"
     ]
    }
   ],
   "source": [
    "d = np.array([3, 0, 8, 9, -10])\n",
    "\n",
    "print('Вектор d:', d)\n",
    "print('Его размерность:', d.shape)"
   ]
  },
  {
   "cell_type": "code",
   "execution_count": 95,
   "metadata": {},
   "outputs": [
    {
     "name": "stdout",
     "output_type": "stream",
     "text": [
      "Вектор d с newaxis --> вектор-строка:\n",
      " [[  3   0   8   9 -10]]\n",
      "Полученная размерность: (1, 5)\n",
      " \n",
      "Вектор d с newaxis --> вектор-столбец:\n",
      " [[  3]\n",
      " [  0]\n",
      " [  8]\n",
      " [  9]\n",
      " [-10]]\n",
      "Полученная размерность: (5, 1)\n"
     ]
    }
   ],
   "source": [
    "print('Вектор d с newaxis --> вектор-строка:\\n', d[np.newaxis, :])\n",
    "print('Полученная размерность:', d[np.newaxis, :].shape)\n",
    "print(' ')\n",
    "print('Вектор d с newaxis --> вектор-столбец:\\n', d[:, np.newaxis])\n",
    "print('Полученная размерность:', d[:, np.newaxis].shape)"
   ]
  },
  {
   "cell_type": "markdown",
   "metadata": {},
   "source": [
    "Важно, что `np.newaxis` добавляет к размерности ось, длина которой равна 1 (это и логично, так как количество элементов должно сохраняться). Таким образом, надо вставлять новую ось там, где нужна единица в размерности. "
   ]
  },
  {
   "cell_type": "markdown",
   "metadata": {},
   "source": [
    "Теперь посчитаем расстояния с помощью `scipy.spatial.distance.cdist(...)`, используя `np.newaxis` для преобразования векторов:"
   ]
  },
  {
   "cell_type": "code",
   "execution_count": 96,
   "metadata": {},
   "outputs": [
    {
     "name": "stdout",
     "output_type": "stream",
     "text": [
      "Евклидово расстояние между a и b (через cdist): [[14.2126704]]\n"
     ]
    }
   ],
   "source": [
    "a = np.array([6, 3, -5])\n",
    "b = np.array([-1, 0, 7])\n",
    "\n",
    "print('Евклидово расстояние между a и b (через cdist):', cdist(a[np.newaxis, :], \n",
    "                                                               b[np.newaxis, :], \n",
    "                                                               metric='euclidean'))"
   ]
  },
  {
   "cell_type": "markdown",
   "metadata": {},
   "source": [
    "Эта функция также позволяет вычислять попарные расстояния между множествами векторов. Например, пусть у нас имеется матрица размера $m_{A} \\times n$. Мы можем рассматривать ее как описание некоторых $m_{A}$ наблюдений в $n$-мерном пространстве. Пусть также имеется еще одна аналогичная матрица размера $m_{B} \\times n$, где  $m_{B}$ векторов в том же $n$-мерном пространстве. Часто необходимо посчитать попарные расстояния между векторами первого и второго множеств. \n",
    "\n",
    "В этом случае можно пользоваться функцией `scipy.spatial.distance.cdist(XA, XB, metric='euclidean', p=2, ...)`, где в качестве `XA, XB` необходимо передать две описанные матрицы. Функция возаращает матрицу попарных расстояний размера $m_{A} \\times m_{B}$, где элемент матрицы на $[i, j]$-ой позиции равен расстоянию между $i$-тым вектором первого множества и $j$-ым вектором второго множества. \n",
    "\n",
    "В данном случае эта функция предподчительнее `numpy.linalg.norm(...)`, так как она вычисляет попарные расстояния быстрее и эффективнее. "
   ]
  },
  {
   "cell_type": "markdown",
   "metadata": {},
   "source": [
    "## 3.3 Скалярное произведение и угол между векторами"
   ]
  },
  {
   "cell_type": "code",
   "execution_count": 97,
   "metadata": {},
   "outputs": [],
   "source": [
    "a = np.array([0, 5, -1])\n",
    "b = np.array([-4, 9, 3])"
   ]
  },
  {
   "cell_type": "markdown",
   "metadata": {},
   "source": [
    "Скалярное произведение в пространстве $\\mathbb{R}^{n}$ для двух векторов $x = (x_{1}, \\dots, x_{n})$ и $y = (y_{1}, \\dots, y_{n})$ определяется как:\n",
    "\n",
    "$$\n",
    "\\langle x, y \\rangle = \\sum_{i=1}^n x_{i} y_{i}.\n",
    "$$"
   ]
  },
  {
   "cell_type": "markdown",
   "metadata": {},
   "source": [
    "Скалярное произведение двух векторов можно вычислять помощью функции `numpy.dot(a, b, ...)` или _метода_ `vec1.dot(vec2)`, где `vec1` и `vec2` — исходные векторы. Также эти функции подходят для матричного умножения, о котором речь пойдет в следующем уроке. "
   ]
  },
  {
   "cell_type": "code",
   "execution_count": 98,
   "metadata": {},
   "outputs": [
    {
     "data": {
      "text/plain": [
       "np.int64(42)"
      ]
     },
     "execution_count": 98,
     "metadata": {},
     "output_type": "execute_result"
    }
   ],
   "source": [
    "np.dot(a, b) # через функцию"
   ]
  },
  {
   "cell_type": "code",
   "execution_count": 99,
   "metadata": {},
   "outputs": [
    {
     "data": {
      "text/plain": [
       "np.int64(42)"
      ]
     },
     "execution_count": 99,
     "metadata": {},
     "output_type": "execute_result"
    }
   ],
   "source": [
    "a.dot(b) # через метод"
   ]
  },
  {
   "cell_type": "code",
   "execution_count": 100,
   "metadata": {},
   "outputs": [
    {
     "data": {
      "text/plain": [
       "np.int64(42)"
      ]
     },
     "execution_count": 100,
     "metadata": {},
     "output_type": "execute_result"
    }
   ],
   "source": [
    "a@b # через матричное умножение"
   ]
  },
  {
   "cell_type": "markdown",
   "metadata": {},
   "source": [
    "Длиной вектора $x = (x_{1}, \\dots, x_{n}) \\in \\mathbb{R}^{n}$ называется квадратный корень из скалярного произведения, то есть длина равна евклидовой норме вектора:\n",
    "\n",
    "$$\n",
    "\\left| x \\right| = \\sqrt{\\langle x, x \\rangle} = \\sqrt{\\sum_{i=1}^n x_{i}^2} =  \\left\\Vert x \\right\\Vert_{2}.\n",
    "$$"
   ]
  },
  {
   "cell_type": "markdown",
   "metadata": {},
   "source": [
    "Теперь, когда мы знаем расстояние между двумя ненулевыми векторами и их длины, мы можем вычислить угол между ними через скалярное произведение:\n",
    "\n",
    "$$\n",
    "\\langle x, y \\rangle = \\left| x \\right| | y | \\cos(\\alpha)\n",
    "\\implies \\cos(\\alpha) = \\frac{\\langle x, y \\rangle}{\\left| x \\right| | y |},\n",
    "$$\n",
    "\n",
    "где $\\alpha \\in [0, \\pi]$ — угол между векторами $x$ и $y$."
   ]
  },
  {
   "cell_type": "code",
   "execution_count": 101,
   "metadata": {},
   "outputs": [
    {
     "data": {
      "text/plain": [
       "np.float64(0.8000362836474323)"
      ]
     },
     "execution_count": 101,
     "metadata": {},
     "output_type": "execute_result"
    }
   ],
   "source": [
    "cos_angle = np.dot(a, b) / norm(a) / norm(b)\n",
    "cos_angle  # косинус угла"
   ]
  },
  {
   "cell_type": "code",
   "execution_count": 102,
   "metadata": {},
   "outputs": [
    {
     "data": {
      "text/plain": [
       "np.float64(0.6434406336093618)"
      ]
     },
     "execution_count": 102,
     "metadata": {},
     "output_type": "execute_result"
    }
   ],
   "source": [
    "np.arccos(cos_angle) # сам угол"
   ]
  },
  {
   "cell_type": "markdown",
   "metadata": {},
   "source": [
    "Более подробно о том, как вычислять скалярное произведение в `numpy`, \n",
    "см. [документацию](http://docs.scipy.org/doc/numpy/reference/routines.linalg.html#matrix-and-vector-products)."
   ]
  },
  {
   "cell_type": "markdown",
   "metadata": {},
   "source": [
    "## 3.4 Системы линейных уравнений\n",
    "\n",
    "__Системой линейных алгебраических уравнений__ называется система вида $Ax = b$, где $A \\in \\mathbb{R}^{n \\times m}, x \\in \\mathbb{R}^{m \\times 1}, b \\in \\mathbb{R}^{n \\times 1}$. В случае квадратной невырожденной матрицы $A$ решение системы единственно.\n",
    "\n",
    "В `numpy` решение такой системы можно найти с помощью функции `numpy.linalg.solve(a, b)`, где первый аргумент — матрица $A$, второй — столбец $b$."
   ]
  },
  {
   "cell_type": "code",
   "execution_count": 103,
   "metadata": {},
   "outputs": [
    {
     "data": {
      "text/plain": [
       "array([2., 3.])"
      ]
     },
     "execution_count": 103,
     "metadata": {},
     "output_type": "execute_result"
    }
   ],
   "source": [
    "A = np.array([[3, 1], [1, 2]])\n",
    "b = np.array([9, 8])\n",
    "x = np.linalg.solve(A, b)\n",
    "x"
   ]
  },
  {
   "cell_type": "markdown",
   "metadata": {},
   "source": [
    "Убедимся, что вектор $x$ действительно является решением системы:"
   ]
  },
  {
   "cell_type": "code",
   "execution_count": 104,
   "metadata": {},
   "outputs": [
    {
     "data": {
      "text/plain": [
       "array([9., 8.])"
      ]
     },
     "execution_count": 104,
     "metadata": {},
     "output_type": "execute_result"
    }
   ],
   "source": [
    "A.dot(x)"
   ]
  },
  {
   "cell_type": "markdown",
   "metadata": {},
   "source": [
    "Бывают случаи, когда решение системы не существует. Но хотелось бы все равно \"решить\" такую систему. Логичным кажется искать такой вектор $x$, который минимизирует выражение $\\left\\Vert Ax - b\\right\\Vert^{2}$ — так мы приблизим выражение $Ax$ к $b$.\n",
    "\n",
    "В `numpy` такое псевдорешение можно искать с помощью функции `numpy.linalg.lstsq(a, b, ...)`, где первые два аргумента такие же, как и для функции `numpy.linalg.solve()`. \n",
    "\n",
    "Помимо решения функция возвращает еще три значения, которые нам сейчас не понадобятся."
   ]
  },
  {
   "cell_type": "code",
   "execution_count": 105,
   "metadata": {},
   "outputs": [],
   "source": [
    "A = np.array([[0, 1], [1, 1], [2, 1], [3, 1]])\n",
    "b = np.array([-1, 0.2, 0.9, 2.1])\n",
    "x, res, r, s = np.linalg.lstsq(A, b)"
   ]
  },
  {
   "cell_type": "code",
   "execution_count": 106,
   "metadata": {},
   "outputs": [
    {
     "data": {
      "text/plain": [
       "array([[0, 1],\n",
       "       [1, 1],\n",
       "       [2, 1],\n",
       "       [3, 1]])"
      ]
     },
     "execution_count": 106,
     "metadata": {},
     "output_type": "execute_result"
    }
   ],
   "source": [
    "A"
   ]
  },
  {
   "cell_type": "code",
   "execution_count": 107,
   "metadata": {},
   "outputs": [
    {
     "data": {
      "text/plain": [
       "array([-1. ,  0.2,  0.9,  2.1])"
      ]
     },
     "execution_count": 107,
     "metadata": {},
     "output_type": "execute_result"
    }
   ],
   "source": [
    "b"
   ]
  },
  {
   "cell_type": "code",
   "execution_count": 108,
   "metadata": {},
   "outputs": [
    {
     "data": {
      "text/plain": [
       "array([ 1.  , -0.95])"
      ]
     },
     "execution_count": 108,
     "metadata": {},
     "output_type": "execute_result"
    }
   ],
   "source": [
    "x"
   ]
  },
  {
   "cell_type": "markdown",
   "metadata": {},
   "source": [
    "## 3.5 Собственные числа и собственные вектора матрицы\n",
    "\n",
    "Для квадратных матриц определены понятия __собственного вектора__ и __собственного числа__.\n",
    "\n",
    "Пусть $A$ — квадратная матрица и $A \\in \\mathbb{R}^{n \\times n}$. __Собственным вектором__ матрицы $A$ называется такой ненулевой вектор $x \\in \\mathbb{R}^{n}$, что для некоторого $\\lambda \\in \\mathbb{R}$ выполняется равенство $Ax = \\lambda x$. При этом $\\lambda$ называется __собственным числом__ матрицы $A$. Собственные числа и собственные векторы матрицы играют важную роль в теории линейной алгебры и ее практических приложениях.\n",
    "\n",
    "В `numpy` собственные числа и собственные векторы матрицы вычисляются с помощью функции `numpy.linalg.eig(a)`, где `a` — исходная матрица. В качестве результата эта функция выдает одномерный массив `v` собственных чисел и двумерный массив `w`, в котором по столбцам записаны собственные вектора, так что вектор `w[:, i]` соотвествует собственному числу `v[i]`."
   ]
  },
  {
   "cell_type": "code",
   "execution_count": 109,
   "metadata": {},
   "outputs": [],
   "source": [
    "a = np.array([[-1, -6], [2, 6]])\n",
    "w, v = np.linalg.eig(a)"
   ]
  },
  {
   "cell_type": "code",
   "execution_count": 110,
   "metadata": {},
   "outputs": [
    {
     "data": {
      "text/plain": [
       "array([2., 3.])"
      ]
     },
     "execution_count": 110,
     "metadata": {},
     "output_type": "execute_result"
    }
   ],
   "source": [
    "w"
   ]
  },
  {
   "cell_type": "code",
   "execution_count": 111,
   "metadata": {},
   "outputs": [
    {
     "data": {
      "text/plain": [
       "array([[-0.89442719,  0.83205029],\n",
       "       [ 0.4472136 , -0.5547002 ]])"
      ]
     },
     "execution_count": 111,
     "metadata": {},
     "output_type": "execute_result"
    }
   ],
   "source": [
    "v"
   ]
  },
  {
   "cell_type": "markdown",
   "metadata": {},
   "source": [
    "__Обратите внимание:__ у вещественной матрицы собственные значения или собственные векторы могут быть комплексными."
   ]
  },
  {
   "cell_type": "markdown",
   "metadata": {},
   "source": [
    "## 3.6  Комплексные числа в питоне\n",
    "\n",
    "__Комплексными числами__ называются числа вида $x + iy$, где $x$ и $y$ — вещественные числа, а $i$ — мнимая единица (величина, для которой выполняется равенство $i^{2} = -1$). Множество всех комплексных чисел обозначается буквой $\\mathbb{C}$ (подробнее про комплексные числа см. [википедию](https://ru.wikipedia.org/wiki/%D0%9A%D0%BE%D0%BC%D0%BF%D0%BB%D0%B5%D0%BA%D1%81%D0%BD%D0%BE%D0%B5_%D1%87%D0%B8%D1%81%D0%BB%D0%BE)).\n",
    "\n",
    "В питоне комплескные числа можно задать следующим образом ( $j$ обозначает мнимую единицу):"
   ]
  },
  {
   "cell_type": "code",
   "execution_count": 112,
   "metadata": {},
   "outputs": [
    {
     "data": {
      "text/plain": [
       "(3+2j)"
      ]
     },
     "execution_count": 112,
     "metadata": {},
     "output_type": "execute_result"
    }
   ],
   "source": [
    "a = 3 + 2j\n",
    "a"
   ]
  },
  {
   "cell_type": "code",
   "execution_count": 113,
   "metadata": {},
   "outputs": [
    {
     "data": {
      "text/plain": [
       "1j"
      ]
     },
     "execution_count": 113,
     "metadata": {},
     "output_type": "execute_result"
    }
   ],
   "source": [
    "b = 1j\n",
    "b"
   ]
  },
  {
   "cell_type": "code",
   "execution_count": 114,
   "metadata": {},
   "outputs": [
    {
     "data": {
      "text/plain": [
       "(5+12j)"
      ]
     },
     "execution_count": 114,
     "metadata": {},
     "output_type": "execute_result"
    }
   ],
   "source": [
    "a * a"
   ]
  },
  {
   "cell_type": "code",
   "execution_count": 115,
   "metadata": {},
   "outputs": [
    {
     "data": {
      "text/plain": [
       "(0.0487804878048781+0.5609756097560976j)"
      ]
     },
     "execution_count": 115,
     "metadata": {},
     "output_type": "execute_result"
    }
   ],
   "source": [
    "a / (4 - 5j)"
   ]
  },
  {
   "cell_type": "code",
   "execution_count": 116,
   "metadata": {},
   "outputs": [
    {
     "data": {
      "text/plain": [
       "np.float64(3.6055512754639896)"
      ]
     },
     "execution_count": 116,
     "metadata": {},
     "output_type": "execute_result"
    }
   ],
   "source": [
    "np.abs(a)"
   ]
  },
  {
   "cell_type": "code",
   "execution_count": 117,
   "metadata": {},
   "outputs": [
    {
     "data": {
      "text/plain": [
       "np.float64(3.605551275463989)"
      ]
     },
     "execution_count": 117,
     "metadata": {},
     "output_type": "execute_result"
    }
   ],
   "source": [
    "np.sqrt(3**2 + 2**2)"
   ]
  }
 ],
 "metadata": {
  "kernelspec": {
   "display_name": "Python 3",
   "language": "python",
   "name": "python3"
  },
  "language_info": {
   "codemirror_mode": {
    "name": "ipython",
    "version": 3
   },
   "file_extension": ".py",
   "mimetype": "text/x-python",
   "name": "python",
   "nbconvert_exporter": "python",
   "pygments_lexer": "ipython3",
   "version": "3.13.1"
  }
 },
 "nbformat": 4,
 "nbformat_minor": 4
}
