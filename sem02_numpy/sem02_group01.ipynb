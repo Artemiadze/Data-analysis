{
 "cells": [
  {
   "cell_type": "code",
   "execution_count": 2,
   "id": "27ae1cbc",
   "metadata": {},
   "outputs": [
    {
     "data": {
      "text/plain": [
       "[1, 2, 3, 8, 9, 10]"
      ]
     },
     "execution_count": 2,
     "metadata": {},
     "output_type": "execute_result"
    }
   ],
   "source": [
    "import numpy as np\n",
    "\n",
    "x = [1, 2, 3]\n",
    "y = [8, 9, 10]\n",
    "\n",
    "x + y "
   ]
  },
  {
   "cell_type": "code",
   "execution_count": 3,
   "id": "89d41816",
   "metadata": {},
   "outputs": [
    {
     "data": {
      "text/plain": [
       "array([ 9, 11, 13])"
      ]
     },
     "execution_count": 3,
     "metadata": {},
     "output_type": "execute_result"
    }
   ],
   "source": [
    "a = np.array(x) \n",
    "b = np.array(y)\n",
    "\n",
    "a + b"
   ]
  },
  {
   "cell_type": "code",
   "execution_count": 4,
   "id": "f7a939a0",
   "metadata": {},
   "outputs": [
    {
     "ename": "TypeError",
     "evalue": "can't multiply sequence by non-int of type 'list'",
     "output_type": "error",
     "traceback": [
      "\u001b[0;31m---------------------------------------------------------------------------\u001b[0m",
      "\u001b[0;31mTypeError\u001b[0m                                 Traceback (most recent call last)",
      "\u001b[1;32m/Users/randomwalk/Desktop/sem02_group01.ipynb Cell 3\u001b[0m line \u001b[0;36m1\n\u001b[0;32m----> <a href='vscode-notebook-cell:/Users/randomwalk/Desktop/sem02_group01.ipynb#X34sZmlsZQ%3D%3D?line=0'>1</a>\u001b[0m x \u001b[39m*\u001b[39;49m y \n",
      "\u001b[0;31mTypeError\u001b[0m: can't multiply sequence by non-int of type 'list'"
     ]
    }
   ],
   "source": [
    "x * y "
   ]
  },
  {
   "cell_type": "code",
   "execution_count": 5,
   "id": "63caa0a7",
   "metadata": {},
   "outputs": [
    {
     "data": {
      "text/plain": [
       "array([ 8, 18, 30])"
      ]
     },
     "execution_count": 5,
     "metadata": {},
     "output_type": "execute_result"
    }
   ],
   "source": [
    "a * b   # поэлементное произведение "
   ]
  },
  {
   "cell_type": "code",
   "execution_count": 6,
   "id": "95c6bd7c",
   "metadata": {},
   "outputs": [
    {
     "data": {
      "text/plain": [
       "56"
      ]
     },
     "execution_count": 6,
     "metadata": {},
     "output_type": "execute_result"
    }
   ],
   "source": [
    "a @ b    # скалярное произведение "
   ]
  },
  {
   "cell_type": "code",
   "execution_count": 8,
   "id": "7acff39b",
   "metadata": {},
   "outputs": [
    {
     "data": {
      "text/plain": [
       "56"
      ]
     },
     "execution_count": 8,
     "metadata": {},
     "output_type": "execute_result"
    }
   ],
   "source": [
    "a.dot(b) # скалярное произведение "
   ]
  },
  {
   "cell_type": "markdown",
   "id": "545536b4",
   "metadata": {},
   "source": [
    "https://contest.yandex.ru/contest/25960/problems/"
   ]
  },
  {
   "cell_type": "code",
   "execution_count": 9,
   "id": "d9bb88c2",
   "metadata": {},
   "outputs": [],
   "source": [
    "x = [i**2 for i in range(10**6)]\n",
    "y = np.array(x)"
   ]
  },
  {
   "cell_type": "markdown",
   "id": "2bda556f",
   "metadata": {},
   "source": [
    "## Задачка 1 (максимум перед нулем)\n",
    "\n",
    "Реализуйте функцию, возвращающую максимальный элемент в векторе x среди элементов, перед которыми стоит нулевой.\n",
    "\n",
    "Например, для `x = np.array([6, 2, 0, 3, 0, 0, 5, 7, 0])` ответом является 5. Если нулевых элементов нет, функция должна возвращать None."
   ]
  },
  {
   "cell_type": "code",
   "execution_count": 11,
   "id": "28b7de03",
   "metadata": {},
   "outputs": [
    {
     "name": "stdout",
     "output_type": "stream",
     "text": [
      "6.12 ms ± 8.8 µs per loop (mean ± std. dev. of 7 runs, 100 loops each)\n"
     ]
    }
   ],
   "source": [
    "%%timeit \n",
    "sum(x) "
   ]
  },
  {
   "cell_type": "code",
   "execution_count": 13,
   "id": "7047f0f3",
   "metadata": {},
   "outputs": [
    {
     "name": "stdout",
     "output_type": "stream",
     "text": [
      "112 µs ± 2.22 µs per loop (mean ± std. dev. of 7 runs, 10,000 loops each)\n"
     ]
    }
   ],
   "source": [
    "%%timeit \n",
    "np.sum(y)"
   ]
  },
  {
   "cell_type": "code",
   "execution_count": 14,
   "id": "6fee4705",
   "metadata": {},
   "outputs": [],
   "source": [
    "x = np.array([6, 2, 0, 3, 0, 0, 5, 7, 0])"
   ]
  },
  {
   "cell_type": "code",
   "execution_count": 15,
   "id": "9b7f7591",
   "metadata": {},
   "outputs": [
    {
     "data": {
      "text/plain": [
       "array([False, False,  True, False,  True,  True, False, False,  True])"
      ]
     },
     "execution_count": 15,
     "metadata": {},
     "output_type": "execute_result"
    }
   ],
   "source": [
    "x == 0"
   ]
  },
  {
   "cell_type": "code",
   "execution_count": 17,
   "id": "30e5411b",
   "metadata": {},
   "outputs": [
    {
     "data": {
      "text/plain": [
       "array([6, 2, 3, 5, 7])"
      ]
     },
     "execution_count": 17,
     "metadata": {},
     "output_type": "execute_result"
    }
   ],
   "source": [
    "x[x > 0]"
   ]
  },
  {
   "cell_type": "code",
   "execution_count": 20,
   "id": "ca1bfbaa",
   "metadata": {},
   "outputs": [
    {
     "data": {
      "text/plain": [
       "5"
      ]
     },
     "execution_count": 20,
     "metadata": {},
     "output_type": "execute_result"
    }
   ],
   "source": [
    "x[x > 0].size"
   ]
  },
  {
   "cell_type": "code",
   "execution_count": 19,
   "id": "08edf716",
   "metadata": {},
   "outputs": [
    {
     "data": {
      "text/plain": [
       "(5,)"
      ]
     },
     "execution_count": 19,
     "metadata": {},
     "output_type": "execute_result"
    }
   ],
   "source": [
    "x[x > 0].shape"
   ]
  },
  {
   "cell_type": "code",
   "execution_count": 26,
   "id": "12b29f11",
   "metadata": {},
   "outputs": [
    {
     "data": {
      "text/plain": [
       "array([6, 2, 0, 3, 0, 0, 5, 7, 0])"
      ]
     },
     "execution_count": 26,
     "metadata": {},
     "output_type": "execute_result"
    }
   ],
   "source": [
    "x"
   ]
  },
  {
   "cell_type": "code",
   "execution_count": 27,
   "id": "17b65f8a",
   "metadata": {},
   "outputs": [
    {
     "data": {
      "text/plain": [
       "array([False, False, False,  True, False,  True,  True, False, False])"
      ]
     },
     "execution_count": 27,
     "metadata": {},
     "output_type": "execute_result"
    }
   ],
   "source": [
    "mask = np.hstack((False, x == 0))[:-1]\n",
    "mask "
   ]
  },
  {
   "cell_type": "code",
   "execution_count": 28,
   "id": "27dce7f2",
   "metadata": {},
   "outputs": [
    {
     "data": {
      "text/plain": [
       "array([3, 0, 5])"
      ]
     },
     "execution_count": 28,
     "metadata": {},
     "output_type": "execute_result"
    }
   ],
   "source": [
    "x[mask]"
   ]
  },
  {
   "cell_type": "code",
   "execution_count": 29,
   "id": "6a8fa85b",
   "metadata": {},
   "outputs": [
    {
     "data": {
      "text/plain": [
       "5"
      ]
     },
     "execution_count": 29,
     "metadata": {},
     "output_type": "execute_result"
    }
   ],
   "source": [
    "x[mask].max()"
   ]
  },
  {
   "cell_type": "code",
   "execution_count": 30,
   "id": "2a1d3f2f",
   "metadata": {},
   "outputs": [
    {
     "data": {
      "text/plain": [
       "5"
      ]
     },
     "execution_count": 30,
     "metadata": {},
     "output_type": "execute_result"
    }
   ],
   "source": [
    "def get_max_before_zero(x):\n",
    "    mask = np.hstack((False, x == 0))[:-1]\n",
    "    return x[mask].max()\n",
    "\n",
    "get_max_before_zero(x)"
   ]
  },
  {
   "cell_type": "markdown",
   "id": "7b09c362",
   "metadata": {},
   "source": [
    "## Задача 2  (про нормирование) \n",
    "\n",
    "У меня есть матрица $X$ из  равноверного распределения $U[-5; 5]$. Нужно отнормировать столбцы этой матрицы так, чтобы все они лежали на отрезке $[0;1]$. \n",
    "\n",
    "$$\n",
    "x' = \\frac{x - min(x)}{max(x) - min(x)}\n",
    "$$\n"
   ]
  },
  {
   "cell_type": "code",
   "execution_count": 92,
   "id": "9f329943",
   "metadata": {},
   "outputs": [
    {
     "data": {
      "text/plain": [
       "array([[-3.34566251e+00,  4.41439176e-01,  3.30375628e+00],\n",
       "       [ 1.77763986e+00, -1.56417684e+00,  7.12011892e-01],\n",
       "       [-4.63100025e+00,  1.15222519e+00, -2.48757138e+00],\n",
       "       [ 2.35044776e+00,  2.24063306e+00, -3.37142738e+00],\n",
       "       [ 2.75252498e+00,  3.81269023e+00, -4.53034173e+00],\n",
       "       [ 4.10199909e-01,  4.65222239e+00,  3.71087828e+00],\n",
       "       [ 4.60925983e+00, -2.08567055e+00, -4.16456434e+00],\n",
       "       [-3.98592440e-02, -2.14200621e+00, -2.46702773e+00],\n",
       "       [ 3.17797225e+00, -2.30415789e+00, -2.96833538e+00],\n",
       "       [-4.95010460e+00,  2.31407668e+00,  1.14456967e-01],\n",
       "       [-4.51697144e+00,  4.07682113e+00,  3.21073179e+00],\n",
       "       [ 2.64992686e+00, -3.76074796e+00, -3.81191552e+00],\n",
       "       [-4.19046523e+00,  3.59262668e+00,  1.24128320e+00],\n",
       "       [-1.01868123e+00, -1.16771952e+00, -1.70919084e+00],\n",
       "       [-4.35009502e+00, -4.21239660e+00, -1.32057551e+00],\n",
       "       [-9.19389555e-01,  2.87546030e+00,  4.01290920e+00],\n",
       "       [ 2.54358095e+00, -3.36909654e+00,  3.30619685e+00],\n",
       "       [ 4.68704139e+00, -5.88996183e-01, -1.68779119e+00],\n",
       "       [-1.13443977e-01,  6.33051864e-02, -1.81476534e+00],\n",
       "       [ 1.87695274e+00, -8.86052951e-02, -1.70149840e+00],\n",
       "       [-3.68218422e+00, -1.31835397e-01, -4.90615628e+00],\n",
       "       [ 7.74523056e-01,  1.63829682e+00, -2.98645719e+00],\n",
       "       [-4.90076237e+00,  3.28917666e+00,  1.38052876e+00],\n",
       "       [-2.61994543e+00,  4.60071532e+00, -3.44804716e+00],\n",
       "       [ 4.93705997e+00, -1.29818513e+00,  2.35716698e+00],\n",
       "       [-2.80887795e-01,  2.00153047e+00,  1.38832382e+00],\n",
       "       [-6.39409348e-01, -1.70590034e+00, -2.59863604e+00],\n",
       "       [ 4.46019139e+00, -1.31845808e+00,  4.90149399e+00],\n",
       "       [-8.78215171e-02, -9.36035232e-01,  2.87766872e+00],\n",
       "       [-2.19810351e+00, -3.62859877e+00,  3.21653266e+00],\n",
       "       [ 1.93608452e+00,  2.54162480e+00,  4.44936538e+00],\n",
       "       [ 2.74441611e+00,  1.79051014e+00, -2.08235098e+00],\n",
       "       [ 1.12981298e+00,  2.70396853e+00,  8.08843208e-01],\n",
       "       [ 4.95593511e-03,  3.14223225e+00, -3.20536819e+00],\n",
       "       [ 9.36938269e-01, -2.11023046e+00, -4.76398438e+00],\n",
       "       [-4.34196655e+00,  3.65953923e+00,  4.12825192e+00],\n",
       "       [-1.16524484e+00, -1.46343807e+00, -3.57794070e+00],\n",
       "       [ 2.76458955e+00,  1.50467402e+00,  4.48106855e+00],\n",
       "       [-3.39831021e+00, -1.76237611e+00,  1.60649320e+00],\n",
       "       [-1.72244529e-01,  1.25815471e-01, -4.15362173e-01],\n",
       "       [ 1.07340638e+00,  1.77346750e+00, -4.89244101e+00],\n",
       "       [ 3.32987417e+00,  1.55293011e+00,  1.55092722e+00],\n",
       "       [ 1.19636426e+00,  3.95024676e+00,  1.02315480e+00],\n",
       "       [ 3.42949895e+00,  3.96806685e+00, -3.16853558e+00],\n",
       "       [-3.13696330e+00, -2.46456543e+00, -2.01072504e+00],\n",
       "       [-4.33323062e+00,  2.41833034e-01, -7.07439733e-01],\n",
       "       [-3.64351303e+00,  2.79352276e+00,  4.44715904e+00],\n",
       "       [ 1.43794773e+00,  1.78039544e+00, -2.68900531e+00],\n",
       "       [-2.12074084e+00,  4.47155942e+00, -1.74432469e+00],\n",
       "       [-1.70303971e+00,  9.55001760e-01,  4.35051414e+00],\n",
       "       [-3.72966727e+00,  6.94188276e-01, -4.35676563e+00],\n",
       "       [-1.95353455e+00,  8.17851454e-01, -1.61868656e+00],\n",
       "       [-1.61097778e+00, -4.24746024e-01, -1.20834482e+00],\n",
       "       [-4.41666337e+00, -8.27143154e-01,  4.81087289e+00],\n",
       "       [ 3.98212818e+00, -5.34798698e-01,  9.22397060e-02],\n",
       "       [-1.08392425e+00, -4.63998972e+00,  1.76657827e+00],\n",
       "       [-4.00759933e-01,  1.15004670e+00, -1.56172065e+00],\n",
       "       [ 1.95989368e+00,  3.33995506e+00, -4.39591917e+00],\n",
       "       [ 2.56446111e-02, -4.43053798e+00,  6.86581500e-01],\n",
       "       [ 1.55611214e-02,  1.46367705e+00, -4.28199840e+00],\n",
       "       [-1.98484796e+00, -7.87914052e-02,  7.26292588e-01],\n",
       "       [-2.30415024e+00,  6.27341547e-02,  3.74133059e+00],\n",
       "       [-4.50772213e-01,  4.48649307e+00, -4.36849812e+00],\n",
       "       [ 2.37409962e+00, -4.55284128e+00, -1.11940219e+00],\n",
       "       [-2.08956266e+00, -3.20051276e-01, -2.99296484e-02],\n",
       "       [ 2.50989611e+00, -4.72015545e+00, -4.48829918e+00],\n",
       "       [ 2.27900466e+00, -3.60175277e+00,  2.24793121e+00],\n",
       "       [ 3.18013632e+00, -2.16243365e+00, -5.53712872e-01],\n",
       "       [ 2.90428434e+00, -6.48486389e-01,  1.33945308e+00],\n",
       "       [ 1.96030916e+00, -4.55725206e+00, -3.21152929e+00],\n",
       "       [ 4.07803760e+00, -2.88271708e-01, -2.28184052e+00],\n",
       "       [ 1.71489980e-01,  3.33795640e+00,  1.79336383e+00],\n",
       "       [-1.66294613e+00,  3.68545813e+00, -1.77764015e+00],\n",
       "       [ 4.51488527e+00,  3.01454463e+00,  1.07404902e+00],\n",
       "       [ 1.72826149e+00,  9.40246620e-01, -8.99634154e-01],\n",
       "       [ 1.41570964e+00, -3.22268840e-01,  8.69594086e-01],\n",
       "       [ 2.41128036e+00, -1.26282584e-02, -9.81495311e-01],\n",
       "       [-1.99329581e+00,  8.42166096e-02,  6.78167654e-01],\n",
       "       [ 3.46129564e+00, -3.35444378e+00,  2.59414404e+00],\n",
       "       [ 9.10555904e-01,  2.02895450e+00,  4.37180714e+00],\n",
       "       [-8.58134772e-01,  2.11385444e+00, -4.43073786e+00],\n",
       "       [-4.98097885e+00,  4.05278378e+00, -8.12908274e-01],\n",
       "       [-1.92608239e+00,  1.42453975e+00, -1.58214654e+00],\n",
       "       [ 1.76734611e+00, -4.59445282e+00, -3.18003641e+00],\n",
       "       [-1.74153662e+00,  4.36574892e+00,  6.69984830e-01],\n",
       "       [-2.22193825e+00,  8.65104926e-01, -4.30969498e+00],\n",
       "       [-1.54683079e+00, -3.42189398e+00,  4.44112259e+00],\n",
       "       [ 2.93484074e+00, -1.46884392e+00,  3.93503232e+00],\n",
       "       [-9.63437155e-02,  3.86585377e+00, -1.63471768e+00],\n",
       "       [ 2.00882640e+00,  4.07350997e+00,  3.17873657e+00],\n",
       "       [ 2.96448035e+00, -1.62696226e+00, -1.72640110e+00],\n",
       "       [-2.35928707e+00, -2.85458463e+00, -2.35520121e+00],\n",
       "       [-8.77954523e-03, -3.85401285e+00,  4.53341890e+00],\n",
       "       [-4.04239839e-01,  3.88610179e+00,  3.41649897e+00],\n",
       "       [-4.30345892e+00,  4.71351768e+00, -3.79467582e+00],\n",
       "       [ 1.19151597e+00,  2.82394204e+00,  2.80778046e+00],\n",
       "       [-2.21577326e+00,  1.35049851e+00,  9.95961355e-01],\n",
       "       [-5.56921974e-01,  2.14715062e+00,  3.40889460e+00],\n",
       "       [-1.45875555e+00, -2.70387358e+00, -1.04167014e+00],\n",
       "       [-1.39971888e+00, -4.37304954e+00, -1.90317484e+00]])"
      ]
     },
     "execution_count": 92,
     "metadata": {},
     "output_type": "execute_result"
    }
   ],
   "source": [
    "from scipy import stats \n",
    "\n",
    "uniform_rv = stats.uniform(-5, 10) # [-5; -5 + 10]\n",
    "X = uniform_rv.rvs((100, 3))\n",
    "X"
   ]
  },
  {
   "cell_type": "code",
   "execution_count": 51,
   "id": "df9a6309",
   "metadata": {},
   "outputs": [
    {
     "data": {
      "text/plain": [
       "374.80817018736957"
      ]
     },
     "execution_count": 51,
     "metadata": {},
     "output_type": "execute_result"
    }
   ],
   "source": [
    "X[X > 0].sum()"
   ]
  },
  {
   "cell_type": "code",
   "execution_count": 57,
   "id": "03f5ca81",
   "metadata": {},
   "outputs": [
    {
     "data": {
      "text/plain": [
       "300"
      ]
     },
     "execution_count": 57,
     "metadata": {},
     "output_type": "execute_result"
    }
   ],
   "source": [
    "X.size "
   ]
  },
  {
   "cell_type": "code",
   "execution_count": 55,
   "id": "f3a6b106",
   "metadata": {},
   "outputs": [
    {
     "data": {
      "text/plain": [
       "(100, 3)"
      ]
     },
     "execution_count": 55,
     "metadata": {},
     "output_type": "execute_result"
    }
   ],
   "source": [
    "X.shape"
   ]
  },
  {
   "cell_type": "code",
   "execution_count": 56,
   "id": "f81d9067",
   "metadata": {},
   "outputs": [
    {
     "data": {
      "text/plain": [
       "(3, 100)"
      ]
     },
     "execution_count": 56,
     "metadata": {},
     "output_type": "execute_result"
    }
   ],
   "source": [
    "X.T.shape"
   ]
  },
  {
   "cell_type": "code",
   "execution_count": 59,
   "id": "dfc9d9a5",
   "metadata": {},
   "outputs": [
    {
     "data": {
      "text/plain": [
       "array([[ 764.77305312, -122.61117524,   10.51250332],\n",
       "       [-122.61117524,  938.26428163,  141.3485118 ],\n",
       "       [  10.51250332,  141.3485118 ,  811.43086714]])"
      ]
     },
     "execution_count": 59,
     "metadata": {},
     "output_type": "execute_result"
    }
   ],
   "source": [
    "A = X.T @ X  # матричное умножение \n",
    "A"
   ]
  },
  {
   "cell_type": "code",
   "execution_count": 60,
   "id": "e85f4dd9",
   "metadata": {},
   "outputs": [
    {
     "data": {
      "text/plain": [
       "554303288.902452"
      ]
     },
     "execution_count": 60,
     "metadata": {},
     "output_type": "execute_result"
    }
   ],
   "source": [
    "np.linalg.det(A)"
   ]
  },
  {
   "cell_type": "code",
   "execution_count": 61,
   "id": "3a1484d7",
   "metadata": {},
   "outputs": [
    {
     "data": {
      "text/plain": [
       "EigResult(eigenvalues=array([1063.28988819,  653.68668359,  797.49163012]), eigenvectors=array([[-0.32513901,  0.6503206 ,  0.68656227],\n",
       "       [ 0.83039746,  0.54370668, -0.12175014],\n",
       "       [ 0.45246511, -0.53053384,  0.71680483]]))"
      ]
     },
     "execution_count": 61,
     "metadata": {},
     "output_type": "execute_result"
    }
   ],
   "source": [
    "np.linalg.eig(A)"
   ]
  },
  {
   "cell_type": "code",
   "execution_count": 62,
   "id": "56e52770",
   "metadata": {},
   "outputs": [
    {
     "data": {
      "text/plain": [
       "SVDResult(U=array([[-0.32513901, -0.68656227, -0.6503206 ],\n",
       "       [ 0.83039746,  0.12175014, -0.54370668],\n",
       "       [ 0.45246511, -0.71680483,  0.53053384]]), S=array([1063.28988819,  797.49163012,  653.68668359]), Vh=array([[-0.32513901,  0.83039746,  0.45246511],\n",
       "       [-0.68656227,  0.12175014, -0.71680483],\n",
       "       [-0.6503206 , -0.54370668,  0.53053384]]))"
      ]
     },
     "execution_count": 62,
     "metadata": {},
     "output_type": "execute_result"
    }
   ],
   "source": [
    "np.linalg.svd(A)"
   ]
  },
  {
   "cell_type": "code",
   "execution_count": 64,
   "id": "5232b6e4",
   "metadata": {},
   "outputs": [
    {
     "data": {
      "text/plain": [
       "0.04946563958135139"
      ]
     },
     "execution_count": 64,
     "metadata": {},
     "output_type": "execute_result"
    }
   ],
   "source": [
    "X.mean()"
   ]
  },
  {
   "cell_type": "code",
   "execution_count": 65,
   "id": "5bccd8f4",
   "metadata": {},
   "outputs": [
    {
     "data": {
      "text/plain": [
       "array([-0.07309164, -0.04160657,  0.26309513])"
      ]
     },
     "execution_count": 65,
     "metadata": {},
     "output_type": "execute_result"
    }
   ],
   "source": [
    "X.mean(axis=0)"
   ]
  },
  {
   "cell_type": "code",
   "execution_count": 66,
   "id": "5358c25b",
   "metadata": {},
   "outputs": [
    {
     "data": {
      "text/plain": [
       "array([-1.45729558, -1.77584237, -0.01587372,  0.91177386, -1.37494525,\n",
       "        0.094697  , -0.01073177, -0.63783273, -1.37816325, -1.0348264 ,\n",
       "        2.23183392, -0.275346  , -0.48968618, -3.35893128, -1.39258334,\n",
       "       -2.031307  , -0.53277825, -1.63277814,  1.08859569, -1.63659156,\n",
       "        0.06024808,  0.1645294 , -1.54322704,  0.73790976, -0.66024076,\n",
       "       -1.71611741, -2.33945894,  2.29628448,  0.43966696, -1.76513874,\n",
       "        3.14242992, -1.41595092, -0.8768668 ,  2.18978427,  2.51252936,\n",
       "        0.75017908,  3.58479503,  3.52130003,  0.46568354,  1.20109418,\n",
       "       -1.76124557, -1.47671435, -2.67557552, -1.37126269,  0.83955469,\n",
       "       -1.49546518,  1.90053569, -1.58228657,  0.52034415,  1.68273229,\n",
       "        1.73053727,  1.92984942,  1.96387209,  2.13893018, -0.51449897,\n",
       "       -2.19080018, -1.0040856 ,  0.09784938, -0.06418252,  2.92901812,\n",
       "       -0.30640092,  2.20729277,  0.59537008, -0.98334115, -1.24886774,\n",
       "        1.04408912, -2.17976603,  2.01156513, -0.90226893,  1.26551555,\n",
       "       -0.77514091, -0.17080896,  3.17962845,  1.06227818,  1.76756216,\n",
       "       -2.0904805 ,  2.77674743, -0.99798105, -2.44619474, -2.35780266,\n",
       "        0.73838278,  2.40818743,  0.20803212,  3.0179704 , -1.30930811,\n",
       "        1.42730268, -3.12599097,  0.72077955,  3.51452983, -2.27066414,\n",
       "        0.55821894, -0.64745188, -1.86611433, -0.12829178, -1.38050289,\n",
       "        1.50560762,  0.15670043,  0.79868391,  0.9601636 ,  0.57140625])"
      ]
     },
     "execution_count": 66,
     "metadata": {},
     "output_type": "execute_result"
    }
   ],
   "source": [
    "X.mean(axis=1)"
   ]
  },
  {
   "cell_type": "code",
   "execution_count": 67,
   "id": "c3afced6",
   "metadata": {},
   "outputs": [
    {
     "data": {
      "text/plain": [
       "array([4.9542602 , 4.91032877, 4.97167448])"
      ]
     },
     "execution_count": 67,
     "metadata": {},
     "output_type": "execute_result"
    }
   ],
   "source": [
    "X.max(axis=0)"
   ]
  },
  {
   "cell_type": "code",
   "execution_count": 68,
   "id": "5dc29ea2",
   "metadata": {},
   "outputs": [
    {
     "data": {
      "text/plain": [
       "array([7.64238814, 9.38091171, 8.04508962])"
      ]
     },
     "execution_count": 68,
     "metadata": {},
     "output_type": "execute_result"
    }
   ],
   "source": [
    "X.var(axis=0)"
   ]
  },
  {
   "cell_type": "code",
   "execution_count": 70,
   "id": "441a71da",
   "metadata": {},
   "outputs": [
    {
     "data": {
      "text/plain": [
       "array([1, 2, 3])"
      ]
     },
     "execution_count": 70,
     "metadata": {},
     "output_type": "execute_result"
    }
   ],
   "source": [
    "a = np.array([1, 2, 3])  # просто вектор \n",
    "a\n"
   ]
  },
  {
   "cell_type": "code",
   "execution_count": 71,
   "id": "5e0270b7",
   "metadata": {},
   "outputs": [
    {
     "data": {
      "text/plain": [
       "array([[1, 2, 3]])"
      ]
     },
     "execution_count": 71,
     "metadata": {},
     "output_type": "execute_result"
    }
   ],
   "source": [
    "a = np.array([[1, 2, 3]]) # вектор строка \n",
    "a\n"
   ]
  },
  {
   "cell_type": "code",
   "execution_count": 72,
   "id": "ec81b269",
   "metadata": {},
   "outputs": [
    {
     "data": {
      "text/plain": [
       "(1, 3)"
      ]
     },
     "execution_count": 72,
     "metadata": {},
     "output_type": "execute_result"
    }
   ],
   "source": [
    "a.shape "
   ]
  },
  {
   "cell_type": "code",
   "execution_count": 75,
   "id": "c07a69ff",
   "metadata": {},
   "outputs": [
    {
     "data": {
      "text/plain": [
       "array([[1],\n",
       "       [2],\n",
       "       [3]])"
      ]
     },
     "execution_count": 75,
     "metadata": {},
     "output_type": "execute_result"
    }
   ],
   "source": [
    "b = a.T  # вектор столбец\n",
    "b"
   ]
  },
  {
   "cell_type": "code",
   "execution_count": 77,
   "id": "833ea5ba",
   "metadata": {},
   "outputs": [
    {
     "ename": "ValueError",
     "evalue": "matmul: Input operand 1 has a mismatch in its core dimension 0, with gufunc signature (n?,k),(k,m?)->(n?,m?) (size 1 is different from 3)",
     "output_type": "error",
     "traceback": [
      "\u001b[0;31m---------------------------------------------------------------------------\u001b[0m",
      "\u001b[0;31mValueError\u001b[0m                                Traceback (most recent call last)",
      "\u001b[1;32m/Users/randomwalk/Desktop/sem02_group01.ipynb Cell 41\u001b[0m line \u001b[0;36m1\n\u001b[0;32m----> <a href='vscode-notebook-cell:/Users/randomwalk/Desktop/sem02_group01.ipynb#Y126sZmlsZQ%3D%3D?line=0'>1</a>\u001b[0m A\u001b[39m@a\u001b[39;49m \u001b[39m# [3x3] пытаюсь умножить на [1x3]\u001b[39;00m\n",
      "\u001b[0;31mValueError\u001b[0m: matmul: Input operand 1 has a mismatch in its core dimension 0, with gufunc signature (n?,k),(k,m?)->(n?,m?) (size 1 is different from 3)"
     ]
    }
   ],
   "source": [
    "A @ a # [3x3] пытаюсь умножить на [1x3]"
   ]
  },
  {
   "cell_type": "code",
   "execution_count": 78,
   "id": "098b5c2e",
   "metadata": {},
   "outputs": [
    {
     "data": {
      "text/plain": [
       "array([[ 551.0882126 ],\n",
       "       [2177.96292343],\n",
       "       [2727.50212836]])"
      ]
     },
     "execution_count": 78,
     "metadata": {},
     "output_type": "execute_result"
    }
   ],
   "source": [
    "A @ b # [3 x 3] пытаюсь умножить  на [3 x 1]"
   ]
  },
  {
   "cell_type": "code",
   "execution_count": 80,
   "id": "497f97ec",
   "metadata": {},
   "outputs": [
    {
     "data": {
      "text/plain": [
       "3"
      ]
     },
     "execution_count": 80,
     "metadata": {},
     "output_type": "execute_result"
    }
   ],
   "source": [
    "np.linalg.matrix_rank(A)"
   ]
  },
  {
   "cell_type": "code",
   "execution_count": 82,
   "id": "eb0e5b11",
   "metadata": {},
   "outputs": [
    {
     "data": {
      "text/plain": [
       "array([[ 764.77305312, -122.61117524,   10.51250332],\n",
       "       [-122.61117524,  938.26428163,  141.3485118 ],\n",
       "       [  10.51250332,  141.3485118 ,  811.43086714]])"
      ]
     },
     "execution_count": 82,
     "metadata": {},
     "output_type": "execute_result"
    }
   ],
   "source": [
    "A"
   ]
  },
  {
   "cell_type": "code",
   "execution_count": 83,
   "id": "926f0c32",
   "metadata": {},
   "outputs": [
    {
     "data": {
      "text/plain": [
       "2514.4682018937037"
      ]
     },
     "execution_count": 83,
     "metadata": {},
     "output_type": "execute_result"
    }
   ],
   "source": [
    "np.diag(A).sum() # это след матрица "
   ]
  },
  {
   "cell_type": "code",
   "execution_count": 84,
   "id": "a97b7d94",
   "metadata": {},
   "outputs": [
    {
     "data": {
      "text/plain": [
       "array([[ 1.33745769e-03,  1.82168176e-04, -4.90605307e-05],\n",
       "       [ 1.82168176e-04,  1.11933297e-03, -1.97344099e-04],\n",
       "       [-4.90605307e-05, -1.97344099e-04,  1.26740316e-03]])"
      ]
     },
     "execution_count": 84,
     "metadata": {},
     "output_type": "execute_result"
    }
   ],
   "source": [
    "# хочу найти обратную матрицу \n",
    "\n",
    "B = np.linalg.inv(A)\n",
    "B"
   ]
  },
  {
   "cell_type": "code",
   "execution_count": 85,
   "id": "fefdf5b3",
   "metadata": {},
   "outputs": [
    {
     "data": {
      "text/plain": [
       "array([[ 1.00000000e+00,  1.06842480e-18,  1.27343097e-19],\n",
       "       [-1.12854977e-17,  1.00000000e+00,  7.04266589e-18],\n",
       "       [-3.25711777e-18, -1.47785173e-17,  1.00000000e+00]])"
      ]
     },
     "execution_count": 85,
     "metadata": {},
     "output_type": "execute_result"
    }
   ],
   "source": [
    "A @ B "
   ]
  },
  {
   "cell_type": "code",
   "execution_count": 86,
   "id": "01e8ef2d",
   "metadata": {},
   "outputs": [
    {
     "data": {
      "text/plain": [
       "0.19999999999999998"
      ]
     },
     "execution_count": 86,
     "metadata": {},
     "output_type": "execute_result"
    }
   ],
   "source": [
    "0.3 - 0.1 "
   ]
  },
  {
   "cell_type": "code",
   "execution_count": 87,
   "id": "b06cdb2f",
   "metadata": {},
   "outputs": [
    {
     "data": {
      "text/plain": [
       "False"
      ]
     },
     "execution_count": 87,
     "metadata": {},
     "output_type": "execute_result"
    }
   ],
   "source": [
    "0.3 - 0.1 == 0.2"
   ]
  },
  {
   "cell_type": "code",
   "execution_count": 91,
   "id": "2f05f72a",
   "metadata": {},
   "outputs": [
    {
     "data": {
      "text/plain": [
       "2.017753056532611e-17"
      ]
     },
     "execution_count": 91,
     "metadata": {},
     "output_type": "execute_result"
    }
   ],
   "source": [
    "np.sqrt( np.sum( (np.eye(3) - A @ B)**2 ) )"
   ]
  },
  {
   "cell_type": "markdown",
   "id": "03f0aa35",
   "metadata": {},
   "source": [
    "У меня есть матрица $X$ из  равноверного распределения $U[-5; 5]$. Нужно отнормировать столбцы этой матрицы так, чтобы все они лежали на отрезке $[0;1]$. \n",
    "\n",
    "$$\n",
    "x' = \\frac{x - min(x)}{max(x) - min(x)}\n",
    "$$\n"
   ]
  },
  {
   "cell_type": "code",
   "execution_count": 94,
   "id": "90d908c4",
   "metadata": {},
   "outputs": [
    {
     "data": {
      "text/plain": [
       "array([-4.98097885, -4.72015545, -4.90615628])"
      ]
     },
     "execution_count": 94,
     "metadata": {},
     "output_type": "execute_result"
    }
   ],
   "source": [
    "X.min(axis=0)"
   ]
  },
  {
   "cell_type": "code",
   "execution_count": 96,
   "id": "7f6fd478",
   "metadata": {},
   "outputs": [
    {
     "data": {
      "text/plain": [
       "array([9.91803882, 9.43367313, 9.80765027])"
      ]
     },
     "execution_count": 96,
     "metadata": {},
     "output_type": "execute_result"
    }
   ],
   "source": [
    "X.max(axis=0) - X.min(axis=0)"
   ]
  },
  {
   "cell_type": "code",
   "execution_count": 103,
   "id": "c7c7639e",
   "metadata": {},
   "outputs": [
    {
     "data": {
      "text/plain": [
       "array([[0.16488303, 0.5471458 , 0.83709271],\n",
       "       [0.68144709, 0.33454399, 0.57283529],\n",
       "       [0.03528708, 0.62249143, 0.24660187],\n",
       "       [0.73920124, 0.7378662 , 0.15648283]])"
      ]
     },
     "execution_count": 103,
     "metadata": {},
     "output_type": "execute_result"
    }
   ],
   "source": [
    "X_scale = (X - X.min(axis=0))/(X.max(axis=0) - X.min(axis=0))\n",
    "X_scale[:4]"
   ]
  },
  {
   "cell_type": "code",
   "execution_count": 102,
   "id": "573fe1ef",
   "metadata": {},
   "outputs": [
    {
     "data": {
      "text/plain": [
       "(array([0., 0., 0.]), array([1., 1., 1.]))"
      ]
     },
     "execution_count": 102,
     "metadata": {},
     "output_type": "execute_result"
    }
   ],
   "source": [
    "X_scale.min(axis=0), X_scale.max(axis=0)"
   ]
  },
  {
   "cell_type": "code",
   "execution_count": 110,
   "id": "432929bb",
   "metadata": {},
   "outputs": [
    {
     "data": {
      "text/plain": [
       "array([[ 80. ,   1.9,   0. ],\n",
       "       [ 40. ,   1.5,   0. ],\n",
       "       [150. ,   1.7,   1. ]])"
      ]
     },
     "execution_count": 110,
     "metadata": {},
     "output_type": "execute_result"
    }
   ],
   "source": [
    "data = np.array([[80, 40, 150], [1.9, 1.5, 1.7], [0, 0, 1]]).T \n",
    "data  # первый столбик это вес, второй это рост, третий это наличие ожирения"
   ]
  },
  {
   "cell_type": "code",
   "execution_count": 111,
   "id": "47bbc1d0",
   "metadata": {},
   "outputs": [],
   "source": [
    "x_new = np.array([130, 2.1]) # метод ближайших соседей\n",
    "X = data[:,:2]"
   ]
  },
  {
   "cell_type": "code",
   "execution_count": 118,
   "id": "2dc51331",
   "metadata": {},
   "outputs": [
    {
     "data": {
      "text/plain": [
       "array([50.0004    , 90.00199998, 20.0039996 ])"
      ]
     },
     "execution_count": 118,
     "metadata": {},
     "output_type": "execute_result"
    }
   ],
   "source": [
    "r = np.sqrt( np.sum((X - x_new)**2, axis=1))\n",
    "r"
   ]
  },
  {
   "cell_type": "code",
   "execution_count": 120,
   "id": "db843d27",
   "metadata": {},
   "outputs": [
    {
     "data": {
      "text/plain": [
       "2"
      ]
     },
     "execution_count": 120,
     "metadata": {},
     "output_type": "execute_result"
    }
   ],
   "source": [
    "np.argmin(r) # ну видимо у нашего чела тоже ожирение и надо гнать его по врачам"
   ]
  },
  {
   "cell_type": "code",
   "execution_count": 125,
   "id": "1a98533c",
   "metadata": {},
   "outputs": [
    {
     "data": {
      "text/plain": [
       "(400, 0.16000000000000011, 1600)"
      ]
     },
     "execution_count": 125,
     "metadata": {},
     "output_type": "execute_result"
    }
   ],
   "source": [
    "(150 - 130)**2, (2.1 -1.7)**2, (210 - 170)**2"
   ]
  },
  {
   "cell_type": "code",
   "execution_count": 126,
   "id": "911e94be",
   "metadata": {},
   "outputs": [
    {
     "data": {
      "text/plain": [
       "array([[0.36363636, 1.        ],\n",
       "       [0.        , 0.        ],\n",
       "       [1.        , 0.5       ]])"
      ]
     },
     "execution_count": 126,
     "metadata": {},
     "output_type": "execute_result"
    }
   ],
   "source": [
    "X_scale = (X - X.min(axis=0))/(X.max(axis=0) - X.min(axis=0))\n",
    "X_scale"
   ]
  },
  {
   "cell_type": "code",
   "execution_count": 129,
   "id": "5ac0c050",
   "metadata": {},
   "outputs": [],
   "source": [
    "x_new_scale = (x_new - X.min(axis=0))/(X.max(axis=0) - X.min(axis=0))"
   ]
  },
  {
   "cell_type": "code",
   "execution_count": 130,
   "id": "f3908310",
   "metadata": {},
   "outputs": [
    {
     "data": {
      "text/plain": [
       "array([0.6757304 , 1.70863147, 1.01639454])"
      ]
     },
     "execution_count": 130,
     "metadata": {},
     "output_type": "execute_result"
    }
   ],
   "source": [
    "r = np.sqrt( np.sum((X_scale - x_new_scale)**2, axis=1))\n",
    "r"
   ]
  },
  {
   "cell_type": "code",
   "execution_count": 131,
   "id": "2ede8675",
   "metadata": {},
   "outputs": [
    {
     "data": {
      "text/plain": [
       "0"
      ]
     },
     "execution_count": 131,
     "metadata": {},
     "output_type": "execute_result"
    }
   ],
   "source": [
    "np.argmin(r) # на самом деле ожирения нет и не надо никого гонять по врачам!"
   ]
  },
  {
   "cell_type": "markdown",
   "id": "d6f50380",
   "metadata": {},
   "source": [
    "## Задача 3: \n",
    "\n",
    "Усложним предыдущую задачу! Дана матрица X и вектор v. Нужно найти в матрице X столбец, который будет ближе всего к вектору v."
   ]
  },
  {
   "cell_type": "code",
   "execution_count": 136,
   "id": "f31930eb",
   "metadata": {},
   "outputs": [
    {
     "data": {
      "text/plain": [
       "(array([[0.47, 0.44, 0.53],\n",
       "        [0.37, 0.39, 0.53],\n",
       "        [0.45, 0.53, 0.55],\n",
       "        [0.46, 0.47, 0.46],\n",
       "        [0.65, 0.51, 0.56]]),\n",
       " array([[0.43521708],\n",
       "        [0.73300087],\n",
       "        [0.80093854],\n",
       "        [0.72375786],\n",
       "        [0.11383896]]))"
      ]
     },
     "execution_count": 136,
     "metadata": {},
     "output_type": "execute_result"
    }
   ],
   "source": [
    "X = np.random.binomial(100, 0.5, size=(5,3))/100\n",
    "v = np.random.uniform(size=(5,1))\n",
    "X, v"
   ]
  },
  {
   "cell_type": "code",
   "execution_count": 145,
   "id": "f9859745",
   "metadata": {},
   "outputs": [
    {
     "data": {
      "text/plain": [
       "(array([2]),)"
      ]
     },
     "execution_count": 145,
     "metadata": {},
     "output_type": "execute_result"
    }
   ],
   "source": [
    "R = np.sqrt(np.sum((X - v)**2, axis=0))\n",
    "np.where(R == np.min(R))"
   ]
  },
  {
   "cell_type": "code",
   "execution_count": 151,
   "id": "21d108af",
   "metadata": {},
   "outputs": [
    {
     "data": {
      "text/plain": [
       "array([[0.53],\n",
       "       [0.53],\n",
       "       [0.55],\n",
       "       [0.46],\n",
       "       [0.56]])"
      ]
     },
     "execution_count": 151,
     "metadata": {},
     "output_type": "execute_result"
    }
   ],
   "source": [
    "X[:, np.where(R == np.min(R))[0]]"
   ]
  },
  {
   "cell_type": "markdown",
   "id": "2a66f69e",
   "metadata": {},
   "source": [
    "## Бонусная задача:\n",
    "\n",
    "Я хочу посчитать евклидово расстояние между каждой строкой матрицы A и B"
   ]
  },
  {
   "cell_type": "code",
   "execution_count": 152,
   "id": "c6dd69af",
   "metadata": {},
   "outputs": [
    {
     "data": {
      "text/plain": [
       "(array([[ 0.96104627,  1.55979522,  0.5108663 , -0.22273442],\n",
       "        [ 0.56419085,  2.53789539,  0.38015827,  0.5435782 ],\n",
       "        [ 0.63223578, -1.21708491, -1.46533471, -1.20031268]]),\n",
       " array([[ 1.8155799 ,  0.26834392, -0.91127547,  0.62337707],\n",
       "        [-0.19374998, -0.25349218, -1.37838239, -1.28089822],\n",
       "        [ 1.08930654,  1.19755706, -0.19176903,  0.02038021]]))"
      ]
     },
     "execution_count": 152,
     "metadata": {},
     "output_type": "execute_result"
    }
   ],
   "source": [
    "A = np.random.normal(size=(3,4))\n",
    "B = np.random.normal(size=(3,4))\n",
    "A, B"
   ]
  },
  {
   "cell_type": "code",
   "execution_count": 155,
   "id": "590af06d",
   "metadata": {},
   "outputs": [
    {
     "data": {
      "text/plain": [
       "array([2.2663773 , 3.84545164, 3.02513969])"
      ]
     },
     "execution_count": 155,
     "metadata": {},
     "output_type": "execute_result"
    }
   ],
   "source": [
    "np.sqrt(np.sum((A - B)**2, axis=1))"
   ]
  },
  {
   "cell_type": "code",
   "execution_count": 161,
   "id": "b628b72c",
   "metadata": {},
   "outputs": [
    {
     "name": "stdout",
     "output_type": "stream",
     "text": [
      "(3, 4)\n"
     ]
    },
    {
     "data": {
      "text/plain": [
       "array([[ 0.96104627,  1.55979522,  0.5108663 , -0.22273442],\n",
       "       [ 0.56419085,  2.53789539,  0.38015827,  0.5435782 ],\n",
       "       [ 0.63223578, -1.21708491, -1.46533471, -1.20031268]])"
      ]
     },
     "execution_count": 161,
     "metadata": {},
     "output_type": "execute_result"
    }
   ],
   "source": [
    "print(A.shape)\n",
    "A"
   ]
  },
  {
   "cell_type": "code",
   "execution_count": 160,
   "id": "09fb7fe6",
   "metadata": {},
   "outputs": [
    {
     "name": "stdout",
     "output_type": "stream",
     "text": [
      "(1, 3, 4)\n"
     ]
    },
    {
     "data": {
      "text/plain": [
       "array([[[ 0.96104627,  1.55979522,  0.5108663 , -0.22273442],\n",
       "        [ 0.56419085,  2.53789539,  0.38015827,  0.5435782 ],\n",
       "        [ 0.63223578, -1.21708491, -1.46533471, -1.20031268]]])"
      ]
     },
     "execution_count": 160,
     "metadata": {},
     "output_type": "execute_result"
    }
   ],
   "source": [
    "print(A[None, :, :].shape)\n",
    "A[None, :, :]"
   ]
  },
  {
   "cell_type": "code",
   "execution_count": 162,
   "id": "3b7c59fd",
   "metadata": {},
   "outputs": [
    {
     "name": "stdout",
     "output_type": "stream",
     "text": [
      "(3, 1, 4)\n"
     ]
    },
    {
     "data": {
      "text/plain": [
       "array([[[ 0.96104627,  1.55979522,  0.5108663 , -0.22273442]],\n",
       "\n",
       "       [[ 0.56419085,  2.53789539,  0.38015827,  0.5435782 ]],\n",
       "\n",
       "       [[ 0.63223578, -1.21708491, -1.46533471, -1.20031268]]])"
      ]
     },
     "execution_count": 162,
     "metadata": {},
     "output_type": "execute_result"
    }
   ],
   "source": [
    "print(A[:, None, :].shape)\n",
    "A[:, None, :]"
   ]
  },
  {
   "cell_type": "code",
   "execution_count": 163,
   "id": "c706bd62",
   "metadata": {},
   "outputs": [
    {
     "name": "stdout",
     "output_type": "stream",
     "text": [
      "(3, 4, 1)\n"
     ]
    },
    {
     "data": {
      "text/plain": [
       "array([[[ 0.96104627],\n",
       "        [ 1.55979522],\n",
       "        [ 0.5108663 ],\n",
       "        [-0.22273442]],\n",
       "\n",
       "       [[ 0.56419085],\n",
       "        [ 2.53789539],\n",
       "        [ 0.38015827],\n",
       "        [ 0.5435782 ]],\n",
       "\n",
       "       [[ 0.63223578],\n",
       "        [-1.21708491],\n",
       "        [-1.46533471],\n",
       "        [-1.20031268]]])"
      ]
     },
     "execution_count": 163,
     "metadata": {},
     "output_type": "execute_result"
    }
   ],
   "source": [
    "print(A[:, : ,None].shape)\n",
    "A[:, :, None]"
   ]
  },
  {
   "cell_type": "code",
   "execution_count": 164,
   "id": "5c6cfbd2",
   "metadata": {},
   "outputs": [
    {
     "data": {
      "text/plain": [
       "array([[[ 0.96104627,  1.55979522,  0.5108663 , -0.22273442]],\n",
       "\n",
       "       [[ 0.56419085,  2.53789539,  0.38015827,  0.5435782 ]],\n",
       "\n",
       "       [[ 0.63223578, -1.21708491, -1.46533471, -1.20031268]]])"
      ]
     },
     "execution_count": 164,
     "metadata": {},
     "output_type": "execute_result"
    }
   ],
   "source": [
    "A[:, None, :]"
   ]
  },
  {
   "cell_type": "code",
   "execution_count": 165,
   "id": "fcf1a994",
   "metadata": {},
   "outputs": [
    {
     "data": {
      "text/plain": [
       "array([[-0.85453363,  1.2914513 ,  1.42214177, -0.84611149],\n",
       "       [ 1.15479625,  1.8132874 ,  1.88924869,  1.0581638 ],\n",
       "       [-0.12826027,  0.36223816,  0.70263533, -0.24311463]])"
      ]
     },
     "execution_count": 165,
     "metadata": {},
     "output_type": "execute_result"
    }
   ],
   "source": [
    "np.array([[ 0.96104627,  1.55979522,  0.5108663 , -0.22273442]]) - B "
   ]
  },
  {
   "cell_type": "code",
   "execution_count": 168,
   "id": "e76f6a20",
   "metadata": {},
   "outputs": [
    {
     "data": {
      "text/plain": [
       "array([[2.2663773 , 3.05131722, 0.83693986],\n",
       "       [2.89672356, 3.84545164, 1.63495881],\n",
       "       [2.69065569, 1.27468355, 3.02513969]])"
      ]
     },
     "execution_count": 168,
     "metadata": {},
     "output_type": "execute_result"
    }
   ],
   "source": [
    "np.sqrt(np.sum( (A[:, None, :] - B)**2, axis=2))"
   ]
  },
  {
   "cell_type": "code",
   "execution_count": 169,
   "id": "d7bfa2d6",
   "metadata": {},
   "outputs": [
    {
     "data": {
      "text/plain": [
       "array([2.2663773 , 3.84545164, 3.02513969])"
      ]
     },
     "execution_count": 169,
     "metadata": {},
     "output_type": "execute_result"
    }
   ],
   "source": [
    "np.sqrt(np.sum((A - B)**2, axis=1))"
   ]
  },
  {
   "cell_type": "code",
   "execution_count": null,
   "id": "d29a8dee",
   "metadata": {},
   "outputs": [],
   "source": []
  }
 ],
 "metadata": {
  "kernelspec": {
   "display_name": "Python 3 (ipykernel)",
   "language": "python",
   "name": "python3"
  },
  "language_info": {
   "codemirror_mode": {
    "name": "ipython",
    "version": 3
   },
   "file_extension": ".py",
   "mimetype": "text/x-python",
   "name": "python",
   "nbconvert_exporter": "python",
   "pygments_lexer": "ipython3",
   "version": "3.11.6"
  }
 },
 "nbformat": 4,
 "nbformat_minor": 5
}
