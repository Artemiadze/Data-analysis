{
 "cells": [
  {
   "cell_type": "code",
   "execution_count": 2,
   "id": "1140867b",
   "metadata": {},
   "outputs": [],
   "source": [
    "import numpy as np"
   ]
  },
  {
   "cell_type": "code",
   "execution_count": 20,
   "id": "d171d043",
   "metadata": {},
   "outputs": [
    {
     "data": {
      "text/plain": [
       "array([[0.53184104, 0.2551012 , 0.24133842],\n",
       "       [0.2551012 , 0.47865814, 0.69497415],\n",
       "       [0.24133842, 0.69497415, 1.08122463]])"
      ]
     },
     "execution_count": 20,
     "metadata": {},
     "output_type": "execute_result"
    }
   ],
   "source": [
    "n = 3\n",
    "\n",
    "A = np.random.rand(n, n)\n",
    "A = A.T @ A \n",
    "A"
   ]
  },
  {
   "cell_type": "code",
   "execution_count": 21,
   "id": "75d51254",
   "metadata": {},
   "outputs": [
    {
     "data": {
      "text/plain": [
       "array([[0.53184104, 0.2551012 , 0.24133842],\n",
       "       [0.2551012 , 0.47865814, 0.69497415],\n",
       "       [0.24133842, 0.69497415, 1.08122463]])"
      ]
     },
     "execution_count": 21,
     "metadata": {},
     "output_type": "execute_result"
    }
   ],
   "source": [
    "lam, Q = np.linalg.eig(A)\n",
    "Q@np.diag(lam)@Q.T"
   ]
  },
  {
   "cell_type": "code",
   "execution_count": 22,
   "id": "5881eaeb",
   "metadata": {},
   "outputs": [
    {
     "data": {
      "text/plain": [
       "2.0917238132940317"
      ]
     },
     "execution_count": 22,
     "metadata": {},
     "output_type": "execute_result"
    }
   ],
   "source": [
    "np.trace(Q@np.diag(lam)@Q.T)"
   ]
  },
  {
   "cell_type": "code",
   "execution_count": 23,
   "id": "6bcc7556",
   "metadata": {},
   "outputs": [
    {
     "data": {
      "text/plain": [
       "5.67464084063076e-16"
      ]
     },
     "execution_count": 23,
     "metadata": {},
     "output_type": "execute_result"
    }
   ],
   "source": [
    "np.linalg.norm(Q.T@Q - np.eye(3))"
   ]
  },
  {
   "cell_type": "code",
   "execution_count": 26,
   "id": "b0c89bda",
   "metadata": {},
   "outputs": [
    {
     "data": {
      "text/plain": [
       "array([[ 0.96909836,  0.82797557,  0.00279698],\n",
       "       [ 1.7630876 , -0.00791575, -0.01329179],\n",
       "       [ 2.59787395, -0.30349186,  0.00797731]])"
      ]
     },
     "execution_count": 26,
     "metadata": {},
     "output_type": "execute_result"
    }
   ],
   "source": [
    "2*Q@np.diag(lam)"
   ]
  },
  {
   "cell_type": "code",
   "execution_count": null,
   "id": "6d4f4175",
   "metadata": {},
   "outputs": [],
   "source": []
  },
  {
   "cell_type": "code",
   "execution_count": 14,
   "id": "b3d2a267",
   "metadata": {
    "scrolled": true
   },
   "outputs": [
    {
     "data": {
      "text/plain": [
       "array([[-0.99387445, -0.01395009, -0.06360235],\n",
       "       [-2.61607403,  0.0086472 , -0.06446478],\n",
       "       [-2.4811462 , -0.00352945,  0.09344769]])"
      ]
     },
     "execution_count": 14,
     "metadata": {},
     "output_type": "execute_result"
    }
   ],
   "source": [
    "Q@np.diag(lam)"
   ]
  },
  {
   "cell_type": "code",
   "execution_count": null,
   "id": "b230b9d3",
   "metadata": {},
   "outputs": [],
   "source": []
  },
  {
   "cell_type": "code",
   "execution_count": null,
   "id": "b0ee6409",
   "metadata": {},
   "outputs": [],
   "source": []
  },
  {
   "cell_type": "code",
   "execution_count": null,
   "id": "3195f4b9",
   "metadata": {},
   "outputs": [],
   "source": []
  },
  {
   "cell_type": "code",
   "execution_count": null,
   "id": "4c63ffaa",
   "metadata": {},
   "outputs": [],
   "source": []
  },
  {
   "cell_type": "code",
   "execution_count": 1,
   "id": "10c1433e",
   "metadata": {},
   "outputs": [],
   "source": [
    "import numpy as np"
   ]
  },
  {
   "cell_type": "code",
   "execution_count": 2,
   "id": "8661f43f",
   "metadata": {},
   "outputs": [
    {
     "data": {
      "text/plain": [
       "array([[14],\n",
       "       [32],\n",
       "       [50]])"
      ]
     },
     "execution_count": 2,
     "metadata": {},
     "output_type": "execute_result"
    }
   ],
   "source": [
    "x = np.array([[1], [2], [3]])\n",
    "A = np.array([[1,2,3], [4,5,6], [7,8,9]])\n",
    "A@x"
   ]
  },
  {
   "cell_type": "code",
   "execution_count": 12,
   "id": "c4f79317",
   "metadata": {},
   "outputs": [
    {
     "data": {
      "text/plain": [
       "array([[[14]],\n",
       "\n",
       "       [[32]],\n",
       "\n",
       "       [[50]]])"
      ]
     },
     "execution_count": 12,
     "metadata": {},
     "output_type": "execute_result"
    }
   ],
   "source": [
    "A[:,None, :] @ x"
   ]
  },
  {
   "cell_type": "code",
   "execution_count": null,
   "id": "ead8c06b",
   "metadata": {},
   "outputs": [],
   "source": []
  },
  {
   "cell_type": "code",
   "execution_count": null,
   "id": "f43ee7fb",
   "metadata": {},
   "outputs": [],
   "source": []
  },
  {
   "cell_type": "code",
   "execution_count": 9,
   "id": "4466d893",
   "metadata": {},
   "outputs": [],
   "source": [
    "a = set(RIDER_YANGO_TAGS.values())| set(DRIVER_YANGO_TAGS.values())| set(RIDER_GO_TAGS.values()) | set(DRIVER_GO_TAGS.values())"
   ]
  },
  {
   "cell_type": "code",
   "execution_count": 10,
   "id": "3c857be6",
   "metadata": {},
   "outputs": [
    {
     "data": {
      "text/plain": [
       "{'Inappropriate_conversations',\n",
       " 'Missing_person',\n",
       " 'Other',\n",
       " 'PR_critical_case',\n",
       " 'Physical_assault_reports',\n",
       " 'Police_involvement',\n",
       " 'Reckless driving reports',\n",
       " 'Reckless_driving_reports',\n",
       " 'Road accident reports',\n",
       " 'Road_accident_reports',\n",
       " 'Sexual assault reports',\n",
       " 'Sexual_assault_reports',\n",
       " 'Sexual_misconduct_reports',\n",
       " 'Theft',\n",
       " 'Threat',\n",
       " 'Unintentional_health_damage',\n",
       " 'Verbal_altercation_reports'}"
      ]
     },
     "execution_count": 10,
     "metadata": {},
     "output_type": "execute_result"
    }
   ],
   "source": [
    "a"
   ]
  },
  {
   "cell_type": "code",
   "execution_count": 12,
   "id": "4068c818",
   "metadata": {},
   "outputs": [
    {
     "data": {
      "text/plain": [
       "{'Reckless driving reports', 'Road accident reports', 'Sexual assault reports'}"
      ]
     },
     "execution_count": 12,
     "metadata": {},
     "output_type": "execute_result"
    }
   ],
   "source": [
    "a - {\n",
    "    \"Missing_person\", \"Theft\", \"Verbal_altercation_reports\", \"Threat\", \"Police_involvement\",\n",
    "    \"Physical_assault_reports\", \"PR_critical_case\", \"Unintentional_health_damage\", \"Other\",\n",
    "    \"Sexual_misconduct_reports\", \"Road_accident_reports\", \"Inappropriate_conversations\", \n",
    "    \"Reckless_driving_reports\", \"Sexual_assault_reports\"}"
   ]
  },
  {
   "cell_type": "code",
   "execution_count": null,
   "id": "89f2ec6d",
   "metadata": {},
   "outputs": [],
   "source": []
  },
  {
   "cell_type": "code",
   "execution_count": null,
   "id": "ce1f0613",
   "metadata": {},
   "outputs": [],
   "source": []
  },
  {
   "cell_type": "code",
   "execution_count": 2,
   "id": "adeaf481",
   "metadata": {},
   "outputs": [],
   "source": [
    "RIDER_YANGO_TAGS = {\n",
    "    'rd_irt_missing_driver': 'Missing_person',\n",
    "    'rd_irt_missing_person': 'Missing_person',\n",
    "    'rd_irt_missing_rider': 'Missing_person',\n",
    "    'rd_irt_major_altercation_jumped_out_of_the_car': 'Other',\n",
    "    'rd_irt_online_sos': 'Other',\n",
    "    'rd_irt_online_sos_failed_contact': 'Other',\n",
    "    'rd_irt_online_not_an_urgent_request': 'Other',\n",
    "    'rd_irt_online_without_order': 'Other',\n",
    "    'rd_irt_online_random': 'Other',\n",
    "    'rd_irt_online': 'Other',\n",
    "    'rd_irt_fraud': 'Other',\n",
    "    'rd_irt_temporary_response': 'Other',\n",
    "    'closed_by_merge': 'Other',\n",
    "    'rd_irt_physical_altercation_damage': 'Other',\n",
    "    'rd_irt_legal_issue_managers': 'Other',\n",
    "    'rd_irt_extra_passanger_car': 'Other',\n",
    "    'rd_irt_not_urgent_request': 'Other',\n",
    "    'rd_irt_forgotten_medicine': 'Other',\n",
    "    'rd_irt_detailed_specify': 'Other',\n",
    "    'rd_irt_accident_compensation': 'Other',\n",
    "    'rd_irt_damaged_item': 'Other',\n",
    "    'rd_irt_forgotten_weapons': 'Other',\n",
    "    'rd_irt': 'Other',\n",
    "    'rd_irt_legal_issue': 'Other',\n",
    "    'rd_irt_request': 'Other',\n",
    "    'rd_irt_physical_altercation': 'Physical_assault_reports',\n",
    "    'rd_irt_physical_altercation_third_parties': 'Physical_assault_reports',\n",
    "    'rd_irt_physical_altercation_physical_assault': 'Physical_assault_reports',\n",
    "    'rd_irt_verbal_altercation_kidnapping': 'Physical_assault_reports',\n",
    "    'rd_irt_verbal_altercation_holding_in_the_car': 'Physical_assault_reports',\n",
    "    'rd_irt_verbal_altercation_hold_for_payment': 'Physical_assault_reports',\n",
    "    'rd_irt_major_altercation_police_involvement': 'Police_involvement',\n",
    "    'rd_irt_urgent_traffic_stop': 'Police_involvement',\n",
    "    'rd_irt_request_from_police': 'Police_involvement',\n",
    "    'rd_irt_threat_terrorism_user': 'PR_critical_case',\n",
    "    'rd_irt_threat_terrorism_driver': 'PR_critical_case',\n",
    "    'rd_irt_sexual_misconduct_rape': 'PR_critical_case',\n",
    "    'rd_irt_fatality': 'PR_critical_case',\n",
    "    'rd_irt_verbal_altercation_blogger_driver': 'PR_critical_case',\n",
    "    'rd_irt_threat_terrorism': 'PR_critical_case',\n",
    "    'rd_irt_grave_traffic_violation_sleepy_driver': 'Reckless_driving_reports',\n",
    "    'rd_irt_dangerous_driving_falling_asleep': 'Reckless_driving_reports',\n",
    "    'rd_irt_dangerous_driving': 'Reckless_driving_reports',\n",
    "    'rd_irt_dangerous_driving_drug_alcohol': 'Reckless_driving_reports',\n",
    "    'rd_irt_dangerous_driving_affected_animal': 'Road_accident_reports',\n",
    "    'rd_irt_dangerous_driving_affected_animal_without_trip': 'Road_accident_reports',\n",
    "    'rd_irt_accident_without_trip': 'Road_accident_reports',\n",
    "    'rd_irt_accident_before_boarding': 'Road_accident_reports',\n",
    "    'rd_irt_accident': 'Road_accident_reports',\n",
    "    'rd_irt_sexual_misconduct_sexual_assault': 'Sexual_assault_reports',\n",
    "    'rd_irt_sexual_misconduct_inappropriate_behavior': 'Sexual_assault_reports',\n",
    "    'rd_irt_sexual_misconduct_calls_and_messages_after_trip': 'Sexual_misconduct_reports',\n",
    "    'rd_irt_major_altercation_inappropriate_conversations': 'Sexual_misconduct_reports',\n",
    "    'rd_irt_sexual_misconduct_indecent_exposure': 'Sexual_misconduct_reports',\n",
    "    'rd_irt_sexual_misconduct_inappropriate_comments': 'Sexual_misconduct_reports',\n",
    "    'rd_irt_sexual_misconduct': 'Sexual_misconduct_reports',\n",
    "    'rd_irt_heist': 'Theft',\n",
    "    'rd_irt_theft': 'Theft',\n",
    "    'rd_irt_major_altercation_left_in_a_dangerous_place': 'Threat',\n",
    "    'rd_irt_threat_suicide_user': 'Threat',\n",
    "    'rd_irt_threat_suicide_driver': 'Threat',\n",
    "    'rd_irt_threat_suicide': 'Threat',\n",
    "    'rd_irt_threat_arrive_office_user': 'Threat',\n",
    "    'rd_irt_threat_arrive_office_driver': 'Threat',\n",
    "    'rd_irt_threat_arrive_office': 'Threat',\n",
    "    'rd_irt_verbal_altercation_threatended_weapons': 'Threat',\n",
    "    'rd_irt_physical_altercation_used_weapons': 'Threat',\n",
    "    'rd_irt_verbal_altercation_weapons_in_car': 'Threat',\n",
    "    'rd_irt_verbal_altercation_threat_intimidation': 'Threat',\n",
    "    'rd_irt_inappropriate_contact_after_trip_calls_or_messages': 'Threat',\n",
    "    'rd_irt_verbal_altercation_leaving_in_danger': 'Threat',\n",
    "    'rd_irt_verbal_altercation_stalking': 'Threat',\n",
    "    'rd_irt_health_soft': 'Unintentional_health_damage',\n",
    "    'rd_irt_health_client': 'Unintentional_health_damage',\n",
    "    'rd_irt_health_driver': 'Unintentional_health_damage',\n",
    "    'rd_irt_health': 'Unintentional_health_damage',\n",
    "    'rd_irt_mental_health': 'Unintentional_health_damage',\n",
    "    'rd_irt_verbal_altercation_without_trip_third_parties_without_physical_altercation': 'Verbal_altercation_reports',\n",
    "    'rd_irt_verbal_altercation_without_trip_third_parties': 'Verbal_altercation_reports',\n",
    "    'rd_irt_verbal_altercation_third_parties_without_physical_altercation': 'Verbal_altercation_reports',\n",
    "    'rd_irt_verbal_altercation_with_taxi_company': 'Verbal_altercation_reports',\n",
    "    'rd_irt_verbal_altercation_without_trip': 'Verbal_altercation_reports',\n",
    "    'rd_irt_discriminatory_comments': 'Verbal_altercation_reports',\n",
    "    'rd_irt_verbal_altercation': 'Verbal_altercation_reports',\n",
    "    'rd_irt_discrimination': 'Verbal_altercation_reports',\n",
    "    'rd_irt_service_denial': 'Verbal_altercation_reports',\n",
    "    'rd_irt_verbal_altercation_major': 'Verbal_altercation_reports'\n",
    "};\n",
    "\n",
    "DRIVER_YANGO_TAGS = {\n",
    "    'dr_complaint_irt_missing_passenger': 'Missing_person',\n",
    "    'dr_complaint_irt_missing_driver': 'Missing_person',\n",
    "    'dr_complaint_irt_from_driver': 'Other',\n",
    "    'dr_complaint_irt_duplicate_request': 'Other',\n",
    "    'dr_complaint_irt_need_more_details': 'Other',\n",
    "    'dr_complaint_irt_fraud': 'Other',\n",
    "    'dr_complaint_irt_not_urgent_request': 'Other',\n",
    "    'dr_irt_accident_compensation': 'Other',\n",
    "    'dr_complaint_irt_drugs_life_saving_medication_left_in_the_car': 'Other',\n",
    "    'dr_complaint_irt_drugs_transfer_through_the_driver': 'Other',\n",
    "    'dr_complaint_irt_drugs_left_in_the_car': 'Other',\n",
    "    'dr_complaint_irt_altercation': 'Other',\n",
    "    'dr_complaint_irt_forgotten_weapons': 'Other',\n",
    "    'dr_complaint_irt': 'Other',\n",
    "    'dr_complaint_irt_physical_altercation_physical_assault': 'Physical_assault_reports',\n",
    "    'dr_complaint_irt_major_altercation_holding_hostage': 'Physical_assault_reports',\n",
    "    'dr_complaint_irt_major_altercation_robbery': 'Physical_assault_reports',\n",
    "    'dr_complaint_irt_sexual_misconduct_sexual_assault': 'Physical_assault_reports',\n",
    "    'dr_complaint_irt_sexual_misconduct_inappropriate_behavior': 'Physical_assault_reports',\n",
    "    'irt_request_from_police_africa': 'Police_involvement',\n",
    "    'irt_request_from_police': 'Police_involvement',\n",
    "    'dr_complaint_irt_rider_detained_police': 'Police_involvement',\n",
    "    'dr_complaint_irt_driver_detained_police': 'Police_involvement',\n",
    "    'dr_complaint_irt_threats_terrorist_attack': 'PR_critical_case',\n",
    "    'dr_complaint_irt_fatality': 'PR_critical_case',\n",
    "    'dr_complaint_irt_sexual_misconduct_rape': 'PR_critical_case',\n",
    "    'dr_irt_accident_without_order': 'Road accident reports',\n",
    "    'dr_irt_accident': 'Road accident reports',\n",
    "    'dr_complaint_irt_sexual_misconduct_inappropriate_comments': 'Sexual_misconduct_reports',\n",
    "    'dr_complaint_irt_sexual_misconduct_indecent_exposure': 'Sexual_misconduct_reports',\n",
    "    'dr_complaint_irt_sexual_misconduct': 'Sexual_misconduct_reports',\n",
    "    'dr_complaint_irt_theft': 'Theft',\n",
    "    'dr_complaint_irt_threats_arrive_office': 'Threat',\n",
    "    'dr_complaint_irt_threats': 'Threat',\n",
    "    'dr_complaint_irt_passenger_made_emergency': 'Threat',\n",
    "    'dr_complaint_irt_verbal_altercation_threat_intimidation': 'Threat',\n",
    "    'dr_complaint_irt_verbal_altercation_stalking': 'Threat',\n",
    "    'dr_complaint_irt_physical_altercation_damage': 'Threat',\n",
    "    'dr_complaint_irt_verbal_altercation_weapons_in_car': 'Threat',\n",
    "    'dr_complaint_irt_verbal_altercation_threatended_weapons': 'Threat',\n",
    "    'dr_complaint_irt_physical_altercation_used_weapons': 'Threat',\n",
    "    'dr_complaint_irt_inappropriate_contact_after_trip_calls_or_messages': 'Threat',\n",
    "    'irt_health_client': 'Unintentional_health_damage',\n",
    "    'irt_health_driver': 'Unintentional_health_damage',\n",
    "    'irt_health': 'Unintentional_health_damage',\n",
    "    'dr_complaint_irt_verbal_altercation_major': 'Verbal_altercation_reports',\n",
    "    'dr_complaint_irt_altercation_conflict_without_order': 'Verbal_altercation_reports',\n",
    "    'dr_complaint_irt_discriminatory_comments': 'Verbal_altercation_reports'\n",
    "};\n",
    "\n",
    "RIDER_GO_TAGS = {\n",
    "    'rd_irt_sexual_misconduct_attempted_rape': 'PR_critical_case',\n",
    "    'rd_irt_sexual_misconduct_indecent_exposure_selfsatisfaction': 'Sexual assault reports',\n",
    "    'rd_irt_sexual_misconduct_indecent_exposure_natural_need': 'Other',\n",
    "    'rd_irt_sexual_misconduct_fraud': 'Other',\n",
    "    'rd_irt_sexual_misconduct_without_trip': 'Sexual_misconduct_reports',\n",
    "    'rd_irt_sexual_misconduct_act_of_rape': 'PR_critical_case',\n",
    "    'rd_irt_discriminatory_comments': 'Verbal_altercation_reports',\n",
    "    'rd_irt_service_denial': 'Verbal_altercation_reports',\n",
    "    'rd_irt_dangerous_driving': 'Reckless driving reports',\n",
    "    'rd_irt_dangerous_driving_falling_asleep': 'Reckless driving reports',\n",
    "    'rd_irt_sexual_misconduct_inappropriate_comments': 'Sexual_misconduct_reports',\n",
    "    'rd_irt_sexual_misconduct_inappropriate_behavior': 'Sexual assault reports',\n",
    "    'rd_irt_sexual_misconduct_sexual_assault': 'Sexual assault reports',\n",
    "    'rd_irt_verbal_altercation': 'Verbal_altercation_reports',\n",
    "    'rd_irt_verbal_altercation_threat_intimidation': 'Threat',\n",
    "    'rd_irt_inappropriate_contact_after_trip_calls_or_messages': 'Threat',\n",
    "    'rd_irt_verbal_altercation_stalking': 'Threat',\n",
    "    'rd_irt_verbal_altercation_holding_in_the_car': 'Physical_assault_reports',\n",
    "    'rd_irt_verbal_altercation_without_trip': 'Verbal_altercation_reports',\n",
    "    'rd_irt_accident_insurance': 'Other',\n",
    "    'rd_irt_request_from_police': 'Police_involvement',\n",
    "    'rd_irt_legal_issue_refuse': 'Other',\n",
    "    'rd_irt_legal_issue_satisfied_partially': 'Other',\n",
    "    'rd_irt_legal_issue_managers': 'Other',\n",
    "    'rd_irt_legal_issue_managers_no_answer': 'Other',\n",
    "    'rd_irt_legal_issue_managers_satisfied_partially': 'Other',\n",
    "    'rd_irt_forgotten_weapons': 'Other',\n",
    "    'rd_irt_extra_passanger_car': 'Other',\n",
    "    'rd_irt_mental_health': 'Unintentional_health_damage',\n",
    "    'rd_irt_forgotten_medicine': 'Other',\n",
    "    'rd_irt_verbal_altercation_leaving_in_danger': 'Threat',\n",
    "    'rd_irt_verbal_altercation_hold_for_payment': 'Physical_assault_reports',\n",
    "    'rd_irt_urgent_traffic_stop': 'Police_involvement',\n",
    "    'rd_irt_missing_person': 'Missing_person',\n",
    "    'rd_irt_legal_issue': 'Other',\n",
    "    'rd_irt_sos': 'Other',\n",
    "    'rd_irt_sos_not_reached': 'Other',\n",
    "    'rd_irt_threat_terrorism': 'PR_critical_case',\n",
    "    'rd_irt_legal_issue_satisfied': 'Other',\n",
    "    'rd_irt_request': 'Other',\n",
    "    'rd_irt_accident_without_trip': 'Road_accident_reports',\n",
    "    'rd_irt_sexual_misconduct': 'Sexual_misconduct_reports',\n",
    "    'rd_irt': 'Other',\n",
    "    'rd_irt_non_call': 'Other',\n",
    "    'rd_irt_accident_compensation': 'Other',\n",
    "    'rd_irt_sexual_misconduct_indecent_exposure': 'Sexual_misconduct_reports',\n",
    "    'rd_irt_heist': 'Theft',\n",
    "    'rd_irt_verbal_altercation_without_trip_third_parties_without_physical_altercation': 'Verbal_altercation_reports',\n",
    "    'rd_irt_smell_of_substances': 'Other',\n",
    "    'rd_irt_verbal_altercation_without_trip_third_parties': 'Verbal_altercation_reports',\n",
    "    'rd_irt_verbal_altercation_third_parties_without_physical_altercation': 'Verbal_altercation_reports',\n",
    "    'rd_irt_not_urgent_request': 'Other',\n",
    "    'rd_irt_verbal_altercation_major': 'Verbal_altercation_reports',\n",
    "    'rd_irt_physical_altercation_used_weapons': 'Threat',\n",
    "    'rd_irt_physical_altercation_third_parties': 'Physical_assault_reports',\n",
    "    'rd_irt_physical_altercation_physical_assault': 'Physical_assault_reports',\n",
    "    'rd_irt_verbal_altercation_threatended_weapons': 'Threat',\n",
    "    'rd_irt_health': 'Unintentional_health_damage',\n",
    "    'rd_irt_health_client': 'Unintentional_health_damage',\n",
    "    'rd_irt_missing_rider': 'Missing_person',\n",
    "    'rd_irt_accident': 'Road_accident_reports',\n",
    "    'rd_irt_discrimination': 'Verbal_altercation_reports',\n",
    "    'rd_irt_health_driver': 'Unintentional_health_damage',\n",
    "    'rd_irt_legal_issue_managers_satisfied': 'Other',\n",
    "    'rd_irt_legal_issue_managers_refuse': 'Other',\n",
    "    'rd_irt_accident_before_boarding': 'Road_accident_reports',\n",
    "    'rd_irt_missing_driver': 'Missing_person',\n",
    "    'rd_irt_theft': 'Theft',\n",
    "    'rd_irt_physical_altercation_damage': 'Other',\n",
    "    'rd_irt_verbal_altercation_weapons_in_car': 'Threat',\n",
    "    'rd_irt_traffic_violation': 'Reckless driving reports',\n",
    "    'rd_irt_dangerous_driving_drug_alcohol': 'Reckless driving reports',\n",
    "    'rd_irt_fatality': 'PR_critical_case',\n",
    "    'rd_irt_verbal_altercation_kidnapping': 'Physical_assault_reports',\n",
    "    'closed_by_merge': 'Other',\n",
    "    'rd_irt_more_details': 'Other',\n",
    "    'rd_irt_fraud': 'Other',\n",
    "    'rd_irt_dangerous_driving_affected_animal': 'Road_accident_reports',\n",
    "    'rd_irt_dangerous_driving_affected_animal_without_trip': 'Road_accident_reports',\n",
    "    'rd_irt_verbal_altercation_blogger_driver': 'PR_critical_case',\n",
    "    'rd_irt_verbal_altercation_with_taxi_company': 'Verbal_altercation_reports',\n",
    "    'rd_irt_health_was_ill': 'Other',\n",
    "    'rd_irt_verbal_altercation_threat_intimidation_user': 'Threat',\n",
    "    'rd_irt_support_negative_feedback': 'Other',\n",
    "    'rd_irt_verbal_altercation_without_trip_gas_smell': 'Verbal_altercation_reports',\n",
    "    'rd_irt_threat_arrive_office': 'Threat',\n",
    "    'rd_irt_threat_arrive_office_driver': 'Threat',\n",
    "    'rd_irt_threat_arrive_office_user': 'Threat',\n",
    "    'rd_irt_threat_suicide': 'Threat',\n",
    "    'rd_irt_threat_suicide_driver': 'Threat',\n",
    "    'rd_irt_threat_suicide_user': 'Threat',\n",
    "    'rd_irt_threat_terrorism_driver': 'PR_critical_case',\n",
    "    'rd_irt_threat_terrorism_user': 'PR_critical_case',\n",
    "    'rd_irt_pr': 'PR_critical_case',\n",
    "    'rd_irt_verbal_altercation_conflict_between_passengers': 'Verbal_altercation_reports',\n",
    "    'rd_irt_verbal_altercation_child_taken_away': 'Physical_assault_reports',\n",
    "    'rd_irt_second_contact': 'Threat',\n",
    "    'rd_irt_good_deed': 'Other',\n",
    "    'rd_irt_premium': 'Other',\n",
    "    'rd_irt_accident_non_insurance': 'Other',\n",
    "    'rd_irt_accident_intl': 'Other',\n",
    "    'rd_irt_wrong_service': 'Other',\n",
    "    'rd_irt_accessibility': 'Other',\n",
    "    'rd_irt_accessibility_general_question': 'Other',\n",
    "    'rd_irt_accessibility_financial_issue': 'Other',\n",
    "    'rd_irt_accessibility_feedback_driver': 'Other',\n",
    "    'rd_irt_accessibility_lost_item': 'Other',\n",
    "    'rd_irt_health_incorrect_conversations': 'Inappropriate_conversations',\n",
    "    'rd_irt_physical_altercation_soft': 'Physical_assault_reports',\n",
    "    'rd_irt_physical_altercation_hard': 'Physical_assault_reports',\n",
    "    'rd_irt_employee_complaint': 'Other'\n",
    "};\n",
    "\n",
    "DRIVER_GO_TAGS = {\n",
    "    'dr_complaint_irt_not_confirmed': 'Other',\n",
    "    'dr_complaint_irt_from_driver_arms': 'Threat',\n",
    "    'dr_complaint_irt_from_driver_physical_abuse': 'Physical_assault_reports',\n",
    "    'dr_complaint_irt_altercation_incorrect_conversations': 'Inappropriate_conversations',\n",
    "    'dr_complaint_irt_altercation_conflict_third_parties': 'Verbal_altercation_reports',\n",
    "    'dr_complaint_irt_driver_detained_police': 'Police_involvement',\n",
    "    'dr_complaint_irt_rider_detained_police': 'Police_involvement',\n",
    "    'dr_irt_accident_without_order': 'Road_accident_reports',\n",
    "    'dr_complaint_irt_pdd_encumbrance': 'Unintentional_health_damage',\n",
    "    'dr_complaint_irt_spam': 'Other',\n",
    "    'dr_complaint_irt_forgotten_weapons': 'Other',\n",
    "    'dr_complaint_irt': 'Other',\n",
    "    'irt_request_from_police': 'Police_involvement',\n",
    "    'dr_complaint_irt_theft': 'Theft',\n",
    "    'dr_complaint_irt_discriminatory_comments': 'Verbal_altercation_reports',\n",
    "    'dr_complaint_irt_sexual_misconduct': 'Sexual_misconduct_reports',\n",
    "    'dr_complaint_irt_sexual_misconduct_inappropriate_behavior': 'Physical_assault_reports',\n",
    "    'dr_complaint_irt_sexual_misconduct_indecent_exposure': 'Sexual_misconduct_reports',\n",
    "    'dr_complaint_irt_sexual_misconduct_sexual_assault': 'Physical_assault_reports',\n",
    "    'dr_complaint_irt_sexual_misconduct_rape': 'PR_critical_case',\n",
    "    'dr_complaint_irt_altercation': 'Other',\n",
    "    'dr_complaint_irt_verbal_altercation_major': 'Verbal_altercation_reports',\n",
    "    'dr_complaint_irt_fatality': 'PR_critical_case',\n",
    "    'dr_irt_accident': 'Road_accident_reports',\n",
    "    'irt_health': 'Unintentional_health_damage',\n",
    "    'irt_health_client': 'Unintentional_health_damage',\n",
    "    'irt_health_driver': 'Unintentional_health_damage',\n",
    "    'dr_complaint_irt_physical_altercation_physical_assault': 'Physical_assault_reports',\n",
    "    'dr_complaint_irt_physical_altercation_damage': 'Threat',\n",
    "    'dr_complaint_irt_verbal_altercation_stalking': 'Threat',\n",
    "    'dr_complaint_irt_inappropriate_contact_after_trip_calls_or_messages': 'Threat',\n",
    "    'dr_complaint_irt_physical_altercation_used_weapons': 'Threat',\n",
    "    'dr_complaint_irt_verbal_altercation_threatended_weapons': 'Threat',\n",
    "    'dr_complaint_irt_verbal_altercation_weapons_in_car': 'Threat',\n",
    "    'dr_complaint_irt_verbal_altercation_threat_intimidation': 'Threat',\n",
    "    'dr_complaint_irt_altercation_conflict_without_order': 'Verbal_altercation_reports',\n",
    "    'dr_complaint_irt_missing_passenger': 'Missing_person',\n",
    "    'dr_complaint_irt_missing_driver': 'Missing_person',\n",
    "    'dr_complaint_irt_passenger_made_emergency': 'Threat',\n",
    "    'dr_complaint_irt_threats_arrive_office': 'Threat',\n",
    "    'dr_complaint_irt_verbal_altercation_robbery': 'Physical_assault_reports',\n",
    "    'dr_complaint_irt_verbal_altercation_forgotten_drugs': 'Other',\n",
    "    'dr_complaint_irt_duplicate': 'Other',\n",
    "    'dr_complaint_irt_from_driver': 'Other',\n",
    "    'dr_complaint_irt_theft_phone_fraud': 'Other',\n",
    "    'dr_complaint_irt_threat_to_passengers': 'Threat',\n",
    "    'dr_complaint_irt_threats_terrorist_attack': 'PR_critical_case',\n",
    "    'dr_complaint_irt_threat_of_a_strike': 'PR_critical_case',\n",
    "    'dr_complaint_irt_threat_suicide': 'PR_critical_case',\n",
    "    'dr_complaint_irt_from_passenger_threat_suicide': 'PR_critical_case',\n",
    "    'dr_complaint_irt_from_passenger_threats_terrorist_attack': 'PR_critical_case',\n",
    "    'dr_complaint_irt_pr': 'PR_critical_case',\n",
    "    'dr_irt_accident_before_boarding': 'Road_accident_reports',\n",
    "    'dr_irt_accident_insurance': 'Road_accident_reports',\n",
    "    'dr_irt_accident_inappropriate_treatment': 'Other',\n",
    "    'dr_irt_accident_duplicate': 'Other',\n",
    "    'dr_irt_good_deed': 'Other',\n",
    "    'dr_complaint_irt_insurance': 'Other',\n",
    "    'dr_complaint_irt_insurance_physical_assault': 'Physical_assault_reports',\n",
    "    'dr_complaint_irt_forgotten_medicine': 'Other',\n",
    "    'dr_complaint_irt_atipical_freight': 'Other',\n",
    "    'dr_irt_accident_not_insurance': 'Road_accident_reports'\n",
    "};"
   ]
  },
  {
   "cell_type": "code",
   "execution_count": null,
   "id": "af51bcd9",
   "metadata": {},
   "outputs": [],
   "source": []
  }
 ],
 "metadata": {
  "kernelspec": {
   "display_name": "Python 3 (ipykernel)",
   "language": "python",
   "name": "python3"
  },
  "language_info": {
   "codemirror_mode": {
    "name": "ipython",
    "version": 3
   },
   "file_extension": ".py",
   "mimetype": "text/x-python",
   "name": "python",
   "nbconvert_exporter": "python",
   "pygments_lexer": "ipython3",
   "version": "3.10.9"
  }
 },
 "nbformat": 4,
 "nbformat_minor": 5
}
