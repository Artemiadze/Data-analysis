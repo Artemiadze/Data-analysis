{
 "cells": [
  {
   "cell_type": "markdown",
   "id": "2efa5011",
   "metadata": {},
   "source": [
    "<center>\n",
    "<img src='https://imgs.xkcd.com/comics/t_distribution_2x.png' align='center' width=\"800x\">\n",
    "</center>"
   ]
  },
  {
   "cell_type": "markdown",
   "id": "2f366573",
   "metadata": {},
   "source": [
    "# Андан на экономе\n",
    "\n",
    "## Семинар 13:  больше гипотез богу гипотез"
   ]
  },
  {
   "cell_type": "code",
   "execution_count": 1,
   "id": "8c533524",
   "metadata": {},
   "outputs": [],
   "source": [
    "import numpy as np\n",
    "import pandas as pd\n",
    "\n",
    "from scipy import stats as sts\n",
    "\n",
    "import seaborn as sns\n",
    "import matplotlib.pyplot as plt"
   ]
  },
  {
   "cell_type": "markdown",
   "id": "ddabaa11",
   "metadata": {},
   "source": [
    "## Задание 0 (воспоминания)\n",
    "\n",
    "Обсудите: \n",
    "\n",
    "- Чем непараметрические критерии отличаются от параметрических?\n",
    "- Что такое $z-$тест и $t-$тест? Какие у них предпосылки? Чем они отличаются друг от друга?\n",
    "- В каких случаях $z-$тест будет работать плохо?\n",
    "- В каких случаях $t-$тест будет работать плохо?\n",
    "\n",
    "Обсудите:\n",
    "\n",
    "- Что такое критерии знаков? \n",
    "- Какие у них предпосылки? \n",
    "- Как выглядит нулевая гипотеза? \n",
    "- Как выглядит формула для подсчёта критерия?\n",
    "\n",
    "Обсудите:\n",
    "\n",
    "- Какие прдпосылки есть у теста Манна-Уитни? \n",
    "- Как выглядит проверяемая нулевая гипотеза? \n",
    "- Как выглядит формула для подсчёта критерия?\n",
    "- В каких случаях тест Манна-Уитни будет работать плохо?\n",
    "\n",
    "Если забыли, то вот вам реклама лекций Фила (опять): \n",
    "\n",
    "- [Видосы с курсеры](https://www.youtube.com/watch?v=2p24KPez62U&list=PLCf-cQCe1FRyCcf47wwBlDObNcz4ud2_L)\n",
    "- [Лекция про непараметрические критерии из ФКНовской магистратуры](https://www.youtube.com/watch?v=0Rn6ImS0WK4)"
   ]
  },
  {
   "cell_type": "markdown",
   "id": "93cec62d",
   "metadata": {},
   "source": [
    "## Задание 1 (мудрость)\n",
    "\n",
    "> Помните, что для человека звук его имени является самым сладким и самым важным звуком человеческой речи. (Дейл Карнеги)\n",
    "\n",
    "Доверяй, но проверяй. Решим задачку по психологии! Все цитаты в пабликах вконтакте делятся на два вида: мудрые и недостаточно мудрые. Если цитата мудрая, то её можно лайкнуть. Поговаривают, что если в цитате есть личные местоимения, то пользователь автоматически сопоставляет себя автору этой цитаты и вероятность того, что она будет лайкнута, повышается. Например, цитату \n",
    "\n",
    "> Можно простить человеку все, кроме отсутствия. (Экзюпери) \n",
    "\n",
    "мне не очень хотелось бы лайкать. А вот цитата \n",
    "\n",
    "> Мне наплевать, что вы обо мне думаете. Я о вас вообще не думаю. (Булгаков) \n",
    "\n",
    "совершенно другое дело. \n",
    "\n",
    "В табличке `df_vk_wise` лежат данные о мудрых цитатах из [мудрого паблика.](https://vk.com/ooioioioioioo) В колонке `I` находится переменная, которая принимает значение `True`, когда в тексте цитаты было личное местоимение \"Я\".\n",
    "\n",
    "Срежем первые $50$ постов, так как под ними количество репостов и лайков ещё окончательно не выставлено, и будем работать с остатками. "
   ]
  },
  {
   "cell_type": "code",
   "execution_count": 2,
   "id": "8e1a736b",
   "metadata": {},
   "outputs": [
    {
     "data": {
      "text/html": [
       "<div>\n",
       "<style scoped>\n",
       "    .dataframe tbody tr th:only-of-type {\n",
       "        vertical-align: middle;\n",
       "    }\n",
       "\n",
       "    .dataframe tbody tr th {\n",
       "        vertical-align: top;\n",
       "    }\n",
       "\n",
       "    .dataframe thead th {\n",
       "        text-align: right;\n",
       "    }\n",
       "</style>\n",
       "<table border=\"1\" class=\"dataframe\">\n",
       "  <thead>\n",
       "    <tr style=\"text-align: right;\">\n",
       "      <th></th>\n",
       "      <th>likes</th>\n",
       "      <th>reposts</th>\n",
       "      <th>text</th>\n",
       "      <th>I</th>\n",
       "    </tr>\n",
       "  </thead>\n",
       "  <tbody>\n",
       "    <tr>\n",
       "      <th>50</th>\n",
       "      <td>549</td>\n",
       "      <td>25</td>\n",
       "      <td>Я, говорит, люблю человечество, но дивлюсь на ...</td>\n",
       "      <td>True</td>\n",
       "    </tr>\n",
       "    <tr>\n",
       "      <th>51</th>\n",
       "      <td>607</td>\n",
       "      <td>22</td>\n",
       "      <td>Нельзя любить то, что я люблю, да ещё так, как...</td>\n",
       "      <td>True</td>\n",
       "    </tr>\n",
       "    <tr>\n",
       "      <th>52</th>\n",
       "      <td>914</td>\n",
       "      <td>37</td>\n",
       "      <td>Если испытываешь по-настоящему глубокое чувств...</td>\n",
       "      <td>False</td>\n",
       "    </tr>\n",
       "    <tr>\n",
       "      <th>53</th>\n",
       "      <td>989</td>\n",
       "      <td>34</td>\n",
       "      <td>— Я тебя люблю, — сказал я. \\r\\n— Это пройдет,...</td>\n",
       "      <td>True</td>\n",
       "    </tr>\n",
       "    <tr>\n",
       "      <th>54</th>\n",
       "      <td>1229</td>\n",
       "      <td>32</td>\n",
       "      <td>Он очаровательно рассказывает мне о том, как о...</td>\n",
       "      <td>False</td>\n",
       "    </tr>\n",
       "  </tbody>\n",
       "</table>\n",
       "</div>"
      ],
      "text/plain": [
       "    likes  reposts                                               text      I\n",
       "50    549       25  Я, говорит, люблю человечество, но дивлюсь на ...   True\n",
       "51    607       22  Нельзя любить то, что я люблю, да ещё так, как...   True\n",
       "52    914       37  Если испытываешь по-настоящему глубокое чувств...  False\n",
       "53    989       34  — Я тебя люблю, — сказал я. \\r\\n— Это пройдет,...   True\n",
       "54   1229       32  Он очаровательно рассказывает мне о том, как о...  False"
      ]
     },
     "execution_count": 2,
     "metadata": {},
     "output_type": "execute_result"
    }
   ],
   "source": [
    "df = pd.read_csv('df_vk_wise.csv')[50:]\n",
    "df.head()"
   ]
  },
  {
   "cell_type": "markdown",
   "id": "942e4f99",
   "metadata": {},
   "source": [
    "Постройте гистограмму для числа лайков постов, содержащих личные местоимения и не содержащих. Как думаете, есть ли с распределением лайков какие-то проблемы?"
   ]
  },
  {
   "cell_type": "code",
   "execution_count": 3,
   "id": "0ee85e07",
   "metadata": {},
   "outputs": [
    {
     "data": {
      "image/png": "[encoded data removed]",
      "text/plain": [
       "<Figure size 1000x500 with 1 Axes>"
      ]
     },
     "metadata": {},
     "output_type": "display_data"
    }
   ],
   "source": [
    "x = df[df['I']== True]['likes'].values\n",
    "y = df[df['I']== False]['likes'].values\n",
    "\n",
    "plt.figure(figsize=(10,5))\n",
    "plt.hist(x, bins=20, density=True, alpha=0.4, label='yes')\n",
    "plt.hist(y, bins=20, density=True, alpha=0.4, label='no')\n",
    "plt.legend();"
   ]
  },
  {
   "cell_type": "markdown",
   "id": "77a5820e",
   "metadata": {},
   "source": [
    "Да, проблемы есть. Это выбросы. Хвосты на гистограммах оказываются очень длинными. Найдите медианы и средние для числа лайков. Сравните их между собой. "
   ]
  },
  {
   "cell_type": "code",
   "execution_count": 4,
   "id": "80dadb3f",
   "metadata": {},
   "outputs": [
    {
     "name": "stdout",
     "output_type": "stream",
     "text": [
      "2879.1828885400314 2588.5\n",
      "2784.0432051478474 2497.0\n"
     ]
    }
   ],
   "source": [
    "print(np.mean(x), np.median(x))\n",
    "print(np.mean(y), np.median(y))"
   ]
  },
  {
   "cell_type": "markdown",
   "id": "2cc8c11a",
   "metadata": {},
   "source": [
    "Проверьте гипотезу о равенстве среднего числа лайков. Используйте для этого $z$-тест, основанный на ЦПТ. Дисперсию расчитывайте по выборке, используя несмещённую оценку `(ddof=1)`. Запишите наблюдаемое значение статистики в переменную `z_obs`. "
   ]
  },
  {
   "cell_type": "code",
   "execution_count": 5,
   "id": "88f17591",
   "metadata": {},
   "outputs": [
    {
     "data": {
      "text/plain": [
       "np.float64(2.6644610922505323)"
      ]
     },
     "execution_count": 5,
     "metadata": {},
     "output_type": "execute_result"
    }
   ],
   "source": [
    "alpha = 0.05 \n",
    "\n",
    "diff = x.mean() - y.mean() \n",
    "diff_std = np.sqrt(x.var(ddof=1)/x.size + y.var(ddof=1)/y.size)\n",
    "z_obs = diff/diff_std\n",
    "z_obs"
   ]
  },
  {
   "cell_type": "markdown",
   "id": "6e1f201c",
   "metadata": {},
   "source": [
    "Найдите критическое значение статистики. Сравните его с наблюдаемым. Рассчитайте p-value для ситуации с двусторонней альтернативой. Сделайте вывод о выдвинутой гипотезе. Критическое значение статистики запишите в переменную `z_crit`, а p-значение в переменную `pval`. "
   ]
  },
  {
   "cell_type": "code",
   "execution_count": 6,
   "id": "c33e2edb",
   "metadata": {},
   "outputs": [
    {
     "data": {
      "text/plain": [
       "(np.float64(1.959963984540054), np.float64(0.00771117860544288))"
      ]
     },
     "execution_count": 6,
     "metadata": {},
     "output_type": "execute_result"
    }
   ],
   "source": [
    "z_crit = sts.norm.ppf(1 - alpha/2)\n",
    "pval = 2*sts.norm.cdf(-z_obs)\n",
    "z_crit, pval"
   ]
  },
  {
   "cell_type": "markdown",
   "id": "6f40c8df",
   "metadata": {},
   "source": [
    "Можно заметить, что у распределения числа репостов длинные хвосты. В данных есть выбросы, которые завышают среднее значение. Если выбросы сильные, то ЦПТ может ломаться. Из-за этого имеет смысл в данном случае использовать другой критерий. Например, критерий Манна-Уитни."
   ]
  },
  {
   "cell_type": "markdown",
   "id": "9cfaa98a",
   "metadata": {},
   "source": [
    "Найдите наблюдаемое значение статистики Манна-Уитни. Сравните его с критическим. Рассчитайте p-value для ситуации с двусторонней альтернативой. Сделайте вывод о выдвинутой гипотезе. Отличается ли полученный вывод от вывода $z$-теста?"
   ]
  },
  {
   "cell_type": "code",
   "execution_count": 7,
   "id": "30f85956",
   "metadata": {},
   "outputs": [
    {
     "data": {
      "text/plain": [
       "np.float64(8604129.5)"
      ]
     },
     "execution_count": 7,
     "metadata": {},
     "output_type": "execute_result"
    }
   ],
   "source": [
    "U, pval = sts.mannwhitneyu(x, y, alternative='two-sided')\n",
    "U"
   ]
  },
  {
   "cell_type": "code",
   "execution_count": 8,
   "id": "a815cdae",
   "metadata": {},
   "outputs": [
    {
     "data": {
      "text/plain": [
       "np.float64(0.01004067464288777)"
      ]
     },
     "execution_count": 8,
     "metadata": {},
     "output_type": "execute_result"
    }
   ],
   "source": [
    "pval"
   ]
  },
  {
   "cell_type": "markdown",
   "id": "ec918444",
   "metadata": {},
   "source": [
    "Значение статистики можно найти через ранги."
   ]
  },
  {
   "cell_type": "code",
   "execution_count": 9,
   "id": "efadead3",
   "metadata": {},
   "outputs": [
    {
     "data": {
      "text/plain": [
       "np.float64(8604129.5)"
      ]
     },
     "execution_count": 9,
     "metadata": {},
     "output_type": "execute_result"
    }
   ],
   "source": [
    "xy = np.concatenate((x,y))\n",
    "\n",
    "# нашли ранги и дальше просуммировали\n",
    "R1 = sts.rankdata(xy)[:len(x)]\n",
    "R1.sum(axis=-1) - len(x)*(len(x) + 1)/2"
   ]
  },
  {
   "cell_type": "code",
   "execution_count": 10,
   "id": "d7fb5141",
   "metadata": {},
   "outputs": [
    {
     "data": {
      "text/plain": [
       "[(np.float64(3908.5), 7), (np.float64(3387.5), 5), (np.float64(1640.0), 4)]"
      ]
     },
     "execution_count": 10,
     "metadata": {},
     "output_type": "execute_result"
    }
   ],
   "source": [
    "from collections import Counter\n",
    "\n",
    "# ранги быввают дробные, когда равенства :)\n",
    "Counter(R1).most_common()[:3]"
   ]
  },
  {
   "cell_type": "markdown",
   "id": "4c129b43",
   "metadata": {},
   "source": [
    "Можно посчитать значение статистики циклом, сравнивая между собой элементы."
   ]
  },
  {
   "cell_type": "code",
   "execution_count": 11,
   "id": "df8afe31",
   "metadata": {
    "scrolled": true
   },
   "outputs": [
    {
     "data": {
      "text/plain": [
       "np.float64(8604129.5)"
      ]
     },
     "execution_count": 11,
     "metadata": {},
     "output_type": "execute_result"
    }
   ],
   "source": [
    "U = 0\n",
    "\n",
    "for item in x:\n",
    "    for jtem in y:\n",
    "        U += (item > jtem)\n",
    "        U += 0.5*(item == jtem) # половинка (прям как в roc-auc)\n",
    "U"
   ]
  },
  {
   "cell_type": "markdown",
   "id": "91caa21b",
   "metadata": {},
   "source": [
    "## Задание 2 (ломаем тест Манна-Уитни)\n",
    "\n",
    "Придумайте пример, на котором тест Манна-Уитни не будет работать. \n",
    "\n",
    "__Hint:__ Главная предпосылка теста заключается в том, что распределение не меняется, но у него происходит сдвиг. Воспользуйтесь этим. \n",
    "\n",
    "\\begin{equation*}\n",
    "    \\begin{aligned}\n",
    "    & H_0: F_X(x) = F_Y(y) \\\\\n",
    "    & H_A: F_X(x) = F_Y(y + m), m \\ne 0\n",
    "    \\end{aligned}\n",
    "\\end{equation*}\n",
    "\n",
    "\n",
    "<center>\n",
    "<img src='https://raw.githubusercontent.com/hse-econ-data-science/andan_2023/main/sem12_more_ab/mw.png' align='center' width=\"300x\">\n",
    "</center>\n"
   ]
  },
  {
   "cell_type": "code",
   "execution_count": 12,
   "id": "9451a6b1",
   "metadata": {},
   "outputs": [
    {
     "data": {
      "image/png": "[encoded data removed]",
      "text/plain": [
       "<Figure size 640x480 with 1 Axes>"
      ]
     },
     "metadata": {},
     "output_type": "display_data"
    }
   ],
   "source": [
    "import matplotlib.pyplot as plt\n",
    "import scipy.stats as sts\n",
    "\n",
    "n_obs = 10**6\n",
    "x = sts.norm(0.5, 0.25).rvs(n_obs)\n",
    "y = 3*sts.bernoulli(0.5).rvs(n_obs) - 1\n",
    "\n",
    "# В результате АБ-теста произошла поляризация мнений!\n",
    "\n",
    "plt.hist(x, bins=100, density=True, label='N(0.5,1)');\n",
    "plt.hist(y, density=True, label='Bern(0.5)', log=True);\n",
    "plt.legend();"
   ]
  },
  {
   "cell_type": "code",
   "execution_count": 13,
   "id": "952430b8",
   "metadata": {},
   "outputs": [
    {
     "data": {
      "text/plain": [
       "np.float64(0.6081830230548673)"
      ]
     },
     "execution_count": 13,
     "metadata": {},
     "output_type": "execute_result"
    }
   ],
   "source": [
    "# Тест Манна-Уитни говорит, что изменений нет, хотя они, очевидно, есть :(\n",
    "_, pval = sts.mannwhitneyu(x, y, alternative='two-sided')\n",
    "pval"
   ]
  },
  {
   "cell_type": "code",
   "execution_count": 14,
   "id": "1541678c",
   "metadata": {},
   "outputs": [
    {
     "data": {
      "text/plain": [
       "KstestResult(statistic=np.float64(0.5002059999999999), pvalue=np.float64(0.0), statistic_location=np.float64(1.8399638982498587), statistic_sign=np.int8(1))"
      ]
     },
     "execution_count": 14,
     "metadata": {},
     "output_type": "execute_result"
    }
   ],
   "source": [
    "# А вот тест Колмогорова-Смирнова заметит изменения :) \n",
    "# Сможете объяснить почему? \n",
    "sts.ks_2samp(x, y)"
   ]
  },
  {
   "cell_type": "markdown",
   "id": "370a39b2",
   "metadata": {},
   "source": [
    "## Задание 3 (мимимишные мышки)\n",
    "\n",
    "$16$ лабораторных мышей были помещены в двухкомнатные клетки, в одной из комнат висело зеркало. С целью установить, есть ли у мышей какие-то предпочтения насчет зеркал, измерялась доля времени, которое каждая мышь проводила в каждой из своих двух клеток.\n",
    "\n",
    "![](https://ars.els-cdn.com/content/image/1-s2.0-S0168159104000061-gr1.gif)\n",
    "\n",
    "В файле `mouses_mirror.txt` лежит информация о том, какую долю времени мышка проводила в клетке с зеркалом. "
   ]
  },
  {
   "cell_type": "code",
   "execution_count": 15,
   "id": "1dca6cdc",
   "metadata": {},
   "outputs": [
    {
     "data": {
      "image/png": "[encoded data removed]",
      "text/plain": [
       "<Figure size 640x480 with 1 Axes>"
      ]
     },
     "metadata": {},
     "output_type": "display_data"
    }
   ],
   "source": [
    "x = pd.read_csv('mouses_mirror.txt', header = None)[0].values\n",
    "plt.hist(x, density=True);"
   ]
  },
  {
   "cell_type": "markdown",
   "id": "82ae5140",
   "metadata": {},
   "source": [
    "Проверьте гипотезу о том, что мышкам безразлично в какой комнате проводить время с помощью критерия знаков. Сформулируйте нулевую гипотезу, перечислите основные особенности этого критерия. Запишите в переменную `pvalue_1` получившееся в результате этого $p$-значение. "
   ]
  },
  {
   "cell_type": "code",
   "execution_count": 16,
   "id": "4046f396",
   "metadata": {},
   "outputs": [
    {
     "data": {
      "text/plain": [
       "np.float64(0.021270751953125)"
      ]
     },
     "execution_count": 16,
     "metadata": {},
     "output_type": "execute_result"
    }
   ],
   "source": [
    "from statsmodels.stats.descriptivestats import sign_test\n",
    "_, pvalue_1 = sign_test(x, mu0=0.5)\n",
    "pvalue_1"
   ]
  },
  {
   "cell_type": "markdown",
   "id": "3ff71cc7",
   "metadata": {},
   "source": [
    "Проверьте гипотезу о том, что мышкам безразлично в какой комнате проводить время с помощью теста Вилкоксона. Сформулируйте нулевую гипотезу, перечислите основные особенности этого критерия.  Запишите в переменную `pvalue_2` получившееся в результате этого $p$-значение. "
   ]
  },
  {
   "cell_type": "code",
   "execution_count": 17,
   "id": "8253dd76",
   "metadata": {},
   "outputs": [
    {
     "data": {
      "text/plain": [
       "np.float64(0.09344482421875)"
      ]
     },
     "execution_count": 17,
     "metadata": {},
     "output_type": "execute_result"
    }
   ],
   "source": [
    "from statsmodels.stats.descriptivestats import sign_test\n",
    "_, pvalue_2 = sts.wilcoxon(x - 0.5)\n",
    "pvalue_2"
   ]
  },
  {
   "cell_type": "markdown",
   "id": "efad3df5",
   "metadata": {},
   "source": [
    "Проверьте гипотезу о том, что мышкам безразлично в какой комнате проводить время с помощью асимптотического $z$-теста. Сформулируйте нулевую гипотезу, перечислите основные особенности этого критерия.  Запишите в переменную `pvalue_3` получившееся в результате этого $p$-значение. "
   ]
  },
  {
   "cell_type": "code",
   "execution_count": 18,
   "id": "38b41a2a",
   "metadata": {},
   "outputs": [
    {
     "data": {
      "text/plain": [
       "(np.float64(0.13460721078205806), np.float64(0.47528889375))"
      ]
     },
     "execution_count": 18,
     "metadata": {},
     "output_type": "execute_result"
    }
   ],
   "source": [
    "from statsmodels.stats.weightstats import ztest,zconfint\n",
    "\n",
    "_, pvalue_3 = ztest(x, value=0.5)\n",
    "pvalue_3, x.mean()"
   ]
  },
  {
   "cell_type": "markdown",
   "id": "5bed09c0",
   "metadata": {},
   "source": [
    "## Задание 4 (парадокс Симпсона)\n",
    "\n",
    "Помимо решения задач и применения различных функций из библиотек необходимо очень аккуратно работать с данным и понимать, какие действия корректны, а какие нет. Перед вами результаты медицинских исследований: \n",
    "\n",
    "- из $1650$ мужчин, принимавших лекарство, выздоровели $770$, \n",
    "- из $223$ мужчин, не принимавших лекарство, выздоровели $88$,\n",
    "- из $245$ женщин, принимавших лекарство, выздоровели $165$,\n",
    "- из $750$ женщин, не принимавших лекарство женщин, выздоровели $440$.\n",
    "\n",
    "Необходимо найти ответы на следующие вопросы: \n",
    "\n",
    "1. Влияет ли лекарство на мужчин?\n",
    "2. Влияет ли лекарство на женщин? \n",
    "3. Влияет ли лекарство на людей обоих полов в целом?\n",
    "\n",
    "Будем считать, что исследование проводилось методом двойного слепого тестирования. Врач не знал, даёт ли он пациенту плацебо или лекарство, пациент не знал, пьёт ли он плацебо или лекарство. "
   ]
  },
  {
   "cell_type": "markdown",
   "id": "ba1c58a0",
   "metadata": {},
   "source": [
    "Запишем данные в табличку. Пусть $A$ — принимавшие лекарство, $\\overline{A}$ — не принимавшие лекарство, $B$ — выздоровевшие, $\\overline{B}$ — не выздоровевшие."
   ]
  },
  {
   "cell_type": "markdown",
   "id": "25c031e9",
   "metadata": {},
   "source": [
    "<!--<img width=\"60%\" src=\"pics/pic2.png\">-->\n",
    "<table>\n",
    "<tr><td>\n",
    "    \n",
    "|Мужчины| $B$ |  $\\overline{B}$|\n",
    "|--|--|--|\n",
    "|$A$| 770 | 880 |\n",
    "|$\\overline{A}$| 88 | 135 |\n",
    "\n",
    "</td><td>\n",
    "    \n",
    "|Женщины| $B$ |  $\\overline{B}$|\n",
    "|--|--|--|\n",
    "|$A$| 165 | 80 |\n",
    "|$\\overline{A}$| 440 | 310 |\n",
    "\n",
    "</td><td>\n",
    "\n",
    "|Вместе| $B$ |  $\\overline{B}$|\n",
    "|--|--|--|\n",
    "|$A$| 935 | 960 |\n",
    "|$\\overline{A}$| 528 | 445 |\n",
    "\n",
    "</td></tr> </table>"
   ]
  },
  {
   "cell_type": "markdown",
   "id": "20f29837",
   "metadata": {},
   "source": [
    "Для решения задачи воспользуйтесь критерием хи-квадрат Пирсона.\n",
    "\n",
    "Тест поможет нам понять, есть ли у лекарства какой-то эффект. Применить тест в python помогает функция `chi2_contingency` из пакета `scipy.stats`. Используйте её с параметром `correction=False`."
   ]
  },
  {
   "cell_type": "markdown",
   "id": "b36e1b66",
   "metadata": {},
   "source": [
    "__а)__  Давайте попробуем найти ответ на вопрос, есть ли эффект от лекарства для мужчин?  Давайте предварительно посчитаем долю выздровевших мужчин, которые принимали лекарство и долю выздровевших мужчин, которые не принимали лекартсво. Сравните эти доли."
   ]
  },
  {
   "cell_type": "markdown",
   "id": "b9e89cdd",
   "metadata": {},
   "source": [
    "> __Ответ:__ Заметим, что среди принимавших лекарство мужчин доля выздоровевших больше, чем среди мужчин, не принимавших лекарство:$$\\frac{770}{770 + 880} \\approx 0.467 \\qquad > \\qquad 0.395 \\approx \\frac{88}{88 + 135}.$$"
   ]
  },
  {
   "cell_type": "markdown",
   "id": "3e773052",
   "metadata": {},
   "source": [
    "Создадим матрицу размера $2 \\times 2.$ Внесём в неё частоты, полученные для мужчин."
   ]
  },
  {
   "cell_type": "code",
   "execution_count": 19,
   "id": "3ed3a316",
   "metadata": {},
   "outputs": [],
   "source": [
    "men = np.array([[770,880],[88,135]])"
   ]
  },
  {
   "cell_type": "markdown",
   "id": "fa484776",
   "metadata": {},
   "source": [
    "Примените тест с параметром `correction=False` и сделайте выводы на уровне значимости $5\\%.$"
   ]
  },
  {
   "cell_type": "code",
   "execution_count": 20,
   "id": "17fe3afa",
   "metadata": {},
   "outputs": [
    {
     "data": {
      "text/plain": [
       "Chi2ContingencyResult(statistic=np.float64(4.107854906463222), pvalue=np.float64(0.04268446899604581), dof=1, expected_freq=array([[755.84623599, 894.15376401],\n",
       "       [102.15376401, 120.84623599]]))"
      ]
     },
     "execution_count": 20,
     "metadata": {},
     "output_type": "execute_result"
    }
   ],
   "source": [
    "sts.chi2_contingency(men, correction=False)"
   ]
  },
  {
   "cell_type": "markdown",
   "id": "ec32773d",
   "metadata": {},
   "source": [
    "__б)__ Сделайте всё то же самое, но руками, без помощи библиотеки.\n",
    "\n",
    "Для того, чтобы расчитать тестовую стаститику хи-квадрат, нам необходимо найти матрицу ожидаемых частот, такую же, которая у нас получилась в предыдущем пункте в output-е функции `chi2_contingency`. \n",
    "\n",
    "Используя матрицу из предыдущего пункта, посчитайте общее количество испытуемых мужчин."
   ]
  },
  {
   "cell_type": "code",
   "execution_count": 21,
   "id": "1aa8e48b",
   "metadata": {},
   "outputs": [],
   "source": [
    "n = np.sum(men)"
   ]
  },
  {
   "cell_type": "markdown",
   "id": "14ff4aa0",
   "metadata": {},
   "source": [
    "Посчитайте отдельно количество испытуемых мужчин, которые принимали лекарство, и которые не принимали его $(n1, n2)$"
   ]
  },
  {
   "cell_type": "code",
   "execution_count": 22,
   "id": "a0ba8b88",
   "metadata": {},
   "outputs": [],
   "source": [
    "n1, n2 = np.sum(men, axis=1)"
   ]
  },
  {
   "cell_type": "markdown",
   "id": "37e2a061",
   "metadata": {},
   "source": [
    "Найдите вероятности выздороветь или нет (независимо от группы по приему/не приему лекарства), то есть вероятность попасть в $B$ и $\\overline{B}$ для мужчин."
   ]
  },
  {
   "cell_type": "code",
   "execution_count": 23,
   "id": "c84ce2b3",
   "metadata": {},
   "outputs": [],
   "source": [
    "p = np.sum(men, axis=0) / n"
   ]
  },
  {
   "cell_type": "markdown",
   "id": "3ea768fc",
   "metadata": {},
   "source": [
    "Расчитайте ожидаемые (теоритические) значения для каждой ячейки матрицы. Для этого перемножьте вероятности из предыдущего пункта со значениями $n_1$ и $n_2$. Полученную матрицу можно сравнить с выводом библиотеки`scipy.stats`, она должна быть идентичной."
   ]
  },
  {
   "cell_type": "code",
   "execution_count": 24,
   "id": "c1105118",
   "metadata": {},
   "outputs": [],
   "source": [
    "expect_men = np.array([p * n1, p * n2])"
   ]
  },
  {
   "cell_type": "code",
   "execution_count": 25,
   "id": "8f412be1",
   "metadata": {},
   "outputs": [
    {
     "data": {
      "text/plain": [
       "array([[755.84623599, 894.15376401],\n",
       "       [102.15376401, 120.84623599]])"
      ]
     },
     "execution_count": 25,
     "metadata": {},
     "output_type": "execute_result"
    }
   ],
   "source": [
    "expect_men"
   ]
  },
  {
   "cell_type": "markdown",
   "id": "71466c24",
   "metadata": {},
   "source": [
    "Расчитайте наблюдаемую статистику и найдите `p_value` с помощью `sts.chi2.cdf` с параметром `df=1`.\n",
    "\n",
    "\\begin{equation*} \\chi^2_d = \\sum {\\frac {(O-E)^2}{E}},\\end{equation*}\n",
    "\n",
    "где\n",
    "\n",
    "- $E$ - наши ожидаемые частоты(матрица из предыдущего пукта),\n",
    "- $O$ - наблюдаемы частоты(первоначальная матрица)."
   ]
  },
  {
   "cell_type": "code",
   "execution_count": 26,
   "id": "58213115",
   "metadata": {},
   "outputs": [],
   "source": [
    "statistic = np.sum((men - expect_men) ** 2 / expect_men)"
   ]
  },
  {
   "cell_type": "code",
   "execution_count": 27,
   "id": "4cf06d68",
   "metadata": {},
   "outputs": [
    {
     "data": {
      "text/plain": [
       "np.float64(4.107854906463222)"
      ]
     },
     "execution_count": 27,
     "metadata": {},
     "output_type": "execute_result"
    }
   ],
   "source": [
    "statistic"
   ]
  },
  {
   "cell_type": "code",
   "execution_count": 28,
   "id": "d4c14093",
   "metadata": {},
   "outputs": [],
   "source": [
    "pvalue = 1-sts.chi2.cdf(statistic, df=1)"
   ]
  },
  {
   "cell_type": "code",
   "execution_count": 29,
   "id": "f0b0cb4b",
   "metadata": {},
   "outputs": [
    {
     "data": {
      "text/plain": [
       "np.float64(0.04268446899604583)"
      ]
     },
     "execution_count": 29,
     "metadata": {},
     "output_type": "execute_result"
    }
   ],
   "source": [
    "pvalue"
   ]
  },
  {
   "cell_type": "markdown",
   "id": "78a43a00",
   "metadata": {},
   "source": [
    "__в)__  Ответьте на вопрос: есть ли эффект от лекарства для женщин? (повторите процедуру пункта а) \n",
    "\n",
    "Как и в предыдущий раз, для начала, посчитайте долю выздровевших женщин, которые принимали лекарство и долю выздровевших женщин, которые не принимали лекартсво. Сравните эти доли."
   ]
  },
  {
   "cell_type": "markdown",
   "id": "b3ceb337",
   "metadata": {},
   "source": [
    "> __Ответ:__ Заметим, что среди принимавших лекарство женщин доля выздоровевших больше, чем среди женщин, не принимавших лекарство:$$\\frac{165}{165 + 80} \\approx 0.673 \\qquad > \\qquad 0.587 \\approx \\frac{440}{440 + 310}.$$"
   ]
  },
  {
   "cell_type": "markdown",
   "id": "4fb25b92",
   "metadata": {},
   "source": [
    "Создайте матрицу с данными из таблицы по женщинам, примените тест с параметром `correction=False` и сделайте выводы на уровене значимости $5\\%$."
   ]
  },
  {
   "cell_type": "code",
   "execution_count": 30,
   "id": "d891b01e",
   "metadata": {},
   "outputs": [],
   "source": [
    "women = np.array([[165,80],[440,310]]) "
   ]
  },
  {
   "cell_type": "code",
   "execution_count": 31,
   "id": "ffe596a6",
   "metadata": {},
   "outputs": [
    {
     "data": {
      "text/plain": [
       "Chi2ContingencyResult(statistic=np.float64(5.838444095586957), pvalue=np.float64(0.015679686056826774), dof=1, expected_freq=array([[148.96984925,  96.03015075],\n",
       "       [456.03015075, 293.96984925]]))"
      ]
     },
     "execution_count": 31,
     "metadata": {},
     "output_type": "execute_result"
    }
   ],
   "source": [
    "sts.chi2_contingency(women, correction=False)"
   ]
  },
  {
   "cell_type": "markdown",
   "id": "b8e76ef1",
   "metadata": {},
   "source": [
    "__г)__ Ответьте на вопрос: есть ли эффект от лекарства для объединенной группы?"
   ]
  },
  {
   "cell_type": "code",
   "execution_count": 32,
   "id": "d29517a7",
   "metadata": {},
   "outputs": [
    {
     "data": {
      "text/plain": [
       "Chi2ContingencyResult(statistic=np.float64(6.239588767305169), pvalue=np.float64(0.012492547994073244), dof=1, expected_freq=array([[966.66143654, 928.33856346],\n",
       "       [496.33856346, 476.66143654]]))"
      ]
     },
     "execution_count": 32,
     "metadata": {},
     "output_type": "execute_result"
    }
   ],
   "source": [
    "both = men + women\n",
    "sts.chi2_contingency(both, correction=False)"
   ]
  },
  {
   "cell_type": "markdown",
   "id": "554b4d27",
   "metadata": {},
   "source": [
    "__д)__  Соотносится ли это с результатами по группам мужчин и женщин, взятых отдельно?"
   ]
  },
  {
   "cell_type": "markdown",
   "id": "7267a75a",
   "metadata": {},
   "source": [
    "> __Ответ:__ Как это ни странно, из таблицы с объединенными результатами следует, что доля выздоровевших больше среди тех людей, которые лекарство **не принимали** и этот результат значимый:\n",
    "\n",
    "$$\\frac{935}{935+960} \\approx 0.493 \\qquad < \\qquad 0.542 \\approx \\frac{528}{528+445}.$$"
   ]
  },
  {
   "cell_type": "markdown",
   "id": "2adbdd04",
   "metadata": {},
   "source": [
    "## Что произошло?\n",
    "\n",
    "Если вы все сделали правильно, скорее всего у вас получились противоречивые значимые результаты. Давайте разберемся почему это так.\n",
    "\n",
    "Может произойти такая ситуация, что новое лекарство может оказаться эффективным в каждом из отдельных исследований, на каждой отдельной группе, но объединение результатов укажет на то, что это лекарство либо бесполезно, либо вредно. [Это называется __парадокс Симпсона.__](https://ru.wikipedia.org/wiki/Парадокс_Симпсона) Он довольно часто встречается на практике в разном виде. \n",
    "\n",
    "Проблема здесь в том, что объединять эти выборки просто слив данные вместе — нельзя. Контрольные группы людей, не принимавших лекарство, занимают разный объем от выборок — примерно 12% в случае мужчин и 75% в случае женщин."
   ]
  }
 ],
 "metadata": {
  "kernelspec": {
   "display_name": "Python 3",
   "language": "python",
   "name": "python3"
  },
  "language_info": {
   "codemirror_mode": {
    "name": "ipython",
    "version": 3
   },
   "file_extension": ".py",
   "mimetype": "text/x-python",
   "name": "python",
   "nbconvert_exporter": "python",
   "pygments_lexer": "ipython3",
   "version": "3.13.1"
  }
 },
 "nbformat": 4,
 "nbformat_minor": 5
}
