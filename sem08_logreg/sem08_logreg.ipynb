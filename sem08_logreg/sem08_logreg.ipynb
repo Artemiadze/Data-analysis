{
 "cells": [
  {
   "cell_type": "markdown",
   "id": "29837eac",
   "metadata": {},
   "source": [
    "<center>\n",
    "<img src='https://papik.pro/uploads/posts/2022-01/1642322472_2-papik-pro-p-brevno-klipart-2.png' align='center' width=\"700x\">\n",
    "</center>"
   ]
  },
  {
   "cell_type": "markdown",
   "id": "35a6da79",
   "metadata": {},
   "source": [
    "# Андан на экономе\n",
    "\n",
    "## Семинар 8:  логистическая регрессия\n",
    "\n",
    "Пришло время поговорить про классификацию. Мы уже знаем, как для классификации работает метод ближайших соседей. Давайте адаптируем под неё регрессию."
   ]
  },
  {
   "cell_type": "code",
   "execution_count": null,
   "id": "eb14384b",
   "metadata": {},
   "outputs": [],
   "source": [
    "import pandas as pd\n",
    "import numpy as np\n",
    "import matplotlib.pyplot as plt\n",
    "import seaborn as sns"
   ]
  },
  {
   "cell_type": "markdown",
   "id": "c821185e",
   "metadata": {},
   "source": [
    "## 1. Логистическая регрессия"
   ]
  },
  {
   "cell_type": "markdown",
   "id": "e6082761",
   "metadata": {},
   "source": [
    "- __Регрессия:__ мы пытаемся предсказать действительное число\n",
    "\n",
    "- __Классификация:__ мы пытаемся предсказать категорию (мы будем рассматривать ситуацию с двумя классами) "
   ]
  },
  {
   "cell_type": "code",
   "execution_count": null,
   "id": "d98f04e9",
   "metadata": {},
   "outputs": [],
   "source": [
    "from sklearn.linear_model import LinearRegression\n",
    "\n",
    "x = np.linspace(-5, 5, 300)\n",
    "u = np.random.normal(size=300)\n",
    "y = x + u\n",
    "\n",
    "model = LinearRegression(fit_intercept=False)\n",
    "model.fit(x.reshape(-1, 1),y)\n",
    "model.coef_\n",
    "\n",
    "xs = np.linspace(-5, 5, 100)\n",
    "plt.plot(xs, model.coef_[0]*xs, color='red', lw=3)\n",
    "plt.scatter(x,y);"
   ]
  },
  {
   "cell_type": "markdown",
   "id": "af0a6f37",
   "metadata": {},
   "source": [
    "В случае линейной регрессии всё было красиво. Переменная, которую мы прогнозировали, $y$, принимала любые значения и всё было хорошо. Теперь мы решаем задачу классификации. Наша переменная принимает значения либо $0$ либо $1$. Если мы опять будем строить обычную регрессию, мы попадём в глупую ситуацию."
   ]
  },
  {
   "cell_type": "code",
   "execution_count": null,
   "id": "820d9f8b",
   "metadata": {},
   "outputs": [],
   "source": [
    "y = 1*(y > 0)"
   ]
  },
  {
   "cell_type": "code",
   "execution_count": null,
   "id": "907c7bb8",
   "metadata": {},
   "outputs": [],
   "source": [
    "y"
   ]
  },
  {
   "cell_type": "code",
   "execution_count": null,
   "id": "e1688323",
   "metadata": {},
   "outputs": [],
   "source": [
    "model = LinearRegression(fit_intercept=False)\n",
    "model.fit(x.reshape(-1, 1), y)\n",
    "\n",
    "xs = np.linspace(-5, 5, 100)\n",
    "plt.plot(xs, model.coef_[0]*xs, color='red', lw=3)\n",
    "plt.scatter(x,y);"
   ]
  },
  {
   "cell_type": "markdown",
   "id": "b567e098",
   "metadata": {},
   "source": [
    "Получилось странновато. Наша линия регрессии снова пройдёт через облако точек. Когда мы будем пытаться на её основе построить прогноз, мы будем получать абсолютно любые значения. Это могут быть и $−7$, и $2.1$, и $1$, и даже $0.33$.\n",
    "\n",
    "В принципе, мы можем интерпретировать эти числа как уверенность нашей модели. Напри- мер, если получилось $55$, значит модель уверена в том, что класс первый. А если получилось $−33$, модель уверена, что класс нулевой. Ну а если $0.5$, то модель колеблется. Правда эту степень уверенности хорошо было бы пронормировать. Обычно это делают на отрезок от нуля до единицы и получившиеся числа интерпретируют как вероятности."
   ]
  },
  {
   "cell_type": "markdown",
   "id": "8e198c6b",
   "metadata": {},
   "source": [
    "__Задание 1:__\n",
    "\n",
    "Построй график функции $f(t)= \\frac{e^t}{1 + e^t} = \\frac{1}{1 + exp(-t)}$.\n",
    "\n",
    "По графику ответь на вопросы:\n",
    "\n",
    "- Монотонна ли функция?\n",
    "- Чему равны её пределы справа и слева?\n",
    "- Относительно какой точки симметричен график?\n",
    "- Какие значения принимает функция при произвольных $t$?"
   ]
  },
  {
   "cell_type": "code",
   "execution_count": null,
   "id": "e1daffa5",
   "metadata": {},
   "outputs": [],
   "source": [
    "# ваш код "
   ]
  },
  {
   "cell_type": "markdown",
   "id": "b229091a",
   "metadata": {},
   "source": [
    "Именно такую функцию нам хочется провести через наши точки, когда мы смотрим на график."
   ]
  },
  {
   "cell_type": "markdown",
   "id": "852319ca",
   "metadata": {},
   "source": [
    "### Как выглядит модель:\n",
    "\n",
    "\n",
    "- $x$ - регрессоры (объясняющие переменные)\n",
    "- $y \\in \\{0,1\\}$ - целевая переменная \n",
    "\n",
    "\\begin{equation*}\n",
    "\\begin{aligned}\n",
    "& z = w \\cdot x \\\\\n",
    "& P(y = 1 \\mid x)  = \\frac{e^{z}}{1 + e^{z}}\n",
    "\\end{aligned}\n",
    "\\end{equation*}"
   ]
  },
  {
   "cell_type": "code",
   "execution_count": null,
   "id": "7864712e",
   "metadata": {},
   "outputs": [],
   "source": [
    "from sklearn.linear_model import LogisticRegression\n",
    "\n",
    "model = LogisticRegression(C=1e+10)\n",
    "model.fit(x.reshape(-1, 1), y)\n",
    "model.coef_"
   ]
  },
  {
   "cell_type": "code",
   "execution_count": null,
   "id": "b91fe210",
   "metadata": {},
   "outputs": [],
   "source": [
    "xs = np.linspace(-5, 5, 100)\n",
    "\n",
    "sigm = lambda t: np.exp(t)/(1 + np.exp(t))\n",
    "\n",
    "plt.plot(xs, sigm(model.coef_[0][0]*xs), color='red', lw=3)\n",
    "plt.scatter(x,y);"
   ]
  },
  {
   "cell_type": "markdown",
   "id": "2adb2708",
   "metadata": {},
   "source": [
    "### Как можно прогнозировать?\n",
    "\n",
    "__Модель:__\n",
    "\n",
    "\\begin{equation*}\n",
    "\\begin{aligned}\n",
    "& z = 0.5 \\cdot x \\\\\n",
    "& P(y = 1 \\mid x)  = \\frac{e^{z}}{1 + e^{z}}\n",
    "\\end{aligned}\n",
    "\\end{equation*}\n",
    "\n",
    "Пусть у меня есть $x = 4$, построим прогноз:\n",
    "\n",
    "$$\n",
    "z = 0.5 \\cdot 4 = 2\n",
    "$$\n",
    "\n",
    "$$\n",
    "P(y = 1 \\mid x) = \\frac{e^{2}}{1 + e^{2}} = 0.88\n",
    "$$\n",
    "\n",
    "Как превратить уверенность модели в класс? Нужно выбрать порог и всё, что окажется выше него, объявить единицами. Обычно порог подбирают отталкиваясь от здравого смысла. Про это мы поговорим на следующем семенаре. "
   ]
  },
  {
   "cell_type": "code",
   "execution_count": null,
   "id": "5dc6fffc",
   "metadata": {},
   "outputs": [],
   "source": [
    "x_new = np.array([-10,1,2,3,4])\n",
    "x_new = x_new[:,None]\n",
    "x_new"
   ]
  },
  {
   "cell_type": "code",
   "execution_count": null,
   "id": "19e0eaae",
   "metadata": {
    "scrolled": true
   },
   "outputs": [],
   "source": [
    "model.predict(x_new) # порог равен 1"
   ]
  },
  {
   "cell_type": "code",
   "execution_count": null,
   "id": "10aeddd6",
   "metadata": {},
   "outputs": [],
   "source": [
    "model.predict_proba(x_new) # вероятность нулевого и первого класса"
   ]
  },
  {
   "cell_type": "code",
   "execution_count": null,
   "id": "22c19757",
   "metadata": {},
   "outputs": [],
   "source": [
    "p = model.predict_proba(x_new)\n",
    "p.sum(axis=1) # в сумме по строкам получаем единицы"
   ]
  },
  {
   "cell_type": "markdown",
   "id": "90fc4924",
   "metadata": {},
   "source": [
    "### А как эту модель оценить?\n",
    "\n",
    "В случае регрессии мы использовали для оценки модели MSE. В случае логистической регрессии мы также можем попробовать использовать его же, но нам бы хотелось придумать что-то новое. Новая функция потерь должна подходить для нашей задачи по смыслу."
   ]
  },
  {
   "cell_type": "markdown",
   "id": "9893759c",
   "metadata": {},
   "source": [
    "Наши y могут принимать значения $1$ и $0.$ Если $y = 1$, мы хотим, чтобы модель спрогнозировала $p(x) = P(y = 1 \\mid x)$ побольше. Если $y = 0$, мы хотим, чтобы модель спрогнозировала $p(x)$ поменьше, то есть $1 − p(x)$ побольше."
   ]
  },
  {
   "cell_type": "markdown",
   "id": "d07f3d82",
   "metadata": {},
   "source": [
    "Тогда мы можем выписать такую штуку:\n",
    "\n",
    "$$\n",
    "-\\frac{1}{n} \\sum_{i=1}^n \\cdot [ y_i \\cdot p(x_i)  + (1 - y_i) \\cdot (1 - p(x_i))  ] \\to \\min\n",
    "$$\n",
    "\n",
    "Нам надо найти её минимум по весам модели. Если $y = 1$, мы будем получать большое $p(x)$, так ка второе слагаемое в нашей формуле будет зануляться. Если $y = 0$, то будет зануляться первое слагаемое, и мы будем пытаться получить большое $1 − p(x)$."
   ]
  },
  {
   "cell_type": "code",
   "execution_count": null,
   "id": "5d1d55bb",
   "metadata": {},
   "outputs": [],
   "source": [
    "p = np.linspace(0,1,300)[1:-1]\n",
    "plt.plot(p, -p, label='y=1')\n",
    "plt.plot(p, -(1-p), label='y=0')\n",
    "plt.legend();"
   ]
  },
  {
   "cell_type": "markdown",
   "id": "f1ab0d71",
   "metadata": {},
   "source": [
    "Функция потерь почти готова. Остался последний штрих. Давайте заставим нашу функцию штрафовать нас при сильных ошибках сильнее, как это было в случае MSE для регрессии. Для этого нужно взять от p̂ логарифм и получить:\n",
    "\n",
    "\n",
    "$$\n",
    "logloss = -\\frac{1}{n} \\sum_{i=1}^n \\cdot [y_i  \\cdot \\ln p(x_i) + (1 - y_i) \\cdot \\ln (1 - p(x_i))] \\to \\min\n",
    "$$"
   ]
  },
  {
   "cell_type": "code",
   "execution_count": null,
   "id": "7d130d42",
   "metadata": {},
   "outputs": [],
   "source": [
    "p = np.linspace(0,1,300)[1:-1]\n",
    "plt.plot(p, -np.log(p), label='y=1')\n",
    "plt.plot(p, -np.log(1-p), label='y=0')\n",
    "plt.legend();"
   ]
  },
  {
   "cell_type": "markdown",
   "id": "35ee9bf8",
   "metadata": {},
   "source": [
    "Это будет наша итоговая функция потерь. Она называется logloss и обычно используется для обучения логистической регрессии. К функции потерь можно добавить регуляризацию.\n",
    "\n",
    "$$\n",
    "Q(w) = -\\frac{1}{n} \\sum_{i=1}^n \\cdot [y_i  \\cdot \\ln p(x_i) + (1 - y_i) \\cdot \\ln (1 - p(x_i))] + \\frac{1}{C} \\cdot \\sum_{j=1}^k w_j^2 \\to \\min\n",
    "$$\n",
    "\n",
    "И практически никакой математики. Одна сплошная интуиция. На самом деле ровно такую же функцию потерь можно получить без интуиции с помощью метода максимального правдоподобия. Мы займёмся этим через семинар. "
   ]
  },
  {
   "cell_type": "markdown",
   "id": "16956b31",
   "metadata": {},
   "source": [
    "В модели разобрались? Давайте теперь обучим что-нибудь."
   ]
  },
  {
   "cell_type": "markdown",
   "id": "5fbeb83e",
   "metadata": {},
   "source": [
    "## 2. Предсказание оттока\n",
    "\n",
    "Иногда так бывает, что пользователи чёт приуныли. Когда пользователь приуныл, ему хочется свалить туда, где весело. Если он сваливает, это называется отток. Было бы круто спрогнозировать вероятность того, что пользователь собрался убежать и сделать жизни тех, у кого эта вероятность высокая чуть веселее. Тогда пользователь перестанет унывать и останется с нами. В качестве примера [возьмём телеком.](https://www.kaggle.com/datasets/shilongzhuang/telecom-customer-churn-by-maven-analytics)"
   ]
  },
  {
   "cell_type": "code",
   "execution_count": null,
   "id": "8aec637a",
   "metadata": {},
   "outputs": [],
   "source": [
    "df = pd.read_csv('telecom_churn.csv')\n",
    "df.head()"
   ]
  },
  {
   "cell_type": "markdown",
   "id": "b16b82f5",
   "metadata": {},
   "source": [
    "**Описание переменных:** \n",
    "\n",
    "* `State` —\tБуквенный код штата\n",
    "* `Account length` — Как долго клиент обслуживается компанией\n",
    "* `Area code` — Префикс номера телефона\n",
    "* `International plan` — Международный роуминг (подключен/не подключен)\n",
    "* `Voice mail plan` — Голосовая почта (подключена/не подключена)\n",
    "* `Number vmail messages` — Количество голосовых сообщений\n",
    "* `Total day minutes` — Общая длительность разговоров днем\n",
    "* `Total day calls` — Общее количество звонков днем\n",
    "* `Total day charge` — Общая сумма оплаты за услуги днем\n",
    "* `Total eve minutes` — Общая длительность разговоров вечеромй\n",
    "* `Total eve calls` — Общее количество звонков вечером\n",
    "* `Total eve charge` — Общая сумма оплаты за услуги вечером\n",
    "* `Total night minutes` — Общая длительность разговоров ночью\n",
    "* `Total night calls` — Общее количество звонков ночью\n",
    "* `Total night charge` — Общая сумма оплаты за услуги ночью\n",
    "* `Total intl minutes` — Общая длительность международных разговоров\n",
    "* `Total intl calls` — Общее количество международных разговоров\n",
    "* `Total intl charge` — Общая сумма оплаты за международные разговоры\n",
    "* `Customer service calls` — Число обращений в сервисный центр\n",
    "\n",
    "**Целевая переменная:** `Churn` — Признак оттока, бинарный признак ($1$ – потеря клиента, то есть отток).\n"
   ]
  },
  {
   "cell_type": "code",
   "execution_count": null,
   "id": "a742db91",
   "metadata": {},
   "outputs": [],
   "source": [
    "categorical_features = ['State', 'Area code', 'International plan', 'Voice mail plan']\n",
    "\n",
    "numeric_features = [\n",
    "    'Number vmail messages', 'Total day minutes', 'Total day calls', 'Total day charge', \n",
    "    'Total eve minutes', 'Total eve calls', 'Total eve charge', 'Total night minutes',\n",
    "    'Total night calls', 'Total night charge', 'Total intl minutes', 'Total intl calls', \n",
    "    'Total intl charge', 'Customer service calls', 'Account length'\n",
    "]\n",
    "\n",
    "target = 'Churn'"
   ]
  },
  {
   "cell_type": "markdown",
   "id": "88044337",
   "metadata": {},
   "source": [
    "Давайте посмотрим на распределение целевой переменной. В нём есть дисбаланс. Как думаете, почему это плохо?"
   ]
  },
  {
   "cell_type": "code",
   "execution_count": null,
   "id": "0ebb6513",
   "metadata": {},
   "outputs": [],
   "source": [
    "df[target].astype(int).hist();"
   ]
  },
  {
   "cell_type": "markdown",
   "id": "8330d6e3",
   "metadata": {},
   "source": [
    "__Задание 2:__\n",
    "\n",
    "Сделайте предобработку данных. Заполните пропуски переменных. Посмотрите, есть ли в данных выбросы. Разбейте выборку на обучающую и тестовую. Нормализуйте непрерывные переменные. Сделайте для категориальных переменныз OHE. Избавьтесь от слишком редких категорий."
   ]
  },
  {
   "cell_type": "code",
   "execution_count": null,
   "id": "6d2cb7fd",
   "metadata": {},
   "outputs": [],
   "source": [
    "# ваш код "
   ]
  },
  {
   "cell_type": "markdown",
   "id": "cf6d9c16",
   "metadata": {},
   "source": [
    "__Задание 3:__ \n",
    "\n",
    "Давайте для тестовой выборки предскажем для всех наблюдений самый частый класс (наивный прогноз). Каким в таком случае получится качество модели? Для оценки качества используйте `accuracy_score` (долю правильных ответов)."
   ]
  },
  {
   "cell_type": "code",
   "execution_count": null,
   "id": "48df3f25",
   "metadata": {},
   "outputs": [],
   "source": [
    "# ваш код "
   ]
  },
  {
   "cell_type": "markdown",
   "id": "1a992b64",
   "metadata": {},
   "source": [
    "Значение доли правильных ответов получится довольно высоким. Как думаете, говорит ли это нам что-то об адекватности модели? "
   ]
  },
  {
   "cell_type": "markdown",
   "id": "99109369",
   "metadata": {},
   "source": [
    "__Задание 4:__ \n",
    "\n",
    "Обучите логистическую регрессию с регуляризацией и метод ближайших соседей. Для обоих алгоритмов с помощью перебора по решётке подберите оптимальные значения гиперпараметров. В качестве параметра `scoring` укажите `\"roc_auc\"` Измерьте качество обоих алгоритмов на тестовой выборке. Про roc-auc мы подробнее поговорим на следующем семинаре. Сейчас для нас важно то, что она принимает значения от $0.5$ до $1$. Чем она больше, тем лучше оказалась модель."
   ]
  },
  {
   "cell_type": "code",
   "execution_count": null,
   "id": "a068dd4f",
   "metadata": {
    "scrolled": true
   },
   "outputs": [],
   "source": [
    "# ваш код "
   ]
  },
  {
   "cell_type": "markdown",
   "id": "4cafa62a",
   "metadata": {},
   "source": [
    "__Задание 5:__ \n",
    "\n",
    "Измерьте качество обоих алгоритмов с помощью `roc_auc_score`. Обратите внимание, что на вход в эту метрику надо посылать вероятности."
   ]
  },
  {
   "cell_type": "code",
   "execution_count": null,
   "id": "ba8274ae",
   "metadata": {},
   "outputs": [],
   "source": [
    "# ваш код "
   ]
  },
  {
   "cell_type": "markdown",
   "id": "bb24f898",
   "metadata": {},
   "source": [
    "Какой из алгоритмов оказался лучше? Запустите строки, написанные ниже. Они обучат нелинейный алгоритм, который называется случайный лес. Мы не рассматриваем его в нашем курсе, но он отрабатывает довольно мощно. "
   ]
  },
  {
   "cell_type": "code",
   "execution_count": null,
   "id": "32432c3d",
   "metadata": {},
   "outputs": [],
   "source": [
    "from sklearn.ensemble import RandomForestClassifier\n",
    "\n",
    "model_rf = Pipeline(steps=[\n",
    "    ('oheand_scaling', column_transformer),\n",
    "    ('rf', RandomForestClassifier(n_estimators=1000))\n",
    "])\n",
    "\n",
    "model_rf.fit(X_train, y_train)\n",
    "\n",
    "p_pred = model_rf.predict_proba(X_test)\n",
    "roc_auc_score(y_test, p_pred[:,-1])"
   ]
  },
  {
   "cell_type": "markdown",
   "id": "01df3e8f",
   "metadata": {},
   "source": [
    "Сможете побить качество случайного леса с помощью логистической регрессии? :) "
   ]
  },
  {
   "cell_type": "markdown",
   "id": "9591d4ca",
   "metadata": {},
   "source": [
    "__Задание 6:__ объясните, почему на обложке этого семинара нарисовано бревно."
   ]
  }
 ],
 "metadata": {
  "kernelspec": {
   "display_name": "Python 3 (ipykernel)",
   "language": "python",
   "name": "python3"
  },
  "language_info": {
   "codemirror_mode": {
    "name": "ipython",
    "version": 3
   },
   "file_extension": ".py",
   "mimetype": "text/x-python",
   "name": "python",
   "nbconvert_exporter": "python",
   "pygments_lexer": "ipython3",
   "version": "3.10.9"
  }
 },
 "nbformat": 4,
 "nbformat_minor": 5
}
