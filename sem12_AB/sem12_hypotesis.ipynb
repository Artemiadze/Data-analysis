{
 "cells": [
  {
   "cell_type": "markdown",
   "id": "ba965ed0",
   "metadata": {},
   "source": [
    "<center>\n",
    "<img src='https://imgs.xkcd.com/comics/t_distribution_2x.png' align='center' width=\"800x\">\n",
    "</center>"
   ]
  },
  {
   "cell_type": "markdown",
   "id": "d16e8a71",
   "metadata": {},
   "source": [
    "# Андан на экономе\n",
    "\n",
    "## Семинар 12:  гипотезы"
   ]
  },
  {
   "cell_type": "code",
   "execution_count": null,
   "id": "c40dd55e",
   "metadata": {},
   "outputs": [],
   "source": [
    "import numpy as np\n",
    "import pandas as pd\n",
    "\n",
    "from scipy import stats\n",
    "import statsmodels as sts \n",
    "\n",
    "import seaborn as sns\n",
    "import matplotlib.pyplot as plt"
   ]
  },
  {
   "cell_type": "code",
   "execution_count": null,
   "id": "f299b007",
   "metadata": {},
   "outputs": [],
   "source": [
    "from tqdm.notebook import tqdm"
   ]
  },
  {
   "cell_type": "markdown",
   "id": "5fd43399",
   "metadata": {},
   "source": [
    "* Возможности `scipy` для проверки гипотез смотрите [в разделе Statistical tests](https://docs.scipy.org/doc/scipy/reference/stats.html)\n",
    "* Возможности `statsmodels`  [в модуле stats](https://www.statsmodels.org/0.6.1/stats.html)\n",
    "\n",
    "> Если используете встроенные функции, внимательно читайте документацию и проверяйте как именно расчитываются параметры."
   ]
  },
  {
   "cell_type": "markdown",
   "id": "0023b927",
   "metadata": {},
   "source": [
    "## Упражнение 1 (котики и печеньки)\n",
    "\n",
    "В этой задачке мы посмотрим на данные одной мобильной игрушки под названием \"Cookie Cats\", разработанной компанией <a href=\"http://tactile.dk\">Tactile Entertainment</a>. Это стандартный match-three пазл, где игрокам нужно соединять элементы одинаковых цветов, чтобы очистить поле и выиграть на уровне. И еще там есть поющие коты.\n",
    "\n",
    "<p><a href=\"https://youtu.be/GaP5f0jVTWE\"><img src=\"https://s3.amazonaws.com/assets.datacamp.com/production/project_184/img/cookie_cats_video.jpeg\" style=\"width: 500px\"></a></p>\n",
    "\n",
    "По мере того, как игроки проходят уровни, они встречают ворота-блокеры, которые вынуждают их либо ждать длительное время, либо совершить внутриигровую покупку, чтобы продолжить играть. Помимо того, что эти ворота приносят разработчикам деньги от покупок, они еще и вынуждают игроков делать перерыв, в надежде на то, что те вернутся с новыми силами. \n",
    "\n",
    "<p><img src=\"https://s3.amazonaws.com/assets.datacamp.com/production/project_184/img/cc_gates.png\" alt=\"\"></p>\n",
    "\n",
    "Но возникает вопрос - когда и где ставить эти ворота? Изначально первые ворота стояли на 30-м уровне игры, однако в этом ноутбуке мы будем анализировать АБ-тест, в котором разработчики передвинули ворота на 40-й уровень. В частности мы будем смотреть влияние этого изменения на такой важный показатель как \"retention\" или удержание игроков, который расчитывается как отношение уникальных игроков, зашедших в игру на 1-й, 2-й, ... N-й день после установки ко всем игрокам, установившим приложение в этот день. "
   ]
  },
  {
   "cell_type": "code",
   "execution_count": null,
   "id": "cf70f844",
   "metadata": {},
   "outputs": [],
   "source": [
    "df = pd.read_csv('https://raw.githubusercontent.com/hse-econ-data-science/andan2024/main/sem12_ab/cookie_cats.csv')\n",
    "print(df.shape)\n",
    "df.head()"
   ]
  },
  {
   "cell_type": "markdown",
   "id": "399d6049",
   "metadata": {},
   "source": [
    "<ul>\n",
    "<li><code>userid</code> - уникальный номер, идентифицирующий каждого игрока.</li>\n",
    "<li><code>version</code> - был ли пользователь отнесен к контрольной группе (<code>gate_30</code> - ворота на 30-м уровне) или к тестовой (<code>gate_40</code> - ворота на 40-м уровне).</li>\n",
    "<li><code>sum_gamerounds</code> - число сессий, сыгранных игроком в течение первых 14 дней после установки игры.</li>\n",
    "<li><code>retention_1</code> - вернулся ли игрок после <strong>первого</strong> дня с момента установки?</li>\n",
    "<li><code>retention_7</code> - вернулся ли игрок после <strong>седьмого</strong> дня с момента установки?</li>\n",
    "</ul>\n",
    "\n",
    "Когда игрок устанавливает игру, он/она случайным образом относятся либо к группе gate_30, либо gate_40. На всякий случай, давайте проверим, действительно ли их примерно поровну в каждой из групп."
   ]
  },
  {
   "cell_type": "code",
   "execution_count": null,
   "id": "31a5ab23",
   "metadata": {},
   "outputs": [],
   "source": [
    "df.groupby('version').count()"
   ]
  },
  {
   "cell_type": "markdown",
   "id": "100d458f",
   "metadata": {},
   "source": [
    "<p><img src=\"https://s3.amazonaws.com/assets.datacamp.com/production/project_184/img/mr_waffles_smiling.png\" style=\"width:200px; float:left\"> </p>\n",
    "<p>Похоже, что игроков действительно примерно поровну в каждой из групп, отлично!</p>\n",
    "<p>Фокус нашего анализа будет сосредоточен на удержании игроков (retention), но ради интереса давайте построим распределение числа игровых сессий, сыгранных игроками в течение их первой недели жизни в игре.</p>"
   ]
  },
  {
   "cell_type": "code",
   "execution_count": null,
   "id": "10e500ab",
   "metadata": {},
   "outputs": [],
   "source": [
    "# Считаем число игроков, оставшееся в игре для каждого раунда\n",
    "plot_df = df.groupby('sum_gamerounds')['userid'].count()\n",
    "\n",
    "# Распределение людей, сыгравших от 0 до 100 раундов\n",
    "ax = plot_df.head(100).plot()\n",
    "ax.set_xlabel(\"sum_gamerounds\")\n",
    "ax.set_ylabel(\"number of players\");"
   ]
  },
  {
   "cell_type": "markdown",
   "id": "1760eb26",
   "metadata": {},
   "source": [
    "<p>На графике вверху мы видим, что некоторые игроки установили игру, но даже ни разу не поиграли (0 сессий), многие игроки закончили лишь пару сессий за первую неделю, а некоторые действительно подсели и сыграли более 80 раз!</p>\n",
    "<p>Конечно, мы хотим, чтобы игроки были заинтересованы в игрушке и возвращались в неё снова и снова. Обычная метрика, использующаяся в гейм-индустрии, чтобы измерить, насколько игрушка веселая и захватывающая, - это <em>удержание первого дня</em> (1-day retention): Процент игроков, которые вренулись и снова стали играть спустя 1 день после установки. Чем выше удержание первого дня, тем проще и дальше удерживать пользователей и строить себе большую базу фанатов.</p>\n",
    "<p>В качестве первого шага, давайте посмотрим, как в целом выглядит 1-day retention.</p>"
   ]
  },
  {
   "cell_type": "code",
   "execution_count": null,
   "id": "7243770d",
   "metadata": {},
   "outputs": [],
   "source": [
    "df.retention_1.mean()"
   ]
  },
  {
   "cell_type": "markdown",
   "id": "46764d60",
   "metadata": {},
   "source": [
    "<p><img src=\"https://s3.amazonaws.com/assets.datacamp.com/production/project_184/img/belle_cookie.png\" style=\"width:200px; float:right\"> </p>\n",
    "<p>Итак, немногим меьше половины всех игроков возвращяются к нам спустя один день после установки. Теперь, когда у нас есть это базовое значение (benchmark), давайте посмотрим, как отличается 1-day retention внутри наших тестовых групп.</p>"
   ]
  },
  {
   "cell_type": "code",
   "execution_count": null,
   "id": "d86d8faf",
   "metadata": {},
   "outputs": [],
   "source": [
    "df.groupby('version').retention_1.mean()"
   ]
  },
  {
   "cell_type": "markdown",
   "id": "3c6826fc",
   "metadata": {},
   "source": [
    "<p>Похоже, что у нас есть небольшое ухудшение в удержании первого дня, если мы двигаем ворота к сороковому уровню (44.2%) в сравнеии с контрольной группой, где ворота остались на 30-м уровне (44.8%). Вполне естественен вопрос, а значима ли эта разница? "
   ]
  },
  {
   "cell_type": "markdown",
   "id": "f492797f",
   "metadata": {},
   "source": [
    "__а)__  Постройте примерный $95\\%$-й доверительный интервал для каждой из двух долей.\n",
    "\n",
    "$$\n",
    "\\left[\\hat p - z_{crit} \\sqrt{\\frac{\\hat p \\cdot (1 - \\hat p)}{n}} ; \\quad  \\hat p + z_{crit} \\sqrt{\\frac{\\hat p \\cdot (1 - \\hat p)}{n}} \\right]\n",
    "$$"
   ]
  },
  {
   "cell_type": "code",
   "execution_count": null,
   "id": "32dcbac8",
   "metadata": {},
   "outputs": [],
   "source": [
    "### ╰( ͡° ͜ʖ ͡° )つ▬▬ι═══════  bzzzzzzzzzz\n",
    "# will the code be with you"
   ]
  },
  {
   "cell_type": "markdown",
   "id": "5c8f46bf",
   "metadata": {},
   "source": [
    "__б)__ Постройте примерный $95\\%$-й доверительный интервал для разницы долей.\n",
    "\n",
    "$$\n",
    "\\left[\\hat p_A - \\hat p_B - z_{crit} \\sqrt{\\frac{\\hat p_A \\cdot (1 - \\hat p_A)}{n_A} + \\frac{\\hat p_B \\cdot (1 - \\hat p_B)}{n_B}} ; \\quad  \\hat p_A - \\hat p_B + z_{crit} \\sqrt{\\frac{\\hat p_A \\cdot (1 - \\hat p_A)}{n_A} + \\frac{\\hat p_B \\cdot (1 - \\hat p_B)}{n_B}} \\right]\n",
    "$$"
   ]
  },
  {
   "cell_type": "code",
   "execution_count": null,
   "id": "d4df53ab",
   "metadata": {},
   "outputs": [],
   "source": [
    "### ╰( ͡° ͜ʖ ͡° )つ▬▬ι═══════  bzzzzzzzzzz\n",
    "# will the code be with you"
   ]
  },
  {
   "cell_type": "markdown",
   "id": "317d01ea",
   "metadata": {},
   "source": [
    "Какие выводы можно сделать на основе этих двух пунктов? Обратите внимание, что в пункте __а)__ хочется сделать выводы о влиянии ворот на удержание по пересечению доверительных интервалов. Это очень порочная практика. О ней мы поговорим подробнее в последнем упражнении этой тетрадки. "
   ]
  },
  {
   "cell_type": "markdown",
   "id": "3bea55b5",
   "metadata": {},
   "source": [
    "__в)__ Проверьте гипотезу о том, что перенос ворот не оказывает никакого влияния на удержание первого дня."
   ]
  },
  {
   "cell_type": "code",
   "execution_count": null,
   "id": "2f98ef84",
   "metadata": {},
   "outputs": [],
   "source": [
    "### ╰( ͡° ͜ʖ ͡° )つ▬▬ι═══════  bzzzzzzzzzz\n",
    "# will the code be with you"
   ]
  },
  {
   "cell_type": "markdown",
   "id": "2bdeb19a",
   "metadata": {},
   "source": [
    "__г)__ Проверьте гипотезу о том, что перенос ворот не оказывает никакого влияния на удержание седьмого дня."
   ]
  },
  {
   "cell_type": "code",
   "execution_count": null,
   "id": "2c180144",
   "metadata": {},
   "outputs": [],
   "source": [
    "### ╰( ͡° ͜ʖ ͡° )つ▬▬ι═══════  bzzzzzzzzzz\n",
    "# will the code be with you"
   ]
  },
  {
   "cell_type": "markdown",
   "id": "7940418e",
   "metadata": {},
   "source": [
    "__д)__ Предположим, что в нашу игру ежедневно играет 100 тысяч человек. Насколько существенный эффект окажет на бизнес перенос ворот на 40 уровень?"
   ]
  },
  {
   "cell_type": "code",
   "execution_count": null,
   "id": "a30e5f8a",
   "metadata": {},
   "outputs": [],
   "source": [
    "### ╰( ͡° ͜ʖ ͡° )つ▬▬ι═══════  bzzzzzzzzzz\n",
    "# will the code be with you"
   ]
  },
  {
   "cell_type": "markdown",
   "id": "23f886e3",
   "metadata": {},
   "source": [
    "<p>Итак, результаты бутстрапа говорят нам о том, что есть значительное доказательство превышения 7-day retentino в группе с воротами на 30-м уровне над группой с воротами на 40-м. Значит, если мы хотим держать ретеншн на высоком уровне и иметь большее число игроков, нам <strong>не нужно</strong> сдвигать ворота с 30-го на 40-й уровень.\n",
    "\n",
    "<p>Так почему же ретеншн выше, когда ворота расположены раньше? Логично было бы ожидать обратной ситуации - чем позже ставится препятствие, тем дольше игроки будут взаимодействовать с игрой. Однако это не то, что мы видим в данных. Теория гедонистической адаптации может помочь с объяснением. Если вкратце, гедонистическая адаптация - это тенденция получать всё меньше и меньше удовольствия от деятельности, если она продолжается длительное время. Заставляя игроков сделать паузу, когда они достигают 30-го уровня, мы продлеваем им удовольствие от игры, в результате чего они хотят в неё возвращаться. И напротив, сдвигая ворота к 40-му уровню мы даем игрокам возможность наиграться и просто заскучать.</p>\n",
    "\n",
    "<p><img src=\"https://s3.amazonaws.com/assets.datacamp.com/production/project_184/img/cookie_yellow.png\" style=\"width:100px; float:center\"> </p>"
   ]
  },
  {
   "cell_type": "markdown",
   "id": "da1267c3",
   "metadata": {},
   "source": [
    "## Упражнение 2 (ошибки 1 и 2 рода)\n",
    "\n",
    "Коля Коперник задумал что-то вроде АБ-теста. Он хочет проверить известное утверждение о том, что бутерброд чаще падает маслом вниз. Николай использует асимптотический тест для долей\n",
    "\n",
    "$$\n",
    "z = \\frac{\\hat p - p_0}{\\sqrt{\\frac{\\hat p \\cdot (1 - \\hat p)}{n}}}\n",
    "$$\n",
    "\n",
    "и формулирует свои мысли в виде следующей гипотезы \n",
    "\n",
    "$$\n",
    "\\begin{aligned}\n",
    "&H_0: \\hspace{2mm} p = 0.5 \\\\\n",
    "&H_1: \\hspace{2mm} p > 0.5 \n",
    "\\end{aligned}\n",
    "$$"
   ]
  },
  {
   "cell_type": "markdown",
   "id": "6bf02255",
   "metadata": {},
   "source": [
    "Перед проведением АБ-теста обычно фиксируют уровень значимости, $\\alpha$. \n",
    "\n",
    "- __Ошибка первого рода (уровень значимости)__ - вероятность отвергнуть гипотезу $H_0$, когда она верна. Попробуем с помощью симуляций вычислить её для проверки гипотезы о среднем.\n",
    "\n",
    "- __Ошибка второго рода__ - вероятность не отвергнуть гипотезу $H_0$, когда она неверна."
   ]
  },
  {
   "cell_type": "markdown",
   "id": "75c35c4b",
   "metadata": {},
   "source": [
    "__а)__  Пусть Николай зафикисировал $\\alpha = 0.05$ и собрал $100$ наблюдений, а настоящее значение $p = 0.5$. \n",
    "\n",
    "С помощью симуляций  проверьте гипотезу Коперника $10^4$ раз и убедитесь, что доля ошибок действительно будет $5\\%.$"
   ]
  },
  {
   "cell_type": "code",
   "execution_count": null,
   "id": "dba8dfad",
   "metadata": {},
   "outputs": [],
   "source": [
    "### ╰( ͡° ͜ʖ ͡° )つ▬▬ι═══════  bzzzzzzzzzz\n",
    "# will the code be with you"
   ]
  },
  {
   "cell_type": "markdown",
   "id": "7bf2e29e",
   "metadata": {},
   "source": [
    "__б)__  Пусть Николай зафикисировал $\\alpha = 0.05$ и собрал $100$ наблюдений, а настоящее значение $p = 0.6$. С помощью симуляций вычислите ошибку второго рода для нашего эксперимента. "
   ]
  },
  {
   "cell_type": "code",
   "execution_count": null,
   "id": "bf29bdfc",
   "metadata": {},
   "outputs": [],
   "source": [
    "### ╰( ͡° ͜ʖ ͡° )つ▬▬ι═══════  bzzzzzzzzzz\n",
    "# will the code be with you"
   ]
  },
  {
   "cell_type": "markdown",
   "id": "ea7143f9",
   "metadata": {},
   "source": [
    "__в)__ Пусть Николай собрал не $100$, а $200$ наблюдений. Какой будет ошибка второго рода в таком случае? "
   ]
  },
  {
   "cell_type": "code",
   "execution_count": null,
   "id": "733051dd",
   "metadata": {},
   "outputs": [],
   "source": [
    "### ╰( ͡° ͜ʖ ͡° )つ▬▬ι═══════  bzzzzzzzzzz\n",
    "# will the code be with you"
   ]
  },
  {
   "cell_type": "markdown",
   "id": "2d6c420d",
   "metadata": {},
   "source": [
    "Давайте зафиксируем $\\alpha=0.05$, а $p=0.6$. Переберите число наблюдений от 10 до 1000 с шагом 50 и нарисуйте график зависимости ошибки второго рода от числа наблюдений."
   ]
  },
  {
   "cell_type": "code",
   "execution_count": null,
   "id": "5947074b",
   "metadata": {},
   "outputs": [],
   "source": [
    "### ╰( ͡° ͜ʖ ͡° )つ▬▬ι═══════  bzzzzzzzzzz\n",
    "# will the code be with you"
   ]
  },
  {
   "cell_type": "markdown",
   "id": "4bc53216",
   "metadata": {},
   "source": [
    "Объясните, почему нельзя нарисовать такой же график для ошибки первого рода? Что такое презумпция нулевой гипотезы? "
   ]
  },
  {
   "cell_type": "markdown",
   "id": "4edf2581",
   "metadata": {},
   "source": [
    "__г)__ Перебирите $\\alpha$ в диапазоне $(0; 1)$ с шагом $0.1$. Найдите для каждого значения $\\alpha$ значение ошибки второго рода $\\beta$. Изобразите на графике получившуюся зависимость для $n = 100$ и $n = 200$. Объясните, что получилось."
   ]
  },
  {
   "cell_type": "code",
   "execution_count": null,
   "id": "0a29945a",
   "metadata": {},
   "outputs": [],
   "source": [
    "### ╰( ͡° ͜ʖ ͡° )つ▬▬ι═══════  bzzzzzzzzzz\n",
    "# will the code be with you"
   ]
  },
  {
   "cell_type": "markdown",
   "id": "bbf24f80",
   "metadata": {},
   "source": [
    "__MDE (minimal detectable effect) -__ минимальная величина, которую мы хотим поймать нашим АБ-тестом. В случае симуляций выше это была величина $p_a - p_0 = 0.6 - 0.5 = 0.1$. Чем меньше $MDE$, тем сложнее различить две ситуации и тем больше наблюдений нам понадобится."
   ]
  },
  {
   "cell_type": "markdown",
   "id": "9cd747f7",
   "metadata": {},
   "source": [
    "Ошибку первого рода и MDE обычно фиксируют перед проведением АБ-теста. Ошибку второго рода мы контролируем с помощью числа наблюдений. На самом деле, для критерия рассмотренного выше, можно вывести формулу для поиска числа необходимых наблюдений:\n",
    "\n",
    "$$\n",
    "n(\\alpha, \\beta, MDE)= \\frac{\\hat{p}_A \\cdot (1 - \\hat{p}_A) + \\hat{p}_B \\cdot (1 - \\hat{p}_B)}{0.5 \\cdot MDE^2 } \\cdot (z_{1-\\alpha} + z_{1-\\beta})^2\n",
    "$$"
   ]
  },
  {
   "cell_type": "markdown",
   "id": "891186fc",
   "metadata": {},
   "source": [
    "Вывод этой формулы можно найти, например, [в лекции Фила.](https://www.youtube.com/watch?v=LTlqyRI8cQ0&list=PLNKXA-74YGLjDOtDSZEFoy1yP-3AfiHUC&index=16) А ещё [прочитайте историю](https://absentis.livejournal.com/27153.html) про то, почему Коперник мазал бутеры маслом. "
   ]
  },
  {
   "cell_type": "markdown",
   "id": "e14fc6d6",
   "metadata": {},
   "source": [
    "На практике, перед запуском эксперимента обычно готовят табличку, в которой смотрят на то, сколько наблюдений понадобится для поиска эффекта разного размера при разных значениях ошибок первого и второго рода. Для разных критериев в интернете можно найти калькуляторы размера выборок."
   ]
  },
  {
   "cell_type": "code",
   "execution_count": null,
   "id": "a8742454",
   "metadata": {},
   "outputs": [],
   "source": [
    "def get_n_with_p(MDE, alpha, beta, p1=0.010, p2=0.015):\n",
    "    za = stats.norm().ppf(1 - alpha)\n",
    "    zb = stats.norm().ppf(1 - beta)\n",
    "    ans = 1/2 *(p1 * (1-p1) + p2 * (1-p2)) * ((za + zb) / MDE)**2\n",
    "    return ans "
   ]
  },
  {
   "cell_type": "code",
   "execution_count": null,
   "id": "5797ca24",
   "metadata": {},
   "outputs": [],
   "source": [
    "MDE = 0.01 # Если мы хотим поймать маленькое изменение, надо очень много наблюдений\n",
    "\n",
    "alphas = [0.001, 0.01, 0.02, 0.05, 0.1, 0.2]\n",
    "betas = [0.001, 0.01, 0.02, 0.05, 0.1, 0.2]\n",
    "\n",
    "Errors = [ ]\n",
    "for a in alphas:\n",
    "    cur_error = []\n",
    "    for b in betas:\n",
    "        e = get_n_with_p(MDE, a, b)\n",
    "        cur_error.append(e)\n",
    "    Errors.append(cur_error)\n",
    "\n",
    "df_e = pd.DataFrame(Errors)\n",
    "df_e.columns = alphas\n",
    "df_e.index = betas\n",
    "df_e"
   ]
  },
  {
   "cell_type": "markdown",
   "id": "17a5f24e",
   "metadata": {},
   "source": [
    "https://xkcd.com/1478/\n",
    "\n",
    "<img src=\"https://imgs.xkcd.com/comics/p_values_2x.png\" height=\"300\" width=\"300\">"
   ]
  },
  {
   "cell_type": "markdown",
   "id": "8eeaab96",
   "metadata": {},
   "source": [
    "## Упражнение 3 (повторное тестирование)\n",
    "\n",
    "Жизнь исследователя Винни-Пуха прекрасна. Наблюдений много, гипотеза о равенстве математических ожиданий верна, а наблюдения нормальны.\n",
    "\n",
    "А именно, величины $X_1$, ..., $X_{n}$ независимы и нормальны $N(0;1)$, величины $Y_1$, ..., $Y_n$ независимы и нормальны $N(0;2)$. И пусть $n_x=100$ и $n_y=200$.\n",
    "\n",
    "Винни-Пух правда этого ничего не знает, потому что у него в голове опилки, и тестирует сначала гипотезу о равенстве дисперсий двух выборок на уровне значимости $5\\%$."
   ]
  },
  {
   "cell_type": "markdown",
   "id": "5b1f53b6",
   "metadata": {},
   "source": [
    "__а)__ Проведите $10^6$ экспериментов, то есть $10^6$ раз попробуйте за Винни-Пуха проверить гипотезу. Хорошо бы $10^8$, но оттестируйте сначала свой код на $10^6$. \n",
    "\n",
    "Постройте гистограмму распределения тестовой статистики о равенстве дисперсий. В скольки процентах случаев гипотеза о равенстве дисперсий отвергнута? "
   ]
  },
  {
   "cell_type": "code",
   "execution_count": null,
   "id": "21579933",
   "metadata": {},
   "outputs": [],
   "source": [
    "### ╰( ͡° ͜ʖ ͡° )つ▬▬ι═══════  bzzzzzzzzzz\n",
    "# will the code be with you"
   ]
  },
  {
   "cell_type": "markdown",
   "id": "b8baa804",
   "metadata": {},
   "source": [
    "__б)__ Если гипотеза о равенстве дисперсий не отвергается, то Винни использует $t$-статистику для проверки гипотезы о равенстве ожиданий при равенстве дисперсий. \n",
    "\n",
    "Для тех экспериментов, в которых гипотеза о равенстве дисперсий не отверглась, проверьте гипотезу о равенстве ожиданий на уровне значимости $5\\%$. \n",
    "\n",
    "Постройте гистограмму распределения $t$-статистики. В скольки процентах случаев гипотеза о равенстве ожиданий отвергнута?"
   ]
  },
  {
   "cell_type": "code",
   "execution_count": null,
   "id": "39e35d78",
   "metadata": {},
   "outputs": [],
   "source": [
    "### ╰( ͡° ͜ʖ ͡° )つ▬▬ι═══════  bzzzzzzzzzz\n",
    "# will the code be with you"
   ]
  },
  {
   "cell_type": "markdown",
   "id": "49714dc7",
   "metadata": {},
   "source": [
    "__в)__ Словами объясните, почему нехорошо сначала тестировать на равенство дисперсий, а потом на равенство средних при равных дисперсиях, если на первом шаге гипотеза $H_0$ не отверглась. "
   ]
  },
  {
   "cell_type": "markdown",
   "id": "9e2906e4",
   "metadata": {},
   "source": [
    "https://xkcd.com/882/\n",
    "\n",
    "![](https://imgs.xkcd.com/comics/significant.png)"
   ]
  },
  {
   "cell_type": "markdown",
   "id": "a809bf78",
   "metadata": {},
   "source": [
    "## Упражнение 4 (распределение p-value)\n",
    "\n",
    "С помощью симуляций нарисуйте гистограмму для распределени p-value в случае верности нулевой гипотезы и в случае верности альтернативной гипотезы. Объясните, что означают такие распределения."
   ]
  },
  {
   "cell_type": "code",
   "execution_count": null,
   "id": "2517741f",
   "metadata": {},
   "outputs": [],
   "source": [
    "### ╰( ͡° ͜ʖ ͡° )つ▬▬ι═══════  bzzzzzzzzzz\n",
    "# will the code be with you"
   ]
  },
  {
   "cell_type": "markdown",
   "id": "5253e7c7",
   "metadata": {},
   "source": [
    "## Упражнение 5 (пересечение Vs разность)\n",
    "\n",
    "Иногда люди делают ужасное. Вместо того, чтобы проверить гипотезу о равенстве средних, они смотрят пересекаются ли доверительные интервалы. Так делать нельзя.\n",
    "\n",
    "Дело в том, что для одинаковых ошибок первого рода, $\\alpha$, ошибка второго рода, $\\beta$, для процедуры, основанной на доверительных интервалах, окажется выше. Задание состоит в том, чтобы это увидеть."
   ]
  },
  {
   "cell_type": "markdown",
   "id": "57c7917e",
   "metadata": {},
   "source": [
    "### Процедура 1 (правильная):\n",
    "\n",
    "1. Собираем выборки $X_1, \\ldots, X_n$ и $Y_1, \\ldots, Y_n$;\n",
    "2. Находим значение статистики\n",
    "\n",
    "$$\n",
    "z_{obs} = \\frac{\\bar x - \\bar y}{\\sqrt{\\frac{s_x^2}{n_x} + \\frac{s_y^2}{n_y}}};\n",
    "$$\n",
    "\n",
    "3. Говорим, что по ЦПТ $z_{obs} \\overset{asy}{\\sim} N(0,1);$\n",
    "4. Находим критическое значение $z_{1 - \\frac{\\alpha}{2}}$;\n",
    "5. Если мы видим, что $|z_{obs}| <  z_{1 - \\frac{\\alpha}{2}}$, мы говорим, что гипотеза не отвергается. \n",
    "\n"
   ]
  },
  {
   "cell_type": "markdown",
   "id": "6b2be3ca",
   "metadata": {},
   "source": [
    "### Процедура 2 (мерзкая): \n",
    "\n",
    "1. Собираем выборки $X_1, \\ldots, X_n$ и $Y_1, \\ldots, Y_n$;\n",
    "2. Находим $\\bar x$ и $\\bar y$;\n",
    "3. Пользуясь ЦПТ и зная, что $\\bar x \\overset{asy}{\\sim} N \\left(\\mu_1,\\frac{s^2_x}{n_x} \\right)$ и $\\bar y \\overset{asy}{\\sim} N\\left(\\mu_2,\\frac{s^2_y}{n_y}\\right)$ строим для $\\mu_1$ и $\\mu_2$ доверительные интервалы;\n",
    "4. Если доверительные интервалы пересеклись, говорим, что гипотеза не отвергается. "
   ]
  },
  {
   "cell_type": "markdown",
   "id": "669f168f",
   "metadata": {},
   "source": [
    "Зафиксируйте количество наблюдений, MDE и уровень значимости. Убедитесь с помощью симуляций в том, что ошибка второго рода для второй процедуры будет больше, чем для первой. \n",
    "\n",
    "Из-за того что мы строим два доверительных интервала вместо одного, ошибка 1 рода выходит из-под контроля. Какой она оказывается на самом деле?"
   ]
  },
  {
   "cell_type": "code",
   "execution_count": null,
   "id": "fbf3e572",
   "metadata": {},
   "outputs": [],
   "source": [
    "### ╰( ͡° ͜ʖ ͡° )つ▬▬ι═══════  bzzzzzzzzzz\n",
    "# will the code be with you"
   ]
  },
  {
   "cell_type": "markdown",
   "id": "b8c9ac47",
   "metadata": {},
   "source": [
    "Для этого упражнения можно получить формулы в явном виде. Попробуйте сделать это. Готовый вывод можно найти [в лекции Фила.](https://www.youtube.com/watch?v=6Bcjc_0N_jw&list=PLNKXA-74YGLjDOtDSZEFoy1yP-3AfiHUC&index=17&t=3s)"
   ]
  }
 ],
 "metadata": {
  "kernelspec": {
   "display_name": "Python 3 (ipykernel)",
   "language": "python",
   "name": "python3"
  },
  "language_info": {
   "codemirror_mode": {
    "name": "ipython",
    "version": 3
   },
   "file_extension": ".py",
   "mimetype": "text/x-python",
   "name": "python",
   "nbconvert_exporter": "python",
   "pygments_lexer": "ipython3",
   "version": "3.10.9"
  }
 },
 "nbformat": 4,
 "nbformat_minor": 5
}
