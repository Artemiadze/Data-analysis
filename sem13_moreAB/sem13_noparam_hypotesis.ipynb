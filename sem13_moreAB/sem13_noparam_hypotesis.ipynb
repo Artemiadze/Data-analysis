{
 "cells": [
  {
   "cell_type": "markdown",
   "id": "2efa5011",
   "metadata": {},
   "source": [
    "<center>\n",
    "<img src='https://imgs.xkcd.com/comics/t_distribution_2x.png' align='center' width=\"800x\">\n",
    "</center>"
   ]
  },
  {
   "cell_type": "markdown",
   "id": "2f366573",
   "metadata": {},
   "source": [
    "# Андан на экономе\n",
    "\n",
    "## Семинар 13:  больше гипотез богу гипотез"
   ]
  },
  {
   "cell_type": "code",
   "execution_count": null,
   "id": "8c533524",
   "metadata": {},
   "outputs": [],
   "source": [
    "import numpy as np\n",
    "import pandas as pd\n",
    "\n",
    "from scipy import stats\n",
    "import statsmodels as sts \n",
    "\n",
    "import seaborn as sns\n",
    "import matplotlib.pyplot as plt"
   ]
  },
  {
   "cell_type": "markdown",
   "id": "ddabaa11",
   "metadata": {},
   "source": [
    "## Задание 0 (воспоминания)\n",
    "\n",
    "Обсудите: \n",
    "\n",
    "- Чем непараметрические критерии отличаются от параметрических?\n",
    "- Что такое $z-$тест и $t-$тест? Какие у них предпосылки? Чем они отличаются друг от друга?\n",
    "- В каких случаях $z-$тест будет работать плохо?\n",
    "- В каких случаях $t-$тест будет работать плохо?\n",
    "\n",
    "Обсудите:\n",
    "\n",
    "- Что такое критерии знаков? \n",
    "- Какие у них предпосылки? \n",
    "- Как выглядит нулевая гипотеза? \n",
    "- Как выглядит формула для подсчёта критерия?\n",
    "\n",
    "Обсудите:\n",
    "\n",
    "- Какие прдпосылки есть у теста Манна-Уитни? \n",
    "- Как выглядит проверяемая нулевая гипотеза? \n",
    "- Как выглядит формула для подсчёта критерия?\n",
    "- В каких случаях тест Манна-Уитни будет работать плохо?\n",
    "\n",
    "Если забыли, то вот вам реклама лекций Фила (опять): \n",
    "\n",
    "- [Видосы с курсеры](https://www.youtube.com/watch?v=2p24KPez62U&list=PLCf-cQCe1FRyCcf47wwBlDObNcz4ud2_L)\n",
    "- [Лекция про непараметрические критерии из ФКНовской магистратуры](https://www.youtube.com/watch?v=0Rn6ImS0WK4)"
   ]
  },
  {
   "cell_type": "markdown",
   "id": "93cec62d",
   "metadata": {},
   "source": [
    "## Задание 1 (мудрость)\n",
    "\n",
    "> Помните, что для человека звук его имени является самым сладким и самым важным звуком человеческой речи. (Дейл Карнеги)\n",
    "\n",
    "Доверяй, но проверяй. Решим задачку по психологии! Все цитаты в пабликах вконтакте делятся на два вида: мудрые и недостаточно мудрые. Если цитата мудрая, то её можно лайкнуть. Поговаривают, что если в цитате есть личные местоимения, то пользователь автоматически сопоставляет себя автору этой цитаты и вероятность того, что она будет лайкнута, повышается. Например, цитату \n",
    "\n",
    "> Можно простить человеку все, кроме отсутствия. (Экзюпери) \n",
    "\n",
    "мне не очень хотелось бы лайкать. А вот цитата \n",
    "\n",
    "> Мне наплевать, что вы обо мне думаете. Я о вас вообще не думаю. (Булгаков) \n",
    "\n",
    "совершенно другое дело. \n",
    "\n",
    "В табличке `df_vk_wise` лежат данные о мудрых цитатах из [мудрого паблика.](https://vk.com/ooioioioioioo) В колонке `I` находится переменная, которая принимает значение `True`, когда в тексте цитаты было личное местоимение \"Я\".\n",
    "\n",
    "Срежем первые $50$ постов, так как под ними количество репостов и лайков ещё окончательно не выставлено, и будем работать с остатками. "
   ]
  },
  {
   "cell_type": "code",
   "execution_count": null,
   "id": "8e1a736b",
   "metadata": {},
   "outputs": [],
   "source": [
    "df = pd.read_csv('df_vk_wise.csv')[50:]\n",
    "df.head()"
   ]
  },
  {
   "cell_type": "markdown",
   "id": "942e4f99",
   "metadata": {},
   "source": [
    "Постройте гистограмму для числа лайков постов, содержащих личные местоимения и не содержащих. Как думаете, есть ли с распределением лайков какие-то проблемы?"
   ]
  },
  {
   "cell_type": "code",
   "execution_count": null,
   "id": "0ee85e07",
   "metadata": {},
   "outputs": [],
   "source": [
    "### ╰( ͡° ͜ʖ ͡° )つ▬▬ι═══════  bzzzzzzzzzz\n",
    "# will the code be with you\n",
    "\n",
    "# your code here\n"
   ]
  },
  {
   "cell_type": "markdown",
   "id": "77a5820e",
   "metadata": {},
   "source": [
    "Да, проблемы есть. Это выбросы. Хвосты на гистограммах оказываются очень длинными. Найдите медианы и средние для числа лайков. Сравните их между собой. "
   ]
  },
  {
   "cell_type": "code",
   "execution_count": null,
   "id": "80dadb3f",
   "metadata": {},
   "outputs": [],
   "source": [
    "### ╰( ͡° ͜ʖ ͡° )つ▬▬ι═══════  bzzzzzzzzzz\n",
    "# will the code be with you\n",
    "\n",
    "# your code here\n"
   ]
  },
  {
   "cell_type": "markdown",
   "id": "2cc8c11a",
   "metadata": {},
   "source": [
    "Проверьте гипотезу о равенстве среднего числа лайков. Используйте для этого $z$-тест, основанный на ЦПТ. Дисперсию расчитывайте по выборке, используя несмещённую оценку `(ddof=1)`. Запишите наблюдаемое значение статистики в переменную `z_obs`. "
   ]
  },
  {
   "cell_type": "code",
   "execution_count": null,
   "id": "88f17591",
   "metadata": {},
   "outputs": [],
   "source": [
    "### ╰( ͡° ͜ʖ ͡° )つ▬▬ι═══════  bzzzzzzzzzz\n",
    "# will the code be with you\n",
    "\n",
    "alpha = 0.05 \n",
    "z_obs = ...\n",
    "\n",
    "# your code here\n"
   ]
  },
  {
   "cell_type": "markdown",
   "id": "6e1f201c",
   "metadata": {},
   "source": [
    "Найдите критическое значение статистики. Сравните его с наблюдаемым. Рассчитайте p-value для ситуации с двусторонней альтернативой. Сделайте вывод о выдвинутой гипотезе. Критическое значение статистики запишите в переменную `z_crit`, а p-значение в переменную `pval`. "
   ]
  },
  {
   "cell_type": "code",
   "execution_count": null,
   "id": "c33e2edb",
   "metadata": {},
   "outputs": [],
   "source": [
    "### ╰( ͡° ͜ʖ ͡° )つ▬▬ι═══════  bzzzzzzzzzz\n",
    "# will the code be with you\n",
    "\n",
    "z_crit = ...\n",
    "pval = ...\n",
    "\n",
    "# your code here\n"
   ]
  },
  {
   "cell_type": "markdown",
   "id": "6f40c8df",
   "metadata": {},
   "source": [
    "Можно заметить, что у распределения числа репостов длинные хвосты. В данных есть выбросы, которые завышают среднее значение. Если выбросы сильные, то ЦПТ может ломаться. Из-за этого имеет смысл в данном случае использовать другой критерий. Например, критерий Манна-Уитни."
   ]
  },
  {
   "cell_type": "markdown",
   "id": "9cfaa98a",
   "metadata": {},
   "source": [
    "Найдите наблюдаемое значение статистики Манна-Уитни. Сравните его с критическим. Рассчитайте p-value для ситуации с двусторонней альтернативой. Сделайте вывод о выдвинутой гипотезе. Отличается ли полученный вывод от вывода $z$-теста?"
   ]
  },
  {
   "cell_type": "code",
   "execution_count": null,
   "id": "30f85956",
   "metadata": {},
   "outputs": [],
   "source": [
    "### ╰( ͡° ͜ʖ ͡° )つ▬▬ι═══════  bzzzzzzzzzz\n",
    "# will the code be with you\n",
    "\n",
    "alpha = 0.05 \n",
    "\n",
    "# your code here\n"
   ]
  },
  {
   "cell_type": "markdown",
   "id": "a17cbdc5",
   "metadata": {},
   "source": [
    "## Задание 2 (ломаем тест Манна-Уитни)\n",
    "\n",
    "Придумайте пример, на котором тест Манна-Уитни не будет работать. \n",
    "\n",
    "__Hint:__ Главная предпосылка теста заключается в том, что распределение не меняется, но у него происходит сдвиг. Воспользуйтесь этим. \n",
    "\n",
    "\\begin{equation*}\n",
    "    \\begin{aligned}\n",
    "    & H_0: F_X(x) = F_Y(y) \\\\\n",
    "    & H_A: F_X(x) = F_Y(y + m), m \\ne 0\n",
    "    \\end{aligned}\n",
    "\\end{equation*}\n",
    "\n",
    "\n",
    "<center>\n",
    "<img src='https://raw.githubusercontent.com/hse-econ-data-science/andan_2023/main/sem12_more_ab/mw.png' align='center' width=\"300x\">\n",
    "</center>\n"
   ]
  },
  {
   "cell_type": "code",
   "execution_count": null,
   "id": "5bac1748",
   "metadata": {},
   "outputs": [],
   "source": [
    "### ╰( ͡° ͜ʖ ͡° )つ▬▬ι═══════  bzzzzzzzzzz\n",
    "# will the code be with you\n",
    "\n",
    "# your code here"
   ]
  },
  {
   "cell_type": "markdown",
   "id": "370a39b2",
   "metadata": {},
   "source": [
    "## Задание 3 (мимимишные мышки)\n",
    "\n",
    "$16$ лабораторных мышей были помещены в двухкомнатные клетки, в одной из комнат висело зеркало. С целью установить, есть ли у мышей какие-то предпочтения насчет зеркал, измерялась доля времени, которое каждая мышь проводила в каждой из своих двух клеток.\n",
    "\n",
    "![](https://ars.els-cdn.com/content/image/1-s2.0-S0168159104000061-gr1.gif)\n",
    "\n",
    "В файле `mouses_mirror.txt` лежит информация о том, какую долю времени мышка проводила в клетке с зеркалом. "
   ]
  },
  {
   "cell_type": "code",
   "execution_count": null,
   "id": "1dca6cdc",
   "metadata": {},
   "outputs": [],
   "source": [
    "x = pd.read_csv('mouses_mirror.txt', header = None)[0].values\n",
    "plt.hist(x, density=True);"
   ]
  },
  {
   "cell_type": "markdown",
   "id": "82ae5140",
   "metadata": {},
   "source": [
    "Проверьте гипотезу о том, что мышкам безразлично в какой комнате проводить время с помощью критерия знаков. Сформулируйте нулевую гипотезу, перечислите основные особенности этого критерия. Запишите в переменную `pvalue_1` получившееся в результате этого $p$-значение. "
   ]
  },
  {
   "cell_type": "code",
   "execution_count": null,
   "id": "4046f396",
   "metadata": {},
   "outputs": [],
   "source": [
    "### ╰( ͡° ͜ʖ ͡° )つ▬▬ι═══════  bzzzzzzzzzz\n",
    "# will the code be with you\n",
    "\n",
    "pvalue_1 = ... \n",
    "\n",
    "# your code here\n"
   ]
  },
  {
   "cell_type": "markdown",
   "id": "3ff71cc7",
   "metadata": {},
   "source": [
    "Проверьте гипотезу о том, что мышкам безразлично в какой комнате проводить время с помощью теста Вилкоксона. Сформулируйте нулевую гипотезу, перечислите основные особенности этого критерия.  Запишите в переменную `pvalue_2` получившееся в результате этого $p$-значение. "
   ]
  },
  {
   "cell_type": "code",
   "execution_count": null,
   "id": "8253dd76",
   "metadata": {},
   "outputs": [],
   "source": [
    "### ╰( ͡° ͜ʖ ͡° )つ▬▬ι═══════  bzzzzzzzzzz\n",
    "# will the code be with you\n",
    "\n",
    "pvalue_2 = ... \n",
    "\n",
    "# your code here\n"
   ]
  },
  {
   "cell_type": "markdown",
   "id": "efad3df5",
   "metadata": {},
   "source": [
    "Проверьте гипотезу о том, что мышкам безразлично в какой комнате проводить время с помощью асимптотического $z$-теста. Сформулируйте нулевую гипотезу, перечислите основные особенности этого критерия.  Запишите в переменную `pvalue_3` получившееся в результате этого $p$-значение. "
   ]
  },
  {
   "cell_type": "code",
   "execution_count": null,
   "id": "38b41a2a",
   "metadata": {},
   "outputs": [],
   "source": [
    "from statsmodels.stats.weightstats import ztest,zconfint\n",
    "\n",
    "### ╰( ͡° ͜ʖ ͡° )つ▬▬ι═══════  bzzzzzzzzzz\n",
    "# will the code be with you\n",
    "\n",
    "pvalue_3 = ... \n",
    "\n",
    "# your code here\n"
   ]
  }
 ],
 "metadata": {
  "kernelspec": {
   "display_name": "Python 3 (ipykernel)",
   "language": "python",
   "name": "python3"
  },
  "language_info": {
   "codemirror_mode": {
    "name": "ipython",
    "version": 3
   },
   "file_extension": ".py",
   "mimetype": "text/x-python",
   "name": "python",
   "nbconvert_exporter": "python",
   "pygments_lexer": "ipython3",
   "version": "3.10.9"
  }
 },
 "nbformat": 4,
 "nbformat_minor": 5
}
