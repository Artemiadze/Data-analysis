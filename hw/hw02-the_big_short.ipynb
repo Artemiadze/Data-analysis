{
  "cells": [
    {
      "cell_type": "markdown",
      "id": "9074d943",
      "metadata": {
        "id": "9074d943"
      },
      "source": [
        "<center>\n",
        "<img src=\"https://raw.githubusercontent.com/hse-econ-data-science/andan2024/main/hw/images/bogdanoff_cover.jpeg\" height=\"150\">\n",
        "\n",
        "# Андан на экономе: домашнее задание 2\n",
        "</center>\n",
        "\n",
        "\n",
        "> [He bought? Dump it. He sold? Pump it.](https://www.youtube.com/watch?v=fDpYZU5FAVU)  <br>\n",
        "\n",
        "$\\qquad$ $\\qquad$ $\\qquad$ $\\qquad$  📉 📉 📉**Bogdanoff**\n"
      ]
    },
    {
      "cell_type": "markdown",
      "id": "b4981e33",
      "metadata": {
        "id": "b4981e33"
      },
      "source": [
        "**ФИО:**\n",
        "\n",
        "**Твой любимый аник:**"
      ]
    },
    {
      "cell_type": "markdown",
      "id": "f40dc119",
      "metadata": {
        "id": "f40dc119"
      },
      "source": [
        "## Общая информация\n",
        "\n",
        "\n",
        "__Дата выдачи:__ 29.02.2024\n",
        "\n",
        "__Мягкий дедлайн:__ 23:59MSK 24.03.2024\n",
        "\n",
        "__Жесткий дедлайн:__ 23:59MSK 31.03.2024"
      ]
    },
    {
      "cell_type": "markdown",
      "id": "3e8ede2d",
      "metadata": {
        "id": "3e8ede2d"
      },
      "source": [
        "## Оценивание и штрафы\n",
        "\n",
        "Каждая из задач имеет определенную «стоимость» (указана в скобках около задачи). Максимально допустимая оценка за работу — 100 баллов. За каждый день просрочки после мягкого дедлайна снимается 10 баллов. После жёсткого дедлайна работы не принимаются. Даже при опозданиии на одну секунду. Сдавайте работы заранее.\n",
        "\n",
        "Мягкий дедлайн можно отодвинуть без потери баллов на 1,2 или 3 дня. Суммарно для откладывания в запасе есть три дня. Можно отодвинуть один дедлайн на три дня, а можно три дедлайна подвинуть на один день. Распоряжаться этими днями студент может как угодно. Жёсткий дедлайн, при этом, не меняется. Если такое произошло, нужно сообщить о сдвиге при сдаче работы.\n",
        "\n",
        "Задание выполняется самостоятельно. «Похожие» решения считаются плагиатом и все задействованные студенты (в том числе те, у кого списали) не могут получить за него больше 0 баллов. Если вы нашли решение какого-то из заданий (или его часть) в открытом источнике, необходимо указать ссылку на этот источник (скорее всего вы будете не единственным, кто это нашел, поэтому чтобы исключить подозрение в плагиате, необходима ссылка на источник).\n",
        "\n",
        "Любой из студентов может быть вызван на защиту любого домашнего задания. В таком случае итоговая оценка студента определяется в результате защиты.\n",
        "\n",
        "> За отсутствие названий графиков и подписей к осям могут снижаться баллы. Все картинки должны быть самодостаточны и визуально удобны для восприятия, так чтобы не нужно было смотреть ваш код или знать задание, чтобы понять что на них изображено. Выводы должны быть релевантными. Не забывайте их писать. Если в вопросе требуется ответ словами, а его нет, вы будете терять довольно много баллов."
      ]
    },
    {
      "cell_type": "markdown",
      "id": "58abed2e",
      "metadata": {
        "id": "58abed2e"
      },
      "source": [
        "## Формат сдачи\n",
        "\n",
        "Сам ноутбук называйте в формате hw-02-USERNAME.ipynb, где USERNAME — ваши фамилия и имя на латинице. Задание сдаётся в anytask."
      ]
    },
    {
      "cell_type": "code",
      "execution_count": 1,
      "id": "217006f4",
      "metadata": {
        "id": "217006f4"
      },
      "outputs": [],
      "source": [
        "import numpy as np\n",
        "import pandas as pd\n",
        "\n",
        "import scipy.stats as sts\n",
        "import matplotlib.pyplot as plt\n",
        "import seaborn as sns"
      ]
    },
    {
      "cell_type": "markdown",
      "id": "8633ccb3",
      "metadata": {
        "id": "8633ccb3"
      },
      "source": [
        "#  Портфельная теория Марковица\n",
        "\n",
        "В этом задании мы будем работать с данными по ценным бумагам. Мы немного поанализируем их и попробуем собрать оптимальный портфель.\n",
        "\n",
        "- в таблице `stocks.csv` содержится информация об акциях нескольких компаний с $01.01.2014$ по $31.12.2023$ по дням.\n",
        "- таблице `exchange_rates.csv` содержится информация о курсах валют _USD-RUB_, _EUR-RUB_ и _HKD-RUB_ за тот же период.\n",
        "\n",
        "Подгрузим данные и посмотрим на них."
      ]
    },
    {
      "cell_type": "code",
      "execution_count": 2,
      "id": "ec55a158",
      "metadata": {
        "colab": {
          "base_uri": "https://localhost:8080/",
          "height": 225
        },
        "id": "ec55a158",
        "outputId": "a91c950b-8659-4e7a-8727-e90c7ca628cc"
      },
      "outputs": [
        {
          "name": "stdout",
          "output_type": "stream",
          "text": [
            "(17572, 8)\n"
          ]
        },
        {
          "data": {
            "application/vnd.google.colaboratory.intrinsic+json": {
              "repr_error": "'str' object has no attribute 'empty'",
              "type": "dataframe",
              "variable_name": "df_stocks"
            },
            "text/html": [
              "\n",
              "  <div id=\"df-014ce248-13f7-48f9-8826-5981ff19f6a6\" class=\"colab-df-container\">\n",
              "    <div>\n",
              "<style scoped>\n",
              "    .dataframe tbody tr th:only-of-type {\n",
              "        vertical-align: middle;\n",
              "    }\n",
              "\n",
              "    .dataframe tbody tr th {\n",
              "        vertical-align: top;\n",
              "    }\n",
              "\n",
              "    .dataframe thead th {\n",
              "        text-align: right;\n",
              "    }\n",
              "</style>\n",
              "<table border=\"1\" class=\"dataframe\">\n",
              "  <thead>\n",
              "    <tr style=\"text-align: right;\">\n",
              "      <th></th>\n",
              "      <th>Дата</th>\n",
              "      <th>Цена</th>\n",
              "      <th>Откр.</th>\n",
              "      <th>Макс.</th>\n",
              "      <th>Мин.</th>\n",
              "      <th>Объём</th>\n",
              "      <th>Изм. %</th>\n",
              "      <th>Тикер</th>\n",
              "    </tr>\n",
              "  </thead>\n",
              "  <tbody>\n",
              "    <tr>\n",
              "      <th>0</th>\n",
              "      <td>29.12.2023</td>\n",
              "      <td>192,53</td>\n",
              "      <td>193,90</td>\n",
              "      <td>194,40</td>\n",
              "      <td>191,73</td>\n",
              "      <td>42,67M</td>\n",
              "      <td>-0,54%</td>\n",
              "      <td>AAPL</td>\n",
              "    </tr>\n",
              "    <tr>\n",
              "      <th>1</th>\n",
              "      <td>28.12.2023</td>\n",
              "      <td>193,58</td>\n",
              "      <td>194,14</td>\n",
              "      <td>194,66</td>\n",
              "      <td>193,17</td>\n",
              "      <td>33,83M</td>\n",
              "      <td>0,22%</td>\n",
              "      <td>AAPL</td>\n",
              "    </tr>\n",
              "    <tr>\n",
              "      <th>2</th>\n",
              "      <td>27.12.2023</td>\n",
              "      <td>193,15</td>\n",
              "      <td>192,49</td>\n",
              "      <td>193,50</td>\n",
              "      <td>191,09</td>\n",
              "      <td>47,90M</td>\n",
              "      <td>0,05%</td>\n",
              "      <td>AAPL</td>\n",
              "    </tr>\n",
              "    <tr>\n",
              "      <th>3</th>\n",
              "      <td>26.12.2023</td>\n",
              "      <td>193,05</td>\n",
              "      <td>193,61</td>\n",
              "      <td>193,89</td>\n",
              "      <td>192,83</td>\n",
              "      <td>28,81M</td>\n",
              "      <td>-0,28%</td>\n",
              "      <td>AAPL</td>\n",
              "    </tr>\n",
              "    <tr>\n",
              "      <th>4</th>\n",
              "      <td>22.12.2023</td>\n",
              "      <td>193,60</td>\n",
              "      <td>195,18</td>\n",
              "      <td>195,41</td>\n",
              "      <td>192,97</td>\n",
              "      <td>37,15M</td>\n",
              "      <td>-0,55%</td>\n",
              "      <td>AAPL</td>\n",
              "    </tr>\n",
              "  </tbody>\n",
              "</table>\n",
              "</div>\n",
              "    <div class=\"colab-df-buttons\">\n",
              "\n",
              "  <div class=\"colab-df-container\">\n",
              "    <button class=\"colab-df-convert\" onclick=\"convertToInteractive('df-014ce248-13f7-48f9-8826-5981ff19f6a6')\"\n",
              "            title=\"Convert this dataframe to an interactive table.\"\n",
              "            style=\"display:none;\">\n",
              "\n",
              "  <svg xmlns=\"http://www.w3.org/2000/svg\" height=\"24px\" viewBox=\"0 -960 960 960\">\n",
              "    <path d=\"M120-120v-720h720v720H120Zm60-500h600v-160H180v160Zm220 220h160v-160H400v160Zm0 220h160v-160H400v160ZM180-400h160v-160H180v160Zm440 0h160v-160H620v160ZM180-180h160v-160H180v160Zm440 0h160v-160H620v160Z\"/>\n",
              "  </svg>\n",
              "    </button>\n",
              "\n",
              "  <style>\n",
              "    .colab-df-container {\n",
              "      display:flex;\n",
              "      gap: 12px;\n",
              "    }\n",
              "\n",
              "    .colab-df-convert {\n",
              "      background-color: #E8F0FE;\n",
              "      border: none;\n",
              "      border-radius: 50%;\n",
              "      cursor: pointer;\n",
              "      display: none;\n",
              "      fill: #1967D2;\n",
              "      height: 32px;\n",
              "      padding: 0 0 0 0;\n",
              "      width: 32px;\n",
              "    }\n",
              "\n",
              "    .colab-df-convert:hover {\n",
              "      background-color: #E2EBFA;\n",
              "      box-shadow: 0px 1px 2px rgba(60, 64, 67, 0.3), 0px 1px 3px 1px rgba(60, 64, 67, 0.15);\n",
              "      fill: #174EA6;\n",
              "    }\n",
              "\n",
              "    .colab-df-buttons div {\n",
              "      margin-bottom: 4px;\n",
              "    }\n",
              "\n",
              "    [theme=dark] .colab-df-convert {\n",
              "      background-color: #3B4455;\n",
              "      fill: #D2E3FC;\n",
              "    }\n",
              "\n",
              "    [theme=dark] .colab-df-convert:hover {\n",
              "      background-color: #434B5C;\n",
              "      box-shadow: 0px 1px 3px 1px rgba(0, 0, 0, 0.15);\n",
              "      filter: drop-shadow(0px 1px 2px rgba(0, 0, 0, 0.3));\n",
              "      fill: #FFFFFF;\n",
              "    }\n",
              "  </style>\n",
              "\n",
              "    <script>\n",
              "      const buttonEl =\n",
              "        document.querySelector('#df-014ce248-13f7-48f9-8826-5981ff19f6a6 button.colab-df-convert');\n",
              "      buttonEl.style.display =\n",
              "        google.colab.kernel.accessAllowed ? 'block' : 'none';\n",
              "\n",
              "      async function convertToInteractive(key) {\n",
              "        const element = document.querySelector('#df-014ce248-13f7-48f9-8826-5981ff19f6a6');\n",
              "        const dataTable =\n",
              "          await google.colab.kernel.invokeFunction('convertToInteractive',\n",
              "                                                    [key], {});\n",
              "        if (!dataTable) return;\n",
              "\n",
              "        const docLinkHtml = 'Like what you see? Visit the ' +\n",
              "          '<a target=\"_blank\" href=https://colab.research.google.com/notebooks/data_table.ipynb>data table notebook</a>'\n",
              "          + ' to learn more about interactive tables.';\n",
              "        element.innerHTML = '';\n",
              "        dataTable['output_type'] = 'display_data';\n",
              "        await google.colab.output.renderOutput(dataTable, element);\n",
              "        const docLink = document.createElement('div');\n",
              "        docLink.innerHTML = docLinkHtml;\n",
              "        element.appendChild(docLink);\n",
              "      }\n",
              "    </script>\n",
              "  </div>\n",
              "\n",
              "\n",
              "<div id=\"df-f3042285-cfb4-4843-8b1e-10f5ad681d95\">\n",
              "  <button class=\"colab-df-quickchart\" onclick=\"quickchart('df-f3042285-cfb4-4843-8b1e-10f5ad681d95')\"\n",
              "            title=\"Suggest charts\"\n",
              "            style=\"display:none;\">\n",
              "\n",
              "<svg xmlns=\"http://www.w3.org/2000/svg\" height=\"24px\"viewBox=\"0 0 24 24\"\n",
              "     width=\"24px\">\n",
              "    <g>\n",
              "        <path d=\"M19 3H5c-1.1 0-2 .9-2 2v14c0 1.1.9 2 2 2h14c1.1 0 2-.9 2-2V5c0-1.1-.9-2-2-2zM9 17H7v-7h2v7zm4 0h-2V7h2v10zm4 0h-2v-4h2v4z\"/>\n",
              "    </g>\n",
              "</svg>\n",
              "  </button>\n",
              "\n",
              "<style>\n",
              "  .colab-df-quickchart {\n",
              "      --bg-color: #E8F0FE;\n",
              "      --fill-color: #1967D2;\n",
              "      --hover-bg-color: #E2EBFA;\n",
              "      --hover-fill-color: #174EA6;\n",
              "      --disabled-fill-color: #AAA;\n",
              "      --disabled-bg-color: #DDD;\n",
              "  }\n",
              "\n",
              "  [theme=dark] .colab-df-quickchart {\n",
              "      --bg-color: #3B4455;\n",
              "      --fill-color: #D2E3FC;\n",
              "      --hover-bg-color: #434B5C;\n",
              "      --hover-fill-color: #FFFFFF;\n",
              "      --disabled-bg-color: #3B4455;\n",
              "      --disabled-fill-color: #666;\n",
              "  }\n",
              "\n",
              "  .colab-df-quickchart {\n",
              "    background-color: var(--bg-color);\n",
              "    border: none;\n",
              "    border-radius: 50%;\n",
              "    cursor: pointer;\n",
              "    display: none;\n",
              "    fill: var(--fill-color);\n",
              "    height: 32px;\n",
              "    padding: 0;\n",
              "    width: 32px;\n",
              "  }\n",
              "\n",
              "  .colab-df-quickchart:hover {\n",
              "    background-color: var(--hover-bg-color);\n",
              "    box-shadow: 0 1px 2px rgba(60, 64, 67, 0.3), 0 1px 3px 1px rgba(60, 64, 67, 0.15);\n",
              "    fill: var(--button-hover-fill-color);\n",
              "  }\n",
              "\n",
              "  .colab-df-quickchart-complete:disabled,\n",
              "  .colab-df-quickchart-complete:disabled:hover {\n",
              "    background-color: var(--disabled-bg-color);\n",
              "    fill: var(--disabled-fill-color);\n",
              "    box-shadow: none;\n",
              "  }\n",
              "\n",
              "  .colab-df-spinner {\n",
              "    border: 2px solid var(--fill-color);\n",
              "    border-color: transparent;\n",
              "    border-bottom-color: var(--fill-color);\n",
              "    animation:\n",
              "      spin 1s steps(1) infinite;\n",
              "  }\n",
              "\n",
              "  @keyframes spin {\n",
              "    0% {\n",
              "      border-color: transparent;\n",
              "      border-bottom-color: var(--fill-color);\n",
              "      border-left-color: var(--fill-color);\n",
              "    }\n",
              "    20% {\n",
              "      border-color: transparent;\n",
              "      border-left-color: var(--fill-color);\n",
              "      border-top-color: var(--fill-color);\n",
              "    }\n",
              "    30% {\n",
              "      border-color: transparent;\n",
              "      border-left-color: var(--fill-color);\n",
              "      border-top-color: var(--fill-color);\n",
              "      border-right-color: var(--fill-color);\n",
              "    }\n",
              "    40% {\n",
              "      border-color: transparent;\n",
              "      border-right-color: var(--fill-color);\n",
              "      border-top-color: var(--fill-color);\n",
              "    }\n",
              "    60% {\n",
              "      border-color: transparent;\n",
              "      border-right-color: var(--fill-color);\n",
              "    }\n",
              "    80% {\n",
              "      border-color: transparent;\n",
              "      border-right-color: var(--fill-color);\n",
              "      border-bottom-color: var(--fill-color);\n",
              "    }\n",
              "    90% {\n",
              "      border-color: transparent;\n",
              "      border-bottom-color: var(--fill-color);\n",
              "    }\n",
              "  }\n",
              "</style>\n",
              "\n",
              "  <script>\n",
              "    async function quickchart(key) {\n",
              "      const quickchartButtonEl =\n",
              "        document.querySelector('#' + key + ' button');\n",
              "      quickchartButtonEl.disabled = true;  // To prevent multiple clicks.\n",
              "      quickchartButtonEl.classList.add('colab-df-spinner');\n",
              "      try {\n",
              "        const charts = await google.colab.kernel.invokeFunction(\n",
              "            'suggestCharts', [key], {});\n",
              "      } catch (error) {\n",
              "        console.error('Error during call to suggestCharts:', error);\n",
              "      }\n",
              "      quickchartButtonEl.classList.remove('colab-df-spinner');\n",
              "      quickchartButtonEl.classList.add('colab-df-quickchart-complete');\n",
              "    }\n",
              "    (() => {\n",
              "      let quickchartButtonEl =\n",
              "        document.querySelector('#df-f3042285-cfb4-4843-8b1e-10f5ad681d95 button');\n",
              "      quickchartButtonEl.style.display =\n",
              "        google.colab.kernel.accessAllowed ? 'block' : 'none';\n",
              "    })();\n",
              "  </script>\n",
              "</div>\n",
              "    </div>\n",
              "  </div>\n"
            ],
            "text/plain": [
              "         Дата    Цена   Откр.   Макс.    Мин.   Объём  Изм. % Тикер\n",
              "0  29.12.2023  192,53  193,90  194,40  191,73  42,67M  -0,54%  AAPL\n",
              "1  28.12.2023  193,58  194,14  194,66  193,17  33,83M   0,22%  AAPL\n",
              "2  27.12.2023  193,15  192,49  193,50  191,09  47,90M   0,05%  AAPL\n",
              "3  26.12.2023  193,05  193,61  193,89  192,83  28,81M  -0,28%  AAPL\n",
              "4  22.12.2023  193,60  195,18  195,41  192,97  37,15M  -0,55%  AAPL"
            ]
          },
          "execution_count": 2,
          "metadata": {},
          "output_type": "execute_result"
        }
      ],
      "source": [
        "df_stocks = pd.read_csv('https://raw.githubusercontent.com/hse-econ-data-science/andan2024/main/hw/data/stocks.csv')\n",
        "print(df_stocks.shape)\n",
        "df_stocks.head()"
      ]
    },
    {
      "cell_type": "code",
      "execution_count": 3,
      "id": "398316ba",
      "metadata": {
        "colab": {
          "base_uri": "https://localhost:8080/",
          "height": 225
        },
        "id": "398316ba",
        "outputId": "f8e1156b-fa41-4157-b35a-cd82ca950981"
      },
      "outputs": [
        {
          "name": "stdout",
          "output_type": "stream",
          "text": [
            "(3652, 4)\n"
          ]
        },
        {
          "data": {
            "application/vnd.google.colaboratory.intrinsic+json": {
              "repr_error": "'str' object has no attribute 'empty'",
              "type": "dataframe",
              "variable_name": "df_rates"
            },
            "text/html": [
              "\n",
              "  <div id=\"df-2e5708d8-ddb1-4eb8-bbc4-f6a3b62fe66f\" class=\"colab-df-container\">\n",
              "    <div>\n",
              "<style scoped>\n",
              "    .dataframe tbody tr th:only-of-type {\n",
              "        vertical-align: middle;\n",
              "    }\n",
              "\n",
              "    .dataframe tbody tr th {\n",
              "        vertical-align: top;\n",
              "    }\n",
              "\n",
              "    .dataframe thead th {\n",
              "        text-align: right;\n",
              "    }\n",
              "</style>\n",
              "<table border=\"1\" class=\"dataframe\">\n",
              "  <thead>\n",
              "    <tr style=\"text-align: right;\">\n",
              "      <th></th>\n",
              "      <th>Дата</th>\n",
              "      <th>EUR_RUB</th>\n",
              "      <th>USD_RUB</th>\n",
              "      <th>HKD_RUB</th>\n",
              "    </tr>\n",
              "  </thead>\n",
              "  <tbody>\n",
              "    <tr>\n",
              "      <th>0</th>\n",
              "      <td>01.01.2014</td>\n",
              "      <td>45,189</td>\n",
              "      <td>32,855</td>\n",
              "      <td>4,237</td>\n",
              "    </tr>\n",
              "    <tr>\n",
              "      <th>1</th>\n",
              "      <td>02.01.2014</td>\n",
              "      <td>45,254</td>\n",
              "      <td>33,1</td>\n",
              "      <td>4,269</td>\n",
              "    </tr>\n",
              "    <tr>\n",
              "      <th>2</th>\n",
              "      <td>03.01.2014</td>\n",
              "      <td>45,114</td>\n",
              "      <td>33,2</td>\n",
              "      <td>4,282</td>\n",
              "    </tr>\n",
              "    <tr>\n",
              "      <th>3</th>\n",
              "      <td>04.01.2014</td>\n",
              "      <td>45,125</td>\n",
              "      <td>33,248</td>\n",
              "      <td>4,288</td>\n",
              "    </tr>\n",
              "    <tr>\n",
              "      <th>4</th>\n",
              "      <td>05.01.2014</td>\n",
              "      <td>45,228</td>\n",
              "      <td>33,255</td>\n",
              "      <td>4,289</td>\n",
              "    </tr>\n",
              "  </tbody>\n",
              "</table>\n",
              "</div>\n",
              "    <div class=\"colab-df-buttons\">\n",
              "\n",
              "  <div class=\"colab-df-container\">\n",
              "    <button class=\"colab-df-convert\" onclick=\"convertToInteractive('df-2e5708d8-ddb1-4eb8-bbc4-f6a3b62fe66f')\"\n",
              "            title=\"Convert this dataframe to an interactive table.\"\n",
              "            style=\"display:none;\">\n",
              "\n",
              "  <svg xmlns=\"http://www.w3.org/2000/svg\" height=\"24px\" viewBox=\"0 -960 960 960\">\n",
              "    <path d=\"M120-120v-720h720v720H120Zm60-500h600v-160H180v160Zm220 220h160v-160H400v160Zm0 220h160v-160H400v160ZM180-400h160v-160H180v160Zm440 0h160v-160H620v160ZM180-180h160v-160H180v160Zm440 0h160v-160H620v160Z\"/>\n",
              "  </svg>\n",
              "    </button>\n",
              "\n",
              "  <style>\n",
              "    .colab-df-container {\n",
              "      display:flex;\n",
              "      gap: 12px;\n",
              "    }\n",
              "\n",
              "    .colab-df-convert {\n",
              "      background-color: #E8F0FE;\n",
              "      border: none;\n",
              "      border-radius: 50%;\n",
              "      cursor: pointer;\n",
              "      display: none;\n",
              "      fill: #1967D2;\n",
              "      height: 32px;\n",
              "      padding: 0 0 0 0;\n",
              "      width: 32px;\n",
              "    }\n",
              "\n",
              "    .colab-df-convert:hover {\n",
              "      background-color: #E2EBFA;\n",
              "      box-shadow: 0px 1px 2px rgba(60, 64, 67, 0.3), 0px 1px 3px 1px rgba(60, 64, 67, 0.15);\n",
              "      fill: #174EA6;\n",
              "    }\n",
              "\n",
              "    .colab-df-buttons div {\n",
              "      margin-bottom: 4px;\n",
              "    }\n",
              "\n",
              "    [theme=dark] .colab-df-convert {\n",
              "      background-color: #3B4455;\n",
              "      fill: #D2E3FC;\n",
              "    }\n",
              "\n",
              "    [theme=dark] .colab-df-convert:hover {\n",
              "      background-color: #434B5C;\n",
              "      box-shadow: 0px 1px 3px 1px rgba(0, 0, 0, 0.15);\n",
              "      filter: drop-shadow(0px 1px 2px rgba(0, 0, 0, 0.3));\n",
              "      fill: #FFFFFF;\n",
              "    }\n",
              "  </style>\n",
              "\n",
              "    <script>\n",
              "      const buttonEl =\n",
              "        document.querySelector('#df-2e5708d8-ddb1-4eb8-bbc4-f6a3b62fe66f button.colab-df-convert');\n",
              "      buttonEl.style.display =\n",
              "        google.colab.kernel.accessAllowed ? 'block' : 'none';\n",
              "\n",
              "      async function convertToInteractive(key) {\n",
              "        const element = document.querySelector('#df-2e5708d8-ddb1-4eb8-bbc4-f6a3b62fe66f');\n",
              "        const dataTable =\n",
              "          await google.colab.kernel.invokeFunction('convertToInteractive',\n",
              "                                                    [key], {});\n",
              "        if (!dataTable) return;\n",
              "\n",
              "        const docLinkHtml = 'Like what you see? Visit the ' +\n",
              "          '<a target=\"_blank\" href=https://colab.research.google.com/notebooks/data_table.ipynb>data table notebook</a>'\n",
              "          + ' to learn more about interactive tables.';\n",
              "        element.innerHTML = '';\n",
              "        dataTable['output_type'] = 'display_data';\n",
              "        await google.colab.output.renderOutput(dataTable, element);\n",
              "        const docLink = document.createElement('div');\n",
              "        docLink.innerHTML = docLinkHtml;\n",
              "        element.appendChild(docLink);\n",
              "      }\n",
              "    </script>\n",
              "  </div>\n",
              "\n",
              "\n",
              "<div id=\"df-dd7097b1-3784-4aaf-947b-9f334ed30650\">\n",
              "  <button class=\"colab-df-quickchart\" onclick=\"quickchart('df-dd7097b1-3784-4aaf-947b-9f334ed30650')\"\n",
              "            title=\"Suggest charts\"\n",
              "            style=\"display:none;\">\n",
              "\n",
              "<svg xmlns=\"http://www.w3.org/2000/svg\" height=\"24px\"viewBox=\"0 0 24 24\"\n",
              "     width=\"24px\">\n",
              "    <g>\n",
              "        <path d=\"M19 3H5c-1.1 0-2 .9-2 2v14c0 1.1.9 2 2 2h14c1.1 0 2-.9 2-2V5c0-1.1-.9-2-2-2zM9 17H7v-7h2v7zm4 0h-2V7h2v10zm4 0h-2v-4h2v4z\"/>\n",
              "    </g>\n",
              "</svg>\n",
              "  </button>\n",
              "\n",
              "<style>\n",
              "  .colab-df-quickchart {\n",
              "      --bg-color: #E8F0FE;\n",
              "      --fill-color: #1967D2;\n",
              "      --hover-bg-color: #E2EBFA;\n",
              "      --hover-fill-color: #174EA6;\n",
              "      --disabled-fill-color: #AAA;\n",
              "      --disabled-bg-color: #DDD;\n",
              "  }\n",
              "\n",
              "  [theme=dark] .colab-df-quickchart {\n",
              "      --bg-color: #3B4455;\n",
              "      --fill-color: #D2E3FC;\n",
              "      --hover-bg-color: #434B5C;\n",
              "      --hover-fill-color: #FFFFFF;\n",
              "      --disabled-bg-color: #3B4455;\n",
              "      --disabled-fill-color: #666;\n",
              "  }\n",
              "\n",
              "  .colab-df-quickchart {\n",
              "    background-color: var(--bg-color);\n",
              "    border: none;\n",
              "    border-radius: 50%;\n",
              "    cursor: pointer;\n",
              "    display: none;\n",
              "    fill: var(--fill-color);\n",
              "    height: 32px;\n",
              "    padding: 0;\n",
              "    width: 32px;\n",
              "  }\n",
              "\n",
              "  .colab-df-quickchart:hover {\n",
              "    background-color: var(--hover-bg-color);\n",
              "    box-shadow: 0 1px 2px rgba(60, 64, 67, 0.3), 0 1px 3px 1px rgba(60, 64, 67, 0.15);\n",
              "    fill: var(--button-hover-fill-color);\n",
              "  }\n",
              "\n",
              "  .colab-df-quickchart-complete:disabled,\n",
              "  .colab-df-quickchart-complete:disabled:hover {\n",
              "    background-color: var(--disabled-bg-color);\n",
              "    fill: var(--disabled-fill-color);\n",
              "    box-shadow: none;\n",
              "  }\n",
              "\n",
              "  .colab-df-spinner {\n",
              "    border: 2px solid var(--fill-color);\n",
              "    border-color: transparent;\n",
              "    border-bottom-color: var(--fill-color);\n",
              "    animation:\n",
              "      spin 1s steps(1) infinite;\n",
              "  }\n",
              "\n",
              "  @keyframes spin {\n",
              "    0% {\n",
              "      border-color: transparent;\n",
              "      border-bottom-color: var(--fill-color);\n",
              "      border-left-color: var(--fill-color);\n",
              "    }\n",
              "    20% {\n",
              "      border-color: transparent;\n",
              "      border-left-color: var(--fill-color);\n",
              "      border-top-color: var(--fill-color);\n",
              "    }\n",
              "    30% {\n",
              "      border-color: transparent;\n",
              "      border-left-color: var(--fill-color);\n",
              "      border-top-color: var(--fill-color);\n",
              "      border-right-color: var(--fill-color);\n",
              "    }\n",
              "    40% {\n",
              "      border-color: transparent;\n",
              "      border-right-color: var(--fill-color);\n",
              "      border-top-color: var(--fill-color);\n",
              "    }\n",
              "    60% {\n",
              "      border-color: transparent;\n",
              "      border-right-color: var(--fill-color);\n",
              "    }\n",
              "    80% {\n",
              "      border-color: transparent;\n",
              "      border-right-color: var(--fill-color);\n",
              "      border-bottom-color: var(--fill-color);\n",
              "    }\n",
              "    90% {\n",
              "      border-color: transparent;\n",
              "      border-bottom-color: var(--fill-color);\n",
              "    }\n",
              "  }\n",
              "</style>\n",
              "\n",
              "  <script>\n",
              "    async function quickchart(key) {\n",
              "      const quickchartButtonEl =\n",
              "        document.querySelector('#' + key + ' button');\n",
              "      quickchartButtonEl.disabled = true;  // To prevent multiple clicks.\n",
              "      quickchartButtonEl.classList.add('colab-df-spinner');\n",
              "      try {\n",
              "        const charts = await google.colab.kernel.invokeFunction(\n",
              "            'suggestCharts', [key], {});\n",
              "      } catch (error) {\n",
              "        console.error('Error during call to suggestCharts:', error);\n",
              "      }\n",
              "      quickchartButtonEl.classList.remove('colab-df-spinner');\n",
              "      quickchartButtonEl.classList.add('colab-df-quickchart-complete');\n",
              "    }\n",
              "    (() => {\n",
              "      let quickchartButtonEl =\n",
              "        document.querySelector('#df-dd7097b1-3784-4aaf-947b-9f334ed30650 button');\n",
              "      quickchartButtonEl.style.display =\n",
              "        google.colab.kernel.accessAllowed ? 'block' : 'none';\n",
              "    })();\n",
              "  </script>\n",
              "</div>\n",
              "    </div>\n",
              "  </div>\n"
            ],
            "text/plain": [
              "         Дата EUR_RUB USD_RUB HKD_RUB\n",
              "0  01.01.2014  45,189  32,855   4,237\n",
              "1  02.01.2014  45,254    33,1   4,269\n",
              "2  03.01.2014  45,114    33,2   4,282\n",
              "3  04.01.2014  45,125  33,248   4,288\n",
              "4  05.01.2014  45,228  33,255   4,289"
            ]
          },
          "execution_count": 3,
          "metadata": {},
          "output_type": "execute_result"
        }
      ],
      "source": [
        "df_rates = pd.read_csv('https://raw.githubusercontent.com/hse-econ-data-science/andan2024/main/hw/data/exchange_rates.csv')\n",
        "print(df_rates.shape)\n",
        "df_rates.head()"
      ]
    },
    {
      "cell_type": "markdown",
      "id": "1c9df382",
      "metadata": {
        "id": "1c9df382"
      },
      "source": [
        "## 1 Причешем данные"
      ]
    },
    {
      "cell_type": "markdown",
      "id": "6108828d",
      "metadata": {
        "id": "6108828d"
      },
      "source": [
        "Часто при загрузке данных из каких-либо источников, особенно если они разные, у вас будет возникать необходимость в их форматировании. Поэтому в этой части потренируемся корректировать переменные для последующей работы с ними."
      ]
    },
    {
      "cell_type": "markdown",
      "id": "05fbdc48",
      "metadata": {
        "id": "05fbdc48"
      },
      "source": [
        "\n",
        "__а) [2 балла]__ В колонке `'Дата'` лежат дни, в которые осуществлялась торговля акциями. Превратите её в формат `datetime` в обеих таблицах."
      ]
    },
    {
      "cell_type": "code",
      "execution_count": null,
      "id": "3de0bb1c",
      "metadata": {
        "id": "3de0bb1c"
      },
      "outputs": [],
      "source": [
        "# your code here\n",
        "# (♡-_-♡)"
      ]
    },
    {
      "cell_type": "markdown",
      "id": "306cf4ef",
      "metadata": {
        "id": "306cf4ef"
      },
      "source": [
        "__б) [5 баллов]__ Для продолжения работы необходимо перевести столбцы в числовой формат, однако они содержат некорректные символы, которые не позволят сделать это напрямую.\n",
        "\n",
        "Допишите функцию, которая примет на вход тип данных `string` и:\n",
        "\n",
        "- Уберет лишнюю точку, разделяющую тысячные разряды в числах (например, $2.024,01 \\rightarrow 2024,01$)\n",
        "- Заменит символ запятой, отделяющий десятичный разряд, на точку (например, $2024,01 \\rightarrow 2024.01$)\n",
        "- Уберет символы `%`, `'B'` (млрд), `'M'` (млн) и `'K'` (тыс)\n",
        "- Затем изменит тип данных с `string` на `float`\n",
        "- И домножит на $10^9$, если в исходном значении содержалась `'B'`, на $10^6$, если `'M'`, или на $10^3$, если `'K'`."
      ]
    },
    {
      "cell_type": "code",
      "execution_count": null,
      "id": "41b0e4f1",
      "metadata": {
        "id": "41b0e4f1"
      },
      "outputs": [],
      "source": [
        "def correct_values(value: str):\n",
        "\n",
        "    corrected_value = ... # your code here\n",
        "\n",
        "    if 'B' in value:\n",
        "        corrected_value *= ... # your code here\n",
        "    elif ...: # your code here\n",
        "        ...   # your code here\n",
        "    elif ...: # your code here\n",
        "        ...   # your code here\n",
        "\n",
        "    return corrected_value"
      ]
    },
    {
      "cell_type": "markdown",
      "id": "fc68686e",
      "metadata": {
        "id": "fc68686e"
      },
      "source": [
        "Примените данную функцию к столбцам `'Цена', 'Откр.', 'Макс.', 'Мин.', 'Объём', 'Изм. %'` таблицы `df_stocks` и к столбцам `'EUR_RUB', 'USD_RUB', 'HKD_RUB'` таблицы `df_rates`.\n",
        "\n",
        "__Hint:__ Для этого можно использовать метод `map` библиотеки `pandas`. Важно также указать параметр `na_action='ignore'`, чтобы пустые значения не передавались в функцию `correct_values`, [(ссылка на документацию).](https://pandas.pydata.org/docs/reference/api/pandas.DataFrame.map.html)"
      ]
    },
    {
      "cell_type": "code",
      "execution_count": null,
      "id": "47207940",
      "metadata": {
        "id": "47207940"
      },
      "outputs": [],
      "source": [
        "# your code here\n",
        "# ヽ(♡‿♡)ノ"
      ]
    },
    {
      "cell_type": "markdown",
      "id": "4b693057",
      "metadata": {
        "id": "4b693057"
      },
      "source": [
        "__в) [5 баллов]__ Поскольку акции компаний торгуются на разных биржах, цены также указаны в различных валютах.\n",
        "Давайте приведем все к рублям, используя таблицу `df_rates`. Для этого важно знать, что данные по тикерам:\n",
        "\n",
        "- `'AAPL'` и `'MSFT'` собраны в долларах `USD`\n",
        "- `'MBGn'` и `'BMWG'` $-$ в евро `EUR`\n",
        "- `'Tencent'` $-$ в Гонконгских долларах `HKD`\n",
        "- по остальным $-$ в `RUB`\n",
        "\n",
        "Давайте сначала объединим таблицы, выполнив операцию `left join` таблицы `df_stocks` с `df_rates` по столбцу `'Дата'`. Для этого будем использовать метод `merge`, [(ссылка на документацию).](https://pandas.pydata.org/pandas-docs/stable/reference/api/pandas.DataFrame.merge.html)"
      ]
    },
    {
      "cell_type": "code",
      "execution_count": null,
      "id": "0127a567",
      "metadata": {
        "id": "0127a567"
      },
      "outputs": [],
      "source": [
        "df_merged = ... # your code here\n",
        "\n",
        "df_merged.head()"
      ]
    },
    {
      "cell_type": "markdown",
      "id": "67b7a071",
      "metadata": {
        "id": "67b7a071"
      },
      "source": [
        " Затем преобразуем столбцы `'Цена', 'Откр.', 'Макс.', 'Мин.'`, умножив их на соответствующий данной акции курс."
      ]
    },
    {
      "cell_type": "code",
      "execution_count": null,
      "id": "74b4545b",
      "metadata": {
        "id": "74b4545b"
      },
      "outputs": [],
      "source": [
        "stocks_currency_dict = {\n",
        "    \"AAPL\": \"USD_RUB\",\n",
        "    \"MSFT\": \"USD_RUB\",\n",
        "    \"MBGn\": \"EUR_RUB\",\n",
        "    \"BMWG\": \"EUR_RUB\",\n",
        "    \"Tencent\": \"HKD_RUB\",\n",
        "}\n",
        "\n",
        "for ticker, curr_pair in stocks_currency_dict.items():\n",
        "    df_merged.loc[df_merged['Тикер'] == ticker, ['Цена', 'Откр.', 'Макс.', 'Мин.']] = ... # your code here\n",
        "\n",
        "df_merged.head()"
      ]
    },
    {
      "cell_type": "markdown",
      "id": "105505b2",
      "metadata": {
        "id": "105505b2"
      },
      "source": [
        "Наконец, мы закончили с первичными преобразованиями и можем приступать к дальнейшему анализу."
      ]
    },
    {
      "cell_type": "markdown",
      "id": "43b63521",
      "metadata": {
        "id": "43b63521"
      },
      "source": [
        "## 2 Начало работы с данными"
      ]
    },
    {
      "cell_type": "markdown",
      "id": "746126de",
      "metadata": {
        "id": "746126de"
      },
      "source": [
        "__а) [2 балла]__ Посмотрите наличие пропусков в данных таблицы `df_merged`. Информация по каким тикерам и за какой период отсутствует? Удалите строки с пропущенными данными."
      ]
    },
    {
      "cell_type": "code",
      "execution_count": null,
      "id": "83e32490",
      "metadata": {
        "id": "83e32490"
      },
      "outputs": [],
      "source": [
        "# your code here\n",
        "# (´｡• ᵕ •｡`)"
      ]
    },
    {
      "cell_type": "markdown",
      "id": "432d9b55",
      "metadata": {
        "id": "432d9b55"
      },
      "source": [
        "__б) [2 балла]__ Какое количество уникальных тикеров содержится в таблице `df_stocks`?"
      ]
    },
    {
      "cell_type": "code",
      "execution_count": null,
      "id": "b6037796",
      "metadata": {
        "id": "b6037796"
      },
      "outputs": [],
      "source": [
        "# your code here\n",
        "# (◕‿◕)♡"
      ]
    },
    {
      "cell_type": "markdown",
      "id": "898014eb",
      "metadata": {
        "id": "898014eb"
      },
      "source": [
        "__в) [2 балла]__  Для каких акций и в какой временной период была зафиксирована наибольшая разность между значениями `'Макс.'` и `'Мин.'` в рублях?"
      ]
    },
    {
      "cell_type": "code",
      "execution_count": null,
      "id": "e714f50f",
      "metadata": {
        "id": "e714f50f"
      },
      "outputs": [],
      "source": [
        "# your code here\n",
        "# ♡ (´｡• ω •｡`) ♡"
      ]
    },
    {
      "cell_type": "markdown",
      "id": "aa2d1796",
      "metadata": {
        "id": "aa2d1796"
      },
      "source": [
        "__г) [2 балла]__  В какие периоды было продано/куплено акций на наибольшую сумму рублей. Какие это были акции?\n",
        "\n",
        "__Hint__: Объем — это количество проданных/купленных акций"
      ]
    },
    {
      "cell_type": "code",
      "execution_count": null,
      "id": "4c724523",
      "metadata": {
        "id": "4c724523"
      },
      "outputs": [],
      "source": [
        "# your code here\n",
        "# (⌒_⌒;)"
      ]
    },
    {
      "cell_type": "markdown",
      "id": "c3b8199b",
      "metadata": {
        "id": "c3b8199b"
      },
      "source": [
        "__д) [5 баллов]__  В столбике `'Изм. %'` лежат изменения стоимости ценных бумаг в процентах. При этом для каждой бумаги валюта своя.\n",
        "\n",
        "Найдите 5 дат, в которые наблюдались наибольшие средние процентные изменения стоимости акций в абсолютном выражении.\n",
        "\n",
        "__Hint:__ От изменения акций надо взять модуль, а затем посчитать среднее по тикерам для каждой даты."
      ]
    },
    {
      "cell_type": "code",
      "execution_count": null,
      "id": "fa61c18c",
      "metadata": {
        "id": "fa61c18c"
      },
      "outputs": [],
      "source": [
        "# your code here\n",
        "# (＠_＠)"
      ]
    },
    {
      "cell_type": "markdown",
      "id": "c18959ee",
      "metadata": {
        "id": "c18959ee"
      },
      "source": [
        "__е) [2 балла]__ Сохраните ответ в переменную `top_5_diff` в виде таблички:\n",
        "\n",
        "| Дата     | Изм. % |\n",
        "|----------|--------|\n",
        "| 01/01/01 |   1   |\n",
        "|    ...   |  ...  |\n",
        "| 03/01/01 |   3   |"
      ]
    },
    {
      "cell_type": "code",
      "execution_count": null,
      "id": "c06866e7",
      "metadata": {
        "id": "c06866e7"
      },
      "outputs": [],
      "source": [
        "top_5_diff = ... # your code here"
      ]
    },
    {
      "cell_type": "markdown",
      "id": "EnaMNc-rZ9RZ",
      "metadata": {
        "id": "EnaMNc-rZ9RZ"
      },
      "source": [
        "__ё) [5 баллов]__ Далее мы будем работать только со средними ценами, поэтому имеет смысл перевести таблицу из длинного формата в широкий\n",
        "\n",
        "Было:\n",
        "\n",
        "| Дата     | Цена | Тикер |\n",
        "|----------|------|-------|\n",
        "| 01/01/01 |  10  |   A   |\n",
        "| 02/01/01 |  20  |   A   |\n",
        "| 03/01/01 |  30  |   A   |\n",
        "|   ...    | ...  |  ...  |\n",
        "| 01/01/01 |  15  |   B   |\n",
        "| 02/01/01 |  30  |   B   |\n",
        "| 03/01/01 |  60  |   B   |\n",
        "|   ...    | ...  |  ...  |\n",
        "\n",
        "Станет:\n",
        "\n",
        "| Дата     | Цена A | Цена B | ... |\n",
        "|----------|--------|--------|-----|\n",
        "| 01/01/14 |   10   |   15   | ... |\n",
        "| 02/01/14 |   20   |   30   | ... |\n",
        "| 03/01/14 |   30   |   60   | ... |\n",
        "|   ...    |  ...   |  ...   | ... |\n",
        "\n",
        "\n",
        "Это можно сделать по-разному, например, с помощью `pivot_table` ([ссылка](https://pandas.pydata.org/pandas-docs/stable/reference/api/pandas.pivot_table.html) на документацию)"
      ]
    },
    {
      "cell_type": "code",
      "execution_count": null,
      "id": "46526d32",
      "metadata": {
        "id": "46526d32"
      },
      "outputs": [],
      "source": [
        "df = ... # your code here\n",
        "\n",
        "df.head()"
      ]
    },
    {
      "cell_type": "markdown",
      "id": "1N46waA0aSdu",
      "metadata": {
        "id": "1N46waA0aSdu"
      },
      "source": [
        "__ж) [5 баллов]__  Для всех тикеров из таблички `df` постройти картинки с динамикой цен во времени, а также нистограммы цен. Дайте ответы на вопросы:\n",
        "\n",
        "- Распределение стоимости акций похоже на нормальное?\n",
        "- Что происходило с финансовыми рынками в течение последних $10$ лет? Они росли? Они падали? Видно ли, что были кризисы?\n",
        "\n",
        "__Ответ:__"
      ]
    },
    {
      "cell_type": "code",
      "execution_count": null,
      "id": "wgcr_oT_aRPN",
      "metadata": {
        "id": "wgcr_oT_aRPN"
      },
      "outputs": [],
      "source": [
        "# your code here\n",
        "# (￢_￢)"
      ]
    },
    {
      "cell_type": "markdown",
      "id": "tiKMg4IKaiIm",
      "metadata": {
        "id": "tiKMg4IKaiIm"
      },
      "source": [
        "Финансовые продукты описываются двумя характеристикам – __доходностью__ и __риском.__ Доходность – это процентное изменение стоимости за некоторый промежуток времени:\n",
        "\n",
        "$$\n",
        "R_t = \\left( \\frac{P_t}{P_{t-1}} - 1 \\right) \\cdot 100\\%.\n",
        "$$\n",
        "\n",
        "Под риском обычно имеют в виду стандартное отклонение.\n",
        "\n",
        "\n",
        "__з) [5 баллов]__  Рассчитайте процентное изменение цены акций в рублях ото дня ко дню для `df`. Полученную таблицу доходностей сохраните в переменную `df_pct_change`.\n",
        "\n",
        "__Hint__: С этим поможет метод `pct_change()`, [(ссылка на документацию).](https://pandas.pydata.org/pandas-docs/stable/reference/api/pandas.DataFrame.pct_change.html)"
      ]
    },
    {
      "cell_type": "code",
      "execution_count": null,
      "id": "NlyU2BBMaR48",
      "metadata": {
        "id": "NlyU2BBMaR48"
      },
      "outputs": [],
      "source": [
        "df_pct_change = ... # your code here"
      ]
    },
    {
      "cell_type": "markdown",
      "id": "VvG-h0PSbVtC",
      "metadata": {
        "id": "VvG-h0PSbVtC"
      },
      "source": [
        "__и) [5 баллов]__  Для всех тикеров из таблички `df_pct_change` постройти картинки с динамикой доходностей, гистограмму доходностей и ящики с усами. Ответьте на следующие вопроcы:\n",
        "\n",
        "- Имеют ли доходности по акциям нормальное распределение?\n",
        "- Видно ли по ящику с усами, что в данных довольно много выбросов?\n",
        "\n",
        "__Ответ:__ ваш текст"
      ]
    },
    {
      "cell_type": "code",
      "execution_count": null,
      "id": "dgqqtwQKbL75",
      "metadata": {
        "id": "dgqqtwQKbL75"
      },
      "outputs": [],
      "source": [
        "# your code here\n",
        "# (⊙_⊙)"
      ]
    },
    {
      "cell_type": "markdown",
      "id": "b48529b1",
      "metadata": {
        "id": "b48529b1"
      },
      "source": [
        "__к) [5 баллов]__  В пункте __д)__ мы нашли даты, в которые наблюдались наибольшие измения стоимости ценых бумаг. При расчётах мы проигнорировали колебания курсов валют.\n",
        "\n",
        "Давайте посмотрим, каким бы было колебание цен акций в абсолютном выражении для дат из таблички `top_5_diff`, если бы мы учли изменения курсов валют.\n",
        "\n",
        "В таблице `df_pct_change` все доходности измерены в рублях. Посчитайте для этой таблицы построчное среднее для абсолютных значений изменений."
      ]
    },
    {
      "cell_type": "code",
      "execution_count": null,
      "id": "d3485b49",
      "metadata": {
        "id": "d3485b49"
      },
      "outputs": [],
      "source": [
        "# your code here\n",
        "# =^･ｪ･^="
      ]
    },
    {
      "cell_type": "markdown",
      "id": "62c863a5",
      "metadata": {
        "id": "62c863a5"
      },
      "source": [
        "Оставьте только те даты, которые встречаются в `top_5_diff`, и добавить их в качестве нового столбца `'Изм. (RUB) %'`\n",
        "\n",
        "__Hint__: Чтобы выделить список необходимых дат из таблички `top_5_diff`, можно воспользоваться методом `to_list()` применительно к столбцу `'Дата'`. Такой список можно дальше использовать при обращении к строкам в `'[...]'`."
      ]
    },
    {
      "cell_type": "code",
      "execution_count": null,
      "id": "61c4460e",
      "metadata": {
        "id": "61c4460e"
      },
      "outputs": [],
      "source": [
        "top_5_diff['Изм. (RUB) %'] = ... # your code here\n",
        "\n",
        "top_5_diff"
      ]
    },
    {
      "cell_type": "markdown",
      "id": "5b982438",
      "metadata": {
        "id": "5b982438"
      },
      "source": [
        "__л) [2 балла]__  Проинтерпретируете уменьшение/увеличение процентного изменения стоимости акций при пересчете по курсу в рубли.\n",
        "\n",
        "__Ответ:__"
      ]
    },
    {
      "cell_type": "markdown",
      "id": "040041e8",
      "metadata": {
        "id": "040041e8"
      },
      "source": [
        "## 3 Составляем портфель"
      ]
    },
    {
      "cell_type": "markdown",
      "id": "5840f7e6",
      "metadata": {
        "id": "5840f7e6"
      },
      "source": [
        "\n",
        "Финансовые продукты описываются двумя характеристиками: __доходностью__ и __риском__.\n",
        "\n",
        "Доходность — это процентное изменение стоимости за некоторый промежуток времени. Под риском, как правило, понимается стандартное отклонение доходности акций.\n",
        "\n",
        "Однако когда речь идет о нескольких акциях в портфеле, то необходимо учитывать, как связана динамика цен на эти акции: падение доходности одной из акций может быть компенсировано ростом другой. Такой портфель будет предпочтительнее, поскольку предлагает меньшие риски для инвестора.\n",
        "\n",
        "Осталось найти то самое сладкое сочетание активов... Для поиска оптимальных весов активов в портфеле обычно решается __задача оптимизации.__\n",
        "\n",
        "Мы поступим проще:\n",
        "\n",
        "- Будем рассматривать портфель, состоящий всего из 2 тикеров: `'AAPL'` и `'Tencent'`.\n",
        "- Наилучшее сочетание весов будем искать неоптимальным способом, тупо перебирая различные варианты."
      ]
    },
    {
      "cell_type": "markdown",
      "id": "352960fd",
      "metadata": {
        "id": "352960fd"
      },
      "source": [
        "Пусть мы вкладываем долю нашего бюджета $w$ в первую ценную бумагу, а долю $(1 - w)$ во вторую. Тогда ожидаемая доходность порфеля составит\n",
        "\n",
        "$$\n",
        "\\mathbb{E}(R) = w \\cdot \\mathbb{E}(R_1)  + (1 - w) \\cdot \\mathbb{E}(R_2).\n",
        "$$\n",
        "\n",
        "Дисперсия портфеля будет равна\n",
        "\n",
        "$$\n",
        "\\text{Var}(R) = w^2 \\cdot \\text{Var}(R_1)  + (1 - w)^2 \\cdot \\text{Var}(R_2) + 2 \\cdot w \\cdot \\text{Cov}(R_1, R_2).\n",
        "$$\n",
        "\n",
        "Ковариацию, по её определению, можно переписать как\n",
        "\n",
        "$$\n",
        "\\text{Cov}(R_1, R_2) = \\text{Corr}(R_1, R_2) \\cdot \\sigma(R_1) \\cdot \\sigma(R_2),\n",
        "$$\n",
        "\n",
        "где $\\sigma(R_i) = \\sqrt{ \\text{Var}(R_i)}$.\n"
      ]
    },
    {
      "cell_type": "markdown",
      "id": "6c824254",
      "metadata": {
        "id": "6c824254"
      },
      "source": [
        "Для начала создадим веса, которые будем рассматривать.\n",
        "\n",
        "__а) [2 балла]__ С помощью функции `np.arange()` создайте `array` от $0$ до $1$ с шагом $0.01$ [(ссылка на документацию).](https://numpy.org/doc/stable/reference/generated/numpy.arange.html)"
      ]
    },
    {
      "cell_type": "code",
      "execution_count": null,
      "id": "03265451",
      "metadata": {
        "id": "03265451"
      },
      "outputs": [],
      "source": [
        "w = ... # your code here"
      ]
    },
    {
      "cell_type": "markdown",
      "id": "bc3e95e9",
      "metadata": {
        "id": "bc3e95e9"
      },
      "source": [
        "Теперь запишем необходимые характеристики акций в соответствующие переменные:\n",
        "\n",
        "__б) [3 балла]__ В переменные `r1` и `r2` сохраните среднюю доходность акций `'AAPL'` и `'Tencent'` из `df_pct_change`. Убедитесь, что доходности представлены не в процентах, а в виде чисел. Например не $10\\%$, а $0.1$.\n",
        "\n",
        "Кроме того, поскольку стандартной мерой доходности является годовая доходность, преобразуем среднюю ежедневную доходность в годовую, используя формулу сложного процента для полученных значений:\n",
        "\n",
        "$$\n",
        "r_{\\text{год}} = (1 + r_{\\text{день}})^{252} - 1,\n",
        "$$\n",
        "\n",
        "где:\n",
        "- $r_{\\text{год}}$ - ожидаемая годовая доходность,\n",
        "- $r_{\\text{день}}$ - средняя ежедневная доходность,\n",
        "- $252$ - количество торговых дней в году (для большинства финансовых рынков)."
      ]
    },
    {
      "cell_type": "code",
      "execution_count": null,
      "id": "d6bfde89",
      "metadata": {
        "id": "d6bfde89"
      },
      "outputs": [],
      "source": [
        "r1 = ... # your code here\n",
        "r2 = ... # your code here"
      ]
    },
    {
      "cell_type": "markdown",
      "id": "b71914aa",
      "metadata": {
        "id": "b71914aa"
      },
      "source": [
        "__в) [3 балла]__ Аналогично сохраните стандартные отклонения доходности этих акций в `sd1` и `sd2`. Преобразуйте эти значения из дневных в годовые:\n",
        "\n",
        "$$\n",
        "\\sigma_{\\text{год}} = \\sigma_{\\text{день}} \\times \\sqrt{252}\n",
        "$$\n",
        "\n",
        "Где:\n",
        "- $\\sigma_{\\text{год}}$ - годовая волатильность,\n",
        "- $\\sigma_{\\text{день}}$ - ежедневная волатильность,\n",
        "- $252$ - количество торговых дней в году (для большинства финансовых рынков).\n",
        "\n",
        "Эта формула основана на предположении, что ежедневные доходности распределены независимо и одинаково. В реальности рыночные условия могут влиять на точность этого преобразования, но это общепринятый метод для оценки годовой волатильности на основе ежедневных данных."
      ]
    },
    {
      "cell_type": "code",
      "execution_count": null,
      "id": "972c7684",
      "metadata": {
        "id": "972c7684"
      },
      "outputs": [],
      "source": [
        "sd1 = ... # your code here\n",
        "sd2 = ... # your code here"
      ]
    },
    {
      "cell_type": "markdown",
      "id": "2decb1e7",
      "metadata": {
        "id": "2decb1e7"
      },
      "source": [
        "__в) [1 балл]__ В переменную `rho` сохраните корреляцию между акциями."
      ]
    },
    {
      "cell_type": "code",
      "execution_count": null,
      "id": "8c12fad2",
      "metadata": {
        "id": "8c12fad2"
      },
      "outputs": [],
      "source": [
        "rho = ...  # your code here"
      ]
    },
    {
      "cell_type": "markdown",
      "id": "e119fd8d",
      "metadata": {
        "id": "e119fd8d"
      },
      "source": [
        "Теперь посчитаем доходность и волатильность портфеля, используя соответствующие формулы"
      ]
    },
    {
      "cell_type": "code",
      "execution_count": null,
      "id": "fb16fcc3",
      "metadata": {
        "id": "fb16fcc3"
      },
      "outputs": [],
      "source": [
        "r_p2 = w * r1 +(1 - w) * r2\n",
        "sd_p2 = np.sqrt(w**2 * sd1**2 + (1 - w)**2 * sd2**2 + 2 * w * (1 - w) * rho * sd1 * sd2)"
      ]
    },
    {
      "cell_type": "markdown",
      "id": "15dbca97",
      "metadata": {
        "id": "15dbca97"
      },
      "source": [
        "__г) [5 баллов]__ Постройте линейный график в осях (`sd_p2`, `r_p2`)\n",
        "\n",
        "__Hint:__ Можно сделать с помощью `plt.plot(x, y)`"
      ]
    },
    {
      "cell_type": "code",
      "execution_count": null,
      "id": "98d0e413",
      "metadata": {
        "id": "98d0e413"
      },
      "outputs": [],
      "source": [
        "# your code here\n",
        "# ┌(ಠ_ಠ)┘"
      ]
    },
    {
      "cell_type": "markdown",
      "id": "754ab575",
      "metadata": {
        "id": "754ab575"
      },
      "source": [
        "Получившаяся у вас картинка должна быть похожа на такую:\n",
        "\n",
        "<center>\n",
        "<img src=\"https://investprofit.info/wp-content/uploads/2018/08/Frontier1.png\" height=\"450\">\n",
        "</center>\n",
        "\n",
        "В портфельной теории Марковица эта кривая называется эффективной границей (или кривой эффективностию). Её можно поделить на три зоны:\n",
        "\n",
        "- **Эффективная граница (Efficient Frontier)** — это часть кривой, которая лежит выше портфеля с минимальной дисперсией (риском). Портфели на этом участке предлагают наилучшее сочетание риска и доходности. Другими словами, для любого данного уровня риска, портфели на эффективной границе предлагают максимальную возможную доходность.\n",
        "- **Портфели ниже эффективной границы** считаются неэффективными, так как для того же уровня риска можно добиться большей доходности.\n",
        "- **Портфели выше эффективной границы** обычно не существуют, так как они предполагали бы получение более высокой доходности при том же уровне риска."
      ]
    },
    {
      "cell_type": "markdown",
      "id": "9e1fac6c",
      "metadata": {
        "id": "9e1fac6c"
      },
      "source": [
        "Найдем портфель с минимальной дисперсией (риском).\n",
        "\n",
        "__д) [3 балла]__ Для этого сначала создадим табличку со столбцами `'Вес'`, `'Риск'` и `'Доходность'` (содержащими `w`, `sd_p2` и `r_p2` соответственно)"
      ]
    },
    {
      "cell_type": "code",
      "execution_count": null,
      "id": "321d775a",
      "metadata": {
        "id": "321d775a"
      },
      "outputs": [],
      "source": [
        "df_r = ... # your code here"
      ]
    },
    {
      "cell_type": "markdown",
      "id": "228b6f43",
      "metadata": {
        "id": "228b6f43"
      },
      "source": [
        "__е) [3 балла]__ Теперь найдем портфель с минимальным риском и запишем его в переменную `min_sd_p`, а само значение минимального риска в `min_sd`"
      ]
    },
    {
      "cell_type": "code",
      "execution_count": null,
      "id": "08f18305",
      "metadata": {
        "id": "08f18305"
      },
      "outputs": [],
      "source": [
        "min_sd = ... # your code here\n",
        "min_sd_p = ... # your code here"
      ]
    },
    {
      "cell_type": "markdown",
      "id": "01302b0e",
      "metadata": {
        "id": "01302b0e"
      },
      "source": [
        "__ж) [3 балла]__ Выберем множество эффективных портфелей из `df_r`, тех, чья доходность и риск выше, чем у `min_sd_p` и сохраним их в `df_eff_p`"
      ]
    },
    {
      "cell_type": "code",
      "execution_count": null,
      "id": "d740bf60",
      "metadata": {
        "id": "d740bf60"
      },
      "outputs": [],
      "source": [
        "df_eff_p = ... # your code here"
      ]
    },
    {
      "cell_type": "markdown",
      "id": "d76c5226",
      "metadata": {
        "id": "d76c5226"
      },
      "source": [
        "__з) [3 балла]__ А теперь на основе `df_eff_p` построим эффективную границу, о которой шла речь раньше (часть кривой выше портфеля с наименьшей волатильностью)"
      ]
    },
    {
      "cell_type": "code",
      "execution_count": null,
      "id": "bbf8a15e",
      "metadata": {
        "id": "bbf8a15e"
      },
      "outputs": [],
      "source": [
        "# your code here\n",
        "# [✖‿✖]"
      ]
    },
    {
      "cell_type": "markdown",
      "id": "w0d_QPA86t_F",
      "metadata": {
        "id": "w0d_QPA86t_F"
      },
      "source": [
        "Выше мы говорили, что для поиска оптимального портфеля необходимо решать задачу оптимизации. Целевую функцию для её решения можно определить по-разному. Выше мы занимались минимизацией риска и нашли `min_sd_p`.\n",
        "\n",
        "Кроме минимизации риска можно попытаться максимизировать **коэффициент Шарпа.** Он рассчитывается по формуле\n",
        "\n",
        "$$\n",
        "SR = \\frac{r_{p} - r_{f}}{\\sigma_{p}},\n",
        "$$\n",
        "\n",
        "где $r_{p}$  —  ожидаемая доходность портфеля, $r_{f}$  —  безрисковая ставка доходности, $\\sigma_{p}$ — стандартное отклонение доходности портфеля.\n",
        "\n",
        "Коэффициент Шарпа отражает премию за принятый риск. Любая инвестиционная стратегия, демонстрирующая более крутой наклон кривой Шарпа, предлагает более высокую ожидаемую доходность для данного уровня риска. Следовательно, более высокий коэффициент Шарпа всегда предпочтительнее, независимо от того, какой уровень риска вы готовы принять."
      ]
    },
    {
      "cell_type": "markdown",
      "id": "166a0a95",
      "metadata": {
        "id": "166a0a95"
      },
      "source": [
        "В качестве безрисковой ставки доходности выберем доходность российских государственных облигаций сроком 10 лет (можно посмотреть [тут](https://cbr.ru/hd_base/zcyc_params/))"
      ]
    },
    {
      "cell_type": "code",
      "execution_count": null,
      "id": "47d65ca8",
      "metadata": {
        "id": "47d65ca8"
      },
      "outputs": [],
      "source": [
        "r_f = 11.8/100"
      ]
    },
    {
      "cell_type": "markdown",
      "id": "d88a1bae",
      "metadata": {
        "id": "d88a1bae"
      },
      "source": [
        "__и) [3 балла]__ Теперь у нас есть возможность рассчитать коэффициент Шарпа для кадждого портфеля в `df_r`. Для этого необходимо вычесть из доходности портфеля безрисковую ставку (`r_f`) и разделить на волатильность (риск) портфеля. Сохраните полученные значения в столбец `'Sharp'` таблицы `df_r`"
      ]
    },
    {
      "cell_type": "code",
      "execution_count": null,
      "id": "78effff8",
      "metadata": {
        "id": "78effff8"
      },
      "outputs": [],
      "source": [
        "df_r['Sharp'] = ... # your code here"
      ]
    },
    {
      "cell_type": "markdown",
      "id": "4703a644",
      "metadata": {
        "id": "4703a644"
      },
      "source": [
        "__и) [3 балла]__ Определите портфель с максимальным коэффициентом Шарпа, сохраните его в переменную `max_sharp_p`, а значение самого коэффициента - в переменную `max_sharp`"
      ]
    },
    {
      "cell_type": "code",
      "execution_count": null,
      "id": "c8fcd5da",
      "metadata": {
        "id": "c8fcd5da"
      },
      "outputs": [],
      "source": [
        "max_sharp = ... # your code here\n",
        "max_sharp_p = ... # your code here"
      ]
    },
    {
      "cell_type": "markdown",
      "id": "efd28cba",
      "metadata": {
        "id": "efd28cba"
      },
      "source": [
        "Рассмотрим прямую в осях (Риск - Доходность), выраженную формулой\n",
        "\n",
        "$$ r = max\\_sharp \\cdot \\sigma + r_f $$\n",
        "\n",
        "Для того, чтобы ее провести, нам необходимо задать хотя бы 2 точки. Чтобы построенный график хорошо выглядел, рассмотрим $\\sigma$, равную:\n",
        "\n",
        "1. наименьшему значению риска портфелей на эффективной кривой (`min_sd`)\n",
        "2. значению риска, соответствующего портфелю с наибольшим значением коэффициента Шарпа (из `max_sharp_p`)"
      ]
    },
    {
      "cell_type": "markdown",
      "id": "05944555",
      "metadata": {
        "id": "05944555"
      },
      "source": [
        "__к) [3 балла]__ В переменную `sigma` сохраните `numpy.array` с двумя перечисленными выше значениями"
      ]
    },
    {
      "cell_type": "code",
      "execution_count": null,
      "id": "5b54e6ac",
      "metadata": {
        "id": "5b54e6ac"
      },
      "outputs": [],
      "source": [
        "sigma = ... # your code here"
      ]
    },
    {
      "cell_type": "markdown",
      "id": "d37d5785",
      "metadata": {
        "id": "d37d5785"
      },
      "source": [
        "__л) [3 балла]__ В переменную `r` сохраните значения доходности, находящиеся на указанной прямой, для значений риска из `sigma` (необходимо использовать формулу прямой)"
      ]
    },
    {
      "cell_type": "code",
      "execution_count": null,
      "id": "b6d7f594",
      "metadata": {
        "id": "b6d7f594"
      },
      "outputs": [],
      "source": [
        "r = ... # your code here"
      ]
    },
    {
      "cell_type": "markdown",
      "id": "c8f62dbe",
      "metadata": {
        "id": "c8f62dbe"
      },
      "source": [
        "__м) [5 баллов]__ Теперь построим эффективную границу, что мы уже делали ранее, и проведем указанную прямую (вернее ее часть)."
      ]
    },
    {
      "cell_type": "code",
      "execution_count": null,
      "id": "73d3aa12",
      "metadata": {
        "id": "73d3aa12"
      },
      "outputs": [],
      "source": [
        "# your code here\n",
        "# [̲̅$̲̅(̲̅5̲̅)̲̅$̲̅]"
      ]
    },
    {
      "cell_type": "markdown",
      "id": "193727d7",
      "metadata": {
        "id": "193727d7"
      },
      "source": [
        "Полученная прямая является касательной к эффективной кривой, а точка ее касания представляет собой так называемый тангенциальный портфель.\n",
        "\n",
        "Каждая точка на прямой Шарпа представляет собой портфель, состоящий из комбинации безрискового актива (в нашем случае, государственных облигаций) и рыночного портфеля (здесь, сочетание двух акций).\n",
        "\n",
        "Все портфели на прямой Шарпа считаются эффективными в смысле оптимального соотношения риска и доходности. Это означает, что для любого данного уровня риска портфель на этой линии предоставляет максимально возможную доходность."
      ]
    },
    {
      "cell_type": "markdown",
      "id": "be2a6aa2",
      "metadata": {
        "id": "be2a6aa2"
      },
      "source": [
        "__н) [3 балла]__ Проинтерпретируйте численное значение наибольшего коэффициента Шарпа (`max_sharp`)"
      ]
    },
    {
      "cell_type": "markdown",
      "id": "fb877e04",
      "metadata": {
        "id": "fb877e04"
      },
      "source": [
        "**Ответ:** ваш текст"
      ]
    },
    {
      "cell_type": "markdown",
      "id": "57b6d833",
      "metadata": {
        "id": "57b6d833"
      },
      "source": [
        "Таким образом, мы немного углубились в портфельную теорию и рассмотрели 2 основных метода оптимизации структуры портфеля:\n",
        "- поиск наименее волатильного (рискового) портфеля\n",
        "- поиск портфеля с оптимальным соотношением доходности и риска."
      ]
    }
  ],
  "metadata": {
    "colab": {
      "provenance": []
    },
    "kernelspec": {
      "display_name": "Python 3 (ipykernel)",
      "language": "python",
      "name": "python3"
    },
    "language_info": {
      "codemirror_mode": {
        "name": "ipython",
        "version": 3
      },
      "file_extension": ".py",
      "mimetype": "text/x-python",
      "name": "python",
      "nbconvert_exporter": "python",
      "pygments_lexer": "ipython3",
      "version": "3.11.3"
    }
  },
  "nbformat": 4,
  "nbformat_minor": 5
}
